{
 "cells": [
  {
   "cell_type": "markdown",
   "id": "613ad1fd",
   "metadata": {},
   "source": [
    "# 20.1 pandas"
   ]
  },
  {
   "cell_type": "code",
   "execution_count": 1,
   "id": "f850f207",
   "metadata": {},
   "outputs": [],
   "source": [
    "import pandas as pd"
   ]
  },
  {
   "cell_type": "code",
   "execution_count": 2,
   "id": "4311d0af",
   "metadata": {},
   "outputs": [
    {
     "data": {
      "text/html": [
       "<div>\n",
       "<style scoped>\n",
       "    .dataframe tbody tr th:only-of-type {\n",
       "        vertical-align: middle;\n",
       "    }\n",
       "\n",
       "    .dataframe tbody tr th {\n",
       "        vertical-align: top;\n",
       "    }\n",
       "\n",
       "    .dataframe thead th {\n",
       "        text-align: right;\n",
       "    }\n",
       "</style>\n",
       "<table border=\"1\" class=\"dataframe\">\n",
       "  <thead>\n",
       "    <tr style=\"text-align: right;\">\n",
       "      <th></th>\n",
       "      <th>Invoice</th>\n",
       "      <th>StockCode</th>\n",
       "      <th>Description</th>\n",
       "      <th>Quantity</th>\n",
       "      <th>InvoiceDate</th>\n",
       "      <th>Price</th>\n",
       "      <th>Customer ID</th>\n",
       "      <th>Country</th>\n",
       "    </tr>\n",
       "  </thead>\n",
       "  <tbody>\n",
       "    <tr>\n",
       "      <th>0</th>\n",
       "      <td>489434</td>\n",
       "      <td>85048</td>\n",
       "      <td>15CM CHRISTMAS GLASS BALL 20 LIGHTS</td>\n",
       "      <td>12</td>\n",
       "      <td>2009-12-01 07:45:00</td>\n",
       "      <td>6.95</td>\n",
       "      <td>13085.0</td>\n",
       "      <td>United Kingdom</td>\n",
       "    </tr>\n",
       "    <tr>\n",
       "      <th>1</th>\n",
       "      <td>489434</td>\n",
       "      <td>79323P</td>\n",
       "      <td>PINK CHERRY LIGHTS</td>\n",
       "      <td>12</td>\n",
       "      <td>2009-12-01 07:45:00</td>\n",
       "      <td>6.75</td>\n",
       "      <td>13085.0</td>\n",
       "      <td>United Kingdom</td>\n",
       "    </tr>\n",
       "    <tr>\n",
       "      <th>2</th>\n",
       "      <td>489434</td>\n",
       "      <td>79323W</td>\n",
       "      <td>WHITE CHERRY LIGHTS</td>\n",
       "      <td>12</td>\n",
       "      <td>2009-12-01 07:45:00</td>\n",
       "      <td>6.75</td>\n",
       "      <td>13085.0</td>\n",
       "      <td>United Kingdom</td>\n",
       "    </tr>\n",
       "    <tr>\n",
       "      <th>3</th>\n",
       "      <td>489434</td>\n",
       "      <td>22041</td>\n",
       "      <td>RECORD FRAME 7\" SINGLE SIZE</td>\n",
       "      <td>48</td>\n",
       "      <td>2009-12-01 07:45:00</td>\n",
       "      <td>2.10</td>\n",
       "      <td>13085.0</td>\n",
       "      <td>United Kingdom</td>\n",
       "    </tr>\n",
       "    <tr>\n",
       "      <th>4</th>\n",
       "      <td>489434</td>\n",
       "      <td>21232</td>\n",
       "      <td>STRAWBERRY CERAMIC TRINKET BOX</td>\n",
       "      <td>24</td>\n",
       "      <td>2009-12-01 07:45:00</td>\n",
       "      <td>1.25</td>\n",
       "      <td>13085.0</td>\n",
       "      <td>United Kingdom</td>\n",
       "    </tr>\n",
       "    <tr>\n",
       "      <th>...</th>\n",
       "      <td>...</td>\n",
       "      <td>...</td>\n",
       "      <td>...</td>\n",
       "      <td>...</td>\n",
       "      <td>...</td>\n",
       "      <td>...</td>\n",
       "      <td>...</td>\n",
       "      <td>...</td>\n",
       "    </tr>\n",
       "    <tr>\n",
       "      <th>525456</th>\n",
       "      <td>538171</td>\n",
       "      <td>22271</td>\n",
       "      <td>FELTCRAFT DOLL ROSIE</td>\n",
       "      <td>2</td>\n",
       "      <td>2010-12-09 20:01:00</td>\n",
       "      <td>2.95</td>\n",
       "      <td>17530.0</td>\n",
       "      <td>United Kingdom</td>\n",
       "    </tr>\n",
       "    <tr>\n",
       "      <th>525457</th>\n",
       "      <td>538171</td>\n",
       "      <td>22750</td>\n",
       "      <td>FELTCRAFT PRINCESS LOLA DOLL</td>\n",
       "      <td>1</td>\n",
       "      <td>2010-12-09 20:01:00</td>\n",
       "      <td>3.75</td>\n",
       "      <td>17530.0</td>\n",
       "      <td>United Kingdom</td>\n",
       "    </tr>\n",
       "    <tr>\n",
       "      <th>525458</th>\n",
       "      <td>538171</td>\n",
       "      <td>22751</td>\n",
       "      <td>FELTCRAFT PRINCESS OLIVIA DOLL</td>\n",
       "      <td>1</td>\n",
       "      <td>2010-12-09 20:01:00</td>\n",
       "      <td>3.75</td>\n",
       "      <td>17530.0</td>\n",
       "      <td>United Kingdom</td>\n",
       "    </tr>\n",
       "    <tr>\n",
       "      <th>525459</th>\n",
       "      <td>538171</td>\n",
       "      <td>20970</td>\n",
       "      <td>PINK FLORAL FELTCRAFT SHOULDER BAG</td>\n",
       "      <td>2</td>\n",
       "      <td>2010-12-09 20:01:00</td>\n",
       "      <td>3.75</td>\n",
       "      <td>17530.0</td>\n",
       "      <td>United Kingdom</td>\n",
       "    </tr>\n",
       "    <tr>\n",
       "      <th>525460</th>\n",
       "      <td>538171</td>\n",
       "      <td>21931</td>\n",
       "      <td>JUMBO STORAGE BAG SUKI</td>\n",
       "      <td>2</td>\n",
       "      <td>2010-12-09 20:01:00</td>\n",
       "      <td>1.95</td>\n",
       "      <td>17530.0</td>\n",
       "      <td>United Kingdom</td>\n",
       "    </tr>\n",
       "  </tbody>\n",
       "</table>\n",
       "<p>525461 rows × 8 columns</p>\n",
       "</div>"
      ],
      "text/plain": [
       "       Invoice StockCode                          Description  Quantity  \\\n",
       "0       489434     85048  15CM CHRISTMAS GLASS BALL 20 LIGHTS        12   \n",
       "1       489434    79323P                   PINK CHERRY LIGHTS        12   \n",
       "2       489434    79323W                  WHITE CHERRY LIGHTS        12   \n",
       "3       489434     22041         RECORD FRAME 7\" SINGLE SIZE         48   \n",
       "4       489434     21232       STRAWBERRY CERAMIC TRINKET BOX        24   \n",
       "...        ...       ...                                  ...       ...   \n",
       "525456  538171     22271                 FELTCRAFT DOLL ROSIE         2   \n",
       "525457  538171     22750         FELTCRAFT PRINCESS LOLA DOLL         1   \n",
       "525458  538171     22751       FELTCRAFT PRINCESS OLIVIA DOLL         1   \n",
       "525459  538171     20970   PINK FLORAL FELTCRAFT SHOULDER BAG         2   \n",
       "525460  538171     21931               JUMBO STORAGE BAG SUKI         2   \n",
       "\n",
       "               InvoiceDate  Price  Customer ID         Country  \n",
       "0      2009-12-01 07:45:00   6.95      13085.0  United Kingdom  \n",
       "1      2009-12-01 07:45:00   6.75      13085.0  United Kingdom  \n",
       "2      2009-12-01 07:45:00   6.75      13085.0  United Kingdom  \n",
       "3      2009-12-01 07:45:00   2.10      13085.0  United Kingdom  \n",
       "4      2009-12-01 07:45:00   1.25      13085.0  United Kingdom  \n",
       "...                    ...    ...          ...             ...  \n",
       "525456 2010-12-09 20:01:00   2.95      17530.0  United Kingdom  \n",
       "525457 2010-12-09 20:01:00   3.75      17530.0  United Kingdom  \n",
       "525458 2010-12-09 20:01:00   3.75      17530.0  United Kingdom  \n",
       "525459 2010-12-09 20:01:00   3.75      17530.0  United Kingdom  \n",
       "525460 2010-12-09 20:01:00   1.95      17530.0  United Kingdom  \n",
       "\n",
       "[525461 rows x 8 columns]"
      ]
     },
     "execution_count": 2,
     "metadata": {},
     "output_type": "execute_result"
    }
   ],
   "source": [
    "#df = pd.read_excel(\"flo.xlsx\") #dosya okutmak için\n",
    "df"
   ]
  },
  {
   "cell_type": "code",
   "execution_count": 3,
   "id": "81d2cdcf",
   "metadata": {},
   "outputs": [
    {
     "data": {
      "text/html": [
       "<div>\n",
       "<style scoped>\n",
       "    .dataframe tbody tr th:only-of-type {\n",
       "        vertical-align: middle;\n",
       "    }\n",
       "\n",
       "    .dataframe tbody tr th {\n",
       "        vertical-align: top;\n",
       "    }\n",
       "\n",
       "    .dataframe thead th {\n",
       "        text-align: right;\n",
       "    }\n",
       "</style>\n",
       "<table border=\"1\" class=\"dataframe\">\n",
       "  <thead>\n",
       "    <tr style=\"text-align: right;\">\n",
       "      <th></th>\n",
       "      <th>Invoice</th>\n",
       "      <th>StockCode</th>\n",
       "      <th>Description</th>\n",
       "      <th>Quantity</th>\n",
       "      <th>InvoiceDate</th>\n",
       "      <th>Price</th>\n",
       "      <th>Customer ID</th>\n",
       "      <th>Country</th>\n",
       "    </tr>\n",
       "  </thead>\n",
       "  <tbody>\n",
       "    <tr>\n",
       "      <th>0</th>\n",
       "      <td>489434</td>\n",
       "      <td>85048</td>\n",
       "      <td>15CM CHRISTMAS GLASS BALL 20 LIGHTS</td>\n",
       "      <td>12</td>\n",
       "      <td>2009-12-01 07:45:00</td>\n",
       "      <td>6.95</td>\n",
       "      <td>13085.0</td>\n",
       "      <td>United Kingdom</td>\n",
       "    </tr>\n",
       "    <tr>\n",
       "      <th>1</th>\n",
       "      <td>489434</td>\n",
       "      <td>79323P</td>\n",
       "      <td>PINK CHERRY LIGHTS</td>\n",
       "      <td>12</td>\n",
       "      <td>2009-12-01 07:45:00</td>\n",
       "      <td>6.75</td>\n",
       "      <td>13085.0</td>\n",
       "      <td>United Kingdom</td>\n",
       "    </tr>\n",
       "    <tr>\n",
       "      <th>2</th>\n",
       "      <td>489434</td>\n",
       "      <td>79323W</td>\n",
       "      <td>WHITE CHERRY LIGHTS</td>\n",
       "      <td>12</td>\n",
       "      <td>2009-12-01 07:45:00</td>\n",
       "      <td>6.75</td>\n",
       "      <td>13085.0</td>\n",
       "      <td>United Kingdom</td>\n",
       "    </tr>\n",
       "    <tr>\n",
       "      <th>3</th>\n",
       "      <td>489434</td>\n",
       "      <td>22041</td>\n",
       "      <td>RECORD FRAME 7\" SINGLE SIZE</td>\n",
       "      <td>48</td>\n",
       "      <td>2009-12-01 07:45:00</td>\n",
       "      <td>2.10</td>\n",
       "      <td>13085.0</td>\n",
       "      <td>United Kingdom</td>\n",
       "    </tr>\n",
       "    <tr>\n",
       "      <th>4</th>\n",
       "      <td>489434</td>\n",
       "      <td>21232</td>\n",
       "      <td>STRAWBERRY CERAMIC TRINKET BOX</td>\n",
       "      <td>24</td>\n",
       "      <td>2009-12-01 07:45:00</td>\n",
       "      <td>1.25</td>\n",
       "      <td>13085.0</td>\n",
       "      <td>United Kingdom</td>\n",
       "    </tr>\n",
       "    <tr>\n",
       "      <th>5</th>\n",
       "      <td>489434</td>\n",
       "      <td>22064</td>\n",
       "      <td>PINK DOUGHNUT TRINKET POT</td>\n",
       "      <td>24</td>\n",
       "      <td>2009-12-01 07:45:00</td>\n",
       "      <td>1.65</td>\n",
       "      <td>13085.0</td>\n",
       "      <td>United Kingdom</td>\n",
       "    </tr>\n",
       "    <tr>\n",
       "      <th>6</th>\n",
       "      <td>489434</td>\n",
       "      <td>21871</td>\n",
       "      <td>SAVE THE PLANET MUG</td>\n",
       "      <td>24</td>\n",
       "      <td>2009-12-01 07:45:00</td>\n",
       "      <td>1.25</td>\n",
       "      <td>13085.0</td>\n",
       "      <td>United Kingdom</td>\n",
       "    </tr>\n",
       "    <tr>\n",
       "      <th>7</th>\n",
       "      <td>489434</td>\n",
       "      <td>21523</td>\n",
       "      <td>FANCY FONT HOME SWEET HOME DOORMAT</td>\n",
       "      <td>10</td>\n",
       "      <td>2009-12-01 07:45:00</td>\n",
       "      <td>5.95</td>\n",
       "      <td>13085.0</td>\n",
       "      <td>United Kingdom</td>\n",
       "    </tr>\n",
       "    <tr>\n",
       "      <th>8</th>\n",
       "      <td>489435</td>\n",
       "      <td>22350</td>\n",
       "      <td>CAT BOWL</td>\n",
       "      <td>12</td>\n",
       "      <td>2009-12-01 07:46:00</td>\n",
       "      <td>2.55</td>\n",
       "      <td>13085.0</td>\n",
       "      <td>United Kingdom</td>\n",
       "    </tr>\n",
       "    <tr>\n",
       "      <th>9</th>\n",
       "      <td>489435</td>\n",
       "      <td>22349</td>\n",
       "      <td>DOG BOWL , CHASING BALL DESIGN</td>\n",
       "      <td>12</td>\n",
       "      <td>2009-12-01 07:46:00</td>\n",
       "      <td>3.75</td>\n",
       "      <td>13085.0</td>\n",
       "      <td>United Kingdom</td>\n",
       "    </tr>\n",
       "  </tbody>\n",
       "</table>\n",
       "</div>"
      ],
      "text/plain": [
       "  Invoice StockCode                          Description  Quantity  \\\n",
       "0  489434     85048  15CM CHRISTMAS GLASS BALL 20 LIGHTS        12   \n",
       "1  489434    79323P                   PINK CHERRY LIGHTS        12   \n",
       "2  489434    79323W                  WHITE CHERRY LIGHTS        12   \n",
       "3  489434     22041         RECORD FRAME 7\" SINGLE SIZE         48   \n",
       "4  489434     21232       STRAWBERRY CERAMIC TRINKET BOX        24   \n",
       "5  489434     22064           PINK DOUGHNUT TRINKET POT         24   \n",
       "6  489434     21871                  SAVE THE PLANET MUG        24   \n",
       "7  489434     21523   FANCY FONT HOME SWEET HOME DOORMAT        10   \n",
       "8  489435     22350                            CAT BOWL         12   \n",
       "9  489435     22349       DOG BOWL , CHASING BALL DESIGN        12   \n",
       "\n",
       "          InvoiceDate  Price  Customer ID         Country  \n",
       "0 2009-12-01 07:45:00   6.95      13085.0  United Kingdom  \n",
       "1 2009-12-01 07:45:00   6.75      13085.0  United Kingdom  \n",
       "2 2009-12-01 07:45:00   6.75      13085.0  United Kingdom  \n",
       "3 2009-12-01 07:45:00   2.10      13085.0  United Kingdom  \n",
       "4 2009-12-01 07:45:00   1.25      13085.0  United Kingdom  \n",
       "5 2009-12-01 07:45:00   1.65      13085.0  United Kingdom  \n",
       "6 2009-12-01 07:45:00   1.25      13085.0  United Kingdom  \n",
       "7 2009-12-01 07:45:00   5.95      13085.0  United Kingdom  \n",
       "8 2009-12-01 07:46:00   2.55      13085.0  United Kingdom  \n",
       "9 2009-12-01 07:46:00   3.75      13085.0  United Kingdom  "
      ]
     },
     "execution_count": 3,
     "metadata": {},
     "output_type": "execute_result"
    }
   ],
   "source": [
    "df.head(10) # ilk on kaydı görmek için"
   ]
  },
  {
   "cell_type": "code",
   "execution_count": 4,
   "id": "91e5ecc2",
   "metadata": {},
   "outputs": [
    {
     "data": {
      "text/plain": [
       "525461"
      ]
     },
     "execution_count": 4,
     "metadata": {},
     "output_type": "execute_result"
    }
   ],
   "source": [
    "len(df) # kaç kayıt var"
   ]
  },
  {
   "cell_type": "code",
   "execution_count": 5,
   "id": "5291998c",
   "metadata": {},
   "outputs": [
    {
     "data": {
      "text/plain": [
       "10.337667305470815"
      ]
     },
     "execution_count": 5,
     "metadata": {},
     "output_type": "execute_result"
    }
   ],
   "source": [
    "df[\"Quantity\"].mean() #Quantityin ortalaması"
   ]
  },
  {
   "cell_type": "code",
   "execution_count": 6,
   "id": "e6baf588",
   "metadata": {},
   "outputs": [
    {
     "data": {
      "text/plain": [
       "19152"
      ]
     },
     "execution_count": 6,
     "metadata": {},
     "output_type": "execute_result"
    }
   ],
   "source": [
    "df[\"Quantity\"].max() #quantitiyin max kaç olduğu"
   ]
  },
  {
   "cell_type": "code",
   "execution_count": 7,
   "id": "96593b59",
   "metadata": {},
   "outputs": [],
   "source": [
    "# pd.read_json(\"dataset.json\", encoding=\"UTF-8\") ile json dosyası okutulur"
   ]
  },
  {
   "cell_type": "markdown",
   "id": "1c6751ec",
   "metadata": {},
   "source": [
    "# Pandas serileri 20.2"
   ]
  },
  {
   "cell_type": "code",
   "execution_count": 8,
   "id": "17e0a8cf",
   "metadata": {},
   "outputs": [],
   "source": [
    "import pandas as pd\n",
    "import numpy as np"
   ]
  },
  {
   "cell_type": "code",
   "execution_count": 9,
   "id": "81dd896f",
   "metadata": {},
   "outputs": [
    {
     "name": "stdout",
     "output_type": "stream",
     "text": [
      "Series([], dtype: float64)\n"
     ]
    },
    {
     "name": "stderr",
     "output_type": "stream",
     "text": [
      "C:\\Users\\PC-1\\AppData\\Local\\Temp\\ipykernel_22204\\714718594.py:1: FutureWarning: The default dtype for empty Series will be 'object' instead of 'float64' in a future version. Specify a dtype explicitly to silence this warning.\n",
      "  pandas_series = pd.Series()\n"
     ]
    }
   ],
   "source": [
    "pandas_series = pd.Series()\n",
    "print(pandas_series) #bir pandas seriesi oluşturdum boş bir dizi şeklinde geldi\n",
    "# aslında tek boyutlu dizi içine farklı veri tipleri verebilirim"
   ]
  },
  {
   "cell_type": "code",
   "execution_count": 10,
   "id": "53bbb429",
   "metadata": {},
   "outputs": [
    {
     "name": "stdout",
     "output_type": "stream",
     "text": [
      "0    20\n",
      "1    30\n",
      "2    40\n",
      "3    50\n",
      "dtype: int64\n",
      "0     a\n",
      "1     b\n",
      "2     c\n",
      "3     d\n",
      "4    20\n",
      "dtype: object\n",
      "1    5\n",
      "2    5\n",
      "3    5\n",
      "4    5\n",
      "dtype: int64\n"
     ]
    }
   ],
   "source": [
    "# data\n",
    "numbers = [20,30,40,50]\n",
    "letter = [\"a\", \"b\", \"c\", \"d\",20] #pd serieste farklı veriler ekullanabilirim liste içine he rbir data aynı özellikte olmak zorunda değil\n",
    "scalar = 5\n",
    "\n",
    "pandas_series = pd.Series(numbers)\n",
    "print(pandas_series) #her bir elemana index numarası atanarak yazdırır\n",
    "\n",
    "pandas_series = pd.Series(letter)\n",
    "print(pandas_series) # object tanımlandı\n",
    "\n",
    "pandas_series = pd.Series(scalar)\n",
    "pandas_series = pd.Series(5,[1,2,3,4]) #ikinci verdiğim parametre yani listeindex bilgsii oluyor \n",
    "print(pandas_series) #verdiğim index kadar artırır"
   ]
  },
  {
   "cell_type": "code",
   "execution_count": 11,
   "id": "e0cd6a73",
   "metadata": {},
   "outputs": [
    {
     "name": "stdout",
     "output_type": "stream",
     "text": [
      "a    20\n",
      "b    30\n",
      "c    40\n",
      "d    50\n",
      "dtype: int64\n"
     ]
    }
   ],
   "source": [
    "pandas_series = pd.Series(numbers, [\"a\",\"b\",\"c\",\"d\"])\n",
    "print(pandas_series) #index numarlarını değiştirebiliyorum bu sayede kendi index bilgim ile verilerimi eşleyebilirim. index numarlaarımı harf yaptım"
   ]
  },
  {
   "cell_type": "code",
   "execution_count": 12,
   "id": "db35d208",
   "metadata": {},
   "outputs": [
    {
     "name": "stdout",
     "output_type": "stream",
     "text": [
      "a    20\n",
      "b    30\n",
      "c    40\n",
      "d    50\n",
      "dtype: int64\n"
     ]
    }
   ],
   "source": [
    "dic = {\"a\":10, \"b\":20, \"c\":30, \"d\":40}\n",
    "\n",
    "panda_series = pd.Series(dict)\n",
    "print(pandas_series)"
   ]
  },
  {
   "cell_type": "code",
   "execution_count": 13,
   "id": "cc1b9626",
   "metadata": {},
   "outputs": [
    {
     "name": "stdout",
     "output_type": "stream",
     "text": [
      "0    <class 'dict'>\n",
      "dtype: object\n"
     ]
    }
   ],
   "source": [
    "import numpy as np\n",
    "randomnumbers = np.random.randint(10,100,6)\n",
    "\n",
    "pandas_series = pd.Series(randomnumbers)\n",
    "print(panda_series) #random sayılarla oluşmalıydı"
   ]
  },
  {
   "cell_type": "code",
   "execution_count": null,
   "id": "9d6a35f2",
   "metadata": {},
   "outputs": [],
   "source": [
    "pandas_series = pd.Series([20,30,40,50], [\"a\",\"b\",\"c\",\"d\"])\n",
    "\n",
    "result = pandas_series[0] #20 bilgisine ulaşabildim indexle ulaşabiliyorum\n",
    "result = pandas_series[-1]\n",
    "result = pandas_series[:2]\n",
    "result = pandas_series[-2:]\n",
    "result = pandas_series[\"a\"] #key ile de indexteki elemanı alabilirim\n",
    "result = pandas_series[\"d\"]\n",
    "result = pandas_series[[\"a\",\"c\"]] # iki tane key ile de alabilirim olmayan key ile çağırırsam da olmayan key için nan yazar\n",
    "result = pandas_series.ndim # 1 geldi çünkü bir boyutlu\n",
    "result = pandas_series.dtype #data tipi görüldü\n",
    "result = pandas_series.shape #4 e 1 lik bir liste olduğunu görürüz\n",
    "result = pandas_series.sum() #ile elemanları toplarım\n",
    "result = pandas_series.max() #max değer\n",
    "result = pandas_series.min() # min değer\n",
    "result = pandas_series + pandas_series #liste içindeki elemanlar toplanır\n",
    "result = pandas_series + 50 #her eleman üzerine 50 atanır\n",
    "result = np.sqrt(pandas_series)#her elemanın karekökü\n",
    "\n",
    "result = pandas_series >= 50 #50den büyük elemanlar için bool değer\n",
    "result = pandas_series %2 == 0 #bool değer\n",
    "\n",
    "\n",
    "\n",
    "\n",
    "\n",
    "\n",
    "\n",
    "\n",
    "\n",
    "print(pandas_series)\n",
    "print(result)"
   ]
  },
  {
   "cell_type": "code",
   "execution_count": 35,
   "id": "5d343b66",
   "metadata": {},
   "outputs": [
    {
     "name": "stdout",
     "output_type": "stream",
     "text": [
      "Grandland     NaN\n",
      "astra        60.0\n",
      "corsa        60.0\n",
      "insignia     20.0\n",
      "mokka         NaN\n",
      "dtype: float64\n",
      "60.0\n"
     ]
    }
   ],
   "source": [
    "opel2018 = pd.Series([20,30,40,10],[\"astra\",\"corsa\",\"mokka\",\"insignia\"])\n",
    "opel2019 = pd.Series([40,30,20,10],[\"astra\",\"corsa\",\"Grandland\",\"insignia\"])\n",
    "\n",
    "total = opel2018 + opel2019\n",
    "print(total) #uyuşmayan key ve value değerler nan yazdı çünkü örn diğer listede mokka olmadığı için toplayamadı\n",
    "print(total[\"astra\"]) #sadece astra geldi\n",
    "\n",
    "# dataframe serilerin birleşmiş hali"
   ]
  },
  {
   "cell_type": "markdown",
   "id": "e12abf30",
   "metadata": {},
   "source": [
    "# pandas dataframe 20.3"
   ]
  },
  {
   "cell_type": "code",
   "execution_count": 36,
   "id": "393d04e6",
   "metadata": {},
   "outputs": [],
   "source": [
    "# dataframe birleştirilmiş toplanmış serieslere denir"
   ]
  },
  {
   "cell_type": "code",
   "execution_count": 37,
   "id": "7d2e1b78",
   "metadata": {},
   "outputs": [],
   "source": [
    "import pandas as pd\n",
    "import numpy as np"
   ]
  },
  {
   "cell_type": "code",
   "execution_count": 39,
   "id": "c007594c",
   "metadata": {},
   "outputs": [
    {
     "name": "stdout",
     "output_type": "stream",
     "text": [
      "   apple  orange\n",
      "0      3       0\n",
      "1      2       3\n",
      "2      0       7\n",
      "3      1       2\n"
     ]
    }
   ],
   "source": [
    "s1 = pd.Series([3,2,0,1]) #liste1\n",
    "s2 = pd.Series([0,3,7,2]) #liste2\n",
    "\n",
    "data = dict(apple = s1, orange = s2) #iki listeyi sözlük veri yapısında yaptım kolon ismi oldu\n",
    "\n",
    "df = pd.DataFrame(data) # dataframe içine data verdim pd den dataframe objesi oluşturdum\n",
    "\n",
    "print(df)"
   ]
  },
  {
   "cell_type": "code",
   "execution_count": 41,
   "id": "4c09aea5",
   "metadata": {},
   "outputs": [
    {
     "name": "stdout",
     "output_type": "stream",
     "text": [
      "Empty DataFrame\n",
      "Columns: []\n",
      "Index: []\n"
     ]
    }
   ],
   "source": [
    "df = pd.DataFrame()\n",
    "print(df) #hem kolonlar hem indexler boş liste şeklindedir normalde"
   ]
  },
  {
   "cell_type": "code",
   "execution_count": 43,
   "id": "b68cda26",
   "metadata": {},
   "outputs": [
    {
     "name": "stdout",
     "output_type": "stream",
     "text": [
      "        0   1\n",
      "0   ahmet  50\n",
      "1     ali  60\n",
      "2  yağmur  70\n",
      "3   çınar  80\n"
     ]
    }
   ],
   "source": [
    "df = pd.DataFrame([[\"ahmet\",50], [\"ali\",60], [\"yağmur\",70], [\"çınar\", 80]])\n",
    "print(df) #kolon de satır index numaralarını kendi verdi"
   ]
  },
  {
   "cell_type": "code",
   "execution_count": 46,
   "id": "2f49d36c",
   "metadata": {},
   "outputs": [
    {
     "name": "stdout",
     "output_type": "stream",
     "text": [
      "     name  Grade\n",
      "1   ahmet   50.0\n",
      "2     ali   60.0\n",
      "3  yağmur   70.0\n",
      "4   çınar   80.0\n"
     ]
    },
    {
     "name": "stderr",
     "output_type": "stream",
     "text": [
      "C:\\Users\\PC-1\\AppData\\Local\\Temp\\ipykernel_22204\\2305264881.py:3: FutureWarning: Could not cast to float64, falling back to object. This behavior is deprecated. In a future version, when a dtype is passed to 'DataFrame', either all columns will be cast to that dtype, or a TypeError will be raised.\n",
      "  df = pd.DataFrame(data, columns = [\"name\",\"Grade\"], index = [1,2,3,4], dtype = float) #kolon isimleri ve index isimleri\n"
     ]
    }
   ],
   "source": [
    "data = [[\"ahmet\",50], [\"ali\",60], [\"yağmur\",70], [\"çınar\", 80]] #datayı dışarıda da tanımlayabilirm\n",
    "\n",
    "df = pd.DataFrame(data, columns = [\"name\",\"Grade\"], index = [1,2,3,4], dtype = float) #kolon isimleri ve index isimleri, dtype float dediğimde de sayısal verilerin tipini intten floata çevirdim\n",
    "\n",
    "print(df)"
   ]
  },
  {
   "cell_type": "code",
   "execution_count": 48,
   "id": "7ed3baa9",
   "metadata": {},
   "outputs": [
    {
     "name": "stdout",
     "output_type": "stream",
     "text": [
      "       name  Grade\n",
      "212   ahmet     50\n",
      "242     ali     60\n",
      "234  yağmur     70\n",
      "345   çınar     80\n"
     ]
    }
   ],
   "source": [
    "list = [[\"ahmet\",50], [\"ali\",60], [\"yağmur\",70], [\"çınar\", 80]]\n",
    "dict = {\"name\": [\"ahmet\",\"ali\",\"yağmur\",\"çınar\"], \"Grade\": [50,60,70,80]}\n",
    "\n",
    "\n",
    "df = pd.DataFrame(dict, index = [\"212\",\"242\",\"234\",\"345\"]) #dict sayesinde bu şekild eyazarsam kolon ve index adı yazmama gerek kalmaz ancak istersem yine değiştirebilirim örn öğrncilerin indexlerini okul numarası yapıyorum\n",
    "print(df)"
   ]
  },
  {
   "cell_type": "code",
   "execution_count": 50,
   "id": "200a30b2",
   "metadata": {},
   "outputs": [
    {
     "name": "stdout",
     "output_type": "stream",
     "text": [
      "       name  Grade\n",
      "212   ahmet     50\n",
      "242     ali     60\n",
      "234  yağmur     70\n",
      "345   çınar     80\n"
     ]
    }
   ],
   "source": [
    "dict_list = [\n",
    "    {\"name\":\"ahmet\",\"Grade\":50},\n",
    "    {\"name\":\"ali\",\"Grade\":60},\n",
    "    {\"name\":\"yağmur\",\"Grade\":70},\n",
    "    {\"name\":\"çınar\",\"Grade\":80}\n",
    "]\n",
    "\n",
    "df = pd.DataFrame(dict_list, index = [\"212\",\"242\",\"234\",\"345\"])\n",
    "\n",
    "print(df) #bu şekilde de yazılabilir database e daah çok benziyor\n",
    "\n",
    "# bu şekilde farklı seçeneklerle oluşturabilirim son yaptığım bir json veriye benziyor"
   ]
  },
  {
   "cell_type": "markdown",
   "id": "c62c0da6",
   "metadata": {},
   "source": [
    "# 20.4 pandas ile farklı veri tiplerinden veri okuma "
   ]
  },
  {
   "cell_type": "code",
   "execution_count": 51,
   "id": "941c9cd9",
   "metadata": {},
   "outputs": [],
   "source": [
    "import pandas as pd"
   ]
  },
  {
   "cell_type": "code",
   "execution_count": 54,
   "id": "8e37086e",
   "metadata": {},
   "outputs": [
    {
     "data": {
      "text/html": [
       "<div>\n",
       "<style scoped>\n",
       "    .dataframe tbody tr th:only-of-type {\n",
       "        vertical-align: middle;\n",
       "    }\n",
       "\n",
       "    .dataframe tbody tr th {\n",
       "        vertical-align: top;\n",
       "    }\n",
       "\n",
       "    .dataframe thead th {\n",
       "        text-align: right;\n",
       "    }\n",
       "</style>\n",
       "<table border=\"1\" class=\"dataframe\">\n",
       "  <thead>\n",
       "    <tr style=\"text-align: right;\">\n",
       "      <th></th>\n",
       "      <th>Invoice</th>\n",
       "      <th>StockCode</th>\n",
       "      <th>Description</th>\n",
       "      <th>Quantity</th>\n",
       "      <th>InvoiceDate</th>\n",
       "      <th>Price</th>\n",
       "      <th>Customer ID</th>\n",
       "      <th>Country</th>\n",
       "    </tr>\n",
       "  </thead>\n",
       "  <tbody>\n",
       "    <tr>\n",
       "      <th>0</th>\n",
       "      <td>489434</td>\n",
       "      <td>85048</td>\n",
       "      <td>15CM CHRISTMAS GLASS BALL 20 LIGHTS</td>\n",
       "      <td>12</td>\n",
       "      <td>2009-12-01 07:45:00</td>\n",
       "      <td>6.95</td>\n",
       "      <td>13085.0</td>\n",
       "      <td>United Kingdom</td>\n",
       "    </tr>\n",
       "    <tr>\n",
       "      <th>1</th>\n",
       "      <td>489434</td>\n",
       "      <td>79323P</td>\n",
       "      <td>PINK CHERRY LIGHTS</td>\n",
       "      <td>12</td>\n",
       "      <td>2009-12-01 07:45:00</td>\n",
       "      <td>6.75</td>\n",
       "      <td>13085.0</td>\n",
       "      <td>United Kingdom</td>\n",
       "    </tr>\n",
       "    <tr>\n",
       "      <th>2</th>\n",
       "      <td>489434</td>\n",
       "      <td>79323W</td>\n",
       "      <td>WHITE CHERRY LIGHTS</td>\n",
       "      <td>12</td>\n",
       "      <td>2009-12-01 07:45:00</td>\n",
       "      <td>6.75</td>\n",
       "      <td>13085.0</td>\n",
       "      <td>United Kingdom</td>\n",
       "    </tr>\n",
       "    <tr>\n",
       "      <th>3</th>\n",
       "      <td>489434</td>\n",
       "      <td>22041</td>\n",
       "      <td>RECORD FRAME 7\" SINGLE SIZE</td>\n",
       "      <td>48</td>\n",
       "      <td>2009-12-01 07:45:00</td>\n",
       "      <td>2.10</td>\n",
       "      <td>13085.0</td>\n",
       "      <td>United Kingdom</td>\n",
       "    </tr>\n",
       "    <tr>\n",
       "      <th>4</th>\n",
       "      <td>489434</td>\n",
       "      <td>21232</td>\n",
       "      <td>STRAWBERRY CERAMIC TRINKET BOX</td>\n",
       "      <td>24</td>\n",
       "      <td>2009-12-01 07:45:00</td>\n",
       "      <td>1.25</td>\n",
       "      <td>13085.0</td>\n",
       "      <td>United Kingdom</td>\n",
       "    </tr>\n",
       "    <tr>\n",
       "      <th>...</th>\n",
       "      <td>...</td>\n",
       "      <td>...</td>\n",
       "      <td>...</td>\n",
       "      <td>...</td>\n",
       "      <td>...</td>\n",
       "      <td>...</td>\n",
       "      <td>...</td>\n",
       "      <td>...</td>\n",
       "    </tr>\n",
       "    <tr>\n",
       "      <th>525456</th>\n",
       "      <td>538171</td>\n",
       "      <td>22271</td>\n",
       "      <td>FELTCRAFT DOLL ROSIE</td>\n",
       "      <td>2</td>\n",
       "      <td>2010-12-09 20:01:00</td>\n",
       "      <td>2.95</td>\n",
       "      <td>17530.0</td>\n",
       "      <td>United Kingdom</td>\n",
       "    </tr>\n",
       "    <tr>\n",
       "      <th>525457</th>\n",
       "      <td>538171</td>\n",
       "      <td>22750</td>\n",
       "      <td>FELTCRAFT PRINCESS LOLA DOLL</td>\n",
       "      <td>1</td>\n",
       "      <td>2010-12-09 20:01:00</td>\n",
       "      <td>3.75</td>\n",
       "      <td>17530.0</td>\n",
       "      <td>United Kingdom</td>\n",
       "    </tr>\n",
       "    <tr>\n",
       "      <th>525458</th>\n",
       "      <td>538171</td>\n",
       "      <td>22751</td>\n",
       "      <td>FELTCRAFT PRINCESS OLIVIA DOLL</td>\n",
       "      <td>1</td>\n",
       "      <td>2010-12-09 20:01:00</td>\n",
       "      <td>3.75</td>\n",
       "      <td>17530.0</td>\n",
       "      <td>United Kingdom</td>\n",
       "    </tr>\n",
       "    <tr>\n",
       "      <th>525459</th>\n",
       "      <td>538171</td>\n",
       "      <td>20970</td>\n",
       "      <td>PINK FLORAL FELTCRAFT SHOULDER BAG</td>\n",
       "      <td>2</td>\n",
       "      <td>2010-12-09 20:01:00</td>\n",
       "      <td>3.75</td>\n",
       "      <td>17530.0</td>\n",
       "      <td>United Kingdom</td>\n",
       "    </tr>\n",
       "    <tr>\n",
       "      <th>525460</th>\n",
       "      <td>538171</td>\n",
       "      <td>21931</td>\n",
       "      <td>JUMBO STORAGE BAG SUKI</td>\n",
       "      <td>2</td>\n",
       "      <td>2010-12-09 20:01:00</td>\n",
       "      <td>1.95</td>\n",
       "      <td>17530.0</td>\n",
       "      <td>United Kingdom</td>\n",
       "    </tr>\n",
       "  </tbody>\n",
       "</table>\n",
       "<p>525461 rows × 8 columns</p>\n",
       "</div>"
      ],
      "text/plain": [
       "       Invoice StockCode                          Description  Quantity  \\\n",
       "0       489434     85048  15CM CHRISTMAS GLASS BALL 20 LIGHTS        12   \n",
       "1       489434    79323P                   PINK CHERRY LIGHTS        12   \n",
       "2       489434    79323W                  WHITE CHERRY LIGHTS        12   \n",
       "3       489434     22041         RECORD FRAME 7\" SINGLE SIZE         48   \n",
       "4       489434     21232       STRAWBERRY CERAMIC TRINKET BOX        24   \n",
       "...        ...       ...                                  ...       ...   \n",
       "525456  538171     22271                 FELTCRAFT DOLL ROSIE         2   \n",
       "525457  538171     22750         FELTCRAFT PRINCESS LOLA DOLL         1   \n",
       "525458  538171     22751       FELTCRAFT PRINCESS OLIVIA DOLL         1   \n",
       "525459  538171     20970   PINK FLORAL FELTCRAFT SHOULDER BAG         2   \n",
       "525460  538171     21931               JUMBO STORAGE BAG SUKI         2   \n",
       "\n",
       "               InvoiceDate  Price  Customer ID         Country  \n",
       "0      2009-12-01 07:45:00   6.95      13085.0  United Kingdom  \n",
       "1      2009-12-01 07:45:00   6.75      13085.0  United Kingdom  \n",
       "2      2009-12-01 07:45:00   6.75      13085.0  United Kingdom  \n",
       "3      2009-12-01 07:45:00   2.10      13085.0  United Kingdom  \n",
       "4      2009-12-01 07:45:00   1.25      13085.0  United Kingdom  \n",
       "...                    ...    ...          ...             ...  \n",
       "525456 2010-12-09 20:01:00   2.95      17530.0  United Kingdom  \n",
       "525457 2010-12-09 20:01:00   3.75      17530.0  United Kingdom  \n",
       "525458 2010-12-09 20:01:00   3.75      17530.0  United Kingdom  \n",
       "525459 2010-12-09 20:01:00   3.75      17530.0  United Kingdom  \n",
       "525460 2010-12-09 20:01:00   1.95      17530.0  United Kingdom  \n",
       "\n",
       "[525461 rows x 8 columns]"
      ]
     },
     "execution_count": 54,
     "metadata": {},
     "output_type": "execute_result"
    }
   ],
   "source": [
    "#df = pd.read_excel(\"flo.xlsx\")\n",
    "df\n",
    "#pd.read_csv(\"... .csv\")\n",
    "#pd.read_json(\"... .json, encoding='UTF-8'\")\n",
    "\n",
    "# connection = sqlliste3.connet(\"sample.db\")\n",
    "# df = pd.read_sql_query(\"SELECT * FROM students\", connection)\n",
    "#diyerek sql databaseden direkt pythona bilgi alabilirim"
   ]
  },
  {
   "cell_type": "markdown",
   "id": "63b95815",
   "metadata": {},
   "source": [
    "# 20.5 dataframe ile satır sütun seçimleri"
   ]
  },
  {
   "cell_type": "code",
   "execution_count": 55,
   "id": "4614a3d4",
   "metadata": {},
   "outputs": [],
   "source": [
    "import pandas as pd"
   ]
  },
  {
   "cell_type": "code",
   "execution_count": 56,
   "id": "6542126d",
   "metadata": {},
   "outputs": [],
   "source": [
    "from numpy.random import randn"
   ]
  },
  {
   "cell_type": "code",
   "execution_count": 58,
   "id": "5612cc7e",
   "metadata": {},
   "outputs": [
    {
     "name": "stdout",
     "output_type": "stream",
     "text": [
      "    Column1   Column2   Column3\n",
      "A  1.104629  0.425129 -1.326999\n",
      "B  0.024926 -2.434254 -0.141850\n",
      "C -1.757637  1.590867  0.445375\n"
     ]
    }
   ],
   "source": [
    "df = pd.DataFrame(randn(3,3), index = [\"A\",\"B\",\"C\"], columns = [\"Column1\",\"Column2\",\"Column3\"])\n",
    "\n",
    "print(df) #abc indexli 3 e 3lük random sayılardan oluşan bir df yaratıldı"
   ]
  },
  {
   "cell_type": "code",
   "execution_count": 90,
   "id": "0e5d943d",
   "metadata": {},
   "outputs": [
    {
     "name": "stdout",
     "output_type": "stream",
     "text": [
      "    Column1   Column2   Column3   Column4\n",
      "A  1.104629  0.425129 -1.326999 -0.945325\n",
      "B  0.024926 -2.434254 -0.141850 -0.078263\n",
      "C -1.757637  1.590867  0.445375  0.985188\n"
     ]
    }
   ],
   "source": [
    "result = df\n",
    "\n",
    "result = df[\"Column1\"] # herhangi bir kolon seçmek için df diyip kolon ismini yazmam yeterli\n",
    "result = type(df[\"Column1\"]) #kolonun tipi seri olduğunu gördüm\n",
    "result = df[[\"Column1\",\"Column2\"]] #birden çok kolon almak için liste içerisinde birden fazla kolon ismini yazmam yeterli yani iki liste iç içe olmalı\n",
    "\n",
    "\n",
    "# loc[\"row\", \"column\"] => loc[\"row\"] => loc[\":\", \"column\"] önce row sonra kolon\n",
    "result = df.loc[\"A\"] #loc metoduyla istediğim satırı alırım. bir indeksleme iştemi olduğu için köşeli parantez ile yazarım\n",
    "result = type(df.loc[\"A\"]) #tipi seridir\n",
    "result = df.loc[:,\"Column1\"] #sadece kolon seçmek için row parametresine : koyarım sonra kolon ismini yazarım\n",
    "result = df.loc[:,[\"Column1\",\"Column2\"]]# loc metoduyla birden fazla kolon almak için\n",
    "result = df.loc[:,\"Column1\":\"Column3\"] #eğer belirli aralıkta kolon seçmek istersem bu sefer ekstra köşeli parantez kullanmadan yine satır seçmek istemezsem : yazıp geçtim ilk parametreyi sonra kolon aralıklarını yazıp aralarına : koyarsam istediğim aralıktaki kolonlar gelir ve bu sefer başlangıç ve bitiş olarak belirlediğim verileri dahil ederek getirir yani 1 den 3e kadar dersem 1 2 ve 3 gelir\n",
    "result = df.loc[:,:\"Column2\"] #eğer başlangıç belirtmek istemezsem silmem yeterli\n",
    "result = df.loc[\"A\":\"C\",:\"Column2\"] #satırlar için de mantık aynı adan başla c ye kadar git demiş oldum burada , index numaralarını vermemiş olsam normal int değer girip index numarlarıyla alabilirim direkt yani idex adı neyse onu yazmam gerek\n",
    "result = df.loc[\"A\":\"B\",:\"Column3\"] #a dan b ye kadar getirdi ve baştan kolon 3 e kadar getirdi\n",
    "result = df.loc[:\"B\",:\"Column2\"] #baştan b ye kadar olan satırları getir dedim\n",
    "\n",
    "\n",
    "\n",
    "result = df.iloc[2] # ben index ismini str yapmış olmama rağmen yine index numarası ile çalışmak istiyorsam iloc metodunu kullanabilirim 2. indexe karşılık gelen c ninci satır geldi\n",
    "\n",
    "\n",
    "# tek birhücreyi şu şekilde seçebilirim:\n",
    "result = df.loc[\"B\",\"Column3\"] #satır ve kolon yazarsam tek hücre değeri döner\n",
    "result = df.loc[[\"A\",\"B\"],[\"Column1\",\"Column2\"]] #a ve be satırlarının sadece kolon1 ve kolon2 değerlerini getri dedim\n",
    "\n",
    "\n",
    "#yeni koon eklemke istersem: yukarıdan aşağı bir seri oluşturdum ve bunu dfnin en sonuna ekledim\n",
    "df[\"Column4\"] = pd.Series(randn(3), [\"A\",\"B\",\"C\"]) #randn metoduyla 3 elemanlı bir df oluşturmam gerek ve hazır kalığ bir veriye dahil olduğu için indexlerini yine yazmam gerekiyor\n",
    "df[\"Column5\"] = df[\"Column1\"] + df[\"Column3\"] #kolon 5 için kolon1 ile kolon3 ün toplamını oluşturdum değerler toplanıp kolon 5 olarak toplamları yazdırılmış oldu\n",
    "#print(df)\n",
    "\n",
    "\n",
    "# kolon silmek istersem drop metodunu kullanırım\n",
    "\n",
    "df.drop(\"Column5\", axis = 1, inplace = True) # axis değerini belirtmezsem hata alırım metoda kolonu verdikten sonra axis değerini belirtmem lazım, axis 1 dediğimde kolonu yukarıdan aşağı doğru sil demek isterim\n",
    "# inplace True parametresini eğer vermezsem orjinal datada o veriyi silmez\n",
    "#false dersem kopyası çıkarılır ve silinir\n",
    "\n",
    "\n",
    "#print(result)\n",
    "print(df)"
   ]
  },
  {
   "cell_type": "markdown",
   "id": "13ec6023",
   "metadata": {},
   "source": [
    "# 20.6 pandas dataframe ile filtreleme"
   ]
  },
  {
   "cell_type": "code",
   "execution_count": 92,
   "id": "b5f0d433",
   "metadata": {},
   "outputs": [],
   "source": [
    "import pandas as pd\n",
    "import numpy as np"
   ]
  },
  {
   "cell_type": "code",
   "execution_count": 133,
   "id": "b70ac3ee",
   "metadata": {},
   "outputs": [
    {
     "name": "stdout",
     "output_type": "stream",
     "text": [
      "    Column1  Column2\n",
      "0        44       41\n",
      "1        71       77\n",
      "2        70       50\n",
      "3        92       54\n",
      "4        99       16\n",
      "6        65       55\n",
      "7        92       51\n",
      "8        83       93\n",
      "9        68       53\n",
      "12       20       39\n",
      "13       46       39\n",
      "14       44       65\n"
     ]
    }
   ],
   "source": [
    "# random modülü ile 10dan 100e kadar 75 sayıyı 15 satır ve 5 kolon olacak şekilde bölüyorum\n",
    "data = np.random.randint(10,100,75).reshape(15,5)\n",
    "df = pd.DataFrame(data, columns = [\"Column1\",\"Column2\",\"Column3\",\"Column4\",\"Column5\"])\n",
    "\n",
    "result = df\n",
    "\n",
    "result = df.columns #df içindeki kolon isimlerini liste içinde verir\n",
    "result = df.head(5) # ilk 5 kayıt gelir\n",
    "result = df.head(10) #ilk 10 kayıt gelecek\n",
    "result = df.tail(5) #son 5 satır gelir\n",
    "result = df.tail(10) # son 10 kayıt gelir\n",
    "result = df[\"Column1\"].head() #özel olarak kolon seçmek istediğimde kolon ismini yazarım sonuna da head eklersem o kolondaki ilk 5 kaydı getirir\n",
    "result = df.Column1.head() #bu da aynı sonucu getirir ancak yukarıdaki dah sağlıklıdır çünkü bu bir nesne özelliğidir ancak kolon bir nesne değildir. fakat yine de çalışır\n",
    "result = df[[\"Column1\",\"Column2\"]].head()#birden falza kolon seçmke istersem \n",
    "result = df[[\"Column1\",\"Column2\"]].tail(10)\n",
    "result = df[5:15][[\"Column1\",\"Column2\"]].head() # 5 ile 15 arasındaki kayıtları alabilirim ve bu kayıtlar kolon1 ve kolon2 den gelir ve bu kayıtlardan ilk 5 tanesini görürüm yani normalde ikinci beşliği görürüm tail deseydim belirlediğim aralıkta yani 14ten 10a kadar olan kayıtları görürdüm\n",
    "\n",
    "result = df > 50 #df içine bakar ve hangisi 50den büyükse büyük olanlar iiçn True değeri olmayan değerler için false değeri geilr\n",
    "result = df[df > 50 ] #bu değerleri istersem bu filtreyi df içine veririm ve bu değerler bana gelir olmayanlar için nan değer döner\n",
    "result = df[df %2 == 0] #çift olanlar gösterilir olmayanlar nan olur\n",
    "result = df[\"Column1\"] >50 # kolon1 e bakar ve burada sadece 50den büyük olan kolonları true yazar\n",
    "result = df[df[\"Column1\"]> 50 ] #50den büyük olan kolonlar gelir filtreleme yapmak istersem aşağıdaki gibi yaparım\n",
    "result = df[df[\"Column1\"]> 50 ][[\"Column1\",\"Column2\"]] # dersem sadece kolon1 ve kolon2 deki kayıtlar gelir burada kolon1 50den büyük olan kayıtlar geldi koşulu artırabilirim örn kolon1de 70tenküçükolsun diyebilirim\n",
    "result = df[(df[\"Column1\"] > 50) & (df[\"Column1\"] <=70)] #kolon 1 50den büyük olsun ve 70e küçük eşit olsun dedim aradakide and operatörüdür\n",
    "result = df[(df[\"Column1\"] > 50) & (df[\"Column2\"]<=70)] #kolon1 50den büyük olacak kolon2 ise 70ten küçük olacak\n",
    "result = df[(df[\"Column1\"] > 50) | (df[\"Column2\"]<=70)] #büyük uzun çizgi or operatörü demek\n",
    "result = df[(df[\"Column1\"] > 50) | (df[\"Column2\"]<=70) | (df[\"Column2\"]<=70)] #bu değerlerden sadece 1nin true değer döndürmesi kayda gelemsi demek\n",
    "result = df[(df[\"Column1\"] > 50) & (df[\"Column2\"]<=70)][[\"Column1\",\"Column2\"]] # aynı şekilde bu gelen kayıtlardan yine kolon seçimi de yapabilirim sadece kolon1 ve kolon2 gelsin diyebilirim\n",
    "result = df.query(\"Column1 >=50 & Column1 %2 == 0\") # koşul yazarken farklı bir yöntem de var querye direkt koşullarımı verebiliyorum kolon1 50den büyük olsun ve aynı zamanda çift olsun diyorum\n",
    "result = df.query(\"Column1 >=50 & Column1 %2 == 0\")[[\"Column1\",\"Column2\"]] #ve 50den büyük çift sayılar için gelen kayıtlarda yine kolon filtrlemesi yapabilirim\n",
    "\n",
    "\n",
    "\n",
    "print(result)"
   ]
  },
  {
   "cell_type": "code",
   "execution_count": null,
   "id": "42779271",
   "metadata": {},
   "outputs": [],
   "source": []
  }
 ],
 "metadata": {
  "kernelspec": {
   "display_name": "Python 3 (ipykernel)",
   "language": "python",
   "name": "python3"
  },
  "language_info": {
   "codemirror_mode": {
    "name": "ipython",
    "version": 3
   },
   "file_extension": ".py",
   "mimetype": "text/x-python",
   "name": "python",
   "nbconvert_exporter": "python",
   "pygments_lexer": "ipython3",
   "version": "3.10.9"
  }
 },
 "nbformat": 4,
 "nbformat_minor": 5
}
