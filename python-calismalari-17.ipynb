{
 "cells": [
  {
   "cell_type": "markdown",
   "id": "949cfbf5",
   "metadata": {},
   "source": [
    " # json modülü 15.4"
   ]
  },
  {
   "cell_type": "code",
   "execution_count": 1,
   "id": "681af510",
   "metadata": {},
   "outputs": [],
   "source": [
    "# databaseden bilgileri jsodan taşıyabilirim ortak veri taşıma"
   ]
  },
  {
   "cell_type": "code",
   "execution_count": 2,
   "id": "470b9c34",
   "metadata": {},
   "outputs": [
    {
     "ename": "TypeError",
     "evalue": "string indices must be integers",
     "output_type": "error",
     "traceback": [
      "\u001b[1;31m---------------------------------------------------------------------------\u001b[0m",
      "\u001b[1;31mTypeError\u001b[0m                                 Traceback (most recent call last)",
      "Cell \u001b[1;32mIn[2], line 3\u001b[0m\n\u001b[0;32m      1\u001b[0m person \u001b[38;5;241m=\u001b[39m \u001b[38;5;124m'\u001b[39m\u001b[38;5;124m{\u001b[39m\u001b[38;5;124m\"\u001b[39m\u001b[38;5;124mname\u001b[39m\u001b[38;5;124m\"\u001b[39m\u001b[38;5;124m: \u001b[39m\u001b[38;5;124m\"\u001b[39m\u001b[38;5;124mali\u001b[39m\u001b[38;5;124m\"\u001b[39m\u001b[38;5;124m, \u001b[39m\u001b[38;5;124m\"\u001b[39m\u001b[38;5;124mlanguage\u001b[39m\u001b[38;5;124m\"\u001b[39m\u001b[38;5;124m: [\u001b[39m\u001b[38;5;124m\"\u001b[39m\u001b[38;5;124mpython\u001b[39m\u001b[38;5;124m\"\u001b[39m\u001b[38;5;124m, \u001b[39m\u001b[38;5;124m\"\u001b[39m\u001b[38;5;124mc#\u001b[39m\u001b[38;5;124m\"\u001b[39m\u001b[38;5;124m]}\u001b[39m\u001b[38;5;124m'\u001b[39m \u001b[38;5;66;03m# ben bunları bir json yapı olarak tanımlamak istersem str ifade içine almam lazım\u001b[39;00m\n\u001b[0;32m      2\u001b[0m \u001b[38;5;66;03m# json verilerde diğer örn dictinary özellikleri çalışmaz çünkü aslınd ajson demek sadece string ifade demek\u001b[39;00m\n\u001b[1;32m----> 3\u001b[0m result \u001b[38;5;241m=\u001b[39m \u001b[43mperson\u001b[49m\u001b[43m[\u001b[49m\u001b[38;5;124;43m\"\u001b[39;49m\u001b[38;5;124;43mname\u001b[39;49m\u001b[38;5;124;43m\"\u001b[39;49m\u001b[43m]\u001b[49m\n\u001b[0;32m      4\u001b[0m result \u001b[38;5;241m=\u001b[39m person[\u001b[38;5;124m\"\u001b[39m\u001b[38;5;124mlanguage\u001b[39m\u001b[38;5;124m\"\u001b[39m]\n\u001b[0;32m      5\u001b[0m \u001b[38;5;66;03m#result = person[\"language\"][0]\u001b[39;00m\n\u001b[0;32m      6\u001b[0m \u001b[38;5;66;03m# jsondan dictionarye dönüştürmek istediğimde ise json modülü import etmem lazım\u001b[39;00m\n",
      "\u001b[1;31mTypeError\u001b[0m: string indices must be integers"
     ]
    }
   ],
   "source": [
    "person = '{\"name\": \"ali\", \"language\": [\"python\", \"c#\"]}' # ben bunları bir json yapı olarak tanımlamak istersem str ifade içine almam lazım\n",
    "# json verilerde diğer örn dictinary özellikleri çalışmaz çünkü aslınd ajson demek sadece string ifade demek\n",
    "result = person[\"name\"] # artık json olduğu için ulaşamıyorum\n",
    "result = person[\"language\"]\n",
    "#result = person[\"language\"][0]\n",
    "# jsondan dictionarye dönüştürmek istediğimde ise json modülü import etmem lazım\n",
    "\n",
    "result #artık json olduğu için ulaşamıyorum bu yüzden hata veriyor"
   ]
  },
  {
   "cell_type": "code",
   "execution_count": 9,
   "id": "6f0b6c73",
   "metadata": {},
   "outputs": [],
   "source": [
    "import json"
   ]
  },
  {
   "cell_type": "code",
   "execution_count": 10,
   "id": "08075e21",
   "metadata": {},
   "outputs": [
    {
     "data": {
      "text/plain": [
       "['python', 'c#']"
      ]
     },
     "execution_count": 10,
     "metadata": {},
     "output_type": "execute_result"
    }
   ],
   "source": [
    "person_string = '{\"name\": \"ali\", \"language\": [\"python\", \"c#\"]}' #tırnak yazımı bu şekilde olmalı\n",
    "\n",
    "# json string to dictionary\n",
    "\n",
    "result = json.loads(person_string) #loads metodu ile dictionary elde ediyorum\n",
    "#result = result[\"name\"]\n",
    "result = result[\"language\"]\n",
    "\n",
    "result"
   ]
  },
  {
   "cell_type": "code",
   "execution_count": 11,
   "id": "d3a87ada",
   "metadata": {},
   "outputs": [
    {
     "name": "stdout",
     "output_type": "stream",
     "text": [
      "<class 'str'>\n"
     ]
    }
   ],
   "source": [
    "#json strsine çevireceğim\n",
    "persondic = {\n",
    "    \"name\": \"ali\",\n",
    "    \"language\": [\"python\",\"c#\"]\n",
    "}\n",
    "\n",
    "result = json.dumps(persondic) #bu metodla artık dönüşmüş olacak\n",
    "result\n",
    "print(type(result))"
   ]
  },
  {
   "cell_type": "code",
   "execution_count": 12,
   "id": "47b4e1c6",
   "metadata": {},
   "outputs": [
    {
     "name": "stdout",
     "output_type": "stream",
     "text": [
      "{'name': 'ali', 'language': ['python', 'c#']}\n",
      "{\n",
      "    \"language\": [\n",
      "        \"python\",\n",
      "        \"c#\"\n",
      "    ],\n",
      "    \"name\": \"ali\"\n",
      "}\n"
     ]
    }
   ],
   "source": [
    "import json\n",
    "persondic = {\"name\": \"ali\", \"language\": [\"python\",\"c#\"]}\n",
    "persondic = json.loads(person_string)\n",
    "\n",
    "result = json.dumps(persondic, indent = 4, sort_keys=True) # indent kaç satır boşluk olsun demek\n",
    "print(persondic) #persondic ve result yazdırıp baktım\n",
    "print(result)"
   ]
  },
  {
   "cell_type": "markdown",
   "id": "5f5405ec",
   "metadata": {},
   "source": [
    " # json demo 15.5"
   ]
  },
  {
   "cell_type": "code",
   "execution_count": 5,
   "id": "c4894a63",
   "metadata": {},
   "outputs": [
    {
     "name": "stdout",
     "output_type": "stream",
     "text": [
      "***********************menü***********************\n",
      "1- Register\n",
      "2- Login\n",
      "3-Logout\n",
      "4- identity\n",
      "5- Exit\n",
      "seçiniz: 1\n",
      "username: dsf\n",
      "password: sdf\n",
      "email: erew\n"
     ]
    },
    {
     "ename": "TypeError",
     "evalue": "descriptor 'append' for 'list' objects doesn't apply to a 'str' object",
     "output_type": "error",
     "traceback": [
      "\u001b[1;31m---------------------------------------------------------------------------\u001b[0m",
      "\u001b[1;31mTypeError\u001b[0m                                 Traceback (most recent call last)",
      "Cell \u001b[1;32mIn[5], line 52\u001b[0m\n\u001b[0;32m     49\u001b[0m     email \u001b[38;5;241m=\u001b[39m \u001b[38;5;28minput\u001b[39m(\u001b[38;5;124m\"\u001b[39m\u001b[38;5;124memail: \u001b[39m\u001b[38;5;124m\"\u001b[39m)\n\u001b[0;32m     51\u001b[0m     user \u001b[38;5;241m=\u001b[39m User(username\u001b[38;5;241m=\u001b[39musername, password \u001b[38;5;241m=\u001b[39m password, email \u001b[38;5;241m=\u001b[39m email)\n\u001b[1;32m---> 52\u001b[0m     \u001b[43mrepository\u001b[49m\u001b[38;5;241;43m.\u001b[39;49m\u001b[43mregister\u001b[49m\u001b[43m(\u001b[49m\u001b[43muser\u001b[49m\u001b[43m)\u001b[49m\n\u001b[0;32m     54\u001b[0m     \u001b[38;5;28mprint\u001b[39m(repository\u001b[38;5;241m.\u001b[39musers)\n\u001b[0;32m     56\u001b[0m \u001b[38;5;28;01melif\u001b[39;00m secim \u001b[38;5;241m==\u001b[39m \u001b[38;5;124m'\u001b[39m\u001b[38;5;124m2\u001b[39m\u001b[38;5;124m'\u001b[39m:\n",
      "Cell \u001b[1;32mIn[5], line 21\u001b[0m, in \u001b[0;36mUserRepository.register\u001b[1;34m(self, user)\u001b[0m\n\u001b[0;32m     19\u001b[0m \u001b[38;5;28;01mdef\u001b[39;00m \u001b[38;5;21mregister\u001b[39m(\u001b[38;5;28mself\u001b[39m,user: User):\n\u001b[0;32m     20\u001b[0m     \u001b[38;5;28mself\u001b[39m\u001b[38;5;241m.\u001b[39musers\u001b[38;5;241m.\u001b[39mappend(user) \u001b[38;5;66;03m#gönderilen user bilgisini users listesine ekliyorum\u001b[39;00m\n\u001b[1;32m---> 21\u001b[0m     \u001b[38;5;28;43mself\u001b[39;49m\u001b[38;5;241;43m.\u001b[39;49m\u001b[43msavetoFile\u001b[49m\u001b[43m(\u001b[49m\u001b[43m)\u001b[49m \u001b[38;5;66;03m#bütün listeyi kaydetmek için çağıracağım metod\u001b[39;00m\n\u001b[0;32m     22\u001b[0m     \u001b[38;5;28mprint\u001b[39m(\u001b[38;5;124m\"\u001b[39m\u001b[38;5;124mkullanıcı oluşturuldu.\u001b[39m\u001b[38;5;124m\"\u001b[39m)\n",
      "Cell \u001b[1;32mIn[5], line 28\u001b[0m, in \u001b[0;36mUserRepository.savetoFile\u001b[1;34m(self)\u001b[0m\n\u001b[0;32m     25\u001b[0m \u001b[38;5;28;01mdef\u001b[39;00m \u001b[38;5;21msavetoFile\u001b[39m(\u001b[38;5;28mself\u001b[39m):\n\u001b[0;32m     27\u001b[0m     \u001b[38;5;28;01mfor\u001b[39;00m user \u001b[38;5;129;01min\u001b[39;00m \u001b[38;5;28mself\u001b[39m\u001b[38;5;241m.\u001b[39musers:\n\u001b[1;32m---> 28\u001b[0m         \u001b[38;5;28;43mlist\u001b[39;49m\u001b[38;5;241;43m.\u001b[39;49m\u001b[43mappend\u001b[49m\u001b[43m(\u001b[49m\u001b[43mjson\u001b[49m\u001b[38;5;241;43m.\u001b[39;49m\u001b[43mdumps\u001b[49m\u001b[43m(\u001b[49m\u001b[43muser\u001b[49m\u001b[38;5;241;43m.\u001b[39;49m\u001b[38;5;18;43m__dict__\u001b[39;49m\u001b[43m)\u001b[49m\u001b[43m)\u001b[49m\u001b[38;5;66;03m# dict metpdu user yapısını tamamen sözlük yapısına dönüştürüyor\u001b[39;00m\n\u001b[0;32m     31\u001b[0m     \u001b[38;5;28;01mwith\u001b[39;00m \u001b[38;5;28mopen\u001b[39m(\u001b[38;5;124m\"\u001b[39m\u001b[38;5;124musers.json\u001b[39m\u001b[38;5;124m\"\u001b[39m,\u001b[38;5;124m\"\u001b[39m\u001b[38;5;124mw\u001b[39m\u001b[38;5;124m\"\u001b[39m) \u001b[38;5;28;01mas\u001b[39;00m file:\n\u001b[0;32m     32\u001b[0m         json\u001b[38;5;241m.\u001b[39mdump(\u001b[38;5;28mlist\u001b[39m, file)\n",
      "\u001b[1;31mTypeError\u001b[0m: descriptor 'append' for 'list' objects doesn't apply to a 'str' object"
     ]
    }
   ],
   "source": [
    "#bir kullanıcı tanımlayacağım ve bu kullanıcı giriş yapacak ve bilgiler kaydedilecek sorna bunu jsona dönüştüreceğim\n",
    "import json\n",
    "class User: #userdan alacağım bilgilerin fonkunu yazdım buraya\n",
    "    def __init__(self, username, password, email):\n",
    "        self.username = username\n",
    "        self.password = password\n",
    "        self.email = email\n",
    "\n",
    "class UserRepository:\n",
    "    def __init__(self):\n",
    "        self.users = [] # oluşturduğum userları bu listeye ekleyeceğim\n",
    "        self.isLoggedIn = False #kullanıcı varsayılan olara klogin değil\n",
    "        self.currentUser = {}\n",
    "        \n",
    "        #load users from .json file\n",
    "        self.loadUser()\n",
    "    def loadUser(self):\n",
    "        pass\n",
    "    def register(self,user: User):\n",
    "        self.users.append(user) #gönderilen user bilgisini users listesine ekliyorum\n",
    "        self.savetoFile() #bütün listeyi kaydetmek için çağıracağım metod\n",
    "        print(\"kullanıcı oluşturuldu.\")\n",
    "    def login(self):\n",
    "        pass\n",
    "    def savetoFile(self):\n",
    "        \n",
    "        for user in self.users:\n",
    "            list.append(json.dumps(user.__dict__))# dict metpdu user yapısını tamamen sözlük yapısına dönüştürüyor\n",
    "            \n",
    "        \n",
    "        with open(\"users.json\",\"w\") as file:\n",
    "            json.dump(list, file)\n",
    "        \n",
    "        \n",
    "        \n",
    "        \n",
    "repository = UserRepository()\n",
    "    \n",
    "while True:\n",
    "    print(\"menü\".center(50,\"*\"))\n",
    "    secim = input(\"1- Register\\n2- Login\\n3-Logout\\n4- identity\\n5- Exit\\nseçiniz: \")\n",
    "    \n",
    "    if secim == '5':\n",
    "        break\n",
    "    else:\n",
    "        if secim == '1':\n",
    "            username = input(\"username: \")\n",
    "            password = input(\"password: \")\n",
    "            email = input(\"email: \")\n",
    "            \n",
    "            user = User(username=username, password = password, email = email)\n",
    "            repository.register(user)\n",
    "            \n",
    "            print(repository.users)\n",
    "            \n",
    "        elif secim == '2':\n",
    "            pass #login\n",
    "        elif secim == '3':\n",
    "            pass # logout\n",
    "        elif secim == '4':\n",
    "            pass #identity\n",
    "        else:\n",
    "            print(\"yanlış seçim\")\n",
    "    \n",
    "    break"
   ]
  },
  {
   "cell_type": "code",
   "execution_count": null,
   "id": "a133600e",
   "metadata": {},
   "outputs": [],
   "source": [
    "#çalışmıyor"
   ]
  }
 ],
 "metadata": {
  "kernelspec": {
   "display_name": "Python 3 (ipykernel)",
   "language": "python",
   "name": "python3"
  },
  "language_info": {
   "codemirror_mode": {
    "name": "ipython",
    "version": 3
   },
   "file_extension": ".py",
   "mimetype": "text/x-python",
   "name": "python",
   "nbconvert_exporter": "python",
   "pygments_lexer": "ipython3",
   "version": "3.10.9"
  }
 },
 "nbformat": 4,
 "nbformat_minor": 5
}
