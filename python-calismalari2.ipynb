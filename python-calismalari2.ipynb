{
 "cells": [
  {
   "cell_type": "markdown",
   "id": "92209eb7",
   "metadata": {},
   "source": [
    "## liste metodları uygulama 3.15"
   ]
  },
  {
   "cell_type": "code",
   "execution_count": 1,
   "id": "dafcfdcd",
   "metadata": {},
   "outputs": [],
   "source": [
    "names = [\"ali\",\"yağmur\",\"hakan\",\"deniz\"]\n",
    "years = [1998,2000,1998,1987]"
   ]
  },
  {
   "cell_type": "code",
   "execution_count": 2,
   "id": "c987f211",
   "metadata": {},
   "outputs": [
    {
     "data": {
      "text/plain": [
       "['ali', 'yağmur', 'hakan', 'deniz', 'cenk']"
      ]
     },
     "execution_count": 2,
     "metadata": {},
     "output_type": "execute_result"
    }
   ],
   "source": [
    "#1- \"cenk\" ismini listenin sonuna ekleyin\n",
    "names.append(\"cenk\")\n",
    "names"
   ]
  },
  {
   "cell_type": "code",
   "execution_count": 3,
   "id": "ed85adf1",
   "metadata": {},
   "outputs": [
    {
     "data": {
      "text/plain": [
       "['sena', 'ali', 'yağmur', 'hakan', 'deniz', 'cenk']"
      ]
     },
     "execution_count": 3,
     "metadata": {},
     "output_type": "execute_result"
    }
   ],
   "source": [
    "#2-sena ismini listenin başına ekleyin\n",
    "names.insert(0,\"sena\")\n",
    "names"
   ]
  },
  {
   "cell_type": "code",
   "execution_count": 4,
   "id": "35943f7b",
   "metadata": {},
   "outputs": [
    {
     "data": {
      "text/plain": [
       "['sena', 'ali', 'yağmur', 'hakan', 'deniz', 'cenk']"
      ]
     },
     "execution_count": 4,
     "metadata": {},
     "output_type": "execute_result"
    }
   ],
   "source": [
    "#3- deniz ismini listeden siliniz\n",
    "#names.remove(\"deniz\")\n",
    "#pop metoduyla listenin sonundaki eleman silinir index vermediğim zaman\n",
    "names"
   ]
  },
  {
   "cell_type": "code",
   "execution_count": 5,
   "id": "d8899648",
   "metadata": {},
   "outputs": [
    {
     "data": {
      "text/plain": [
       "1"
      ]
     },
     "execution_count": 5,
     "metadata": {},
     "output_type": "execute_result"
    }
   ],
   "source": [
    "#4- deniz isminin indexini bulun\n",
    "names.index(\"ali\")"
   ]
  },
  {
   "cell_type": "code",
   "execution_count": 6,
   "id": "2e0cd5b9",
   "metadata": {},
   "outputs": [
    {
     "data": {
      "text/plain": [
       "1"
      ]
     },
     "execution_count": 6,
     "metadata": {},
     "output_type": "execute_result"
    }
   ],
   "source": [
    "#5- ali listenin bir elemanı mıdır\n",
    "\"ali\" in names\n",
    "names.index(\"ali\") # eğer index -1den byük değer veriyorsa listededir"
   ]
  },
  {
   "cell_type": "code",
   "execution_count": 7,
   "id": "26168eb3",
   "metadata": {},
   "outputs": [
    {
     "data": {
      "text/plain": [
       "['cenk', 'deniz', 'hakan', 'yağmur', 'ali', 'sena']"
      ]
     },
     "execution_count": 7,
     "metadata": {},
     "output_type": "execute_result"
    }
   ],
   "source": [
    "#6- liste elemanlarını ters çevirin\n",
    "names.reverse() #liste elemanlarını ters çevirir\n",
    "names"
   ]
  },
  {
   "cell_type": "code",
   "execution_count": 8,
   "id": "ff0ab324",
   "metadata": {},
   "outputs": [
    {
     "data": {
      "text/plain": [
       "['ali', 'cenk', 'deniz', 'hakan', 'sena', 'yağmur']"
      ]
     },
     "execution_count": 8,
     "metadata": {},
     "output_type": "execute_result"
    }
   ],
   "source": [
    "#7- liste elemanlarını alfabetik olarak sıralayınız\n",
    "names.sort() #elemanları alfabetik olarak sıralar\n",
    "names"
   ]
  },
  {
   "cell_type": "code",
   "execution_count": 9,
   "id": "27001c68",
   "metadata": {},
   "outputs": [
    {
     "data": {
      "text/plain": [
       "[1987, 1998, 1998, 2000]"
      ]
     },
     "execution_count": 9,
     "metadata": {},
     "output_type": "execute_result"
    }
   ],
   "source": [
    "#8- years listesini rakamsal büyüklüğe göre sıralayınız\n",
    "years.sort()\n",
    "years"
   ]
  },
  {
   "cell_type": "code",
   "execution_count": 10,
   "id": "4e2cd356",
   "metadata": {},
   "outputs": [
    {
     "data": {
      "text/plain": [
       "['chevchev, dacia']"
      ]
     },
     "execution_count": 10,
     "metadata": {},
     "output_type": "execute_result"
    }
   ],
   "source": [
    "#9- str = \"chevrolet, dacia\" karakter dizisini listeye çevirinz\n",
    "str = \"chevchev, dacia\"\n",
    "x = [str]\n",
    "type(x)\n",
    "x\n",
    "# ya da str.split(,) diyerek virgülden ayırıp direkt bir liste içine alabiliim"
   ]
  },
  {
   "cell_type": "code",
   "execution_count": 11,
   "id": "0ce171f1",
   "metadata": {},
   "outputs": [
    {
     "name": "stdout",
     "output_type": "stream",
     "text": [
      "1987 2000\n"
     ]
    }
   ],
   "source": [
    "#10- years dizisinin en büyük ve küçük elemanı nedir\n",
    "x = min(years)\n",
    "y = max(years)\n",
    "print(x,y)"
   ]
  },
  {
   "cell_type": "code",
   "execution_count": 12,
   "id": "67518e67",
   "metadata": {},
   "outputs": [
    {
     "data": {
      "text/plain": [
       "2"
      ]
     },
     "execution_count": 12,
     "metadata": {},
     "output_type": "execute_result"
    }
   ],
   "source": [
    "#11- years dizisinin içinde kaç tane 1998 deperi vardır\n",
    "years.count(1998) # kaç tane olduğunu söyler"
   ]
  },
  {
   "cell_type": "code",
   "execution_count": 13,
   "id": "7695f7b4",
   "metadata": {},
   "outputs": [
    {
     "data": {
      "text/plain": [
       "[]"
      ]
     },
     "execution_count": 13,
     "metadata": {},
     "output_type": "execute_result"
    }
   ],
   "source": [
    "#12- years dizisnini tüm elemanlarını siliniz\n",
    "years.clear() # temizler\n",
    "years"
   ]
  },
  {
   "cell_type": "code",
   "execution_count": 14,
   "id": "c1bac572",
   "metadata": {},
   "outputs": [
    {
     "name": "stdout",
     "output_type": "stream",
     "text": [
      "bir marka yazın: dfg\n",
      "bir marka yazın: dfg\n",
      "bir marka yazın: dfg\n"
     ]
    },
    {
     "data": {
      "text/plain": [
       "list"
      ]
     },
     "execution_count": 14,
     "metadata": {},
     "output_type": "execute_result"
    }
   ],
   "source": [
    "#13- kullanıcıdan aldığınız 3 marka bilgisini bir listede saklayınız\n",
    "cevap1 = input(\"bir marka yazın: \")\n",
    "cevap2 = input(\"bir marka yazın: \")\n",
    "cevap3 = input(\"bir marka yazın: \")\n",
    "x = [cevap1, cevap2, cevap3]\n",
    "x\n",
    "type(x)"
   ]
  },
  {
   "cell_type": "markdown",
   "id": "ded0f3ee",
   "metadata": {},
   "source": [
    "## pythonda tuple 3.16"
   ]
  },
  {
   "cell_type": "code",
   "execution_count": 15,
   "id": "d500e311",
   "metadata": {},
   "outputs": [
    {
     "data": {
      "text/plain": [
       "tuple"
      ]
     },
     "execution_count": 15,
     "metadata": {},
     "output_type": "execute_result"
    }
   ],
   "source": [
    "list = [1,2,3]\n",
    "\n",
    "tuple = (1, \"iki\", 3)\n",
    "\n",
    "type(tuple)"
   ]
  },
  {
   "cell_type": "code",
   "execution_count": 16,
   "id": "625406c3",
   "metadata": {},
   "outputs": [
    {
     "data": {
      "text/plain": [
       "list"
      ]
     },
     "execution_count": 16,
     "metadata": {},
     "output_type": "execute_result"
    }
   ],
   "source": [
    "type(list)"
   ]
  },
  {
   "cell_type": "code",
   "execution_count": 17,
   "id": "8d6bfc83",
   "metadata": {},
   "outputs": [
    {
     "data": {
      "text/plain": [
       "3"
      ]
     },
     "execution_count": 17,
     "metadata": {},
     "output_type": "execute_result"
    }
   ],
   "source": [
    "list[2]"
   ]
  },
  {
   "cell_type": "code",
   "execution_count": 18,
   "id": "9bce8942",
   "metadata": {},
   "outputs": [
    {
     "data": {
      "text/plain": [
       "3"
      ]
     },
     "execution_count": 18,
     "metadata": {},
     "output_type": "execute_result"
    }
   ],
   "source": [
    "tuple[2]"
   ]
  },
  {
   "cell_type": "code",
   "execution_count": 19,
   "id": "33bcd464",
   "metadata": {},
   "outputs": [
    {
     "data": {
      "text/plain": [
       "3"
      ]
     },
     "execution_count": 19,
     "metadata": {},
     "output_type": "execute_result"
    }
   ],
   "source": [
    "len(tuple)"
   ]
  },
  {
   "cell_type": "code",
   "execution_count": 20,
   "id": "113f37d0",
   "metadata": {},
   "outputs": [
    {
     "data": {
      "text/plain": [
       "3"
      ]
     },
     "execution_count": 20,
     "metadata": {},
     "output_type": "execute_result"
    }
   ],
   "source": [
    "len(list)"
   ]
  },
  {
   "cell_type": "code",
   "execution_count": 21,
   "id": "246841f9",
   "metadata": {},
   "outputs": [],
   "source": [
    "list = [\"ali\",\"veli\"]\n",
    "tuple = (\"damla\",\"ceren\")"
   ]
  },
  {
   "cell_type": "code",
   "execution_count": 22,
   "id": "dab10da7",
   "metadata": {},
   "outputs": [
    {
     "data": {
      "text/plain": [
       "['ali', 'veli']"
      ]
     },
     "execution_count": 22,
     "metadata": {},
     "output_type": "execute_result"
    }
   ],
   "source": [
    "tuple\n",
    "list"
   ]
  },
  {
   "cell_type": "code",
   "execution_count": 23,
   "id": "a4c4da65",
   "metadata": {},
   "outputs": [
    {
     "data": {
      "text/plain": [
       "['ahmet', 'veli']"
      ]
     },
     "execution_count": 23,
     "metadata": {},
     "output_type": "execute_result"
    }
   ],
   "source": [
    "list[0] = \"ahmet\"\n",
    "list"
   ]
  },
  {
   "cell_type": "code",
   "execution_count": 24,
   "id": "b8c51bef",
   "metadata": {},
   "outputs": [
    {
     "ename": "TypeError",
     "evalue": "'tuple' object does not support item assignment",
     "output_type": "error",
     "traceback": [
      "\u001b[1;31m---------------------------------------------------------------------------\u001b[0m",
      "\u001b[1;31mTypeError\u001b[0m                                 Traceback (most recent call last)",
      "Cell \u001b[1;32mIn[24], line 1\u001b[0m\n\u001b[1;32m----> 1\u001b[0m \u001b[38;5;28mtuple\u001b[39m[\u001b[38;5;241m0\u001b[39m] \u001b[38;5;241m=\u001b[39m \u001b[38;5;124m\"\u001b[39m\u001b[38;5;124mkerim\u001b[39m\u001b[38;5;124m\"\u001b[39m\n",
      "\u001b[1;31mTypeError\u001b[0m: 'tuple' object does not support item assignment"
     ]
    }
   ],
   "source": [
    "tuple[0] = \"kerim\" # herhangi bir elemana bir atama işlemi yapamam \n",
    "#tek bir eleman üstünde bir değişiklik yapamam ancak tüm liste üerinden değiştirebilirim"
   ]
  },
  {
   "cell_type": "code",
   "execution_count": 25,
   "id": "d9525a10",
   "metadata": {},
   "outputs": [],
   "source": [
    "# tuple listeleri de toplanabilir"
   ]
  },
  {
   "cell_type": "markdown",
   "id": "415c5ed5",
   "metadata": {},
   "source": [
    "## dictionary sözlük 3.17"
   ]
  },
  {
   "cell_type": "code",
   "execution_count": 26,
   "id": "98b59cd6",
   "metadata": {},
   "outputs": [],
   "source": [
    "# key value şeklinde çalışyor \n",
    "# bir bilgiye ulaşmak için key veya value kullanıyoruz"
   ]
  },
  {
   "cell_type": "code",
   "execution_count": 27,
   "id": "02e297db",
   "metadata": {},
   "outputs": [],
   "source": [
    "sehirler = [\"kocaeli\",\"istanbul\"]\n",
    "plakalar = [41,34]"
   ]
  },
  {
   "cell_type": "code",
   "execution_count": 28,
   "id": "a6de97d7",
   "metadata": {},
   "outputs": [
    {
     "data": {
      "text/plain": [
       "41"
      ]
     },
     "execution_count": 28,
     "metadata": {},
     "output_type": "execute_result"
    }
   ],
   "source": [
    "plakalar[sehirler.index(\"kocaeli\")]\n",
    "# burada yazarken sıralarının uyuyor olması lazım"
   ]
  },
  {
   "cell_type": "code",
   "execution_count": 29,
   "id": "df87f390",
   "metadata": {},
   "outputs": [
    {
     "data": {
      "text/plain": [
       "34"
      ]
     },
     "execution_count": 29,
     "metadata": {},
     "output_type": "execute_result"
    }
   ],
   "source": [
    "plakalar[sehirler.index(\"istanbul\")]"
   ]
  },
  {
   "cell_type": "code",
   "execution_count": 30,
   "id": "f2fd52cb",
   "metadata": {},
   "outputs": [],
   "source": [
    "sozluk = {\"istanbul\" : 34, \"kocaeli\": 41}"
   ]
  },
  {
   "cell_type": "code",
   "execution_count": 31,
   "id": "5b6da4dd",
   "metadata": {},
   "outputs": [
    {
     "data": {
      "text/plain": [
       "34"
      ]
     },
     "execution_count": 31,
     "metadata": {},
     "output_type": "execute_result"
    }
   ],
   "source": [
    "sozluk[\"istanbul\"]"
   ]
  },
  {
   "cell_type": "code",
   "execution_count": 32,
   "id": "8b9a911c",
   "metadata": {},
   "outputs": [],
   "source": [
    "sozluk[\"ankara\"] = 6 # direkt yeni yazarak süözlüüğe ekleme yapabilirim"
   ]
  },
  {
   "cell_type": "code",
   "execution_count": 33,
   "id": "715b8b67",
   "metadata": {},
   "outputs": [
    {
     "name": "stdout",
     "output_type": "stream",
     "text": [
      "{'istanbul': 34, 'kocaeli': 41, 'ankara': 6}\n"
     ]
    }
   ],
   "source": [
    "print(sozluk)"
   ]
  },
  {
   "cell_type": "code",
   "execution_count": 34,
   "id": "8540b1c4",
   "metadata": {},
   "outputs": [],
   "source": [
    "sozluk[\"kocaeli\"] = \"new value\" #olan elemanın içidenki veriyi değiştirmek için \n",
    "# sadece sözük kısındaki karşılık gelen veriyi yeniden değiştirmem gerekli"
   ]
  },
  {
   "cell_type": "code",
   "execution_count": 35,
   "id": "9dd842cb",
   "metadata": {},
   "outputs": [
    {
     "data": {
      "text/plain": [
       "{'istanbul': 34, 'kocaeli': 'new value', 'ankara': 6}"
      ]
     },
     "execution_count": 35,
     "metadata": {},
     "output_type": "execute_result"
    }
   ],
   "source": [
    "sozluk"
   ]
  },
  {
   "cell_type": "code",
   "execution_count": 36,
   "id": "7edf3c2c",
   "metadata": {},
   "outputs": [],
   "source": [
    "users = {\n",
    "    \"yiğit\": 23,\n",
    "    \"melis\": 22,\n",
    "}"
   ]
  },
  {
   "cell_type": "code",
   "execution_count": 37,
   "id": "6912b01c",
   "metadata": {},
   "outputs": [
    {
     "data": {
      "text/plain": [
       "{'yiğit': 23, 'melis': 22}"
      ]
     },
     "execution_count": 37,
     "metadata": {},
     "output_type": "execute_result"
    }
   ],
   "source": [
    "users"
   ]
  },
  {
   "cell_type": "code",
   "execution_count": 38,
   "id": "aa54cd21",
   "metadata": {},
   "outputs": [
    {
     "data": {
      "text/plain": [
       "23"
      ]
     },
     "execution_count": 38,
     "metadata": {},
     "output_type": "execute_result"
    }
   ],
   "source": [
    "users[\"yiğit\"]"
   ]
  },
  {
   "cell_type": "code",
   "execution_count": 39,
   "id": "6a8ac515",
   "metadata": {},
   "outputs": [],
   "source": [
    "users = {\n",
    "    \"yiğit\": {\n",
    "        \"age\": 23,\n",
    "        \"roles\": \"user\",\n",
    "        \"mail\": \"yigit@gmail.com\",\n",
    "        \"address\": \"istanbul\",\n",
    "        \"phone\": \"123123123\"\n",
    "    } ,\n",
    "    \"melis\": {\n",
    "        \"age\": 22,\n",
    "        \"roles\": [\"user\",\"admin\"],\n",
    "        \"mail\": \"melis@gmail.com\",\n",
    "        \"address\": \"istanbul\",\n",
    "        \"phone\": \"456456456\"\n",
    "    } ,\n",
    "}"
   ]
  },
  {
   "cell_type": "code",
   "execution_count": 40,
   "id": "96aba11e",
   "metadata": {},
   "outputs": [
    {
     "data": {
      "text/plain": [
       "22"
      ]
     },
     "execution_count": 40,
     "metadata": {},
     "output_type": "execute_result"
    }
   ],
   "source": [
    "users[\"melis\"][\"age\"]"
   ]
  },
  {
   "cell_type": "code",
   "execution_count": 41,
   "id": "5906747f",
   "metadata": {},
   "outputs": [
    {
     "data": {
      "text/plain": [
       "'user'"
      ]
     },
     "execution_count": 41,
     "metadata": {},
     "output_type": "execute_result"
    }
   ],
   "source": [
    "users[\"melis\"][\"roles\"][0]"
   ]
  },
  {
   "cell_type": "markdown",
   "id": "c60aac19",
   "metadata": {},
   "source": [
    "## dictionary uygulama 3.18"
   ]
  },
  {
   "cell_type": "code",
   "execution_count": 42,
   "id": "96c6231a",
   "metadata": {},
   "outputs": [
    {
     "data": {
      "text/plain": [
       "'ogrenciler = {\\n    \"120\": {\\n        \"ad\": \"ali\",\\n        \"soyad\": \"yılmaz\",\\n        \"telefon\": \"0532 000 00 01\"\\n    },\\n    \"125\": {\\n        \"ad\": \"can\",\\n        \"soyad\": \"korkmaz\",\\n        \"telefon\": \"532 000 00 02\"\\n    },\\n    \"128\": {\\n        \"ad\": \"volkan\",\\n        \"soyad\": \"yükselen\",\\n        \"telefon\": \"532 000 00 03\"\\n    }\\n}'"
      ]
     },
     "execution_count": 42,
     "metadata": {},
     "output_type": "execute_result"
    }
   ],
   "source": [
    "\"\"\"ogrenciler = {\n",
    "    \"120\": {\n",
    "        \"ad\": \"ali\",\n",
    "        \"soyad\": \"yılmaz\",\n",
    "        \"telefon\": \"0532 000 00 01\"\n",
    "    },\n",
    "    \"125\": {\n",
    "        \"ad\": \"can\",\n",
    "        \"soyad\": \"korkmaz\",\n",
    "        \"telefon\": \"532 000 00 02\"\n",
    "    },\n",
    "    \"128\": {\n",
    "        \"ad\": \"volkan\",\n",
    "        \"soyad\": \"yükselen\",\n",
    "        \"telefon\": \"532 000 00 03\"\n",
    "    }\n",
    "}\"\"\""
   ]
  },
  {
   "cell_type": "code",
   "execution_count": 43,
   "id": "bd7e2d39",
   "metadata": {},
   "outputs": [
    {
     "data": {
      "text/plain": [
       "'\\n1- bilgileri verilen öğrencileri kullanıcıdan aldığınız bilgilerle \\ndictionary içinde saklayınız.\\n\\n2- öğrenci numarasını kullanıcıdan alıp ilgili öğrenci bilgisini gösteriniz'"
      ]
     },
     "execution_count": 43,
     "metadata": {},
     "output_type": "execute_result"
    }
   ],
   "source": [
    "\"\"\"\n",
    "1- bilgileri verilen öğrencileri kullanıcıdan aldığınız bilgilerle \n",
    "dictionary içinde saklayınız.\n",
    "\n",
    "2- öğrenci numarasını kullanıcıdan alıp ilgili öğrenci bilgisini gösteriniz\"\"\"\n",
    "\n"
   ]
  },
  {
   "cell_type": "code",
   "execution_count": 44,
   "id": "4feb20cf",
   "metadata": {},
   "outputs": [
    {
     "name": "stdout",
     "output_type": "stream",
     "text": [
      "öğrenci no: 765\n",
      "öğrenci adı: fvhf\n",
      "öğrenci soyadı: fgh\n",
      "öğrenci telefon no: 365464\n"
     ]
    },
    {
     "data": {
      "text/plain": [
       "'ogrenciler[number] = {\\n    \"ad\": name,\\n    \"soyad\": surname,\\n    \"telefon\": telefon,\\n    \\n}'"
      ]
     },
     "execution_count": 44,
     "metadata": {},
     "output_type": "execute_result"
    }
   ],
   "source": [
    "# 1-\n",
    "\n",
    "ogrenciler = {}\n",
    "\n",
    "number = input(\"öğrenci no: \")\n",
    "name = input(\"öğrenci adı: \")\n",
    "surname = input(\"öğrenci soyadı: \")\n",
    "telefon = input(\"öğrenci telefon no: \")\n",
    "\n",
    "\"\"\"ogrenciler[number] = {\n",
    "    \"ad\": name,\n",
    "    \"soyad\": surname,\n",
    "    \"telefon\": telefon,\n",
    "    \n",
    "}\"\"\"\n"
   ]
  },
  {
   "cell_type": "code",
   "execution_count": 45,
   "id": "94dc427f",
   "metadata": {},
   "outputs": [
    {
     "data": {
      "text/plain": [
       "{}"
      ]
     },
     "execution_count": 45,
     "metadata": {},
     "output_type": "execute_result"
    }
   ],
   "source": [
    "ogrenciler"
   ]
  },
  {
   "cell_type": "code",
   "execution_count": 46,
   "id": "95df1ae5",
   "metadata": {},
   "outputs": [],
   "source": [
    "ogrenciler.update({\n",
    "    number: {\n",
    "        \"ad\": name,\n",
    "        \"soyad\": surname,\n",
    "        \"telefon\": telefon\n",
    "    }\n",
    "})"
   ]
  },
  {
   "cell_type": "code",
   "execution_count": 47,
   "id": "873e24d8",
   "metadata": {},
   "outputs": [
    {
     "data": {
      "text/plain": [
       "{'765': {'ad': 'fvhf', 'soyad': 'fgh', 'telefon': '365464'}}"
      ]
     },
     "execution_count": 47,
     "metadata": {},
     "output_type": "execute_result"
    }
   ],
   "source": [
    "ogrenciler"
   ]
  },
  {
   "cell_type": "code",
   "execution_count": 48,
   "id": "beb68101",
   "metadata": {},
   "outputs": [
    {
     "name": "stdout",
     "output_type": "stream",
     "text": [
      "öğrenci no: 345\n",
      "öğrenci adı: gh\n",
      "öğrenci soyadı: df\n",
      "öğrenci telefon no: 76\n",
      "öğrenci no: fdg\n",
      "öğrenci adı: hjg\n",
      "öğrenci soyadı: fgfhj\n",
      "öğrenci telefon no: tyghjghjgh\n",
      "öğrenci no: 87\n",
      "öğrenci adı: fgh\n",
      "öğrenci soyadı: hg\n",
      "öğrenci telefon no: 345345\n"
     ]
    }
   ],
   "source": [
    "ogrenciler = {}\n",
    "\n",
    "number = input(\"öğrenci no: \")\n",
    "name = input(\"öğrenci adı: \")\n",
    "surname = input(\"öğrenci soyadı: \")\n",
    "telefon = input(\"öğrenci telefon no: \")\n",
    "\n",
    "number = input(\"öğrenci no: \")\n",
    "name = input(\"öğrenci adı: \")\n",
    "surname = input(\"öğrenci soyadı: \")\n",
    "telefon = input(\"öğrenci telefon no: \")\n",
    "\n",
    "number = input(\"öğrenci no: \")\n",
    "name = input(\"öğrenci adı: \")\n",
    "surname = input(\"öğrenci soyadı: \")\n",
    "telefon = input(\"öğrenci telefon no: \")\n",
    "\n",
    "ogrenciler.update({\n",
    "    number: {\n",
    "        \"ad\": name,\n",
    "        \"soyad\": surname,\n",
    "        \"telefon\": telefon\n",
    "    },\n",
    "    number: {\n",
    "        \"ad\": name,\n",
    "        \"soyad\": surname,\n",
    "        \"telefon\": telefon\n",
    "    },\n",
    "    number: {\n",
    "        \"ad\": name,\n",
    "        \"soyad\": surname,\n",
    "        \"telefon\": telefon\n",
    "    }\n",
    "})"
   ]
  },
  {
   "cell_type": "code",
   "execution_count": 49,
   "id": "33d7d87e",
   "metadata": {},
   "outputs": [
    {
     "data": {
      "text/plain": [
       "{'87': {'ad': 'fgh', 'soyad': 'hg', 'telefon': '345345'}}"
      ]
     },
     "execution_count": 49,
     "metadata": {},
     "output_type": "execute_result"
    }
   ],
   "source": [
    "ogrenciler"
   ]
  },
  {
   "cell_type": "code",
   "execution_count": 50,
   "id": "26e9cf59",
   "metadata": {},
   "outputs": [
    {
     "name": "stdout",
     "output_type": "stream",
     "text": [
      "öğrenci no: 345\n",
      "{'ad': 'fgh', 'soyad': 'hg', 'telefon': '345345'}\n"
     ]
    }
   ],
   "source": [
    "ogrNo = input(\"öğrenci no: \")\n",
    "ogrenci = ogrenciler[number]\n",
    "print(ogrenci)"
   ]
  },
  {
   "cell_type": "code",
   "execution_count": null,
   "id": "62808d5f",
   "metadata": {},
   "outputs": [],
   "source": []
  }
 ],
 "metadata": {
  "kernelspec": {
   "display_name": "Python 3 (ipykernel)",
   "language": "python",
   "name": "python3"
  },
  "language_info": {
   "codemirror_mode": {
    "name": "ipython",
    "version": 3
   },
   "file_extension": ".py",
   "mimetype": "text/x-python",
   "name": "python",
   "nbconvert_exporter": "python",
   "pygments_lexer": "ipython3",
   "version": "3.10.9"
  }
 },
 "nbformat": 4,
 "nbformat_minor": 5
}
