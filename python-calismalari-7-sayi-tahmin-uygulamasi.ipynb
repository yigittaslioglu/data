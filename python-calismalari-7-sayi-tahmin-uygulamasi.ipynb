{
 "cells": [
  {
   "cell_type": "markdown",
   "id": "fd27f961",
   "metadata": {},
   "source": [
    "## sayı tahmin uygulaması 6.7 döngüler"
   ]
  },
  {
   "cell_type": "code",
   "execution_count": 1,
   "id": "a06ff1c8",
   "metadata": {},
   "outputs": [
    {
     "data": {
      "text/plain": [
       "'\\n1-100 arasında rastgele üretilecek bir sayıyı aşağı yukarı iadeleri ile\\nbuldurmaya çalışın\\n** random modülü için python random şeklide arama yapın.\\n** 100 üzerinde puanlama yapın her soru 20 pan toplam soru 100 puan\\n** hak bilgisini kullanıcıdan alın ve her soru belirtilen can sayısı \\nüzerinden hesaplansın'"
      ]
     },
     "execution_count": 1,
     "metadata": {},
     "output_type": "execute_result"
    }
   ],
   "source": [
    "\"\"\"\n",
    "1-100 arasında rastgele üretilecek bir sayıyı aşağı yukarı iadeleri ile\n",
    "buldurmaya çalışın\n",
    "** random modülü için python random şeklide arama yapın.\n",
    "** 100 üzerinde puanlama yapın her soru 20 pan toplam soru 100 puan\n",
    "** hak bilgisini kullanıcıdan alın ve her soru belirtilen can sayısı \n",
    "üzerinden hesaplansın\"\"\""
   ]
  },
  {
   "cell_type": "code",
   "execution_count": 10,
   "id": "6588a110",
   "metadata": {},
   "outputs": [],
   "source": [
    "import random"
   ]
  },
  {
   "cell_type": "code",
   "execution_count": null,
   "id": "38527877",
   "metadata": {},
   "outputs": [],
   "source": [
    "sayi = random.randint(1,100)\n",
    "can = int(input(\"kaç canınız olsun: \"))\n",
    "sayac = 0\n",
    "hak = can\n",
    "\n",
    "while hak > 0:\n",
    "    hak -= 1\n",
    "    sayac += 1\n",
    "    tahmin = int(input(\"tahmin: \"))\n",
    "    \n",
    "    if sayi == tahmin:\n",
    "        print(f\"tebrikler {sayac}. hakkınızda bildiniz. toplam puanınız: {100 - (100/can) * (sayac - 1)}\")\n",
    "        break\n",
    "    elif sayi > tahmin:\n",
    "        print(\"yukarı\")\n",
    "    else:\n",
    "        print(\"aşağı\")\n",
    "    if hak == 0:\n",
    "        print(f\"hakkınız bitti. tutulan sayı: {sayi}\")"
   ]
  },
  {
   "cell_type": "markdown",
   "id": "fd0a5b10",
   "metadata": {},
   "source": [
    "## asal sayı uygulaması 6.8 "
   ]
  },
  {
   "cell_type": "code",
   "execution_count": 23,
   "id": "75c3a661",
   "metadata": {},
   "outputs": [
    {
     "data": {
      "text/plain": [
       "'\\ngirilen bir sayının asal sayı olup olmadığını bulun\\n** asal sayı 1 e ve kendisine tam böleni olmayan sayıdır'"
      ]
     },
     "execution_count": 23,
     "metadata": {},
     "output_type": "execute_result"
    }
   ],
   "source": [
    "\"\"\"\n",
    "girilen bir sayının asal sayı olup olmadığını bulun\n",
    "** asal sayı 1 e ve kendisine tam böleni olmayan sayıdır\"\"\""
   ]
  },
  {
   "cell_type": "code",
   "execution_count": 28,
   "id": "3085bc45",
   "metadata": {},
   "outputs": [
    {
     "name": "stdout",
     "output_type": "stream",
     "text": [
      "sayı: 17\n",
      "sayı asaldır\n"
     ]
    }
   ],
   "source": [
    "sayi = int(input(\"sayı: \"))\n",
    "asalmi = True\n",
    "\n",
    "if sayi == 1:\n",
    "    asalmi = False\n",
    "for i in range(2, sayi):\n",
    "    if sayi % i == 0:\n",
    "        asalmi = False\n",
    "        break\n",
    "if asalmi:\n",
    "    print(\"sayı asaldır\")\n",
    "else:\n",
    "    print(\"sayı asal değildir\")"
   ]
  },
  {
   "cell_type": "code",
   "execution_count": null,
   "id": "068aa7a1",
   "metadata": {},
   "outputs": [],
   "source": []
  }
 ],
 "metadata": {
  "kernelspec": {
   "display_name": "Python 3 (ipykernel)",
   "language": "python",
   "name": "python3"
  },
  "language_info": {
   "codemirror_mode": {
    "name": "ipython",
    "version": 3
   },
   "file_extension": ".py",
   "mimetype": "text/x-python",
   "name": "python",
   "nbconvert_exporter": "python",
   "pygments_lexer": "ipython3",
   "version": "3.10.9"
  }
 },
 "nbformat": 4,
 "nbformat_minor": 5
}
