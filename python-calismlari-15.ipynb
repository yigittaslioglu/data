{
 "cells": [
  {
   "cell_type": "markdown",
   "id": "dd05f4ad",
   "metadata": {},
   "source": [
    "# pythonda iç içe fonksiyon kullanımı 12.1"
   ]
  },
  {
   "cell_type": "code",
   "execution_count": 1,
   "id": "907a4e5c",
   "metadata": {},
   "outputs": [
    {
     "name": "stdout",
     "output_type": "stream",
     "text": [
      "hello  ali\n",
      "None\n",
      "<function greeting at 0x000001103EB88CA0>\n"
     ]
    }
   ],
   "source": [
    "def greeting(name):\n",
    "    print(\"hello \", name)\n",
    "    \n",
    "print(greeting(\"ali\"))\n",
    "print(greeting)"
   ]
  },
  {
   "cell_type": "code",
   "execution_count": 2,
   "id": "5ce3d3b6",
   "metadata": {},
   "outputs": [
    {
     "name": "stdout",
     "output_type": "stream",
     "text": [
      "<function greeting at 0x000001103EB88CA0>\n",
      "<function greeting at 0x000001103EB88CA0>\n"
     ]
    }
   ],
   "source": [
    "sayhello = greeting\n",
    "\n",
    "print(greeting)\n",
    "print(sayhello) # ikisinin de adresleri aynı "
   ]
  },
  {
   "cell_type": "code",
   "execution_count": 3,
   "id": "33df592e",
   "metadata": {},
   "outputs": [
    {
     "name": "stdout",
     "output_type": "stream",
     "text": [
      "<function greeting at 0x000001103EB88CA0>\n"
     ]
    }
   ],
   "source": [
    "del sayhello\n",
    "print(greeting) #sayhelloyu silmem adresi silmem değil sayhellonun tanımlamasını silmemdir adresteki datayı silmiyorum"
   ]
  },
  {
   "cell_type": "code",
   "execution_count": 4,
   "id": "5748f48e",
   "metadata": {},
   "outputs": [
    {
     "name": "stdout",
     "output_type": "stream",
     "text": [
      "outer\n",
      "inner\n",
      "10 11\n"
     ]
    }
   ],
   "source": [
    "# bu işleme encapsulation işlemi denir içteki fonksiyon kendine yeni bir çalışma alanı tanımlıyor ve içteki işler onu etkilemiyor\n",
    "def outer(num1):\n",
    "    print(\"outer\")\n",
    "    def inner_increment(num1):\n",
    "        print(\"inner\")\n",
    "        return num1 + 1\n",
    "    num2 = inner_increment(num1)\n",
    "    print(num1,num2)\n",
    "    \n",
    "outer(10)\n",
    "#inner_increment(9)# çalışmaz çünkü kenid normalde tanımsız"
   ]
  },
  {
   "cell_type": "code",
   "execution_count": 10,
   "id": "72336f36",
   "metadata": {},
   "outputs": [
    {
     "name": "stdout",
     "output_type": "stream",
     "text": [
      "number must be an integer\n"
     ]
    }
   ],
   "source": [
    "def factorial(number):\n",
    "    if not isinstance(number,int):\n",
    "        raise TypeError(\"number must be an integer\")\n",
    "    if not number >=0:\n",
    "        raise ValueError(\"number must be zero or positive\")\n",
    "    \n",
    "    def inner_fac(number):\n",
    "        if number <= 1:\n",
    "            return 1\n",
    "        \n",
    "        return number * inner_fac(number -1)\n",
    "    \n",
    "    return inner_fac(number)\n",
    "try:\n",
    "    print(factorial(\"4\"))\n",
    "except Exception as ex:\n",
    "    print(ex)"
   ]
  },
  {
   "cell_type": "markdown",
   "id": "05fa6e3d",
   "metadata": {},
   "source": [
    "# fonksiyondan fonksiyon döndürme 12.2"
   ]
  },
  {
   "cell_type": "code",
   "execution_count": 15,
   "id": "2fcf2e72",
   "metadata": {},
   "outputs": [
    {
     "name": "stdout",
     "output_type": "stream",
     "text": [
      "8\n",
      "81\n"
     ]
    }
   ],
   "source": [
    "def usalma(number): #fonksiyonumuza bir değer değil fonksiyon gönderiyoruz\n",
    "     \n",
    "        def inner(power):\n",
    "            return number ** power\n",
    "        \n",
    "        return inner #inner fonksiyonu ile üs alıyorum ve bunu geri döndürüyorum\n",
    "    \n",
    "\n",
    "two = usalma(2) #daha sonra twoya usalmayı tanımlıyorum ve içine bi number parametresi veriyorum\n",
    "three = usalma(3)\n",
    "\n",
    "print(two(3)) #daha sonra two fonksiyonunu(power) yazdırıp içine bir parametre daha veriyorum ve bu sayede üs alıyor\n",
    "print(three(4))\n",
    "# üs alma fonksiyonuna bir değer gönderdim ve inner fonksiyonu return edilecek bunnu yaptığı işlem numberı power kadar çarpmaktır"
   ]
  },
  {
   "cell_type": "code",
   "execution_count": 17,
   "id": "2d917d22",
   "metadata": {},
   "outputs": [
    {
     "name": "stdout",
     "output_type": "stream",
     "text": [
      "admin rolün product edit sayfasına ulaşabilir\n",
      "user rolü product edit sayfasına ulaşamaz\n"
     ]
    }
   ],
   "source": [
    "def yetki_sorgula(page):\n",
    "    def inner(role):\n",
    "        if role == \"admin\":\n",
    "            return \"{0} rolün {1} sayfasına ulaşabilir\".format(role,page)\n",
    "        else:\n",
    "            return \"{0} rolü {1} sayfasına ulaşamaz\".format(role,page)\n",
    "    return inner\n",
    "\n",
    "user1 = yetki_sorgula(\"product edit\") #product edit kısmı admin rolüne karşılık geldiği için sayfaya ulaşabilir\n",
    "print(user1(\"admin\"))\n",
    "print(user1(\"user\")) #user prodact edit sayfasına ulaşamaz"
   ]
  },
  {
   "cell_type": "code",
   "execution_count": 21,
   "id": "c6a45107",
   "metadata": {},
   "outputs": [
    {
     "name": "stdout",
     "output_type": "stream",
     "text": [
      "28\n",
      "5040\n"
     ]
    }
   ],
   "source": [
    "def islem(islem_adi):\n",
    "    def toplam(*args):\n",
    "        toplam = 0\n",
    "        for i in args:\n",
    "            toplam += i\n",
    "        return toplam\n",
    "        \n",
    "    def carpma(*args):\n",
    "        carpim = 1\n",
    "        for i in args:\n",
    "            carpim*=i\n",
    "        return carpim\n",
    "        \n",
    "    if islem_adi == \"toplama\":\n",
    "        return toplam\n",
    "    else:\n",
    "        return carpma\n",
    "    \n",
    "toplama = islem(\"toplama\")\n",
    "print(toplama(1,2,3,4,5,6,7))\n",
    "\n",
    "carpma = islem(\"carpma\")\n",
    "print(carpma(1,2,3,4,5,6,7))"
   ]
  },
  {
   "cell_type": "markdown",
   "id": "255db770",
   "metadata": {},
   "source": [
    "# Pythonda fonksiyonları parametre olarak gönderme 12.3"
   ]
  },
  {
   "cell_type": "code",
   "execution_count": 22,
   "id": "cdd99868",
   "metadata": {},
   "outputs": [],
   "source": [
    "#fonksiyonlara parametre olara kfonksiyon göndereceğim"
   ]
  },
  {
   "cell_type": "code",
   "execution_count": 25,
   "id": "05df6803",
   "metadata": {},
   "outputs": [
    {
     "name": "stdout",
     "output_type": "stream",
     "text": [
      "5\n",
      "2\n",
      "12\n",
      "5.0\n",
      "geçersiz işlem\n"
     ]
    }
   ],
   "source": [
    "def toplama(a,b):\n",
    "    return a+b\n",
    "def cikarma(a,b):\n",
    "    return a-b\n",
    "def carpma(a,b):\n",
    "    return a*b\n",
    "def bolme(a,b):\n",
    "    return a/b\n",
    "\n",
    "def islem(f1, f2, f3, f4, islemadi):\n",
    "    if islemadi == \"toplama\":\n",
    "        print(f1(2,3))\n",
    "    elif islemadi == \"cikarma\":\n",
    "        print(f2(5,3))\n",
    "    elif islemadi == \"carpma\":\n",
    "        print(f3(3,4))\n",
    "    elif islemadi == \"bolme\":\n",
    "        print(f4(10,2))\n",
    "    else:\n",
    "        print(\"geçersiz işlem\")\n",
    "        \n",
    "islem(toplama, cikarma, carpma, bolme, \"toplama\")\n",
    "islem(toplama, cikarma, carpma, bolme, \"cikarma\")\n",
    "islem(toplama, cikarma, carpma, bolme, \"carpma\")\n",
    "islem(toplama, cikarma, carpma, bolme, \"bolme\")\n",
    "islem(toplama, cikarma, carpma, bolme, \"toplamaa\")"
   ]
  },
  {
   "cell_type": "markdown",
   "id": "e6ea44a3",
   "metadata": {},
   "source": [
    "# Pythonda decorator fonksiyonlar 12.4"
   ]
  },
  {
   "cell_type": "code",
   "execution_count": 1,
   "id": "5ac26b64",
   "metadata": {},
   "outputs": [],
   "source": [
    "#bir fonksiyona özellik eklemek istediğimiz zaman kullanıyoruz\n",
    "# bir özelliği birkaç farklı yerde kullanmamıza yarıyor"
   ]
  },
  {
   "cell_type": "code",
   "execution_count": 8,
   "id": "2eee1b76",
   "metadata": {},
   "outputs": [
    {
     "name": "stdout",
     "output_type": "stream",
     "text": [
      "fonksiyondan önceki işlemler\n",
      "hello ali\n",
      "fonksiyondan sonraki işlemler\n"
     ]
    }
   ],
   "source": [
    "def mydecorator(func):\n",
    "    def wrapper(name):\n",
    "        print(\"fonksiyondan önceki işlemler\")\n",
    "        func(name)\n",
    "        print(\"fonksiyondan sonraki işlemler\")\n",
    "    return wrapper #fonksiyondan geri fonksiyon gönderiyorum\n",
    "\n",
    "@mydecorator #decorator eklemiş oldum\n",
    "def sayhello(name): #sayhello fonksiyonunu çağırdığımda dolaylı olarak wrappernda gelmesini istiyorum. ikisini ilişkilendirmek istiyorum\n",
    "    print(\"hello\", name)\n",
    "    \n",
    "def saygreeting():\n",
    "    print(\"greeting\")\n",
    "    \n",
    "#sayhello = mydecorator(sayhello) #bu sayede ikisini ilişkilendirdim.\n",
    "#saygreeting = mydecorator(saygreeting)\n",
    "#saygreeting()\n",
    "sayhello(\"ali\")\n",
    "# belli bir fonksiyna belli özellikleri eklemek decoratoe çalışma mantığı\n",
    "\n",
    "# bunu yapmanın en kısa mantığı ise çağırdığım fonksiyonun üstüne @ işareti ile yazmkala oluyor\n"
   ]
  },
  {
   "cell_type": "code",
   "execution_count": 11,
   "id": "88cf7ccd",
   "metadata": {},
   "outputs": [
    {
     "name": "stdout",
     "output_type": "stream",
     "text": [
      "8.0\n",
      "fonksiyon1.008711576461792saniye sürdü.\n",
      "24\n",
      "fonksiyon1.011347770690918saniye sürdü.\n"
     ]
    }
   ],
   "source": [
    "import math\n",
    "import time\n",
    "def usalma(a,b):\n",
    "    \n",
    "    start = time.time()\n",
    "    \n",
    "    time.sleep(1)\n",
    "    \n",
    "    print(math.pow(a,b))\n",
    "    \n",
    "    finish = time.time()\n",
    "    \n",
    "    print(\"fonksiyon\" + str(finish-start) + \"saniye sürdü.\")\n",
    "    \n",
    "    \n",
    "def faktoriyel(num):\n",
    "    \n",
    "    start = time.time()\n",
    "    \n",
    "    time.sleep(1)\n",
    "    \n",
    "    print(math.factorial(num))\n",
    "    \n",
    "    finish = time.time()\n",
    "    \n",
    "    print(\"fonksiyon\" + str(finish-start) + \"saniye sürdü.\")\n",
    "    \n",
    "usalma(2,3)\n",
    "faktoriyel(4)\n",
    "\n",
    "#bunlar yerine örn usalma fonk sadece us alsın faktoriyel fonk sadece faktoriyel alsın\n",
    "#bunun için zaman hesaplama için ayrı fonk yazacağım ve bunu diğer fonklara tanımlayacağım\n",
    "\n",
    "# aşağıdan davam"
   ]
  },
  {
   "cell_type": "code",
   "execution_count": 15,
   "id": "8b1d5c2b",
   "metadata": {},
   "outputs": [
    {
     "name": "stdout",
     "output_type": "stream",
     "text": [
      "8.0\n",
      "fonksiyon usalma1.0010128021240234 saniye sürdü.\n",
      "24\n",
      "fonksiyon faktoriyel1.0011160373687744 saniye sürdü.\n",
      "34\n",
      "fonksiyon toplama1.015141487121582 saniye sürdü.\n"
     ]
    }
   ],
   "source": [
    "def calculatetime(func):\n",
    "    def inner(*args, **kwargs):\n",
    "        start = time.time()\n",
    "    \n",
    "        time.sleep(1)\n",
    "        \n",
    "        func(*args, **kwargs)\n",
    "        \n",
    "        finish = time.time()\n",
    "    \n",
    "        print(\"fonksiyon \" + func.__name__ + str(finish-start) + \" saniye sürdü.\")\n",
    "    return inner\n",
    "\n",
    "@calculatetime\n",
    "def usalma(a,b):\n",
    "    \n",
    "    print(math.pow(a,b))\n",
    "@calculatetime    \n",
    "def faktoriyel(num):\n",
    "    \n",
    "    print(math.factorial(num))\n",
    "    \n",
    "@calculatetime    \n",
    "def toplama(a,b):\n",
    "    print(a+b)\n",
    "    \n",
    "usalma(2,3)\n",
    "faktoriyel(4)\n",
    "toplama(10,24)\n",
    "\n",
    "#decorator fonk kullanarak kod tekrarının önüne geçtik"
   ]
  },
  {
   "cell_type": "code",
   "execution_count": null,
   "id": "5c39778e",
   "metadata": {},
   "outputs": [],
   "source": []
  }
 ],
 "metadata": {
  "kernelspec": {
   "display_name": "Python 3 (ipykernel)",
   "language": "python",
   "name": "python3"
  },
  "language_info": {
   "codemirror_mode": {
    "name": "ipython",
    "version": 3
   },
   "file_extension": ".py",
   "mimetype": "text/x-python",
   "name": "python",
   "nbconvert_exporter": "python",
   "pygments_lexer": "ipython3",
   "version": "3.10.9"
  }
 },
 "nbformat": 4,
 "nbformat_minor": 5
}
