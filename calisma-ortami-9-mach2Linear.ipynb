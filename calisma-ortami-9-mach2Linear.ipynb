{
 "cells": [
  {
   "cell_type": "markdown",
   "id": "1d265fc5",
   "metadata": {},
   "source": [
    "# 11 Machine Learning"
   ]
  },
  {
   "cell_type": "markdown",
   "id": "ec127bd7",
   "metadata": {},
   "source": [
    "## 2 - Lineer Regresyon"
   ]
  },
  {
   "cell_type": "markdown",
   "id": "84a5866c",
   "metadata": {},
   "source": [
    "### 1- Doğrusal Regresyon (Linear Regression)"
   ]
  },
  {
   "cell_type": "markdown",
   "id": "e23c633d",
   "metadata": {},
   "source": [
    "amaç bağımlı ve bağımsız değişkenler arasındaki ilişkiyi doğrusal olarak modellemektedir. y = b + wx w burada ağırlıklardır, be ise sabit ifadedir.\n",
    "bağımsız değişken sayısı arttıkça kat sayıları da değişeceğinden bu değişkenlerin veriyi etkileme oranı da değişecektir."
   ]
  },
  {
   "cell_type": "markdown",
   "id": "ccd68f34",
   "metadata": {},
   "source": [
    "### 2- Ağırlıkların Bulunması"
   ]
  },
  {
   "cell_type": "markdown",
   "id": "3a4f8c3f",
   "metadata": {},
   "source": [
    "değişkenlerin ağırlıklarına göre etkileri biçimlendirilebiliyor demitik. o zaman bu ağırlıkları nasıl bulabiliriz? gerçek değerler ile tahmin edilen değerler arasındaki farkların karelerinin toplamını ortlamasını minimum yapabilecek b ve w değerini bularak.\n",
    "yi(şapkalı y) = b + wxi \n",
    "sabit bdir ağırlık(katsayı) wdir. öyle bir şekilde bulunmalı ki bu en uygun değerlere sahip olsun. sonuçta bir evin m2sini girdiğimde onu bir değer ile çarpıyor olacağım(w) ve üzerine sabit ekledikten sonra evin fiyatını bulabilirim. ancak bu sabit ve w yi nasıl bulacağım? \n",
    "\n",
    "örn m2(xi) ile fiyat(yi) (tablo ve grafik var) arasında doğrusal bir ilişki olduğunu düşünüyoruz ve 2 boyutlu şekilde grafik haline getirdik. bu iki ilişki değişken arasındaki ilişkiyi doğrusal bir şekilde ifade edebilirsek görmüş olduğumuz doğrusal formda m2 bilgilerini fonksiyona sorarak ev fiyatlarını tahmin edebiliriz. grafikte noktalarımın arasından kırmızı bir doğru geçiyorum yukarıya eğimli olan. bu bir tahmin fonksiyonudur. bu fonkiyon kullanılarak veriden öğrenilmiş olan sabit ve ağırlığa göre tahminlerde bulunma imkanı yakalıyor olacağız. dolayısıyla model dediğimiz şey aslında bu kırmızı doğrudur. yani model dediğimiz şey bu sabitten ve ağırlıktan oluşmaktadır. bir bağımsız değişken değeri geldikten sonra onu yerine yazdıktan sonra verinin tamamından öğrendiğimiz ağırlık ağırlık değeri ile çarpacağız ve bu sabit değer ile topladığımızda belirli bir m2 fiyatına karşılık fiyatın ne olabileceği bilgisine erişeceğiz. peki bu sabiti ve w ifadesini nasıl bulacağız? yani bu doğruyu nereye koyacağız sorusu ile b yi ve w yi nasıl bulacağız sorusu aynı sorudur. burada problem doğru optimum noktaya nasıl koyulacağı problemidir. eğer bu nokta anlaşılırsa makine öğrenmesi problemi büyük ölçüde anlaşılacaktır. tahmin fonksiyonumuzun yüksekliğini b değeri belirler, eğimini ise w ifadesi belirlemektedir. dolayısıyla doğrunun nereye konacağı bu sabit değere ve ağırlığa bağlı olmaktadır. nasıl bir şey yapmalıyım ki bu krımızı çizgiyi en doğru yere yerleştirebileyim? bunu en doğru şekilde yerine koymak için bir cost fonksiyonu tanımlamam gerekmektedir.(bu fonksiyon mse fonksiyonudur) bu fonkiyonun toplam sembolünün başındaki 1/2m ifadesi farklıdır sadece bu da optimizasyon işlemleri ile alakalıdır. yani tahmin edilen değerler ile gerçek değerlerimin farkının karesi alınıp toplanmış ve bunun ortlaması alınmıştır cost fonksiyonu sonucunda. cost(b,w) ,yani ortalama hatamızdır. burada fonksiyonda b ve w değerlerini iteratif şekilde sürekli deneyerek yani değerlerimi fonksiyondan geçirerek sürekli koyulması gereken yere koyarak sonunda optimum nokayı bulacağım. yani elimdeki veri kadar sabit v eağırlığı değiştirmiş olacağım. burada en düşük hata oranını veren sabit ve ağırlığı seçerim.\n",
    "sabit = bias, beta, sabit denmektedir."
   ]
  },
  {
   "cell_type": "markdown",
   "id": "a14d7800",
   "metadata": {},
   "source": [
    "### 3- Regreasyon Modellerinde Başarı Değerlendirme (MSE, RMSE, MAE)"
   ]
  },
  {
   "cell_type": "markdown",
   "id": "5339fa5c",
   "metadata": {},
   "source": [
    "elde ettiğimiz sabit ve ağırlığımız var. bua ğırlıklara göre tahminlerde bulunduk. hatalarımıza baktık. bir yerde çok iyiyim bir yerde çok kötüyüm. bu yüzden değerlendiremedim tam anlamıyla genel bir şekilde. ortalamasını aldım bu yüzden. şu anda da çok kritik bir yerdeyim mse fonksiyonunun neden karesi var sorusundayım? çünkü eğer burada bir ortalam alırsak artılar eksiler birbirini götüreceğinden dolayı ortlaması 0 olabilir. dolayısıyla 0 olursa hatalarımı ölçemem. bu yüzden mse yönteminde gerçek değerler ile tahmin edilen değerlerin farkını aldıktan sonra karelerini alır. bu sayede yaşanabilecek ölçüm problemini ortadan kaldırmaktadır bu yüzden karesini alıyoruz. burada mse değeri 1. olarak başarı değerlendirme metriği olarak mse değeri ikinci olarak ise optimizasyon problemi olarak mse değeridir. ancak kare alma işleminin bir yan etkisi bulunmaktadır, hatalarımı çok şişirmektedir. 20 olan hatam 400 olmaktadır.\n",
    "\n",
    "Başka metrik olarak ise RMSE değeri vardır. hata kareler ortalamasının kareköküdür. mse de olan şişmenin daha doğru değerlendirilme çabasıdır. karekökünü aldığımda kare almanın tersine döndürmüş oluyorum çünkü.\n",
    "\n",
    "Başka bir metrik olarak da MAE değeri vardır. karekökü ve akresini almak yerine bu değerlerin mutlak değerlerini almaktadır.\n",
    "\n",
    "KRİTİK soru bir modelleme aşamasında bunların hangisini kullanmamzı gerektiğidir. bu 3nden biri seçilip kullanılmaktadır. 3ü birbiriyle kıyaslanamamaktadır çünkü 3ü de ayrı metriklerdir. biz rmse değerimizi kullanacağız ancak rastgele bir seçimdir bu. \n",
    "diğer bölümde bu mse değerinin optimize edilmesi yani ağırlıklarının bulunması işlemine odaklanacağız"
   ]
  },
  {
   "cell_type": "markdown",
   "id": "e9772a30",
   "metadata": {},
   "source": [
    "### 4- Parametrelerin Tahmin Edilmesi (Ağırlıkların Bulunması)"
   ]
  },
  {
   "cell_type": "markdown",
   "id": "62f3f4d5",
   "metadata": {},
   "source": [
    "yapacağım işlem bana en küçük hatayı verecek olan sabiti ve ağırlığı bulmaktır.\n",
    "bu durum parametrelerin tahmin edilmesi şeklinde, katsayıların bulunması, ağırlıkların bulunması şeklinde ve tahmincilerin bulunması şeklinde ifade edilebilir. burada amaç mse değerini grafiğimde en küçük hata payıyla yani en doğru sonuçları hata ortlaması en az olacak şekilde seçmeey çalışmaktır. 3d grafikte en uç noktaya en alt noktaya ulaşmaya çalışmaktır. bu şekilde olası kombinasyonları deneyerek hatayı en düşük çıkarmaya çalışıyorum.\n",
    "\n",
    "* Bu ağırlıkları bulmanın ilk yolu Analitik Çözüm: Normal Denklemler Yöntemi(En küçük Kareler Yöntemi)(OLS yöntemi)\n",
    "\n",
    "bu yöntem analitik bir çözümdür matris formatında bir çözümdür. türeve dayalı bir çözümdür. bu yöntem kullanıldığında ortaya çıkacak doğrusal formülasyon üzerinde analitik yorumlar yapılabilir, neden sonuç bağlamında yorumlar yapılabilir. eğer elimizde bir bağımlı bir bağımsız değişken varsa bu durumda iki parametreye göre ayrı ayrı kısmi türevler alınıp 0a eşitlenilir ve bulunması gereken çözülmesi gereken bir matematiksel ifade ortaya çıkar. Burada SSE diye bir şey çıktı karşıma. ancak artık bunlardan korkmama gerek yok çünkü her zaman gerçek değerler ile tahmin edilen değerlerin farkıan yönelik şeyler aramam gerektiğini biliyorum. MSE fonksiyonunu aklıma getirip karşılaştırıyorum. SSE demek de hata kareler toplamıdır. mse gibi ortalama almak yerine bir optimizasyon işlemi olarak toplama işlemi yapmaktadırlar. beta1 ve beta0 a göre kısmi türev alınıp betalar yalnız bırakılmaktadır. ve hesaplama işlemleri yapılır. kısaca incelemek gerekirse bağımsız değişkenin değerlerinden ortalam çıkarılmış, bağımlı değişkenin değerlerinden bağımlı değişkenin ortalamaları çıkarılmmış ve bunlar çarpıldıktan sonra toplanmış, aşağı kısmında ise bağımsız değişkenin değerlerinden bağımsız değişkenin ortalaması çıkarılıp karesi alınarak toplanmış ve üstteki değer alttaki değere bölünmüş bu beta1di, beta0 bulmak için de y bağımlı değişkenin ortalaması ile önce hesapladığım beta1 değeri ile bağımsız değşiken ortalaması çarpılır.\n",
    "\n",
    "\n",
    "çok değişken varsa ne olacak peki? yine SSE ifadesi bulunmaktadır. burada da kısmi türevler alınıp 0 a eşitlenildikten sonra ilgili ağırlıklar(betalar) yalnız bırakıldığında ortaya bir matris çözümü çıkacaktır. bu matris çözüldüğünde tahmin edilen betalar bulunacaktır. yani w1 w2 w3.. wn ifadeleri bulunacaktır.\n",
    "\n",
    "\n",
    "* İkinci yöntem olarak asıl zor olan yöntem optimizasyon yöntemidir(Gradient Descent)\n",
    "\n",
    "hatalarımın minimum olmasını istiyorum bunun da minmum olmasını istiyorum. dolayısıyla ağırlıkları bulmam lazım. bu yönem parametre değerlerini iteratif şekilde değiştirerek çalışmaktadır. beta yerine teta da konabilir. b0 = b =teta0\n",
    "b1 = w = teta1 bunlar teorik gösterimdir.\n",
    "özetle burada güncelleme işlemi yapılmaktadır. eski değerler yerine ilgili ağırlığın yeni değerleri atanmaktadır. örn 1000 kere ağırlıkların değeri değiştirildi ve mse değeri düşüyor mu diye sürekli gözlemlenir ve en düşük gözlem değerini veren optimizasyon değeri seçilir."
   ]
  },
  {
   "cell_type": "markdown",
   "id": "b9f3955f",
   "metadata": {},
   "source": [
    "### 5- Doğrusal Regresyon için Gradient Descent (Gradient Descent for Linear Regression)"
   ]
  },
  {
   "cell_type": "markdown",
   "id": "94bb260e",
   "metadata": {},
   "source": [
    "makine öğrenmesinden bağımsız olarak bu bir optimizasyon yöntemidir.bu optimizasyon yönteminin amacı bir fonksiyonun minimum hata yapabilecek parametre değerlerini bulmaktır. herhangi türevlenebilir bir fonksiyonun minimum parametrelerini bulmak adına optimize edebilir. bu işlemi şöyle gerçekleştirir ilgili fonksiyonun ilgili parametreye göre kısmı türevini alır ve bu türev sonucuna göre güncelleme işlemi yapar. elde edilen türev yani gradyan değeri ilgili fonksiyonun maksimum artış yönünü verir. dolayısıyla ilgili fonksiyonun maksimum artış yönünü veren gradyanın tersine doğru belirli bir şiddet ile giderek parametrenin eski değerinde değişiklik yaparak her iterasyonda hatanın azalmasını sağlar.\n",
    "\n",
    "gradyanın(yani türevi) negatifi olarak tanımlanan 'en dik iniş' yönünde iteratif olarak parametre değerlerini güncelleyerek ilgili fonksiyonun minmum değerini verebilecek parametreleri bulur.\n",
    "gradyan maksimum artış yönünü verir ve eğer bunun tersine gidilirse ilgili fonksiyonun o parametrelerdeki en çok azalacağı yöne gidilir yani en dik iniş yönüne gidilir. işte bu en dik iniş yönü iteratif olarak parametre değerleri değiştirilerek parametrelerin güncellenmesi için kullanılır. bu parametreler fonksiyonun minimum değerini verebilecek parametrelerdir.\n",
    "\n",
    "* neyi çözmesi beklenir ?\n",
    "\n",
    "belirli parametrelerden oluşan fonksiyonu bu parametrelerin değerleri mantıklı iteratif şekilde değiştirerek cost fonksiyonunu minimum yapmaya çalışır. yani cost fonksiyonunu minimilize edebilecek parametreleri bulmak için kullanılır.\n",
    "mse fonksiyonuna 1/2m eklenmiş. buradaki 1/2 optimizasyon için matematiksel problemleri ilgilendirmektedir sadece.\n",
    "\n",
    "* nasıl optimize edecek?\n",
    "\n",
    "amacımız ağırlığın optimum değerini bulmaya çalışmaktır. en dip noktaya inmektir. elimdeki tetalı fonksiyon kullanılarak optimizaasyon için değerler değiştirilip en uygun yol gösterilir. ilgili tetaların kısmi türevleri hesaplanarak ağırlıkların tersine gidilerek değerler güncellenir. bu duruma update rule denir(güncelleme kuralı)(derste matematiğini anlatıyor). tersine de belirli bir hızda gidilir. burada hızımız öğrenme hızını belirtmektedir. gradyan negatif demek gelecek değerin negatif olacağını yani türevin negatif olacağından bahsetmektedir. eğim pozitifse sola doğru gitmemiz gerekmektedir eğer eğim negatifse sağa doğru gidip azaltmamız gerekmektedir. bu şekilde dibe ulaşılacaktır. yani optimum değere.öğrenme hızım çok yavaş olursa optimum optimum noktayı ulaşamayabilirim veya öğrenme hızım çok hızlı olursa bu seferde optimum noktayı geçebilirim kaçırabilirim. burada öğrenme hızımı belirleyecek şey learningratedir. yani öğrenme hızı derken de hangi aralıklarla işlemi optimize edip eski değerlerle karşılaştırmam gerektiğidir. learning rate öğrenme oranıdır. hızlı olursa local minimum noktası kaçırılabiilr!"
   ]
  },
  {
   "cell_type": "markdown",
   "id": "d310cf41",
   "metadata": {},
   "source": [
    "### 6- Stacking & Ensemble Learning (ametin bootcamp videoları buraya kadar sonrası miuuya geçtim orada 6. buydu)"
   ]
  },
  {
   "cell_type": "markdown",
   "id": "8ae9d5f1",
   "metadata": {},
   "source": [
    "temeli birden fazla modeli bir arada kullanmaya dayanmaktadır. ensemble learning topluluk öğrenme yöntemi kapsamında birden fazla ağaç yönteminin bir araya gelerek tek bir ağaç gibi, bir meclis gibi hareket ederler ve hepsi tahminlerde bulunmaktadır ve bu tahminler bir aray getirilerek değerlendirilmektedir. tek bir algoritmanın çalışıp işlemleri yapması yerine birdedn fazla modelin bir araya gelip işlemleri yapmasına stacking learning, ensemble learning, meta learning gibi isimlendirilmeler yapılmamktadır. örn knn, random forest, gbm, lightgbm gibi modellerin hepsinin bir aray getirilmesi ve hepsinin birlikte tahminleme yapmasıdır. bir gözlem birimi geldiğinde birlikte tahmin oluştururlar. bu işlem ile tahmin performansının güçlnmesi beklenmektedir. çünkü tüm modeller konuya farklı açılardan yaklaşacağından dolayısıyla modellerin kendince iyi açıklamış olabileceği yönler olabilir. bu yüzden hepsinin gücünü bir araya getirerek tahminde bulunma işleminde bulunacağız. bu işlemin diğer bir adı da votingdir yani oylama demektir. votingin regresyon hali de vardır sınıflandırma hali de vardır. sınıflandırm iççin oylama yapmaktadır.\n",
    "bi soft vot kavramı vardır bir de hard vot kavramı vardır. ön tanımlı değer harddır. hard en fazla olan sınıfı ifade etmektedir. yani diyelim 3 kullandığım model var, 3ne sınıflandırma problemi için fikrini sorduk ve diyelim ki 2 tanesi  1 dedi bir tanesi 0 dedi ve sonra o zaman benim tahmini sonucum 1dir diyebiliyoruz. yani en fazla oyu alan sınıf tahmin edilir burada. soft ise dieğr bir argümandır yani oylamanın soft olmasıdır. bu durumda da sınıf gerçekleşme olasılıkları üzerinden bir oylama yapılır. bizim kullanacak olduğumuz ise hard vottur. yani en çok tahmin edilen sınıfı tahmin olarak ver şeklinde olacak"
   ]
  },
  {
   "cell_type": "code",
   "execution_count": 1,
   "id": "d0a1b33f",
   "metadata": {},
   "outputs": [
    {
     "name": "stdout",
     "output_type": "stream",
     "text": [
      "Defaulting to user installation because normal site-packages is not writeable\n",
      "Requirement already satisfied: lightgbm in c:\\users\\asus\\appdata\\roaming\\python\\python311\\site-packages (4.1.0)\n",
      "Requirement already satisfied: numpy in c:\\programdata\\anaconda3\\lib\\site-packages (from lightgbm) (1.24.3)\n",
      "Requirement already satisfied: scipy in c:\\programdata\\anaconda3\\lib\\site-packages (from lightgbm) (1.11.1)\n"
     ]
    }
   ],
   "source": [
    "from sklearn.ensemble import VotingClassifier\n",
    "from sklearn.model_selection import cross_validate\n",
    "from sklearn.neighbors import KNeighborsClassifier as KNN\n",
    "from sklearn.ensemble import RandomForestClassifier as RF\n",
    "!pip install lightgbm\n",
    "from lightgbm import LGBMClassifier \n",
    "import numpy as np\n",
    "import pandas as pd\n",
    "import matplotlib.pyplot as plt\n",
    "import seaborn as sns"
   ]
  },
  {
   "cell_type": "code",
   "execution_count": 2,
   "id": "fc59222a",
   "metadata": {},
   "outputs": [],
   "source": [
    "# SADECE EN GEREKLİ OLAN İŞLEMLERİ YAPARAK MODELE SOKUP DENEYECEĞİM\n",
    "dff = pd.read_csv(\"titanic.csv\") # veriyi okuttum\n",
    "dff.dropna(inplace = True) # boş verileri sildim\n",
    "dff =pd.get_dummies(dff, columns = [\"Sex\", \"Embarked\"], drop_first = True) # dropfirst true yaparak label encoda ihtiyaç olmayacak şekilde 2 sınıflıları da binary encod ediyorum \n",
    "y= dff[\"Survived\"] #bağımlı değişkenimi seçtim\n",
    "X = dff.drop([\"PassengerId\", \"Survived\", \"Name\", \"Ticket\", \"Cabin\"], axis = 1) #bağımsız değişkenlerimi seçtim\n",
    "#X_train, X_test, y_train, y_test = train_test_split(X, y, test_size = 0.30, random_state = 17) # test train diye ayırdım\n",
    "#rf_model = RandomForestClassifier(random_state = 46).fit(X_train, y_train) #modelimi kurdum\n",
    "#y_pred = rf_model.predict(X_test) #tahminlerim\n",
    "#accuracy_score(y_pred, y_test)"
   ]
  },
  {
   "cell_type": "code",
   "execution_count": 3,
   "id": "1cf48323",
   "metadata": {},
   "outputs": [],
   "source": [
    "lgb_model = LGBMClassifier(learning_rate=0.01, n_estimators=300)\n",
    "knn_model = KNN(n_neighbors=20) #burada modellerimin parametrelerini ayarladım.\n",
    "rf_model = RF(max_depth=8, max_features=7, min_samples_split=15, n_estimators=200)"
   ]
  },
  {
   "cell_type": "code",
   "execution_count": 4,
   "id": "a8595431",
   "metadata": {},
   "outputs": [],
   "source": [
    "best_models = {\n",
    "    'KNN': knn_model,\n",
    "    'RF': rf_model,\n",
    "    'LightGBM': LGBMClassifier(learning_rate=0.01, n_estimators=300)\n",
    "}"
   ]
  },
  {
   "cell_type": "code",
   "execution_count": 5,
   "id": "1ca79491",
   "metadata": {},
   "outputs": [],
   "source": [
    "def voting_classifier(best_models, X, y):\n",
    "    print(\"Voting Classifier...\")#fonksiyon çağırıldığında raporlama yapılmasını istiyorum çalıştığını görmek için yazdık bunu\n",
    "    voting_clf = VotingClassifier(estimators = [(\"KNN\", best_models[\"KNN\"]),\n",
    "                                               (\"RF\", best_models[\"RF\"]),\n",
    "                                               (\"LightGBM\", best_models[\"LightGBM\"])],\n",
    "                                 voting = \"soft\").fit(X, y) #voting_classifier metodunu getirdim, bu model der ki bana kullanacak olduğun moodelleri söyle ve bu modellere vermek istediğin bir isimlendirme varsa onları söyle der. best_modelsin içinde aslında modeller vardır bu modeller tanımlıdır ve best_models[\"KNN\"] dediğimde istediğim model gelecektir.örn rf yazdığımda random forestin hiper parametre ile optimize edilmiş hali gelecektir. ve sonra voting yöntemi ifade edilmiş ve en son da fit edildiğinde bir voting classifier elde edilmiş olacak\n",
    "    \n",
    "    cv_results = cross_validate(voting_clf, X, y, cv=3, scoring=[\"accuracy\", \"f1\", \"roc_auc\"]) #bu classifierın cross_validation hatasına bakacağım\n",
    "    print(f\"Accuracy: {cv_results['test_accuracy'].mean()}\") # ve 3 metric açısından bunları değerlendirip yazdıracağım\n",
    "    print(f\"F1Scora: {cv_results['test_f1'].mean()}\")\n",
    "    print(f\"ROC_AUC: {cv_results['test_roc_auc'].mean()}\")\n",
    "    return voting_clf"
   ]
  },
  {
   "cell_type": "code",
   "execution_count": 6,
   "id": "9da9adcc",
   "metadata": {
    "scrolled": true
   },
   "outputs": [
    {
     "name": "stdout",
     "output_type": "stream",
     "text": [
      "Voting Classifier...\n",
      "[LightGBM] [Info] Number of positive: 123, number of negative: 60\n",
      "[LightGBM] [Info] Auto-choosing row-wise multi-threading, the overhead of testing was 0.000249 seconds.\n",
      "You can set `force_row_wise=true` to remove the overhead.\n",
      "And if memory is not enough, you can set `force_col_wise=true`.\n",
      "[LightGBM] [Info] Total Bins 108\n",
      "[LightGBM] [Info] Number of data points in the train set: 183, number of used features: 7\n",
      "[LightGBM] [Info] [binary:BoostFromScore]: pavg=0.672131 -> initscore=0.717840\n",
      "[LightGBM] [Info] Start training from score 0.717840\n",
      "[LightGBM] [Warning] No further splits with positive gain, best gain: -inf\n",
      "[LightGBM] [Warning] No further splits with positive gain, best gain: -inf\n",
      "[LightGBM] [Warning] No further splits with positive gain, best gain: -inf\n",
      "[LightGBM] [Warning] No further splits with positive gain, best gain: -inf\n",
      "[LightGBM] [Warning] No further splits with positive gain, best gain: -inf\n",
      "[LightGBM] [Warning] No further splits with positive gain, best gain: -inf\n",
      "[LightGBM] [Warning] No further splits with positive gain, best gain: -inf\n",
      "[LightGBM] [Warning] No further splits with positive gain, best gain: -inf\n",
      "[LightGBM] [Warning] No further splits with positive gain, best gain: -inf\n",
      "[LightGBM] [Warning] No further splits with positive gain, best gain: -inf\n",
      "[LightGBM] [Warning] No further splits with positive gain, best gain: -inf\n",
      "[LightGBM] [Warning] No further splits with positive gain, best gain: -inf\n",
      "[LightGBM] [Warning] No further splits with positive gain, best gain: -inf\n",
      "[LightGBM] [Warning] No further splits with positive gain, best gain: -inf\n",
      "[LightGBM] [Warning] No further splits with positive gain, best gain: -inf\n",
      "[LightGBM] [Warning] No further splits with positive gain, best gain: -inf\n",
      "[LightGBM] [Warning] No further splits with positive gain, best gain: -inf\n",
      "[LightGBM] [Warning] No further splits with positive gain, best gain: -inf\n",
      "[LightGBM] [Warning] No further splits with positive gain, best gain: -inf\n",
      "[LightGBM] [Warning] No further splits with positive gain, best gain: -inf\n",
      "[LightGBM] [Warning] No further splits with positive gain, best gain: -inf\n",
      "[LightGBM] [Warning] No further splits with positive gain, best gain: -inf\n",
      "[LightGBM] [Warning] No further splits with positive gain, best gain: -inf\n",
      "[LightGBM] [Warning] No further splits with positive gain, best gain: -inf\n",
      "[LightGBM] [Warning] No further splits with positive gain, best gain: -inf\n",
      "[LightGBM] [Warning] No further splits with positive gain, best gain: -inf\n",
      "[LightGBM] [Warning] No further splits with positive gain, best gain: -inf\n",
      "[LightGBM] [Warning] No further splits with positive gain, best gain: -inf\n",
      "[LightGBM] [Warning] No further splits with positive gain, best gain: -inf\n",
      "[LightGBM] [Warning] No further splits with positive gain, best gain: -inf\n",
      "[LightGBM] [Warning] No further splits with positive gain, best gain: -inf\n",
      "[LightGBM] [Warning] No further splits with positive gain, best gain: -inf\n",
      "[LightGBM] [Warning] No further splits with positive gain, best gain: -inf\n",
      "[LightGBM] [Warning] No further splits with positive gain, best gain: -inf\n",
      "[LightGBM] [Warning] No further splits with positive gain, best gain: -inf\n",
      "[LightGBM] [Warning] No further splits with positive gain, best gain: -inf\n",
      "[LightGBM] [Warning] No further splits with positive gain, best gain: -inf\n",
      "[LightGBM] [Warning] No further splits with positive gain, best gain: -inf\n",
      "[LightGBM] [Warning] No further splits with positive gain, best gain: -inf\n",
      "[LightGBM] [Warning] No further splits with positive gain, best gain: -inf\n",
      "[LightGBM] [Warning] No further splits with positive gain, best gain: -inf\n",
      "[LightGBM] [Warning] No further splits with positive gain, best gain: -inf\n",
      "[LightGBM] [Warning] No further splits with positive gain, best gain: -inf\n",
      "[LightGBM] [Warning] No further splits with positive gain, best gain: -inf\n",
      "[LightGBM] [Warning] No further splits with positive gain, best gain: -inf\n",
      "[LightGBM] [Warning] No further splits with positive gain, best gain: -inf\n",
      "[LightGBM] [Warning] No further splits with positive gain, best gain: -inf\n",
      "[LightGBM] [Warning] No further splits with positive gain, best gain: -inf\n",
      "[LightGBM] [Warning] No further splits with positive gain, best gain: -inf\n",
      "[LightGBM] [Warning] No further splits with positive gain, best gain: -inf\n",
      "[LightGBM] [Warning] No further splits with positive gain, best gain: -inf\n",
      "[LightGBM] [Warning] No further splits with positive gain, best gain: -inf\n",
      "[LightGBM] [Warning] No further splits with positive gain, best gain: -inf\n",
      "[LightGBM] [Warning] No further splits with positive gain, best gain: -inf\n",
      "[LightGBM] [Warning] No further splits with positive gain, best gain: -inf\n",
      "[LightGBM] [Warning] No further splits with positive gain, best gain: -inf\n",
      "[LightGBM] [Warning] No further splits with positive gain, best gain: -inf\n",
      "[LightGBM] [Warning] No further splits with positive gain, best gain: -inf\n",
      "[LightGBM] [Warning] No further splits with positive gain, best gain: -inf\n",
      "[LightGBM] [Warning] No further splits with positive gain, best gain: -inf\n",
      "[LightGBM] [Warning] No further splits with positive gain, best gain: -inf\n",
      "[LightGBM] [Warning] No further splits with positive gain, best gain: -inf\n",
      "[LightGBM] [Warning] No further splits with positive gain, best gain: -inf\n",
      "[LightGBM] [Warning] No further splits with positive gain, best gain: -inf\n",
      "[LightGBM] [Warning] No further splits with positive gain, best gain: -inf\n",
      "[LightGBM] [Warning] No further splits with positive gain, best gain: -inf\n",
      "[LightGBM] [Warning] No further splits with positive gain, best gain: -inf\n",
      "[LightGBM] [Warning] No further splits with positive gain, best gain: -inf\n",
      "[LightGBM] [Warning] No further splits with positive gain, best gain: -inf\n",
      "[LightGBM] [Warning] No further splits with positive gain, best gain: -inf\n",
      "[LightGBM] [Warning] No further splits with positive gain, best gain: -inf\n",
      "[LightGBM] [Warning] No further splits with positive gain, best gain: -inf\n",
      "[LightGBM] [Warning] No further splits with positive gain, best gain: -inf\n",
      "[LightGBM] [Warning] No further splits with positive gain, best gain: -inf\n",
      "[LightGBM] [Warning] No further splits with positive gain, best gain: -inf\n",
      "[LightGBM] [Warning] No further splits with positive gain, best gain: -inf\n",
      "[LightGBM] [Warning] No further splits with positive gain, best gain: -inf\n",
      "[LightGBM] [Warning] No further splits with positive gain, best gain: -inf\n",
      "[LightGBM] [Warning] No further splits with positive gain, best gain: -inf\n",
      "[LightGBM] [Warning] No further splits with positive gain, best gain: -inf\n",
      "[LightGBM] [Warning] No further splits with positive gain, best gain: -inf\n",
      "[LightGBM] [Warning] No further splits with positive gain, best gain: -inf\n",
      "[LightGBM] [Warning] No further splits with positive gain, best gain: -inf\n",
      "[LightGBM] [Warning] No further splits with positive gain, best gain: -inf\n",
      "[LightGBM] [Warning] No further splits with positive gain, best gain: -inf\n",
      "[LightGBM] [Warning] No further splits with positive gain, best gain: -inf\n",
      "[LightGBM] [Warning] No further splits with positive gain, best gain: -inf\n",
      "[LightGBM] [Warning] No further splits with positive gain, best gain: -inf\n",
      "[LightGBM] [Warning] No further splits with positive gain, best gain: -inf\n",
      "[LightGBM] [Warning] No further splits with positive gain, best gain: -inf\n",
      "[LightGBM] [Warning] No further splits with positive gain, best gain: -inf\n",
      "[LightGBM] [Warning] No further splits with positive gain, best gain: -inf\n",
      "[LightGBM] [Warning] No further splits with positive gain, best gain: -inf\n",
      "[LightGBM] [Warning] No further splits with positive gain, best gain: -inf\n",
      "[LightGBM] [Warning] No further splits with positive gain, best gain: -inf\n",
      "[LightGBM] [Warning] No further splits with positive gain, best gain: -inf\n",
      "[LightGBM] [Warning] No further splits with positive gain, best gain: -inf\n",
      "[LightGBM] [Warning] No further splits with positive gain, best gain: -inf\n",
      "[LightGBM] [Warning] No further splits with positive gain, best gain: -inf\n",
      "[LightGBM] [Warning] No further splits with positive gain, best gain: -inf\n",
      "[LightGBM] [Warning] No further splits with positive gain, best gain: -inf\n",
      "[LightGBM] [Warning] No further splits with positive gain, best gain: -inf\n",
      "[LightGBM] [Warning] No further splits with positive gain, best gain: -inf\n",
      "[LightGBM] [Warning] No further splits with positive gain, best gain: -inf\n",
      "[LightGBM] [Warning] No further splits with positive gain, best gain: -inf\n",
      "[LightGBM] [Warning] No further splits with positive gain, best gain: -inf\n",
      "[LightGBM] [Warning] No further splits with positive gain, best gain: -inf\n",
      "[LightGBM] [Warning] No further splits with positive gain, best gain: -inf\n",
      "[LightGBM] [Warning] No further splits with positive gain, best gain: -inf\n",
      "[LightGBM] [Warning] No further splits with positive gain, best gain: -inf\n",
      "[LightGBM] [Warning] No further splits with positive gain, best gain: -inf\n",
      "[LightGBM] [Warning] No further splits with positive gain, best gain: -inf\n",
      "[LightGBM] [Warning] No further splits with positive gain, best gain: -inf\n",
      "[LightGBM] [Warning] No further splits with positive gain, best gain: -inf\n",
      "[LightGBM] [Warning] No further splits with positive gain, best gain: -inf\n",
      "[LightGBM] [Warning] No further splits with positive gain, best gain: -inf\n",
      "[LightGBM] [Warning] No further splits with positive gain, best gain: -inf\n",
      "[LightGBM] [Warning] No further splits with positive gain, best gain: -inf\n",
      "[LightGBM] [Warning] No further splits with positive gain, best gain: -inf\n",
      "[LightGBM] [Warning] No further splits with positive gain, best gain: -inf\n",
      "[LightGBM] [Warning] No further splits with positive gain, best gain: -inf\n",
      "[LightGBM] [Warning] No further splits with positive gain, best gain: -inf\n",
      "[LightGBM] [Warning] No further splits with positive gain, best gain: -inf\n",
      "[LightGBM] [Warning] No further splits with positive gain, best gain: -inf\n",
      "[LightGBM] [Warning] No further splits with positive gain, best gain: -inf\n",
      "[LightGBM] [Warning] No further splits with positive gain, best gain: -inf\n",
      "[LightGBM] [Warning] No further splits with positive gain, best gain: -inf\n",
      "[LightGBM] [Warning] No further splits with positive gain, best gain: -inf\n",
      "[LightGBM] [Warning] No further splits with positive gain, best gain: -inf\n",
      "[LightGBM] [Warning] No further splits with positive gain, best gain: -inf\n",
      "[LightGBM] [Warning] No further splits with positive gain, best gain: -inf\n",
      "[LightGBM] [Warning] No further splits with positive gain, best gain: -inf\n",
      "[LightGBM] [Warning] No further splits with positive gain, best gain: -inf\n",
      "[LightGBM] [Warning] No further splits with positive gain, best gain: -inf\n",
      "[LightGBM] [Warning] No further splits with positive gain, best gain: -inf\n",
      "[LightGBM] [Warning] No further splits with positive gain, best gain: -inf\n",
      "[LightGBM] [Warning] No further splits with positive gain, best gain: -inf\n",
      "[LightGBM] [Warning] No further splits with positive gain, best gain: -inf\n",
      "[LightGBM] [Warning] No further splits with positive gain, best gain: -inf\n",
      "[LightGBM] [Warning] No further splits with positive gain, best gain: -inf\n",
      "[LightGBM] [Warning] No further splits with positive gain, best gain: -inf\n",
      "[LightGBM] [Warning] No further splits with positive gain, best gain: -inf\n",
      "[LightGBM] [Warning] No further splits with positive gain, best gain: -inf\n",
      "[LightGBM] [Warning] No further splits with positive gain, best gain: -inf\n",
      "[LightGBM] [Warning] No further splits with positive gain, best gain: -inf\n",
      "[LightGBM] [Warning] No further splits with positive gain, best gain: -inf\n",
      "[LightGBM] [Warning] No further splits with positive gain, best gain: -inf\n",
      "[LightGBM] [Warning] No further splits with positive gain, best gain: -inf\n",
      "[LightGBM] [Warning] No further splits with positive gain, best gain: -inf\n",
      "[LightGBM] [Warning] No further splits with positive gain, best gain: -inf\n",
      "[LightGBM] [Warning] No further splits with positive gain, best gain: -inf\n",
      "[LightGBM] [Warning] No further splits with positive gain, best gain: -inf\n",
      "[LightGBM] [Warning] No further splits with positive gain, best gain: -inf\n",
      "[LightGBM] [Warning] No further splits with positive gain, best gain: -inf\n",
      "[LightGBM] [Warning] No further splits with positive gain, best gain: -inf\n",
      "[LightGBM] [Warning] No further splits with positive gain, best gain: -inf\n",
      "[LightGBM] [Warning] No further splits with positive gain, best gain: -inf\n",
      "[LightGBM] [Warning] No further splits with positive gain, best gain: -inf\n",
      "[LightGBM] [Warning] No further splits with positive gain, best gain: -inf\n",
      "[LightGBM] [Warning] No further splits with positive gain, best gain: -inf\n",
      "[LightGBM] [Warning] No further splits with positive gain, best gain: -inf\n",
      "[LightGBM] [Warning] No further splits with positive gain, best gain: -inf\n",
      "[LightGBM] [Warning] No further splits with positive gain, best gain: -inf\n",
      "[LightGBM] [Warning] No further splits with positive gain, best gain: -inf\n",
      "[LightGBM] [Warning] No further splits with positive gain, best gain: -inf\n",
      "[LightGBM] [Warning] No further splits with positive gain, best gain: -inf\n",
      "[LightGBM] [Warning] No further splits with positive gain, best gain: -inf\n",
      "[LightGBM] [Warning] No further splits with positive gain, best gain: -inf\n",
      "[LightGBM] [Warning] No further splits with positive gain, best gain: -inf\n",
      "[LightGBM] [Warning] No further splits with positive gain, best gain: -inf\n",
      "[LightGBM] [Warning] No further splits with positive gain, best gain: -inf\n",
      "[LightGBM] [Warning] No further splits with positive gain, best gain: -inf\n",
      "[LightGBM] [Warning] No further splits with positive gain, best gain: -inf\n",
      "[LightGBM] [Warning] No further splits with positive gain, best gain: -inf\n",
      "[LightGBM] [Warning] No further splits with positive gain, best gain: -inf\n",
      "[LightGBM] [Warning] No further splits with positive gain, best gain: -inf\n",
      "[LightGBM] [Warning] No further splits with positive gain, best gain: -inf\n",
      "[LightGBM] [Warning] No further splits with positive gain, best gain: -inf\n",
      "[LightGBM] [Warning] No further splits with positive gain, best gain: -inf\n",
      "[LightGBM] [Warning] No further splits with positive gain, best gain: -inf\n",
      "[LightGBM] [Warning] No further splits with positive gain, best gain: -inf\n",
      "[LightGBM] [Warning] No further splits with positive gain, best gain: -inf\n",
      "[LightGBM] [Warning] No further splits with positive gain, best gain: -inf\n",
      "[LightGBM] [Warning] No further splits with positive gain, best gain: -inf\n",
      "[LightGBM] [Warning] No further splits with positive gain, best gain: -inf\n",
      "[LightGBM] [Warning] No further splits with positive gain, best gain: -inf\n",
      "[LightGBM] [Warning] No further splits with positive gain, best gain: -inf\n",
      "[LightGBM] [Warning] No further splits with positive gain, best gain: -inf\n",
      "[LightGBM] [Warning] No further splits with positive gain, best gain: -inf\n",
      "[LightGBM] [Warning] No further splits with positive gain, best gain: -inf\n",
      "[LightGBM] [Warning] No further splits with positive gain, best gain: -inf\n",
      "[LightGBM] [Warning] No further splits with positive gain, best gain: -inf\n",
      "[LightGBM] [Warning] No further splits with positive gain, best gain: -inf\n",
      "[LightGBM] [Warning] No further splits with positive gain, best gain: -inf\n",
      "[LightGBM] [Warning] No further splits with positive gain, best gain: -inf\n",
      "[LightGBM] [Warning] No further splits with positive gain, best gain: -inf\n",
      "[LightGBM] [Warning] No further splits with positive gain, best gain: -inf\n",
      "[LightGBM] [Warning] No further splits with positive gain, best gain: -inf\n",
      "[LightGBM] [Warning] No further splits with positive gain, best gain: -inf\n",
      "[LightGBM] [Warning] No further splits with positive gain, best gain: -inf\n",
      "[LightGBM] [Warning] No further splits with positive gain, best gain: -inf\n",
      "[LightGBM] [Warning] No further splits with positive gain, best gain: -inf\n",
      "[LightGBM] [Warning] No further splits with positive gain, best gain: -inf\n",
      "[LightGBM] [Warning] No further splits with positive gain, best gain: -inf\n",
      "[LightGBM] [Warning] No further splits with positive gain, best gain: -inf\n",
      "[LightGBM] [Warning] No further splits with positive gain, best gain: -inf\n",
      "[LightGBM] [Warning] No further splits with positive gain, best gain: -inf\n",
      "[LightGBM] [Warning] No further splits with positive gain, best gain: -inf\n",
      "[LightGBM] [Warning] No further splits with positive gain, best gain: -inf\n",
      "[LightGBM] [Warning] No further splits with positive gain, best gain: -inf\n",
      "[LightGBM] [Warning] No further splits with positive gain, best gain: -inf\n",
      "[LightGBM] [Warning] No further splits with positive gain, best gain: -inf\n",
      "[LightGBM] [Warning] No further splits with positive gain, best gain: -inf\n",
      "[LightGBM] [Warning] No further splits with positive gain, best gain: -inf\n",
      "[LightGBM] [Warning] No further splits with positive gain, best gain: -inf\n",
      "[LightGBM] [Warning] No further splits with positive gain, best gain: -inf\n",
      "[LightGBM] [Warning] No further splits with positive gain, best gain: -inf\n",
      "[LightGBM] [Warning] No further splits with positive gain, best gain: -inf\n",
      "[LightGBM] [Warning] No further splits with positive gain, best gain: -inf\n",
      "[LightGBM] [Warning] No further splits with positive gain, best gain: -inf\n",
      "[LightGBM] [Warning] No further splits with positive gain, best gain: -inf\n",
      "[LightGBM] [Warning] No further splits with positive gain, best gain: -inf\n",
      "[LightGBM] [Warning] No further splits with positive gain, best gain: -inf\n",
      "[LightGBM] [Warning] No further splits with positive gain, best gain: -inf\n",
      "[LightGBM] [Warning] No further splits with positive gain, best gain: -inf\n",
      "[LightGBM] [Warning] No further splits with positive gain, best gain: -inf\n",
      "[LightGBM] [Warning] No further splits with positive gain, best gain: -inf\n",
      "[LightGBM] [Warning] No further splits with positive gain, best gain: -inf\n",
      "[LightGBM] [Warning] No further splits with positive gain, best gain: -inf\n",
      "[LightGBM] [Warning] No further splits with positive gain, best gain: -inf\n",
      "[LightGBM] [Warning] No further splits with positive gain, best gain: -inf\n",
      "[LightGBM] [Warning] No further splits with positive gain, best gain: -inf\n",
      "[LightGBM] [Warning] No further splits with positive gain, best gain: -inf\n",
      "[LightGBM] [Warning] No further splits with positive gain, best gain: -inf\n",
      "[LightGBM] [Warning] No further splits with positive gain, best gain: -inf\n",
      "[LightGBM] [Warning] No further splits with positive gain, best gain: -inf\n",
      "[LightGBM] [Warning] No further splits with positive gain, best gain: -inf\n",
      "[LightGBM] [Warning] No further splits with positive gain, best gain: -inf\n",
      "[LightGBM] [Warning] No further splits with positive gain, best gain: -inf\n",
      "[LightGBM] [Warning] No further splits with positive gain, best gain: -inf\n",
      "[LightGBM] [Warning] No further splits with positive gain, best gain: -inf\n",
      "[LightGBM] [Warning] No further splits with positive gain, best gain: -inf\n",
      "[LightGBM] [Warning] No further splits with positive gain, best gain: -inf\n",
      "[LightGBM] [Warning] No further splits with positive gain, best gain: -inf\n",
      "[LightGBM] [Warning] No further splits with positive gain, best gain: -inf\n",
      "[LightGBM] [Warning] No further splits with positive gain, best gain: -inf\n",
      "[LightGBM] [Warning] No further splits with positive gain, best gain: -inf\n",
      "[LightGBM] [Warning] No further splits with positive gain, best gain: -inf\n",
      "[LightGBM] [Warning] No further splits with positive gain, best gain: -inf\n",
      "[LightGBM] [Warning] No further splits with positive gain, best gain: -inf\n",
      "[LightGBM] [Warning] No further splits with positive gain, best gain: -inf\n",
      "[LightGBM] [Warning] No further splits with positive gain, best gain: -inf\n",
      "[LightGBM] [Warning] No further splits with positive gain, best gain: -inf\n",
      "[LightGBM] [Warning] No further splits with positive gain, best gain: -inf\n",
      "[LightGBM] [Warning] No further splits with positive gain, best gain: -inf\n",
      "[LightGBM] [Warning] No further splits with positive gain, best gain: -inf\n",
      "[LightGBM] [Warning] No further splits with positive gain, best gain: -inf\n",
      "[LightGBM] [Warning] No further splits with positive gain, best gain: -inf\n",
      "[LightGBM] [Warning] No further splits with positive gain, best gain: -inf\n",
      "[LightGBM] [Warning] No further splits with positive gain, best gain: -inf\n",
      "[LightGBM] [Warning] No further splits with positive gain, best gain: -inf\n",
      "[LightGBM] [Warning] No further splits with positive gain, best gain: -inf\n",
      "[LightGBM] [Warning] No further splits with positive gain, best gain: -inf\n",
      "[LightGBM] [Warning] No further splits with positive gain, best gain: -inf\n",
      "[LightGBM] [Warning] No further splits with positive gain, best gain: -inf\n",
      "[LightGBM] [Warning] No further splits with positive gain, best gain: -inf\n",
      "[LightGBM] [Warning] No further splits with positive gain, best gain: -inf\n",
      "[LightGBM] [Warning] No further splits with positive gain, best gain: -inf\n",
      "[LightGBM] [Warning] No further splits with positive gain, best gain: -inf\n",
      "[LightGBM] [Warning] No further splits with positive gain, best gain: -inf\n",
      "[LightGBM] [Warning] No further splits with positive gain, best gain: -inf\n",
      "[LightGBM] [Warning] No further splits with positive gain, best gain: -inf\n",
      "[LightGBM] [Warning] No further splits with positive gain, best gain: -inf\n",
      "[LightGBM] [Warning] No further splits with positive gain, best gain: -inf\n",
      "[LightGBM] [Warning] No further splits with positive gain, best gain: -inf\n",
      "[LightGBM] [Warning] No further splits with positive gain, best gain: -inf\n",
      "[LightGBM] [Warning] No further splits with positive gain, best gain: -inf\n",
      "[LightGBM] [Warning] No further splits with positive gain, best gain: -inf\n",
      "[LightGBM] [Warning] No further splits with positive gain, best gain: -inf\n",
      "[LightGBM] [Warning] No further splits with positive gain, best gain: -inf\n",
      "[LightGBM] [Warning] No further splits with positive gain, best gain: -inf\n",
      "[LightGBM] [Warning] No further splits with positive gain, best gain: -inf\n",
      "[LightGBM] [Warning] No further splits with positive gain, best gain: -inf\n",
      "[LightGBM] [Warning] No further splits with positive gain, best gain: -inf\n",
      "[LightGBM] [Warning] No further splits with positive gain, best gain: -inf\n",
      "[LightGBM] [Warning] No further splits with positive gain, best gain: -inf\n",
      "[LightGBM] [Warning] No further splits with positive gain, best gain: -inf\n",
      "[LightGBM] [Warning] No further splits with positive gain, best gain: -inf\n",
      "[LightGBM] [Warning] No further splits with positive gain, best gain: -inf\n",
      "[LightGBM] [Warning] No further splits with positive gain, best gain: -inf\n",
      "[LightGBM] [Warning] No further splits with positive gain, best gain: -inf\n",
      "[LightGBM] [Warning] No further splits with positive gain, best gain: -inf\n",
      "[LightGBM] [Warning] No further splits with positive gain, best gain: -inf\n",
      "[LightGBM] [Warning] No further splits with positive gain, best gain: -inf\n",
      "[LightGBM] [Warning] No further splits with positive gain, best gain: -inf\n",
      "[LightGBM] [Warning] No further splits with positive gain, best gain: -inf\n",
      "[LightGBM] [Warning] No further splits with positive gain, best gain: -inf\n",
      "[LightGBM] [Warning] No further splits with positive gain, best gain: -inf\n",
      "[LightGBM] [Warning] No further splits with positive gain, best gain: -inf\n",
      "[LightGBM] [Warning] No further splits with positive gain, best gain: -inf\n"
     ]
    },
    {
     "name": "stdout",
     "output_type": "stream",
     "text": [
      "[LightGBM] [Info] Number of positive: 82, number of negative: 40\n",
      "[LightGBM] [Info] Auto-choosing row-wise multi-threading, the overhead of testing was 0.000144 seconds.\n",
      "You can set `force_row_wise=true` to remove the overhead.\n",
      "And if memory is not enough, you can set `force_col_wise=true`.\n",
      "[LightGBM] [Info] Total Bins 76\n",
      "[LightGBM] [Info] Number of data points in the train set: 122, number of used features: 6\n",
      "[LightGBM] [Info] [binary:BoostFromScore]: pavg=0.672131 -> initscore=0.717840\n",
      "[LightGBM] [Info] Start training from score 0.717840\n",
      "[LightGBM] [Warning] No further splits with positive gain, best gain: -inf\n",
      "[LightGBM] [Warning] No further splits with positive gain, best gain: -inf\n",
      "[LightGBM] [Warning] No further splits with positive gain, best gain: -inf\n",
      "[LightGBM] [Warning] No further splits with positive gain, best gain: -inf\n",
      "[LightGBM] [Warning] No further splits with positive gain, best gain: -inf\n",
      "[LightGBM] [Warning] No further splits with positive gain, best gain: -inf\n",
      "[LightGBM] [Warning] No further splits with positive gain, best gain: -inf\n",
      "[LightGBM] [Warning] No further splits with positive gain, best gain: -inf\n",
      "[LightGBM] [Warning] No further splits with positive gain, best gain: -inf\n",
      "[LightGBM] [Warning] No further splits with positive gain, best gain: -inf\n",
      "[LightGBM] [Warning] No further splits with positive gain, best gain: -inf\n",
      "[LightGBM] [Warning] No further splits with positive gain, best gain: -inf\n",
      "[LightGBM] [Warning] No further splits with positive gain, best gain: -inf\n",
      "[LightGBM] [Warning] No further splits with positive gain, best gain: -inf\n",
      "[LightGBM] [Warning] No further splits with positive gain, best gain: -inf\n",
      "[LightGBM] [Warning] No further splits with positive gain, best gain: -inf\n",
      "[LightGBM] [Warning] No further splits with positive gain, best gain: -inf\n",
      "[LightGBM] [Warning] No further splits with positive gain, best gain: -inf\n",
      "[LightGBM] [Warning] No further splits with positive gain, best gain: -inf\n",
      "[LightGBM] [Warning] No further splits with positive gain, best gain: -inf\n",
      "[LightGBM] [Warning] No further splits with positive gain, best gain: -inf\n",
      "[LightGBM] [Warning] No further splits with positive gain, best gain: -inf\n",
      "[LightGBM] [Warning] No further splits with positive gain, best gain: -inf\n",
      "[LightGBM] [Warning] No further splits with positive gain, best gain: -inf\n",
      "[LightGBM] [Warning] No further splits with positive gain, best gain: -inf\n",
      "[LightGBM] [Warning] No further splits with positive gain, best gain: -inf\n",
      "[LightGBM] [Warning] No further splits with positive gain, best gain: -inf\n",
      "[LightGBM] [Warning] No further splits with positive gain, best gain: -inf\n",
      "[LightGBM] [Warning] No further splits with positive gain, best gain: -inf\n",
      "[LightGBM] [Warning] No further splits with positive gain, best gain: -inf\n",
      "[LightGBM] [Warning] No further splits with positive gain, best gain: -inf\n",
      "[LightGBM] [Warning] No further splits with positive gain, best gain: -inf\n",
      "[LightGBM] [Warning] No further splits with positive gain, best gain: -inf\n",
      "[LightGBM] [Warning] No further splits with positive gain, best gain: -inf\n",
      "[LightGBM] [Warning] No further splits with positive gain, best gain: -inf\n",
      "[LightGBM] [Warning] No further splits with positive gain, best gain: -inf\n",
      "[LightGBM] [Warning] No further splits with positive gain, best gain: -inf\n",
      "[LightGBM] [Warning] No further splits with positive gain, best gain: -inf\n",
      "[LightGBM] [Warning] No further splits with positive gain, best gain: -inf\n",
      "[LightGBM] [Warning] No further splits with positive gain, best gain: -inf\n",
      "[LightGBM] [Warning] No further splits with positive gain, best gain: -inf\n",
      "[LightGBM] [Warning] No further splits with positive gain, best gain: -inf\n",
      "[LightGBM] [Warning] No further splits with positive gain, best gain: -inf\n",
      "[LightGBM] [Warning] No further splits with positive gain, best gain: -inf\n",
      "[LightGBM] [Warning] No further splits with positive gain, best gain: -inf\n",
      "[LightGBM] [Warning] No further splits with positive gain, best gain: -inf\n",
      "[LightGBM] [Warning] No further splits with positive gain, best gain: -inf\n",
      "[LightGBM] [Warning] No further splits with positive gain, best gain: -inf\n",
      "[LightGBM] [Warning] No further splits with positive gain, best gain: -inf\n",
      "[LightGBM] [Warning] No further splits with positive gain, best gain: -inf\n",
      "[LightGBM] [Warning] No further splits with positive gain, best gain: -inf\n",
      "[LightGBM] [Warning] No further splits with positive gain, best gain: -inf\n",
      "[LightGBM] [Warning] No further splits with positive gain, best gain: -inf\n",
      "[LightGBM] [Warning] No further splits with positive gain, best gain: -inf\n",
      "[LightGBM] [Warning] No further splits with positive gain, best gain: -inf\n",
      "[LightGBM] [Warning] No further splits with positive gain, best gain: -inf\n",
      "[LightGBM] [Warning] No further splits with positive gain, best gain: -inf\n",
      "[LightGBM] [Warning] No further splits with positive gain, best gain: -inf\n",
      "[LightGBM] [Warning] No further splits with positive gain, best gain: -inf\n",
      "[LightGBM] [Warning] No further splits with positive gain, best gain: -inf\n",
      "[LightGBM] [Warning] No further splits with positive gain, best gain: -inf\n",
      "[LightGBM] [Warning] No further splits with positive gain, best gain: -inf\n",
      "[LightGBM] [Warning] No further splits with positive gain, best gain: -inf\n",
      "[LightGBM] [Warning] No further splits with positive gain, best gain: -inf\n",
      "[LightGBM] [Warning] No further splits with positive gain, best gain: -inf\n",
      "[LightGBM] [Warning] No further splits with positive gain, best gain: -inf\n",
      "[LightGBM] [Warning] No further splits with positive gain, best gain: -inf\n",
      "[LightGBM] [Warning] No further splits with positive gain, best gain: -inf\n",
      "[LightGBM] [Warning] No further splits with positive gain, best gain: -inf\n",
      "[LightGBM] [Warning] No further splits with positive gain, best gain: -inf\n",
      "[LightGBM] [Warning] No further splits with positive gain, best gain: -inf\n",
      "[LightGBM] [Warning] No further splits with positive gain, best gain: -inf\n",
      "[LightGBM] [Warning] No further splits with positive gain, best gain: -inf\n",
      "[LightGBM] [Warning] No further splits with positive gain, best gain: -inf\n",
      "[LightGBM] [Warning] No further splits with positive gain, best gain: -inf\n",
      "[LightGBM] [Warning] No further splits with positive gain, best gain: -inf\n",
      "[LightGBM] [Warning] No further splits with positive gain, best gain: -inf\n",
      "[LightGBM] [Warning] No further splits with positive gain, best gain: -inf\n",
      "[LightGBM] [Warning] No further splits with positive gain, best gain: -inf\n",
      "[LightGBM] [Warning] No further splits with positive gain, best gain: -inf\n",
      "[LightGBM] [Warning] No further splits with positive gain, best gain: -inf\n",
      "[LightGBM] [Warning] No further splits with positive gain, best gain: -inf\n",
      "[LightGBM] [Warning] No further splits with positive gain, best gain: -inf\n",
      "[LightGBM] [Warning] No further splits with positive gain, best gain: -inf\n",
      "[LightGBM] [Warning] No further splits with positive gain, best gain: -inf\n",
      "[LightGBM] [Warning] No further splits with positive gain, best gain: -inf\n",
      "[LightGBM] [Warning] No further splits with positive gain, best gain: -inf\n",
      "[LightGBM] [Warning] No further splits with positive gain, best gain: -inf\n",
      "[LightGBM] [Warning] No further splits with positive gain, best gain: -inf\n",
      "[LightGBM] [Warning] No further splits with positive gain, best gain: -inf\n",
      "[LightGBM] [Warning] No further splits with positive gain, best gain: -inf\n",
      "[LightGBM] [Warning] No further splits with positive gain, best gain: -inf\n",
      "[LightGBM] [Warning] No further splits with positive gain, best gain: -inf\n",
      "[LightGBM] [Warning] No further splits with positive gain, best gain: -inf\n",
      "[LightGBM] [Warning] No further splits with positive gain, best gain: -inf\n",
      "[LightGBM] [Warning] No further splits with positive gain, best gain: -inf\n",
      "[LightGBM] [Warning] No further splits with positive gain, best gain: -inf\n",
      "[LightGBM] [Warning] No further splits with positive gain, best gain: -inf\n",
      "[LightGBM] [Warning] No further splits with positive gain, best gain: -inf\n",
      "[LightGBM] [Warning] No further splits with positive gain, best gain: -inf\n",
      "[LightGBM] [Warning] No further splits with positive gain, best gain: -inf\n",
      "[LightGBM] [Warning] No further splits with positive gain, best gain: -inf\n",
      "[LightGBM] [Warning] No further splits with positive gain, best gain: -inf\n",
      "[LightGBM] [Warning] No further splits with positive gain, best gain: -inf\n",
      "[LightGBM] [Warning] No further splits with positive gain, best gain: -inf\n",
      "[LightGBM] [Warning] No further splits with positive gain, best gain: -inf\n",
      "[LightGBM] [Warning] No further splits with positive gain, best gain: -inf\n",
      "[LightGBM] [Warning] No further splits with positive gain, best gain: -inf\n",
      "[LightGBM] [Warning] No further splits with positive gain, best gain: -inf\n",
      "[LightGBM] [Warning] No further splits with positive gain, best gain: -inf\n",
      "[LightGBM] [Warning] No further splits with positive gain, best gain: -inf\n",
      "[LightGBM] [Warning] No further splits with positive gain, best gain: -inf\n",
      "[LightGBM] [Warning] No further splits with positive gain, best gain: -inf\n",
      "[LightGBM] [Warning] No further splits with positive gain, best gain: -inf\n",
      "[LightGBM] [Warning] No further splits with positive gain, best gain: -inf\n",
      "[LightGBM] [Warning] No further splits with positive gain, best gain: -inf\n",
      "[LightGBM] [Warning] No further splits with positive gain, best gain: -inf\n",
      "[LightGBM] [Warning] No further splits with positive gain, best gain: -inf\n",
      "[LightGBM] [Warning] No further splits with positive gain, best gain: -inf\n",
      "[LightGBM] [Warning] No further splits with positive gain, best gain: -inf\n",
      "[LightGBM] [Warning] No further splits with positive gain, best gain: -inf\n",
      "[LightGBM] [Warning] No further splits with positive gain, best gain: -inf\n",
      "[LightGBM] [Warning] No further splits with positive gain, best gain: -inf\n",
      "[LightGBM] [Warning] No further splits with positive gain, best gain: -inf\n",
      "[LightGBM] [Warning] No further splits with positive gain, best gain: -inf\n",
      "[LightGBM] [Warning] No further splits with positive gain, best gain: -inf\n",
      "[LightGBM] [Warning] No further splits with positive gain, best gain: -inf\n",
      "[LightGBM] [Warning] No further splits with positive gain, best gain: -inf\n",
      "[LightGBM] [Warning] No further splits with positive gain, best gain: -inf\n",
      "[LightGBM] [Warning] No further splits with positive gain, best gain: -inf\n",
      "[LightGBM] [Warning] No further splits with positive gain, best gain: -inf\n",
      "[LightGBM] [Warning] No further splits with positive gain, best gain: -inf\n",
      "[LightGBM] [Warning] No further splits with positive gain, best gain: -inf\n",
      "[LightGBM] [Warning] No further splits with positive gain, best gain: -inf\n",
      "[LightGBM] [Warning] No further splits with positive gain, best gain: -inf\n",
      "[LightGBM] [Warning] No further splits with positive gain, best gain: -inf\n",
      "[LightGBM] [Warning] No further splits with positive gain, best gain: -inf\n",
      "[LightGBM] [Warning] No further splits with positive gain, best gain: -inf\n",
      "[LightGBM] [Warning] No further splits with positive gain, best gain: -inf\n",
      "[LightGBM] [Warning] No further splits with positive gain, best gain: -inf\n",
      "[LightGBM] [Warning] No further splits with positive gain, best gain: -inf\n",
      "[LightGBM] [Warning] No further splits with positive gain, best gain: -inf\n",
      "[LightGBM] [Warning] No further splits with positive gain, best gain: -inf\n",
      "[LightGBM] [Warning] No further splits with positive gain, best gain: -inf\n",
      "[LightGBM] [Warning] No further splits with positive gain, best gain: -inf\n",
      "[LightGBM] [Warning] No further splits with positive gain, best gain: -inf\n",
      "[LightGBM] [Warning] No further splits with positive gain, best gain: -inf\n",
      "[LightGBM] [Warning] No further splits with positive gain, best gain: -inf\n",
      "[LightGBM] [Warning] No further splits with positive gain, best gain: -inf\n",
      "[LightGBM] [Warning] No further splits with positive gain, best gain: -inf\n",
      "[LightGBM] [Warning] No further splits with positive gain, best gain: -inf\n",
      "[LightGBM] [Warning] No further splits with positive gain, best gain: -inf\n",
      "[LightGBM] [Warning] No further splits with positive gain, best gain: -inf\n",
      "[LightGBM] [Warning] No further splits with positive gain, best gain: -inf\n",
      "[LightGBM] [Warning] No further splits with positive gain, best gain: -inf\n",
      "[LightGBM] [Warning] No further splits with positive gain, best gain: -inf\n",
      "[LightGBM] [Warning] No further splits with positive gain, best gain: -inf\n",
      "[LightGBM] [Warning] No further splits with positive gain, best gain: -inf\n",
      "[LightGBM] [Warning] No further splits with positive gain, best gain: -inf\n",
      "[LightGBM] [Warning] No further splits with positive gain, best gain: -inf\n",
      "[LightGBM] [Warning] No further splits with positive gain, best gain: -inf\n",
      "[LightGBM] [Warning] No further splits with positive gain, best gain: -inf\n",
      "[LightGBM] [Warning] No further splits with positive gain, best gain: -inf\n",
      "[LightGBM] [Warning] No further splits with positive gain, best gain: -inf\n",
      "[LightGBM] [Warning] No further splits with positive gain, best gain: -inf\n",
      "[LightGBM] [Warning] No further splits with positive gain, best gain: -inf\n",
      "[LightGBM] [Warning] No further splits with positive gain, best gain: -inf\n",
      "[LightGBM] [Warning] No further splits with positive gain, best gain: -inf\n",
      "[LightGBM] [Warning] No further splits with positive gain, best gain: -inf\n",
      "[LightGBM] [Warning] No further splits with positive gain, best gain: -inf\n",
      "[LightGBM] [Warning] No further splits with positive gain, best gain: -inf\n",
      "[LightGBM] [Warning] No further splits with positive gain, best gain: -inf\n",
      "[LightGBM] [Warning] No further splits with positive gain, best gain: -inf\n",
      "[LightGBM] [Warning] No further splits with positive gain, best gain: -inf\n",
      "[LightGBM] [Warning] No further splits with positive gain, best gain: -inf\n",
      "[LightGBM] [Warning] No further splits with positive gain, best gain: -inf\n",
      "[LightGBM] [Warning] No further splits with positive gain, best gain: -inf\n",
      "[LightGBM] [Warning] No further splits with positive gain, best gain: -inf\n",
      "[LightGBM] [Warning] No further splits with positive gain, best gain: -inf\n",
      "[LightGBM] [Warning] No further splits with positive gain, best gain: -inf\n",
      "[LightGBM] [Warning] No further splits with positive gain, best gain: -inf\n",
      "[LightGBM] [Warning] No further splits with positive gain, best gain: -inf\n",
      "[LightGBM] [Warning] No further splits with positive gain, best gain: -inf\n",
      "[LightGBM] [Warning] No further splits with positive gain, best gain: -inf\n",
      "[LightGBM] [Warning] No further splits with positive gain, best gain: -inf\n",
      "[LightGBM] [Warning] No further splits with positive gain, best gain: -inf\n",
      "[LightGBM] [Warning] No further splits with positive gain, best gain: -inf\n",
      "[LightGBM] [Warning] No further splits with positive gain, best gain: -inf\n",
      "[LightGBM] [Warning] No further splits with positive gain, best gain: -inf\n",
      "[LightGBM] [Warning] No further splits with positive gain, best gain: -inf\n",
      "[LightGBM] [Warning] No further splits with positive gain, best gain: -inf\n",
      "[LightGBM] [Warning] No further splits with positive gain, best gain: -inf\n",
      "[LightGBM] [Warning] No further splits with positive gain, best gain: -inf\n",
      "[LightGBM] [Warning] No further splits with positive gain, best gain: -inf\n",
      "[LightGBM] [Warning] No further splits with positive gain, best gain: -inf\n",
      "[LightGBM] [Warning] No further splits with positive gain, best gain: -inf\n",
      "[LightGBM] [Warning] No further splits with positive gain, best gain: -inf\n",
      "[LightGBM] [Warning] No further splits with positive gain, best gain: -inf\n",
      "[LightGBM] [Warning] No further splits with positive gain, best gain: -inf\n",
      "[LightGBM] [Warning] No further splits with positive gain, best gain: -inf\n",
      "[LightGBM] [Warning] No further splits with positive gain, best gain: -inf\n",
      "[LightGBM] [Warning] No further splits with positive gain, best gain: -inf\n",
      "[LightGBM] [Warning] No further splits with positive gain, best gain: -inf\n",
      "[LightGBM] [Warning] No further splits with positive gain, best gain: -inf\n",
      "[LightGBM] [Warning] No further splits with positive gain, best gain: -inf\n",
      "[LightGBM] [Warning] No further splits with positive gain, best gain: -inf\n",
      "[LightGBM] [Warning] No further splits with positive gain, best gain: -inf\n",
      "[LightGBM] [Warning] No further splits with positive gain, best gain: -inf\n",
      "[LightGBM] [Warning] No further splits with positive gain, best gain: -inf\n",
      "[LightGBM] [Warning] No further splits with positive gain, best gain: -inf\n",
      "[LightGBM] [Warning] No further splits with positive gain, best gain: -inf\n",
      "[LightGBM] [Warning] No further splits with positive gain, best gain: -inf\n",
      "[LightGBM] [Warning] No further splits with positive gain, best gain: -inf\n",
      "[LightGBM] [Warning] No further splits with positive gain, best gain: -inf\n",
      "[LightGBM] [Warning] No further splits with positive gain, best gain: -inf\n",
      "[LightGBM] [Warning] No further splits with positive gain, best gain: -inf\n",
      "[LightGBM] [Warning] No further splits with positive gain, best gain: -inf\n",
      "[LightGBM] [Warning] No further splits with positive gain, best gain: -inf\n",
      "[LightGBM] [Warning] No further splits with positive gain, best gain: -inf\n",
      "[LightGBM] [Warning] No further splits with positive gain, best gain: -inf\n",
      "[LightGBM] [Warning] No further splits with positive gain, best gain: -inf\n",
      "[LightGBM] [Warning] No further splits with positive gain, best gain: -inf\n",
      "[LightGBM] [Warning] No further splits with positive gain, best gain: -inf\n",
      "[LightGBM] [Warning] No further splits with positive gain, best gain: -inf\n",
      "[LightGBM] [Warning] No further splits with positive gain, best gain: -inf\n",
      "[LightGBM] [Warning] No further splits with positive gain, best gain: -inf\n",
      "[LightGBM] [Warning] No further splits with positive gain, best gain: -inf\n",
      "[LightGBM] [Warning] No further splits with positive gain, best gain: -inf\n",
      "[LightGBM] [Warning] No further splits with positive gain, best gain: -inf\n",
      "[LightGBM] [Warning] No further splits with positive gain, best gain: -inf\n",
      "[LightGBM] [Warning] No further splits with positive gain, best gain: -inf\n",
      "[LightGBM] [Warning] No further splits with positive gain, best gain: -inf\n",
      "[LightGBM] [Warning] No further splits with positive gain, best gain: -inf\n",
      "[LightGBM] [Warning] No further splits with positive gain, best gain: -inf\n",
      "[LightGBM] [Warning] No further splits with positive gain, best gain: -inf\n",
      "[LightGBM] [Warning] No further splits with positive gain, best gain: -inf\n",
      "[LightGBM] [Warning] No further splits with positive gain, best gain: -inf\n",
      "[LightGBM] [Warning] No further splits with positive gain, best gain: -inf\n",
      "[LightGBM] [Warning] No further splits with positive gain, best gain: -inf\n",
      "[LightGBM] [Warning] No further splits with positive gain, best gain: -inf\n",
      "[LightGBM] [Warning] No further splits with positive gain, best gain: -inf\n",
      "[LightGBM] [Warning] No further splits with positive gain, best gain: -inf\n",
      "[LightGBM] [Warning] No further splits with positive gain, best gain: -inf\n",
      "[LightGBM] [Warning] No further splits with positive gain, best gain: -inf\n",
      "[LightGBM] [Warning] No further splits with positive gain, best gain: -inf\n",
      "[LightGBM] [Warning] No further splits with positive gain, best gain: -inf\n",
      "[LightGBM] [Warning] No further splits with positive gain, best gain: -inf\n",
      "[LightGBM] [Warning] No further splits with positive gain, best gain: -inf\n",
      "[LightGBM] [Warning] No further splits with positive gain, best gain: -inf\n",
      "[LightGBM] [Warning] No further splits with positive gain, best gain: -inf\n",
      "[LightGBM] [Warning] No further splits with positive gain, best gain: -inf\n",
      "[LightGBM] [Warning] No further splits with positive gain, best gain: -inf\n",
      "[LightGBM] [Warning] No further splits with positive gain, best gain: -inf\n",
      "[LightGBM] [Warning] No further splits with positive gain, best gain: -inf\n",
      "[LightGBM] [Warning] No further splits with positive gain, best gain: -inf\n",
      "[LightGBM] [Warning] No further splits with positive gain, best gain: -inf\n",
      "[LightGBM] [Warning] No further splits with positive gain, best gain: -inf\n",
      "[LightGBM] [Warning] No further splits with positive gain, best gain: -inf\n",
      "[LightGBM] [Warning] No further splits with positive gain, best gain: -inf\n",
      "[LightGBM] [Warning] No further splits with positive gain, best gain: -inf\n",
      "[LightGBM] [Warning] No further splits with positive gain, best gain: -inf\n",
      "[LightGBM] [Warning] No further splits with positive gain, best gain: -inf\n",
      "[LightGBM] [Warning] No further splits with positive gain, best gain: -inf\n",
      "[LightGBM] [Warning] No further splits with positive gain, best gain: -inf\n",
      "[LightGBM] [Warning] No further splits with positive gain, best gain: -inf\n",
      "[LightGBM] [Warning] No further splits with positive gain, best gain: -inf\n",
      "[LightGBM] [Warning] No further splits with positive gain, best gain: -inf\n",
      "[LightGBM] [Warning] No further splits with positive gain, best gain: -inf\n",
      "[LightGBM] [Warning] No further splits with positive gain, best gain: -inf\n",
      "[LightGBM] [Warning] No further splits with positive gain, best gain: -inf\n",
      "[LightGBM] [Warning] No further splits with positive gain, best gain: -inf\n",
      "[LightGBM] [Warning] No further splits with positive gain, best gain: -inf\n",
      "[LightGBM] [Warning] No further splits with positive gain, best gain: -inf\n",
      "[LightGBM] [Warning] No further splits with positive gain, best gain: -inf\n",
      "[LightGBM] [Warning] No further splits with positive gain, best gain: -inf\n",
      "[LightGBM] [Warning] No further splits with positive gain, best gain: -inf\n",
      "[LightGBM] [Warning] No further splits with positive gain, best gain: -inf\n",
      "[LightGBM] [Warning] No further splits with positive gain, best gain: -inf\n",
      "[LightGBM] [Warning] No further splits with positive gain, best gain: -inf\n",
      "[LightGBM] [Warning] No further splits with positive gain, best gain: -inf\n",
      "[LightGBM] [Warning] No further splits with positive gain, best gain: -inf\n",
      "[LightGBM] [Warning] No further splits with positive gain, best gain: -inf\n",
      "[LightGBM] [Warning] No further splits with positive gain, best gain: -inf\n",
      "[LightGBM] [Warning] No further splits with positive gain, best gain: -inf\n",
      "[LightGBM] [Warning] No further splits with positive gain, best gain: -inf\n",
      "[LightGBM] [Warning] No further splits with positive gain, best gain: -inf\n",
      "[LightGBM] [Warning] No further splits with positive gain, best gain: -inf\n",
      "[LightGBM] [Warning] No further splits with positive gain, best gain: -inf\n",
      "[LightGBM] [Warning] No further splits with positive gain, best gain: -inf\n",
      "[LightGBM] [Warning] No further splits with positive gain, best gain: -inf\n",
      "[LightGBM] [Warning] No further splits with positive gain, best gain: -inf\n",
      "[LightGBM] [Warning] No further splits with positive gain, best gain: -inf\n",
      "[LightGBM] [Warning] No further splits with positive gain, best gain: -inf\n",
      "[LightGBM] [Warning] No further splits with positive gain, best gain: -inf\n",
      "[LightGBM] [Warning] No further splits with positive gain, best gain: -inf\n",
      "[LightGBM] [Warning] No further splits with positive gain, best gain: -inf\n",
      "[LightGBM] [Warning] No further splits with positive gain, best gain: -inf\n",
      "[LightGBM] [Warning] No further splits with positive gain, best gain: -inf\n",
      "[LightGBM] [Warning] No further splits with positive gain, best gain: -inf\n",
      "[LightGBM] [Warning] No further splits with positive gain, best gain: -inf\n"
     ]
    },
    {
     "name": "stdout",
     "output_type": "stream",
     "text": [
      "[LightGBM] [Info] Number of positive: 82, number of negative: 40\n",
      "[LightGBM] [Info] Auto-choosing row-wise multi-threading, the overhead of testing was 0.000198 seconds.\n",
      "You can set `force_row_wise=true` to remove the overhead.\n",
      "And if memory is not enough, you can set `force_col_wise=true`.\n",
      "[LightGBM] [Info] Total Bins 79\n",
      "[LightGBM] [Info] Number of data points in the train set: 122, number of used features: 6\n",
      "[LightGBM] [Info] [binary:BoostFromScore]: pavg=0.672131 -> initscore=0.717840\n",
      "[LightGBM] [Info] Start training from score 0.717840\n",
      "[LightGBM] [Warning] No further splits with positive gain, best gain: -inf\n",
      "[LightGBM] [Warning] No further splits with positive gain, best gain: -inf\n",
      "[LightGBM] [Warning] No further splits with positive gain, best gain: -inf\n",
      "[LightGBM] [Warning] No further splits with positive gain, best gain: -inf\n",
      "[LightGBM] [Warning] No further splits with positive gain, best gain: -inf\n",
      "[LightGBM] [Warning] No further splits with positive gain, best gain: -inf\n",
      "[LightGBM] [Warning] No further splits with positive gain, best gain: -inf\n",
      "[LightGBM] [Warning] No further splits with positive gain, best gain: -inf\n",
      "[LightGBM] [Warning] No further splits with positive gain, best gain: -inf\n",
      "[LightGBM] [Warning] No further splits with positive gain, best gain: -inf\n",
      "[LightGBM] [Warning] No further splits with positive gain, best gain: -inf\n",
      "[LightGBM] [Warning] No further splits with positive gain, best gain: -inf\n",
      "[LightGBM] [Warning] No further splits with positive gain, best gain: -inf\n",
      "[LightGBM] [Warning] No further splits with positive gain, best gain: -inf\n",
      "[LightGBM] [Warning] No further splits with positive gain, best gain: -inf\n",
      "[LightGBM] [Warning] No further splits with positive gain, best gain: -inf\n",
      "[LightGBM] [Warning] No further splits with positive gain, best gain: -inf\n",
      "[LightGBM] [Warning] No further splits with positive gain, best gain: -inf\n",
      "[LightGBM] [Warning] No further splits with positive gain, best gain: -inf\n",
      "[LightGBM] [Warning] No further splits with positive gain, best gain: -inf\n",
      "[LightGBM] [Warning] No further splits with positive gain, best gain: -inf\n",
      "[LightGBM] [Warning] No further splits with positive gain, best gain: -inf\n",
      "[LightGBM] [Warning] No further splits with positive gain, best gain: -inf\n",
      "[LightGBM] [Warning] No further splits with positive gain, best gain: -inf\n",
      "[LightGBM] [Warning] No further splits with positive gain, best gain: -inf\n",
      "[LightGBM] [Warning] No further splits with positive gain, best gain: -inf\n",
      "[LightGBM] [Warning] No further splits with positive gain, best gain: -inf\n",
      "[LightGBM] [Warning] No further splits with positive gain, best gain: -inf\n",
      "[LightGBM] [Warning] No further splits with positive gain, best gain: -inf\n",
      "[LightGBM] [Warning] No further splits with positive gain, best gain: -inf\n",
      "[LightGBM] [Warning] No further splits with positive gain, best gain: -inf\n",
      "[LightGBM] [Warning] No further splits with positive gain, best gain: -inf\n",
      "[LightGBM] [Warning] No further splits with positive gain, best gain: -inf\n",
      "[LightGBM] [Warning] No further splits with positive gain, best gain: -inf\n",
      "[LightGBM] [Warning] No further splits with positive gain, best gain: -inf\n",
      "[LightGBM] [Warning] No further splits with positive gain, best gain: -inf\n",
      "[LightGBM] [Warning] No further splits with positive gain, best gain: -inf\n",
      "[LightGBM] [Warning] No further splits with positive gain, best gain: -inf\n",
      "[LightGBM] [Warning] No further splits with positive gain, best gain: -inf\n",
      "[LightGBM] [Warning] No further splits with positive gain, best gain: -inf\n",
      "[LightGBM] [Warning] No further splits with positive gain, best gain: -inf\n",
      "[LightGBM] [Warning] No further splits with positive gain, best gain: -inf\n",
      "[LightGBM] [Warning] No further splits with positive gain, best gain: -inf\n",
      "[LightGBM] [Warning] No further splits with positive gain, best gain: -inf\n",
      "[LightGBM] [Warning] No further splits with positive gain, best gain: -inf\n",
      "[LightGBM] [Warning] No further splits with positive gain, best gain: -inf\n",
      "[LightGBM] [Warning] No further splits with positive gain, best gain: -inf\n",
      "[LightGBM] [Warning] No further splits with positive gain, best gain: -inf\n",
      "[LightGBM] [Warning] No further splits with positive gain, best gain: -inf\n",
      "[LightGBM] [Warning] No further splits with positive gain, best gain: -inf\n",
      "[LightGBM] [Warning] No further splits with positive gain, best gain: -inf\n",
      "[LightGBM] [Warning] No further splits with positive gain, best gain: -inf\n",
      "[LightGBM] [Warning] No further splits with positive gain, best gain: -inf\n",
      "[LightGBM] [Warning] No further splits with positive gain, best gain: -inf\n",
      "[LightGBM] [Warning] No further splits with positive gain, best gain: -inf\n",
      "[LightGBM] [Warning] No further splits with positive gain, best gain: -inf\n",
      "[LightGBM] [Warning] No further splits with positive gain, best gain: -inf\n",
      "[LightGBM] [Warning] No further splits with positive gain, best gain: -inf\n",
      "[LightGBM] [Warning] No further splits with positive gain, best gain: -inf\n",
      "[LightGBM] [Warning] No further splits with positive gain, best gain: -inf\n",
      "[LightGBM] [Warning] No further splits with positive gain, best gain: -inf\n",
      "[LightGBM] [Warning] No further splits with positive gain, best gain: -inf\n",
      "[LightGBM] [Warning] No further splits with positive gain, best gain: -inf\n",
      "[LightGBM] [Warning] No further splits with positive gain, best gain: -inf\n",
      "[LightGBM] [Warning] No further splits with positive gain, best gain: -inf\n",
      "[LightGBM] [Warning] No further splits with positive gain, best gain: -inf\n",
      "[LightGBM] [Warning] No further splits with positive gain, best gain: -inf\n",
      "[LightGBM] [Warning] No further splits with positive gain, best gain: -inf\n",
      "[LightGBM] [Warning] No further splits with positive gain, best gain: -inf\n",
      "[LightGBM] [Warning] No further splits with positive gain, best gain: -inf\n",
      "[LightGBM] [Warning] No further splits with positive gain, best gain: -inf\n",
      "[LightGBM] [Warning] No further splits with positive gain, best gain: -inf\n",
      "[LightGBM] [Warning] No further splits with positive gain, best gain: -inf\n",
      "[LightGBM] [Warning] No further splits with positive gain, best gain: -inf\n",
      "[LightGBM] [Warning] No further splits with positive gain, best gain: -inf\n",
      "[LightGBM] [Warning] No further splits with positive gain, best gain: -inf\n",
      "[LightGBM] [Warning] No further splits with positive gain, best gain: -inf\n",
      "[LightGBM] [Warning] No further splits with positive gain, best gain: -inf\n",
      "[LightGBM] [Warning] No further splits with positive gain, best gain: -inf\n",
      "[LightGBM] [Warning] No further splits with positive gain, best gain: -inf\n",
      "[LightGBM] [Warning] No further splits with positive gain, best gain: -inf\n",
      "[LightGBM] [Warning] No further splits with positive gain, best gain: -inf\n",
      "[LightGBM] [Warning] No further splits with positive gain, best gain: -inf\n",
      "[LightGBM] [Warning] No further splits with positive gain, best gain: -inf\n",
      "[LightGBM] [Warning] No further splits with positive gain, best gain: -inf\n",
      "[LightGBM] [Warning] No further splits with positive gain, best gain: -inf\n",
      "[LightGBM] [Warning] No further splits with positive gain, best gain: -inf\n",
      "[LightGBM] [Warning] No further splits with positive gain, best gain: -inf\n",
      "[LightGBM] [Warning] No further splits with positive gain, best gain: -inf\n",
      "[LightGBM] [Warning] No further splits with positive gain, best gain: -inf\n",
      "[LightGBM] [Warning] No further splits with positive gain, best gain: -inf\n",
      "[LightGBM] [Warning] No further splits with positive gain, best gain: -inf\n",
      "[LightGBM] [Warning] No further splits with positive gain, best gain: -inf\n",
      "[LightGBM] [Warning] No further splits with positive gain, best gain: -inf\n",
      "[LightGBM] [Warning] No further splits with positive gain, best gain: -inf\n",
      "[LightGBM] [Warning] No further splits with positive gain, best gain: -inf\n",
      "[LightGBM] [Warning] No further splits with positive gain, best gain: -inf\n",
      "[LightGBM] [Warning] No further splits with positive gain, best gain: -inf\n",
      "[LightGBM] [Warning] No further splits with positive gain, best gain: -inf\n",
      "[LightGBM] [Warning] No further splits with positive gain, best gain: -inf\n",
      "[LightGBM] [Warning] No further splits with positive gain, best gain: -inf\n",
      "[LightGBM] [Warning] No further splits with positive gain, best gain: -inf\n",
      "[LightGBM] [Warning] No further splits with positive gain, best gain: -inf\n",
      "[LightGBM] [Warning] No further splits with positive gain, best gain: -inf\n",
      "[LightGBM] [Warning] No further splits with positive gain, best gain: -inf\n",
      "[LightGBM] [Warning] No further splits with positive gain, best gain: -inf\n",
      "[LightGBM] [Warning] No further splits with positive gain, best gain: -inf\n",
      "[LightGBM] [Warning] No further splits with positive gain, best gain: -inf\n",
      "[LightGBM] [Warning] No further splits with positive gain, best gain: -inf\n",
      "[LightGBM] [Warning] No further splits with positive gain, best gain: -inf\n",
      "[LightGBM] [Warning] No further splits with positive gain, best gain: -inf\n",
      "[LightGBM] [Warning] No further splits with positive gain, best gain: -inf\n",
      "[LightGBM] [Warning] No further splits with positive gain, best gain: -inf\n",
      "[LightGBM] [Warning] No further splits with positive gain, best gain: -inf\n",
      "[LightGBM] [Warning] No further splits with positive gain, best gain: -inf\n",
      "[LightGBM] [Warning] No further splits with positive gain, best gain: -inf\n",
      "[LightGBM] [Warning] No further splits with positive gain, best gain: -inf\n",
      "[LightGBM] [Warning] No further splits with positive gain, best gain: -inf\n",
      "[LightGBM] [Warning] No further splits with positive gain, best gain: -inf\n",
      "[LightGBM] [Warning] No further splits with positive gain, best gain: -inf\n",
      "[LightGBM] [Warning] No further splits with positive gain, best gain: -inf\n",
      "[LightGBM] [Warning] No further splits with positive gain, best gain: -inf\n",
      "[LightGBM] [Warning] No further splits with positive gain, best gain: -inf\n",
      "[LightGBM] [Warning] No further splits with positive gain, best gain: -inf\n",
      "[LightGBM] [Warning] No further splits with positive gain, best gain: -inf\n",
      "[LightGBM] [Warning] No further splits with positive gain, best gain: -inf\n",
      "[LightGBM] [Warning] No further splits with positive gain, best gain: -inf\n",
      "[LightGBM] [Warning] No further splits with positive gain, best gain: -inf\n",
      "[LightGBM] [Warning] No further splits with positive gain, best gain: -inf\n",
      "[LightGBM] [Warning] No further splits with positive gain, best gain: -inf\n",
      "[LightGBM] [Warning] No further splits with positive gain, best gain: -inf\n",
      "[LightGBM] [Warning] No further splits with positive gain, best gain: -inf\n",
      "[LightGBM] [Warning] No further splits with positive gain, best gain: -inf\n",
      "[LightGBM] [Warning] No further splits with positive gain, best gain: -inf\n",
      "[LightGBM] [Warning] No further splits with positive gain, best gain: -inf\n",
      "[LightGBM] [Warning] No further splits with positive gain, best gain: -inf\n",
      "[LightGBM] [Warning] No further splits with positive gain, best gain: -inf\n",
      "[LightGBM] [Warning] No further splits with positive gain, best gain: -inf\n",
      "[LightGBM] [Warning] No further splits with positive gain, best gain: -inf\n",
      "[LightGBM] [Warning] No further splits with positive gain, best gain: -inf\n",
      "[LightGBM] [Warning] No further splits with positive gain, best gain: -inf\n",
      "[LightGBM] [Warning] No further splits with positive gain, best gain: -inf\n",
      "[LightGBM] [Warning] No further splits with positive gain, best gain: -inf\n",
      "[LightGBM] [Warning] No further splits with positive gain, best gain: -inf\n",
      "[LightGBM] [Warning] No further splits with positive gain, best gain: -inf\n",
      "[LightGBM] [Warning] No further splits with positive gain, best gain: -inf\n",
      "[LightGBM] [Warning] No further splits with positive gain, best gain: -inf\n",
      "[LightGBM] [Warning] No further splits with positive gain, best gain: -inf\n",
      "[LightGBM] [Warning] No further splits with positive gain, best gain: -inf\n",
      "[LightGBM] [Warning] No further splits with positive gain, best gain: -inf\n",
      "[LightGBM] [Warning] No further splits with positive gain, best gain: -inf\n",
      "[LightGBM] [Warning] No further splits with positive gain, best gain: -inf\n",
      "[LightGBM] [Warning] No further splits with positive gain, best gain: -inf\n",
      "[LightGBM] [Warning] No further splits with positive gain, best gain: -inf\n",
      "[LightGBM] [Warning] No further splits with positive gain, best gain: -inf\n",
      "[LightGBM] [Warning] No further splits with positive gain, best gain: -inf\n",
      "[LightGBM] [Warning] No further splits with positive gain, best gain: -inf\n",
      "[LightGBM] [Warning] No further splits with positive gain, best gain: -inf\n",
      "[LightGBM] [Warning] No further splits with positive gain, best gain: -inf\n",
      "[LightGBM] [Warning] No further splits with positive gain, best gain: -inf\n",
      "[LightGBM] [Warning] No further splits with positive gain, best gain: -inf\n",
      "[LightGBM] [Warning] No further splits with positive gain, best gain: -inf\n",
      "[LightGBM] [Warning] No further splits with positive gain, best gain: -inf\n",
      "[LightGBM] [Warning] No further splits with positive gain, best gain: -inf\n",
      "[LightGBM] [Warning] No further splits with positive gain, best gain: -inf\n",
      "[LightGBM] [Warning] No further splits with positive gain, best gain: -inf\n",
      "[LightGBM] [Warning] No further splits with positive gain, best gain: -inf\n",
      "[LightGBM] [Warning] No further splits with positive gain, best gain: -inf\n",
      "[LightGBM] [Warning] No further splits with positive gain, best gain: -inf\n",
      "[LightGBM] [Warning] No further splits with positive gain, best gain: -inf\n",
      "[LightGBM] [Warning] No further splits with positive gain, best gain: -inf\n",
      "[LightGBM] [Warning] No further splits with positive gain, best gain: -inf\n",
      "[LightGBM] [Warning] No further splits with positive gain, best gain: -inf\n",
      "[LightGBM] [Warning] No further splits with positive gain, best gain: -inf\n",
      "[LightGBM] [Warning] No further splits with positive gain, best gain: -inf\n",
      "[LightGBM] [Warning] No further splits with positive gain, best gain: -inf\n",
      "[LightGBM] [Warning] No further splits with positive gain, best gain: -inf\n",
      "[LightGBM] [Warning] No further splits with positive gain, best gain: -inf\n",
      "[LightGBM] [Warning] No further splits with positive gain, best gain: -inf\n",
      "[LightGBM] [Warning] No further splits with positive gain, best gain: -inf\n",
      "[LightGBM] [Warning] No further splits with positive gain, best gain: -inf\n",
      "[LightGBM] [Warning] No further splits with positive gain, best gain: -inf\n",
      "[LightGBM] [Warning] No further splits with positive gain, best gain: -inf\n",
      "[LightGBM] [Warning] No further splits with positive gain, best gain: -inf\n",
      "[LightGBM] [Warning] No further splits with positive gain, best gain: -inf\n",
      "[LightGBM] [Warning] No further splits with positive gain, best gain: -inf\n",
      "[LightGBM] [Warning] No further splits with positive gain, best gain: -inf\n",
      "[LightGBM] [Warning] No further splits with positive gain, best gain: -inf\n",
      "[LightGBM] [Warning] No further splits with positive gain, best gain: -inf\n",
      "[LightGBM] [Warning] No further splits with positive gain, best gain: -inf\n",
      "[LightGBM] [Warning] No further splits with positive gain, best gain: -inf\n",
      "[LightGBM] [Warning] No further splits with positive gain, best gain: -inf\n",
      "[LightGBM] [Warning] No further splits with positive gain, best gain: -inf\n",
      "[LightGBM] [Warning] No further splits with positive gain, best gain: -inf\n",
      "[LightGBM] [Warning] No further splits with positive gain, best gain: -inf\n",
      "[LightGBM] [Warning] No further splits with positive gain, best gain: -inf\n",
      "[LightGBM] [Warning] No further splits with positive gain, best gain: -inf\n",
      "[LightGBM] [Warning] No further splits with positive gain, best gain: -inf\n",
      "[LightGBM] [Warning] No further splits with positive gain, best gain: -inf\n",
      "[LightGBM] [Warning] No further splits with positive gain, best gain: -inf\n",
      "[LightGBM] [Warning] No further splits with positive gain, best gain: -inf\n",
      "[LightGBM] [Warning] No further splits with positive gain, best gain: -inf\n",
      "[LightGBM] [Warning] No further splits with positive gain, best gain: -inf\n",
      "[LightGBM] [Warning] No further splits with positive gain, best gain: -inf\n",
      "[LightGBM] [Warning] No further splits with positive gain, best gain: -inf\n",
      "[LightGBM] [Warning] No further splits with positive gain, best gain: -inf\n",
      "[LightGBM] [Warning] No further splits with positive gain, best gain: -inf\n",
      "[LightGBM] [Warning] No further splits with positive gain, best gain: -inf\n",
      "[LightGBM] [Warning] No further splits with positive gain, best gain: -inf\n",
      "[LightGBM] [Warning] No further splits with positive gain, best gain: -inf\n",
      "[LightGBM] [Warning] No further splits with positive gain, best gain: -inf\n",
      "[LightGBM] [Warning] No further splits with positive gain, best gain: -inf\n",
      "[LightGBM] [Warning] No further splits with positive gain, best gain: -inf\n",
      "[LightGBM] [Warning] No further splits with positive gain, best gain: -inf\n",
      "[LightGBM] [Warning] No further splits with positive gain, best gain: -inf\n",
      "[LightGBM] [Warning] No further splits with positive gain, best gain: -inf\n",
      "[LightGBM] [Warning] No further splits with positive gain, best gain: -inf\n",
      "[LightGBM] [Warning] No further splits with positive gain, best gain: -inf\n",
      "[LightGBM] [Warning] No further splits with positive gain, best gain: -inf\n",
      "[LightGBM] [Warning] No further splits with positive gain, best gain: -inf\n",
      "[LightGBM] [Warning] No further splits with positive gain, best gain: -inf\n",
      "[LightGBM] [Warning] No further splits with positive gain, best gain: -inf\n",
      "[LightGBM] [Warning] No further splits with positive gain, best gain: -inf\n",
      "[LightGBM] [Warning] No further splits with positive gain, best gain: -inf\n",
      "[LightGBM] [Warning] No further splits with positive gain, best gain: -inf\n",
      "[LightGBM] [Warning] No further splits with positive gain, best gain: -inf\n",
      "[LightGBM] [Warning] No further splits with positive gain, best gain: -inf\n",
      "[LightGBM] [Warning] No further splits with positive gain, best gain: -inf\n",
      "[LightGBM] [Warning] No further splits with positive gain, best gain: -inf\n",
      "[LightGBM] [Warning] No further splits with positive gain, best gain: -inf\n",
      "[LightGBM] [Warning] No further splits with positive gain, best gain: -inf\n",
      "[LightGBM] [Warning] No further splits with positive gain, best gain: -inf\n",
      "[LightGBM] [Warning] No further splits with positive gain, best gain: -inf\n",
      "[LightGBM] [Warning] No further splits with positive gain, best gain: -inf\n",
      "[LightGBM] [Warning] No further splits with positive gain, best gain: -inf\n",
      "[LightGBM] [Warning] No further splits with positive gain, best gain: -inf\n",
      "[LightGBM] [Warning] No further splits with positive gain, best gain: -inf\n",
      "[LightGBM] [Warning] No further splits with positive gain, best gain: -inf\n",
      "[LightGBM] [Warning] No further splits with positive gain, best gain: -inf\n",
      "[LightGBM] [Warning] No further splits with positive gain, best gain: -inf\n",
      "[LightGBM] [Warning] No further splits with positive gain, best gain: -inf\n",
      "[LightGBM] [Warning] No further splits with positive gain, best gain: -inf\n",
      "[LightGBM] [Warning] No further splits with positive gain, best gain: -inf\n",
      "[LightGBM] [Warning] No further splits with positive gain, best gain: -inf\n",
      "[LightGBM] [Warning] No further splits with positive gain, best gain: -inf\n",
      "[LightGBM] [Warning] No further splits with positive gain, best gain: -inf\n",
      "[LightGBM] [Warning] No further splits with positive gain, best gain: -inf\n",
      "[LightGBM] [Warning] No further splits with positive gain, best gain: -inf\n",
      "[LightGBM] [Warning] No further splits with positive gain, best gain: -inf\n",
      "[LightGBM] [Warning] No further splits with positive gain, best gain: -inf\n",
      "[LightGBM] [Warning] No further splits with positive gain, best gain: -inf\n",
      "[LightGBM] [Warning] No further splits with positive gain, best gain: -inf\n",
      "[LightGBM] [Warning] No further splits with positive gain, best gain: -inf\n",
      "[LightGBM] [Warning] No further splits with positive gain, best gain: -inf\n",
      "[LightGBM] [Warning] No further splits with positive gain, best gain: -inf\n",
      "[LightGBM] [Warning] No further splits with positive gain, best gain: -inf\n",
      "[LightGBM] [Warning] No further splits with positive gain, best gain: -inf\n",
      "[LightGBM] [Warning] No further splits with positive gain, best gain: -inf\n",
      "[LightGBM] [Warning] No further splits with positive gain, best gain: -inf\n",
      "[LightGBM] [Warning] No further splits with positive gain, best gain: -inf\n",
      "[LightGBM] [Warning] No further splits with positive gain, best gain: -inf\n",
      "[LightGBM] [Warning] No further splits with positive gain, best gain: -inf\n",
      "[LightGBM] [Warning] No further splits with positive gain, best gain: -inf\n",
      "[LightGBM] [Warning] No further splits with positive gain, best gain: -inf\n",
      "[LightGBM] [Warning] No further splits with positive gain, best gain: -inf\n",
      "[LightGBM] [Warning] No further splits with positive gain, best gain: -inf\n",
      "[LightGBM] [Warning] No further splits with positive gain, best gain: -inf\n",
      "[LightGBM] [Warning] No further splits with positive gain, best gain: -inf\n",
      "[LightGBM] [Warning] No further splits with positive gain, best gain: -inf\n",
      "[LightGBM] [Warning] No further splits with positive gain, best gain: -inf\n",
      "[LightGBM] [Warning] No further splits with positive gain, best gain: -inf\n",
      "[LightGBM] [Warning] No further splits with positive gain, best gain: -inf\n",
      "[LightGBM] [Warning] No further splits with positive gain, best gain: -inf\n",
      "[LightGBM] [Warning] No further splits with positive gain, best gain: -inf\n",
      "[LightGBM] [Warning] No further splits with positive gain, best gain: -inf\n",
      "[LightGBM] [Warning] No further splits with positive gain, best gain: -inf\n",
      "[LightGBM] [Warning] No further splits with positive gain, best gain: -inf\n",
      "[LightGBM] [Warning] No further splits with positive gain, best gain: -inf\n",
      "[LightGBM] [Warning] No further splits with positive gain, best gain: -inf\n",
      "[LightGBM] [Warning] No further splits with positive gain, best gain: -inf\n",
      "[LightGBM] [Warning] No further splits with positive gain, best gain: -inf\n",
      "[LightGBM] [Warning] No further splits with positive gain, best gain: -inf\n",
      "[LightGBM] [Warning] No further splits with positive gain, best gain: -inf\n",
      "[LightGBM] [Warning] No further splits with positive gain, best gain: -inf\n",
      "[LightGBM] [Warning] No further splits with positive gain, best gain: -inf\n",
      "[LightGBM] [Warning] No further splits with positive gain, best gain: -inf\n",
      "[LightGBM] [Warning] No further splits with positive gain, best gain: -inf\n",
      "[LightGBM] [Warning] No further splits with positive gain, best gain: -inf\n",
      "[LightGBM] [Warning] No further splits with positive gain, best gain: -inf\n",
      "[LightGBM] [Warning] No further splits with positive gain, best gain: -inf\n",
      "[LightGBM] [Warning] No further splits with positive gain, best gain: -inf\n",
      "[LightGBM] [Warning] No further splits with positive gain, best gain: -inf\n",
      "[LightGBM] [Warning] No further splits with positive gain, best gain: -inf\n",
      "[LightGBM] [Warning] No further splits with positive gain, best gain: -inf\n",
      "[LightGBM] [Warning] No further splits with positive gain, best gain: -inf\n",
      "[LightGBM] [Warning] No further splits with positive gain, best gain: -inf\n",
      "[LightGBM] [Warning] No further splits with positive gain, best gain: -inf\n",
      "[LightGBM] [Warning] No further splits with positive gain, best gain: -inf\n",
      "[LightGBM] [Warning] No further splits with positive gain, best gain: -inf\n",
      "[LightGBM] [Warning] No further splits with positive gain, best gain: -inf\n"
     ]
    },
    {
     "name": "stdout",
     "output_type": "stream",
     "text": [
      "[LightGBM] [Info] Number of positive: 82, number of negative: 40\n",
      "[LightGBM] [Info] Auto-choosing col-wise multi-threading, the overhead of testing was 0.000201 seconds.\n",
      "You can set `force_col_wise=true` to remove the overhead.\n",
      "[LightGBM] [Info] Total Bins 79\n",
      "[LightGBM] [Info] Number of data points in the train set: 122, number of used features: 6\n",
      "[LightGBM] [Info] [binary:BoostFromScore]: pavg=0.672131 -> initscore=0.717840\n",
      "[LightGBM] [Info] Start training from score 0.717840\n",
      "[LightGBM] [Warning] No further splits with positive gain, best gain: -inf\n",
      "[LightGBM] [Warning] No further splits with positive gain, best gain: -inf\n",
      "[LightGBM] [Warning] No further splits with positive gain, best gain: -inf\n",
      "[LightGBM] [Warning] No further splits with positive gain, best gain: -inf\n",
      "[LightGBM] [Warning] No further splits with positive gain, best gain: -inf\n",
      "[LightGBM] [Warning] No further splits with positive gain, best gain: -inf\n",
      "[LightGBM] [Warning] No further splits with positive gain, best gain: -inf\n",
      "[LightGBM] [Warning] No further splits with positive gain, best gain: -inf\n",
      "[LightGBM] [Warning] No further splits with positive gain, best gain: -inf\n",
      "[LightGBM] [Warning] No further splits with positive gain, best gain: -inf\n",
      "[LightGBM] [Warning] No further splits with positive gain, best gain: -inf\n",
      "[LightGBM] [Warning] No further splits with positive gain, best gain: -inf\n",
      "[LightGBM] [Warning] No further splits with positive gain, best gain: -inf\n",
      "[LightGBM] [Warning] No further splits with positive gain, best gain: -inf\n",
      "[LightGBM] [Warning] No further splits with positive gain, best gain: -inf\n",
      "[LightGBM] [Warning] No further splits with positive gain, best gain: -inf\n",
      "[LightGBM] [Warning] No further splits with positive gain, best gain: -inf\n",
      "[LightGBM] [Warning] No further splits with positive gain, best gain: -inf\n",
      "[LightGBM] [Warning] No further splits with positive gain, best gain: -inf\n",
      "[LightGBM] [Warning] No further splits with positive gain, best gain: -inf\n",
      "[LightGBM] [Warning] No further splits with positive gain, best gain: -inf\n",
      "[LightGBM] [Warning] No further splits with positive gain, best gain: -inf\n",
      "[LightGBM] [Warning] No further splits with positive gain, best gain: -inf\n",
      "[LightGBM] [Warning] No further splits with positive gain, best gain: -inf\n",
      "[LightGBM] [Warning] No further splits with positive gain, best gain: -inf\n",
      "[LightGBM] [Warning] No further splits with positive gain, best gain: -inf\n",
      "[LightGBM] [Warning] No further splits with positive gain, best gain: -inf\n",
      "[LightGBM] [Warning] No further splits with positive gain, best gain: -inf\n",
      "[LightGBM] [Warning] No further splits with positive gain, best gain: -inf\n",
      "[LightGBM] [Warning] No further splits with positive gain, best gain: -inf\n",
      "[LightGBM] [Warning] No further splits with positive gain, best gain: -inf\n",
      "[LightGBM] [Warning] No further splits with positive gain, best gain: -inf\n",
      "[LightGBM] [Warning] No further splits with positive gain, best gain: -inf\n",
      "[LightGBM] [Warning] No further splits with positive gain, best gain: -inf\n",
      "[LightGBM] [Warning] No further splits with positive gain, best gain: -inf\n",
      "[LightGBM] [Warning] No further splits with positive gain, best gain: -inf\n",
      "[LightGBM] [Warning] No further splits with positive gain, best gain: -inf\n",
      "[LightGBM] [Warning] No further splits with positive gain, best gain: -inf\n",
      "[LightGBM] [Warning] No further splits with positive gain, best gain: -inf\n",
      "[LightGBM] [Warning] No further splits with positive gain, best gain: -inf\n",
      "[LightGBM] [Warning] No further splits with positive gain, best gain: -inf\n",
      "[LightGBM] [Warning] No further splits with positive gain, best gain: -inf\n",
      "[LightGBM] [Warning] No further splits with positive gain, best gain: -inf\n",
      "[LightGBM] [Warning] No further splits with positive gain, best gain: -inf\n",
      "[LightGBM] [Warning] No further splits with positive gain, best gain: -inf\n",
      "[LightGBM] [Warning] No further splits with positive gain, best gain: -inf\n",
      "[LightGBM] [Warning] No further splits with positive gain, best gain: -inf\n",
      "[LightGBM] [Warning] No further splits with positive gain, best gain: -inf\n",
      "[LightGBM] [Warning] No further splits with positive gain, best gain: -inf\n",
      "[LightGBM] [Warning] No further splits with positive gain, best gain: -inf\n",
      "[LightGBM] [Warning] No further splits with positive gain, best gain: -inf\n",
      "[LightGBM] [Warning] No further splits with positive gain, best gain: -inf\n",
      "[LightGBM] [Warning] No further splits with positive gain, best gain: -inf\n",
      "[LightGBM] [Warning] No further splits with positive gain, best gain: -inf\n",
      "[LightGBM] [Warning] No further splits with positive gain, best gain: -inf\n",
      "[LightGBM] [Warning] No further splits with positive gain, best gain: -inf\n",
      "[LightGBM] [Warning] No further splits with positive gain, best gain: -inf\n",
      "[LightGBM] [Warning] No further splits with positive gain, best gain: -inf\n",
      "[LightGBM] [Warning] No further splits with positive gain, best gain: -inf\n",
      "[LightGBM] [Warning] No further splits with positive gain, best gain: -inf\n",
      "[LightGBM] [Warning] No further splits with positive gain, best gain: -inf\n",
      "[LightGBM] [Warning] No further splits with positive gain, best gain: -inf\n",
      "[LightGBM] [Warning] No further splits with positive gain, best gain: -inf\n",
      "[LightGBM] [Warning] No further splits with positive gain, best gain: -inf\n",
      "[LightGBM] [Warning] No further splits with positive gain, best gain: -inf\n",
      "[LightGBM] [Warning] No further splits with positive gain, best gain: -inf\n",
      "[LightGBM] [Warning] No further splits with positive gain, best gain: -inf\n",
      "[LightGBM] [Warning] No further splits with positive gain, best gain: -inf\n",
      "[LightGBM] [Warning] No further splits with positive gain, best gain: -inf\n",
      "[LightGBM] [Warning] No further splits with positive gain, best gain: -inf\n",
      "[LightGBM] [Warning] No further splits with positive gain, best gain: -inf\n",
      "[LightGBM] [Warning] No further splits with positive gain, best gain: -inf\n",
      "[LightGBM] [Warning] No further splits with positive gain, best gain: -inf\n",
      "[LightGBM] [Warning] No further splits with positive gain, best gain: -inf\n",
      "[LightGBM] [Warning] No further splits with positive gain, best gain: -inf\n",
      "[LightGBM] [Warning] No further splits with positive gain, best gain: -inf\n",
      "[LightGBM] [Warning] No further splits with positive gain, best gain: -inf\n",
      "[LightGBM] [Warning] No further splits with positive gain, best gain: -inf\n",
      "[LightGBM] [Warning] No further splits with positive gain, best gain: -inf\n",
      "[LightGBM] [Warning] No further splits with positive gain, best gain: -inf\n",
      "[LightGBM] [Warning] No further splits with positive gain, best gain: -inf\n",
      "[LightGBM] [Warning] No further splits with positive gain, best gain: -inf\n",
      "[LightGBM] [Warning] No further splits with positive gain, best gain: -inf\n",
      "[LightGBM] [Warning] No further splits with positive gain, best gain: -inf\n",
      "[LightGBM] [Warning] No further splits with positive gain, best gain: -inf\n",
      "[LightGBM] [Warning] No further splits with positive gain, best gain: -inf\n",
      "[LightGBM] [Warning] No further splits with positive gain, best gain: -inf\n",
      "[LightGBM] [Warning] No further splits with positive gain, best gain: -inf\n",
      "[LightGBM] [Warning] No further splits with positive gain, best gain: -inf\n",
      "[LightGBM] [Warning] No further splits with positive gain, best gain: -inf\n",
      "[LightGBM] [Warning] No further splits with positive gain, best gain: -inf\n",
      "[LightGBM] [Warning] No further splits with positive gain, best gain: -inf\n",
      "[LightGBM] [Warning] No further splits with positive gain, best gain: -inf\n",
      "[LightGBM] [Warning] No further splits with positive gain, best gain: -inf\n",
      "[LightGBM] [Warning] No further splits with positive gain, best gain: -inf\n",
      "[LightGBM] [Warning] No further splits with positive gain, best gain: -inf\n",
      "[LightGBM] [Warning] No further splits with positive gain, best gain: -inf\n",
      "[LightGBM] [Warning] No further splits with positive gain, best gain: -inf\n",
      "[LightGBM] [Warning] No further splits with positive gain, best gain: -inf\n",
      "[LightGBM] [Warning] No further splits with positive gain, best gain: -inf\n",
      "[LightGBM] [Warning] No further splits with positive gain, best gain: -inf\n",
      "[LightGBM] [Warning] No further splits with positive gain, best gain: -inf\n",
      "[LightGBM] [Warning] No further splits with positive gain, best gain: -inf\n",
      "[LightGBM] [Warning] No further splits with positive gain, best gain: -inf\n",
      "[LightGBM] [Warning] No further splits with positive gain, best gain: -inf\n",
      "[LightGBM] [Warning] No further splits with positive gain, best gain: -inf\n",
      "[LightGBM] [Warning] No further splits with positive gain, best gain: -inf\n",
      "[LightGBM] [Warning] No further splits with positive gain, best gain: -inf\n",
      "[LightGBM] [Warning] No further splits with positive gain, best gain: -inf\n",
      "[LightGBM] [Warning] No further splits with positive gain, best gain: -inf\n",
      "[LightGBM] [Warning] No further splits with positive gain, best gain: -inf\n",
      "[LightGBM] [Warning] No further splits with positive gain, best gain: -inf\n",
      "[LightGBM] [Warning] No further splits with positive gain, best gain: -inf\n",
      "[LightGBM] [Warning] No further splits with positive gain, best gain: -inf\n",
      "[LightGBM] [Warning] No further splits with positive gain, best gain: -inf\n",
      "[LightGBM] [Warning] No further splits with positive gain, best gain: -inf\n",
      "[LightGBM] [Warning] No further splits with positive gain, best gain: -inf\n",
      "[LightGBM] [Warning] No further splits with positive gain, best gain: -inf\n",
      "[LightGBM] [Warning] No further splits with positive gain, best gain: -inf\n",
      "[LightGBM] [Warning] No further splits with positive gain, best gain: -inf\n",
      "[LightGBM] [Warning] No further splits with positive gain, best gain: -inf\n",
      "[LightGBM] [Warning] No further splits with positive gain, best gain: -inf\n",
      "[LightGBM] [Warning] No further splits with positive gain, best gain: -inf\n",
      "[LightGBM] [Warning] No further splits with positive gain, best gain: -inf\n",
      "[LightGBM] [Warning] No further splits with positive gain, best gain: -inf\n",
      "[LightGBM] [Warning] No further splits with positive gain, best gain: -inf\n",
      "[LightGBM] [Warning] No further splits with positive gain, best gain: -inf\n",
      "[LightGBM] [Warning] No further splits with positive gain, best gain: -inf\n",
      "[LightGBM] [Warning] No further splits with positive gain, best gain: -inf\n",
      "[LightGBM] [Warning] No further splits with positive gain, best gain: -inf\n",
      "[LightGBM] [Warning] No further splits with positive gain, best gain: -inf\n",
      "[LightGBM] [Warning] No further splits with positive gain, best gain: -inf\n",
      "[LightGBM] [Warning] No further splits with positive gain, best gain: -inf\n",
      "[LightGBM] [Warning] No further splits with positive gain, best gain: -inf\n",
      "[LightGBM] [Warning] No further splits with positive gain, best gain: -inf\n",
      "[LightGBM] [Warning] No further splits with positive gain, best gain: -inf\n",
      "[LightGBM] [Warning] No further splits with positive gain, best gain: -inf\n",
      "[LightGBM] [Warning] No further splits with positive gain, best gain: -inf\n",
      "[LightGBM] [Warning] No further splits with positive gain, best gain: -inf\n",
      "[LightGBM] [Warning] No further splits with positive gain, best gain: -inf\n",
      "[LightGBM] [Warning] No further splits with positive gain, best gain: -inf\n",
      "[LightGBM] [Warning] No further splits with positive gain, best gain: -inf\n",
      "[LightGBM] [Warning] No further splits with positive gain, best gain: -inf\n",
      "[LightGBM] [Warning] No further splits with positive gain, best gain: -inf\n",
      "[LightGBM] [Warning] No further splits with positive gain, best gain: -inf\n",
      "[LightGBM] [Warning] No further splits with positive gain, best gain: -inf\n",
      "[LightGBM] [Warning] No further splits with positive gain, best gain: -inf\n",
      "[LightGBM] [Warning] No further splits with positive gain, best gain: -inf\n",
      "[LightGBM] [Warning] No further splits with positive gain, best gain: -inf\n",
      "[LightGBM] [Warning] No further splits with positive gain, best gain: -inf\n",
      "[LightGBM] [Warning] No further splits with positive gain, best gain: -inf\n",
      "[LightGBM] [Warning] No further splits with positive gain, best gain: -inf\n",
      "[LightGBM] [Warning] No further splits with positive gain, best gain: -inf\n",
      "[LightGBM] [Warning] No further splits with positive gain, best gain: -inf\n",
      "[LightGBM] [Warning] No further splits with positive gain, best gain: -inf\n",
      "[LightGBM] [Warning] No further splits with positive gain, best gain: -inf\n",
      "[LightGBM] [Warning] No further splits with positive gain, best gain: -inf\n",
      "[LightGBM] [Warning] No further splits with positive gain, best gain: -inf\n",
      "[LightGBM] [Warning] No further splits with positive gain, best gain: -inf\n",
      "[LightGBM] [Warning] No further splits with positive gain, best gain: -inf\n",
      "[LightGBM] [Warning] No further splits with positive gain, best gain: -inf\n",
      "[LightGBM] [Warning] No further splits with positive gain, best gain: -inf\n",
      "[LightGBM] [Warning] No further splits with positive gain, best gain: -inf\n",
      "[LightGBM] [Warning] No further splits with positive gain, best gain: -inf\n",
      "[LightGBM] [Warning] No further splits with positive gain, best gain: -inf\n",
      "[LightGBM] [Warning] No further splits with positive gain, best gain: -inf\n",
      "[LightGBM] [Warning] No further splits with positive gain, best gain: -inf\n",
      "[LightGBM] [Warning] No further splits with positive gain, best gain: -inf\n",
      "[LightGBM] [Warning] No further splits with positive gain, best gain: -inf\n",
      "[LightGBM] [Warning] No further splits with positive gain, best gain: -inf\n",
      "[LightGBM] [Warning] No further splits with positive gain, best gain: -inf\n",
      "[LightGBM] [Warning] No further splits with positive gain, best gain: -inf\n",
      "[LightGBM] [Warning] No further splits with positive gain, best gain: -inf\n",
      "[LightGBM] [Warning] No further splits with positive gain, best gain: -inf\n",
      "[LightGBM] [Warning] No further splits with positive gain, best gain: -inf\n",
      "[LightGBM] [Warning] No further splits with positive gain, best gain: -inf\n",
      "[LightGBM] [Warning] No further splits with positive gain, best gain: -inf\n",
      "[LightGBM] [Warning] No further splits with positive gain, best gain: -inf\n",
      "[LightGBM] [Warning] No further splits with positive gain, best gain: -inf\n",
      "[LightGBM] [Warning] No further splits with positive gain, best gain: -inf\n",
      "[LightGBM] [Warning] No further splits with positive gain, best gain: -inf\n",
      "[LightGBM] [Warning] No further splits with positive gain, best gain: -inf\n",
      "[LightGBM] [Warning] No further splits with positive gain, best gain: -inf\n",
      "[LightGBM] [Warning] No further splits with positive gain, best gain: -inf\n",
      "[LightGBM] [Warning] No further splits with positive gain, best gain: -inf\n",
      "[LightGBM] [Warning] No further splits with positive gain, best gain: -inf\n",
      "[LightGBM] [Warning] No further splits with positive gain, best gain: -inf\n",
      "[LightGBM] [Warning] No further splits with positive gain, best gain: -inf\n",
      "[LightGBM] [Warning] No further splits with positive gain, best gain: -inf\n",
      "[LightGBM] [Warning] No further splits with positive gain, best gain: -inf\n",
      "[LightGBM] [Warning] No further splits with positive gain, best gain: -inf\n",
      "[LightGBM] [Warning] No further splits with positive gain, best gain: -inf\n",
      "[LightGBM] [Warning] No further splits with positive gain, best gain: -inf\n",
      "[LightGBM] [Warning] No further splits with positive gain, best gain: -inf\n",
      "[LightGBM] [Warning] No further splits with positive gain, best gain: -inf\n",
      "[LightGBM] [Warning] No further splits with positive gain, best gain: -inf\n",
      "[LightGBM] [Warning] No further splits with positive gain, best gain: -inf\n",
      "[LightGBM] [Warning] No further splits with positive gain, best gain: -inf\n",
      "[LightGBM] [Warning] No further splits with positive gain, best gain: -inf\n",
      "[LightGBM] [Warning] No further splits with positive gain, best gain: -inf\n",
      "[LightGBM] [Warning] No further splits with positive gain, best gain: -inf\n",
      "[LightGBM] [Warning] No further splits with positive gain, best gain: -inf\n",
      "[LightGBM] [Warning] No further splits with positive gain, best gain: -inf\n",
      "[LightGBM] [Warning] No further splits with positive gain, best gain: -inf\n",
      "[LightGBM] [Warning] No further splits with positive gain, best gain: -inf\n",
      "[LightGBM] [Warning] No further splits with positive gain, best gain: -inf\n",
      "[LightGBM] [Warning] No further splits with positive gain, best gain: -inf\n",
      "[LightGBM] [Warning] No further splits with positive gain, best gain: -inf\n",
      "[LightGBM] [Warning] No further splits with positive gain, best gain: -inf\n",
      "[LightGBM] [Warning] No further splits with positive gain, best gain: -inf\n",
      "[LightGBM] [Warning] No further splits with positive gain, best gain: -inf\n",
      "[LightGBM] [Warning] No further splits with positive gain, best gain: -inf\n",
      "[LightGBM] [Warning] No further splits with positive gain, best gain: -inf\n",
      "[LightGBM] [Warning] No further splits with positive gain, best gain: -inf\n",
      "[LightGBM] [Warning] No further splits with positive gain, best gain: -inf\n",
      "[LightGBM] [Warning] No further splits with positive gain, best gain: -inf\n",
      "[LightGBM] [Warning] No further splits with positive gain, best gain: -inf\n",
      "[LightGBM] [Warning] No further splits with positive gain, best gain: -inf\n",
      "[LightGBM] [Warning] No further splits with positive gain, best gain: -inf\n",
      "[LightGBM] [Warning] No further splits with positive gain, best gain: -inf\n",
      "[LightGBM] [Warning] No further splits with positive gain, best gain: -inf\n",
      "[LightGBM] [Warning] No further splits with positive gain, best gain: -inf\n",
      "[LightGBM] [Warning] No further splits with positive gain, best gain: -inf\n",
      "[LightGBM] [Warning] No further splits with positive gain, best gain: -inf\n",
      "[LightGBM] [Warning] No further splits with positive gain, best gain: -inf\n",
      "[LightGBM] [Warning] No further splits with positive gain, best gain: -inf\n",
      "[LightGBM] [Warning] No further splits with positive gain, best gain: -inf\n",
      "[LightGBM] [Warning] No further splits with positive gain, best gain: -inf\n",
      "[LightGBM] [Warning] No further splits with positive gain, best gain: -inf\n",
      "[LightGBM] [Warning] No further splits with positive gain, best gain: -inf\n",
      "[LightGBM] [Warning] No further splits with positive gain, best gain: -inf\n",
      "[LightGBM] [Warning] No further splits with positive gain, best gain: -inf\n",
      "[LightGBM] [Warning] No further splits with positive gain, best gain: -inf\n",
      "[LightGBM] [Warning] No further splits with positive gain, best gain: -inf\n",
      "[LightGBM] [Warning] No further splits with positive gain, best gain: -inf\n",
      "[LightGBM] [Warning] No further splits with positive gain, best gain: -inf\n",
      "[LightGBM] [Warning] No further splits with positive gain, best gain: -inf\n",
      "[LightGBM] [Warning] No further splits with positive gain, best gain: -inf\n",
      "[LightGBM] [Warning] No further splits with positive gain, best gain: -inf\n",
      "[LightGBM] [Warning] No further splits with positive gain, best gain: -inf\n",
      "[LightGBM] [Warning] No further splits with positive gain, best gain: -inf\n",
      "[LightGBM] [Warning] No further splits with positive gain, best gain: -inf\n",
      "[LightGBM] [Warning] No further splits with positive gain, best gain: -inf\n",
      "[LightGBM] [Warning] No further splits with positive gain, best gain: -inf\n",
      "[LightGBM] [Warning] No further splits with positive gain, best gain: -inf\n",
      "[LightGBM] [Warning] No further splits with positive gain, best gain: -inf\n",
      "[LightGBM] [Warning] No further splits with positive gain, best gain: -inf\n",
      "[LightGBM] [Warning] No further splits with positive gain, best gain: -inf\n",
      "[LightGBM] [Warning] No further splits with positive gain, best gain: -inf\n",
      "[LightGBM] [Warning] No further splits with positive gain, best gain: -inf\n",
      "[LightGBM] [Warning] No further splits with positive gain, best gain: -inf\n",
      "[LightGBM] [Warning] No further splits with positive gain, best gain: -inf\n",
      "[LightGBM] [Warning] No further splits with positive gain, best gain: -inf\n",
      "[LightGBM] [Warning] No further splits with positive gain, best gain: -inf\n",
      "[LightGBM] [Warning] No further splits with positive gain, best gain: -inf\n",
      "[LightGBM] [Warning] No further splits with positive gain, best gain: -inf\n",
      "[LightGBM] [Warning] No further splits with positive gain, best gain: -inf\n",
      "[LightGBM] [Warning] No further splits with positive gain, best gain: -inf\n",
      "[LightGBM] [Warning] No further splits with positive gain, best gain: -inf\n",
      "[LightGBM] [Warning] No further splits with positive gain, best gain: -inf\n",
      "[LightGBM] [Warning] No further splits with positive gain, best gain: -inf\n",
      "[LightGBM] [Warning] No further splits with positive gain, best gain: -inf\n",
      "[LightGBM] [Warning] No further splits with positive gain, best gain: -inf\n",
      "[LightGBM] [Warning] No further splits with positive gain, best gain: -inf\n",
      "[LightGBM] [Warning] No further splits with positive gain, best gain: -inf\n",
      "[LightGBM] [Warning] No further splits with positive gain, best gain: -inf\n",
      "[LightGBM] [Warning] No further splits with positive gain, best gain: -inf\n",
      "[LightGBM] [Warning] No further splits with positive gain, best gain: -inf\n",
      "[LightGBM] [Warning] No further splits with positive gain, best gain: -inf\n",
      "[LightGBM] [Warning] No further splits with positive gain, best gain: -inf\n",
      "[LightGBM] [Warning] No further splits with positive gain, best gain: -inf\n",
      "[LightGBM] [Warning] No further splits with positive gain, best gain: -inf\n",
      "[LightGBM] [Warning] No further splits with positive gain, best gain: -inf\n",
      "[LightGBM] [Warning] No further splits with positive gain, best gain: -inf\n",
      "[LightGBM] [Warning] No further splits with positive gain, best gain: -inf\n",
      "[LightGBM] [Warning] No further splits with positive gain, best gain: -inf\n",
      "[LightGBM] [Warning] No further splits with positive gain, best gain: -inf\n",
      "[LightGBM] [Warning] No further splits with positive gain, best gain: -inf\n",
      "[LightGBM] [Warning] No further splits with positive gain, best gain: -inf\n",
      "[LightGBM] [Warning] No further splits with positive gain, best gain: -inf\n",
      "[LightGBM] [Warning] No further splits with positive gain, best gain: -inf\n",
      "[LightGBM] [Warning] No further splits with positive gain, best gain: -inf\n",
      "[LightGBM] [Warning] No further splits with positive gain, best gain: -inf\n",
      "[LightGBM] [Warning] No further splits with positive gain, best gain: -inf\n",
      "[LightGBM] [Warning] No further splits with positive gain, best gain: -inf\n",
      "[LightGBM] [Warning] No further splits with positive gain, best gain: -inf\n",
      "[LightGBM] [Warning] No further splits with positive gain, best gain: -inf\n",
      "[LightGBM] [Warning] No further splits with positive gain, best gain: -inf\n",
      "[LightGBM] [Warning] No further splits with positive gain, best gain: -inf\n",
      "[LightGBM] [Warning] No further splits with positive gain, best gain: -inf\n",
      "[LightGBM] [Warning] No further splits with positive gain, best gain: -inf\n",
      "[LightGBM] [Warning] No further splits with positive gain, best gain: -inf\n",
      "[LightGBM] [Warning] No further splits with positive gain, best gain: -inf\n",
      "[LightGBM] [Warning] No further splits with positive gain, best gain: -inf\n",
      "[LightGBM] [Warning] No further splits with positive gain, best gain: -inf\n",
      "[LightGBM] [Warning] No further splits with positive gain, best gain: -inf\n",
      "[LightGBM] [Warning] No further splits with positive gain, best gain: -inf\n",
      "[LightGBM] [Warning] No further splits with positive gain, best gain: -inf\n",
      "[LightGBM] [Warning] No further splits with positive gain, best gain: -inf\n",
      "[LightGBM] [Warning] No further splits with positive gain, best gain: -inf\n",
      "Accuracy: 0.7431693989071038\n",
      "F1Scora: 0.8201025090887418\n",
      "ROC_AUC: 0.8284552845528456\n"
     ]
    }
   ],
   "source": [
    "voting_clf = voting_classifier(best_models, X, y)\n",
    "\n",
    "\n",
    "# aslında buradakiler hiperparametre optimizasyonundan sonra bir araya getirmeye karar\n",
    "#verdiğim 3 modeldir. ve en iyi sonucu vermesini beklerim.\n",
    "# rf begginge dayalı bir yaklaşım lightgbm boostinge dayalı bir yaklaşım\n",
    "#seçilecek modellerin teorik olarak birbirinden farklı yapıları olması beklenir ki birbirlerinin eksik kalan yerlerini doldurabilsinler.\n",
    "#burada da birbirinden farklı ve başarılı mmodelleri koymuşuz gibi düşünebiliriz."
   ]
  },
  {
   "cell_type": "markdown",
   "id": "f36eaa96",
   "metadata": {},
   "source": [
    "### 6.1- Basit Doğrusal Regresyon Modeli"
   ]
  },
  {
   "cell_type": "markdown",
   "id": "f49ff86d",
   "metadata": {},
   "source": [
    "bu bölümde bir sales prediction modeli geliştirilecek yani satış tahin modeli geliştirilecek bu model çeşitli kanallarda yapılan reklam harcamalarına ilişkin bu reklam harcamaları neticesinde ne kadar satış elde edildiğini ifade ediyor. yapacağımız şey de iki değişkenli basit bir regresyon modeli kurmak daha sonra veri setinde bulunan 5 değişken ile model kurmak şeklinde olacak"
   ]
  },
  {
   "cell_type": "code",
   "execution_count": 7,
   "id": "7713b146",
   "metadata": {},
   "outputs": [],
   "source": [
    "import numpy as np\n",
    "import pandas as pd\n",
    "import matplotlib.pyplot as plt\n",
    "import seaborn as sns\n",
    "from sklearn.model_selection import cross_val_score, train_test_split\n",
    "from sklearn.linear_model import LinearRegression\n",
    "from sklearn.metrics import mean_squared_error, mean_absolute_error"
   ]
  },
  {
   "cell_type": "code",
   "execution_count": 8,
   "id": "69e92e8b",
   "metadata": {},
   "outputs": [],
   "source": [
    "pd.set_option(\"display.float_format\", lambda x: '%.2f' % x) #virgülden sonra 2 basamak göster ayarı"
   ]
  },
  {
   "cell_type": "code",
   "execution_count": 9,
   "id": "8e68cf8b",
   "metadata": {},
   "outputs": [
    {
     "data": {
      "text/html": [
       "<div>\n",
       "<style scoped>\n",
       "    .dataframe tbody tr th:only-of-type {\n",
       "        vertical-align: middle;\n",
       "    }\n",
       "\n",
       "    .dataframe tbody tr th {\n",
       "        vertical-align: top;\n",
       "    }\n",
       "\n",
       "    .dataframe thead th {\n",
       "        text-align: right;\n",
       "    }\n",
       "</style>\n",
       "<table border=\"1\" class=\"dataframe\">\n",
       "  <thead>\n",
       "    <tr style=\"text-align: right;\">\n",
       "      <th></th>\n",
       "      <th>TV</th>\n",
       "      <th>radio</th>\n",
       "      <th>newspaper</th>\n",
       "      <th>sales</th>\n",
       "    </tr>\n",
       "  </thead>\n",
       "  <tbody>\n",
       "    <tr>\n",
       "      <th>0</th>\n",
       "      <td>230.10</td>\n",
       "      <td>37.80</td>\n",
       "      <td>69.20</td>\n",
       "      <td>22.10</td>\n",
       "    </tr>\n",
       "    <tr>\n",
       "      <th>1</th>\n",
       "      <td>44.50</td>\n",
       "      <td>39.30</td>\n",
       "      <td>45.10</td>\n",
       "      <td>10.40</td>\n",
       "    </tr>\n",
       "    <tr>\n",
       "      <th>2</th>\n",
       "      <td>17.20</td>\n",
       "      <td>45.90</td>\n",
       "      <td>69.30</td>\n",
       "      <td>9.30</td>\n",
       "    </tr>\n",
       "    <tr>\n",
       "      <th>3</th>\n",
       "      <td>151.50</td>\n",
       "      <td>41.30</td>\n",
       "      <td>58.50</td>\n",
       "      <td>18.50</td>\n",
       "    </tr>\n",
       "    <tr>\n",
       "      <th>4</th>\n",
       "      <td>180.80</td>\n",
       "      <td>10.80</td>\n",
       "      <td>58.40</td>\n",
       "      <td>12.90</td>\n",
       "    </tr>\n",
       "    <tr>\n",
       "      <th>...</th>\n",
       "      <td>...</td>\n",
       "      <td>...</td>\n",
       "      <td>...</td>\n",
       "      <td>...</td>\n",
       "    </tr>\n",
       "    <tr>\n",
       "      <th>195</th>\n",
       "      <td>38.20</td>\n",
       "      <td>3.70</td>\n",
       "      <td>13.80</td>\n",
       "      <td>7.60</td>\n",
       "    </tr>\n",
       "    <tr>\n",
       "      <th>196</th>\n",
       "      <td>94.20</td>\n",
       "      <td>4.90</td>\n",
       "      <td>8.10</td>\n",
       "      <td>9.70</td>\n",
       "    </tr>\n",
       "    <tr>\n",
       "      <th>197</th>\n",
       "      <td>177.00</td>\n",
       "      <td>9.30</td>\n",
       "      <td>6.40</td>\n",
       "      <td>12.80</td>\n",
       "    </tr>\n",
       "    <tr>\n",
       "      <th>198</th>\n",
       "      <td>283.60</td>\n",
       "      <td>42.00</td>\n",
       "      <td>66.20</td>\n",
       "      <td>25.50</td>\n",
       "    </tr>\n",
       "    <tr>\n",
       "      <th>199</th>\n",
       "      <td>232.10</td>\n",
       "      <td>8.60</td>\n",
       "      <td>8.70</td>\n",
       "      <td>13.40</td>\n",
       "    </tr>\n",
       "  </tbody>\n",
       "</table>\n",
       "<p>200 rows × 4 columns</p>\n",
       "</div>"
      ],
      "text/plain": [
       "        TV  radio  newspaper  sales\n",
       "0   230.10  37.80      69.20  22.10\n",
       "1    44.50  39.30      45.10  10.40\n",
       "2    17.20  45.90      69.30   9.30\n",
       "3   151.50  41.30      58.50  18.50\n",
       "4   180.80  10.80      58.40  12.90\n",
       "..     ...    ...        ...    ...\n",
       "195  38.20   3.70      13.80   7.60\n",
       "196  94.20   4.90       8.10   9.70\n",
       "197 177.00   9.30       6.40  12.80\n",
       "198 283.60  42.00      66.20  25.50\n",
       "199 232.10   8.60       8.70  13.40\n",
       "\n",
       "[200 rows x 4 columns]"
      ]
     },
     "execution_count": 9,
     "metadata": {},
     "output_type": "execute_result"
    }
   ],
   "source": [
    "# simple linear regressions ile devam ediyoruz\n",
    "df = pd.read_csv(\"advertising.csv\")\n",
    "df\n",
    "#toplam 4 değşikende 3 tanesi bağımsız değişken sales bağımlı değişken"
   ]
  },
  {
   "cell_type": "markdown",
   "id": "02ed6668",
   "metadata": {},
   "source": [
    "burada tv radyo gazete kanallarından ortaya çıkan satışlar gözlemlenmektedir. örn 230 birim tv 37 birim radyo 69 birim gazete harcaması olduğunda 22 birim satış elde ediliyormuş. basit şekilde ilerleyebilmek adına 2 tane değişkeni seçip ilerleyeceğiz."
   ]
  },
  {
   "cell_type": "code",
   "execution_count": 10,
   "id": "100c5280",
   "metadata": {},
   "outputs": [
    {
     "data": {
      "text/plain": [
       "(200, 4)"
      ]
     },
     "execution_count": 10,
     "metadata": {},
     "output_type": "execute_result"
    }
   ],
   "source": [
    "df.shape"
   ]
  },
  {
   "cell_type": "code",
   "execution_count": 11,
   "id": "78f3a28e",
   "metadata": {},
   "outputs": [],
   "source": [
    "# dfnin içerisinden sadece tv değişkenini ve sadece sales değişkenini alıyorum\n",
    "\n",
    "X = df[[\"TV\"]]\n",
    "y = df[[\"sales\"]]"
   ]
  },
  {
   "cell_type": "code",
   "execution_count": 12,
   "id": "5aa154f4",
   "metadata": {},
   "outputs": [
    {
     "name": "stdout",
     "output_type": "stream",
     "text": [
      "        TV\n",
      "0   230.10\n",
      "1    44.50\n",
      "2    17.20\n",
      "3   151.50\n",
      "4   180.80\n",
      "..     ...\n",
      "195  38.20\n",
      "196  94.20\n",
      "197 177.00\n",
      "198 283.60\n",
      "199 232.10\n",
      "\n",
      "[200 rows x 1 columns]      sales\n",
      "0    22.10\n",
      "1    10.40\n",
      "2     9.30\n",
      "3    18.50\n",
      "4    12.90\n",
      "..     ...\n",
      "195   7.60\n",
      "196   9.70\n",
      "197  12.80\n",
      "198  25.50\n",
      "199  13.40\n",
      "\n",
      "[200 rows x 1 columns]\n"
     ]
    }
   ],
   "source": [
    "print(X, y)"
   ]
  },
  {
   "cell_type": "code",
   "execution_count": 13,
   "id": "09ed0ad3",
   "metadata": {},
   "outputs": [],
   "source": [
    "# model kurma işlemini gerçekleştiriyorum\n",
    "\n",
    "reg_model = LinearRegression().fit(X, y)"
   ]
  },
  {
   "cell_type": "code",
   "execution_count": 14,
   "id": "2816c015",
   "metadata": {},
   "outputs": [
    {
     "data": {
      "text/plain": [
       "7.032593549127693"
      ]
     },
     "execution_count": 14,
     "metadata": {},
     "output_type": "execute_result"
    }
   ],
   "source": [
    "reg_model.intercept_[0] # eğer teorik bölümde sabit varlığını hatırlayıp sabiti görmek istersen\n",
    "#ilgili sabiti görmek için modeli getirip .intercept_[0] dersem eğer sabiti görebilirim\n",
    "# interept, sabit, bias, beta = sabit demektir\n",
    "#scikit learn sabir için intercep isimlendirmesini tercih etmiş"
   ]
  },
  {
   "cell_type": "code",
   "execution_count": 15,
   "id": "f6ba012c",
   "metadata": {},
   "outputs": [
    {
     "data": {
      "text/plain": [
       "0.047536640433019764"
      ]
     },
     "execution_count": 15,
     "metadata": {},
     "output_type": "execute_result"
    }
   ],
   "source": [
    "# tvnin katsayısını getirelim modeli getirip . dediğimde içerisinden bir özellik almak istdiğimi belirtiyorum\n",
    "#nedir o? coefficient(katsayı). scikit learn kütüphanesinde coef yani katsayı denmesi tercih edilmiştir.\n",
    "reg_model.coef_[0] #tek 0 koyarsam array olarak getirdiği için bir sıfır daha eklemem lazım\n",
    "reg_model.coef_[0][0]"
   ]
  },
  {
   "cell_type": "markdown",
   "id": "e26d34fd",
   "metadata": {},
   "source": [
    "### 7- Doğrusal Regresyon Tahmin İşlemleri"
   ]
  },
  {
   "cell_type": "code",
   "execution_count": 16,
   "id": "91d772b1",
   "metadata": {},
   "outputs": [
    {
     "data": {
      "text/plain": [
       "14.163089614080658"
      ]
     },
     "execution_count": 16,
     "metadata": {},
     "output_type": "execute_result"
    }
   ],
   "source": [
    "#150 birimlik tv harcaması olsa ne kadar satış olması beklenir? sorusuna cevap arayacağız.\n",
    "\n",
    "#önceki regresyon modelimdeki sabit ve ağırlığ getiriyorum, burada eksik olan ne peki?\n",
    "# 150 eksik çarpı 150 dersek problem çözülmüş olacak.\n",
    "\n",
    "reg_model.intercept_[0] + reg_model.coef_[0][0] * 150\n",
    "\n",
    "#işlemin sonucu gelecek sonuç 14. eğer 150 birimlik tv harcaması olursa bu durumda 14 birimlik\n",
    "# satış olmasını bekliyoruz."
   ]
  },
  {
   "cell_type": "code",
   "execution_count": 17,
   "id": "4e5299c8",
   "metadata": {},
   "outputs": [
    {
     "data": {
      "text/plain": [
       "30.800913765637574"
      ]
     },
     "execution_count": 17,
     "metadata": {},
     "output_type": "execute_result"
    }
   ],
   "source": [
    "#peki 500 birimlik tv harcaması olursa ne kadar satış olur dersek?\n",
    "\n",
    "reg_model.intercept_[0] + reg_model.coef_[0][0] * 500\n",
    " #sonuç geldi ve 30 birim satış olması beklenir"
   ]
  },
  {
   "cell_type": "code",
   "execution_count": 18,
   "id": "796fe5b8",
   "metadata": {},
   "outputs": [
    {
     "data": {
      "text/html": [
       "<div>\n",
       "<style scoped>\n",
       "    .dataframe tbody tr th:only-of-type {\n",
       "        vertical-align: middle;\n",
       "    }\n",
       "\n",
       "    .dataframe tbody tr th {\n",
       "        vertical-align: top;\n",
       "    }\n",
       "\n",
       "    .dataframe thead th {\n",
       "        text-align: right;\n",
       "    }\n",
       "</style>\n",
       "<table border=\"1\" class=\"dataframe\">\n",
       "  <thead>\n",
       "    <tr style=\"text-align: right;\">\n",
       "      <th></th>\n",
       "      <th>count</th>\n",
       "      <th>mean</th>\n",
       "      <th>std</th>\n",
       "      <th>min</th>\n",
       "      <th>25%</th>\n",
       "      <th>50%</th>\n",
       "      <th>75%</th>\n",
       "      <th>max</th>\n",
       "    </tr>\n",
       "  </thead>\n",
       "  <tbody>\n",
       "    <tr>\n",
       "      <th>TV</th>\n",
       "      <td>200.00</td>\n",
       "      <td>147.04</td>\n",
       "      <td>85.85</td>\n",
       "      <td>0.70</td>\n",
       "      <td>74.38</td>\n",
       "      <td>149.75</td>\n",
       "      <td>218.82</td>\n",
       "      <td>296.40</td>\n",
       "    </tr>\n",
       "    <tr>\n",
       "      <th>radio</th>\n",
       "      <td>200.00</td>\n",
       "      <td>23.26</td>\n",
       "      <td>14.85</td>\n",
       "      <td>0.00</td>\n",
       "      <td>9.97</td>\n",
       "      <td>22.90</td>\n",
       "      <td>36.52</td>\n",
       "      <td>49.60</td>\n",
       "    </tr>\n",
       "    <tr>\n",
       "      <th>newspaper</th>\n",
       "      <td>200.00</td>\n",
       "      <td>30.55</td>\n",
       "      <td>21.78</td>\n",
       "      <td>0.30</td>\n",
       "      <td>12.75</td>\n",
       "      <td>25.75</td>\n",
       "      <td>45.10</td>\n",
       "      <td>114.00</td>\n",
       "    </tr>\n",
       "    <tr>\n",
       "      <th>sales</th>\n",
       "      <td>200.00</td>\n",
       "      <td>14.02</td>\n",
       "      <td>5.22</td>\n",
       "      <td>1.60</td>\n",
       "      <td>10.38</td>\n",
       "      <td>12.90</td>\n",
       "      <td>17.40</td>\n",
       "      <td>27.00</td>\n",
       "    </tr>\n",
       "  </tbody>\n",
       "</table>\n",
       "</div>"
      ],
      "text/plain": [
       "           count   mean   std  min   25%    50%    75%    max\n",
       "TV        200.00 147.04 85.85 0.70 74.38 149.75 218.82 296.40\n",
       "radio     200.00  23.26 14.85 0.00  9.97  22.90  36.52  49.60\n",
       "newspaper 200.00  30.55 21.78 0.30 12.75  25.75  45.10 114.00\n",
       "sales     200.00  14.02  5.22 1.60 10.38  12.90  17.40  27.00"
      ]
     },
     "execution_count": 18,
     "metadata": {},
     "output_type": "execute_result"
    }
   ],
   "source": [
    "df.describe().T"
   ]
  },
  {
   "cell_type": "markdown",
   "id": "8d996ce6",
   "metadata": {},
   "source": [
    "burada gözlendiği üzere tv max olarak 296 götermektedir yani 500 birimlik bir harcama yapılmamış daha önce ancak ben artık bu ilişkiyi modelime öğrettiğim için 500 birim gözlemlenmemiş olsa bile ben bunu modelime sorarak tahmin edebilirim. burada görüldüğü gibi max satışlar da 27 olmasına rağmen ben 30 sonucuna erişebildim. burada özüt öğrenmenin sağlayabileceği faydalardan birini görmüş oluyoruz."
   ]
  },
  {
   "cell_type": "code",
   "execution_count": 19,
   "id": "08b1f3cb",
   "metadata": {},
   "outputs": [
    {
     "data": {
      "image/png": "[encoded data removed]",
      "text/plain": [
       "<Figure size 640x480 with 1 Axes>"
      ]
     },
     "metadata": {},
     "output_type": "display_data"
    }
   ],
   "source": [
    "# modelin görselleştirilmesi\n",
    "\n",
    "g = sns.regplot(x=X, y=y, scatter_kws={\"color\": \"b\", \"s\":9},\n",
    "               ci=False, color=\"r\") #seaborn içinden regresyon modeli görselleştirmek için kullandığım regplot grafiği\n",
    "#x bağımsız değişken y bağımlı değişken ve scatter_kws ile grafikte kullanacak olduğumuz renkler ifade edilmiş\n",
    "# ve güven aralığı bilgisi false güven aralığı ekleme denilmiş. ve regresyon çizgisinin rengi kırmızı olarak ifade edilmiş.\n",
    "# burada mavi olan da saçılım grafiğin scatterplot grafiğin rengini ifade etmektedir.\n",
    "g.set_title(f\"Model Denklemi: Sales = {round(reg_model.intercept_[0], 2)} + TV*{round(reg_model.coef_[0][0], 2)}\") #grafiğe ana bir başlık ekler, ancak burada başlık eklerken dinamik bir biçimlendirme yapılmış, ilkinde regresyon modelinin sabiti alınmış virgülden sonra 2 basamak al round diyerek de uvarlanılmış. diğeri de aynı işlem\n",
    "g.set_ylabel(\"Satış Sayısı\") # y label başlık\n",
    "g.set_xlabel(\"TV Harcamaları\") #x label başlık\n",
    "plt.xlim(-10, 310) # -10dan 310 a kadar x eksenini görselleştir\n",
    "plt.ylim(bottom=0) # ylimite 0dan başla bilgisi verilmiş ve görsel yazdırılmış\n",
    "plt.show()"
   ]
  },
  {
   "cell_type": "markdown",
   "id": "b0efd23e",
   "metadata": {},
   "source": [
    "model sonucunda görselleştirmeye bakarak aralarında gerçekten doğrusal bir ilişki varmış gibi gözüküyor. be nmodelin istediğim bir yerinden soru sorarak artık bir tahmine ulaşabiliyorum.(gerçek değerler maviler, kırmızı ise modeldir, tahmin denklemidir. aslında teorik olarak tahmin edilen değerledir.)"
   ]
  },
  {
   "cell_type": "markdown",
   "id": "09b0dafe",
   "metadata": {},
   "source": [
    "### 8- Doğrusal Regresyon Tahmin Başarısı"
   ]
  },
  {
   "cell_type": "markdown",
   "id": "b59f359f",
   "metadata": {},
   "source": [
    "bu bölümde tahmin başarısını edğerlendiriyor olacağız. bunlar için mean_squared_error, mean_absolute_error ve roud mean squared error kullanacağız bir de teori bölümünde görmediğimiz r2 kare istatistiği değerini kullanacağız. elimizdeki bu değerleri kullanarak başarımızı değerlendireceğiz."
   ]
  },
  {
   "cell_type": "code",
   "execution_count": 20,
   "id": "7da1927f",
   "metadata": {},
   "outputs": [],
   "source": [
    "# tahmin başarısı\n",
    "\n",
    "# mean squared error der ki bana gerçek değerleri ver ve tahmin edilen değerleri ver der.\n",
    "#ben bunların farklarını alırım ve karelerini alırım ve toplayıp sana ortalama hatanı söylerim der.\n",
    "#fakat bizim elimizde tahmin edilen değerler yok. çünkü bütün gözlemlere yönelik bir tahmin yapmadım.\n",
    "# şunu yapmam lazım:"
   ]
  },
  {
   "cell_type": "code",
   "execution_count": 21,
   "id": "ecbb799b",
   "metadata": {},
   "outputs": [
    {
     "data": {
      "text/plain": [
       "10.512652915656757"
      ]
     },
     "execution_count": 21,
     "metadata": {},
     "output_type": "execute_result"
    }
   ],
   "source": [
    "y_pred = reg_model.predict(X) #bağımsız değişkenleri modele sordum ve y_prede kaydedip y ile y_pred arasındaki farkı göreceğim\n",
    "mean_squared_error(y, y_pred) #ortalama hatamı bana verdi mse ile"
   ]
  },
  {
   "cell_type": "code",
   "execution_count": 22,
   "id": "0ef66e29",
   "metadata": {
    "scrolled": true
   },
   "outputs": [
    {
     "name": "stdout",
     "output_type": "stream",
     "text": [
      "     sales\n",
      "0    22.10\n",
      "1    10.40\n",
      "2     9.30\n",
      "3    18.50\n",
      "4    12.90\n",
      "..     ...\n",
      "195   7.60\n",
      "196   9.70\n",
      "197  12.80\n",
      "198  25.50\n",
      "199  13.40\n",
      "\n",
      "[200 rows x 1 columns] [[17.97077451]\n",
      " [ 9.14797405]\n",
      " [ 7.85022376]\n",
      " [14.23439457]\n",
      " [15.62721814]\n",
      " [ 7.44616232]\n",
      " [ 9.76595037]\n",
      " [12.74649773]\n",
      " [ 7.44140866]\n",
      " [16.53041431]\n",
      " [10.17476548]\n",
      " [17.23871025]\n",
      " [ 8.16396559]\n",
      " [11.66741599]\n",
      " [16.73482186]\n",
      " [16.32125309]\n",
      " [10.25557777]\n",
      " [20.40940417]\n",
      " [10.32212907]\n",
      " [14.03474068]\n",
      " [17.41459582]\n",
      " [18.31779199]\n",
      " [ 7.6600772 ]\n",
      " [17.88520856]\n",
      " [ 9.99412625]\n",
      " [19.52997632]\n",
      " [13.82557947]\n",
      " [18.44614092]\n",
      " [18.85970969]\n",
      " [10.38868036]\n",
      " [20.95607553]\n",
      " [12.39948025]\n",
      " [11.653155  ]\n",
      " [19.65832525]\n",
      " [11.58185004]\n",
      " [20.85149492]\n",
      " [19.72012288]\n",
      " [10.58358059]\n",
      " [ 9.08142275]\n",
      " [17.87094757]\n",
      " [16.65876324]\n",
      " [15.44657891]\n",
      " [20.98935118]\n",
      " [16.86792445]\n",
      " [ 8.22576322]\n",
      " [15.35625929]\n",
      " [11.2966302 ]\n",
      " [18.43663359]\n",
      " [17.83291826]\n",
      " [10.21279479]\n",
      " [16.53041431]\n",
      " [11.80527225]\n",
      " [17.31952254]\n",
      " [15.71278409]\n",
      " [19.52046899]\n",
      " [16.48763133]\n",
      " [ 7.37961102]\n",
      " [13.50708398]\n",
      " [17.05331735]\n",
      " [17.04856369]\n",
      " [ 9.57580381]\n",
      " [19.45391769]\n",
      " [18.4081116 ]\n",
      " [11.91460652]\n",
      " [13.26464711]\n",
      " [10.31262174]\n",
      " [ 8.52999772]\n",
      " [13.65444756]\n",
      " [18.31779199]\n",
      " [17.3385372 ]\n",
      " [16.49713866]\n",
      " [12.25211667]\n",
      " [ 8.30657551]\n",
      " [13.18383482]\n",
      " [17.17691262]\n",
      " [ 7.83596277]\n",
      " [ 8.33985116]\n",
      " [12.76075872]\n",
      " [ 7.28929141]\n",
      " [12.54684384]\n",
      " [10.66439288]\n",
      " [18.43187992]\n",
      " [10.61210257]\n",
      " [10.28409975]\n",
      " [17.18166628]\n",
      " [16.21667248]\n",
      " [10.65963921]\n",
      " [12.29489965]\n",
      " [11.2300789 ]\n",
      " [12.25211667]\n",
      " [13.41676436]\n",
      " [ 8.39214147]\n",
      " [17.38132017]\n",
      " [18.95953663]\n",
      " [12.13802873]\n",
      " [14.79532693]\n",
      " [16.4258337 ]\n",
      " [15.82211837]\n",
      " [20.80395828]\n",
      " [13.45954734]\n",
      " [17.60474238]\n",
      " [21.12245377]\n",
      " [20.3523602 ]\n",
      " [15.96472829]\n",
      " [18.3558213 ]\n",
      " [13.58789626]\n",
      " [ 8.22100956]\n",
      " [11.32990584]\n",
      " [ 7.65532354]\n",
      " [19.17345152]\n",
      " [17.76636696]\n",
      " [18.52219954]\n",
      " [15.38478127]\n",
      " [16.99627338]\n",
      " [10.74995883]\n",
      " [10.60259525]\n",
      " [13.6496939 ]\n",
      " [10.66439288]\n",
      " [13.00794925]\n",
      " [ 7.95480437]\n",
      " [13.74952084]\n",
      " [ 7.92628239]\n",
      " [17.68080101]\n",
      " [12.88435399]\n",
      " [17.94225253]\n",
      " [11.17778859]\n",
      " [ 7.40337934]\n",
      " [10.84503211]\n",
      " [17.50491544]\n",
      " [ 9.86577732]\n",
      " [ 7.0658692 ]\n",
      " [19.63931059]\n",
      " [ 7.43190133]\n",
      " [17.48114712]\n",
      " [ 8.78669558]\n",
      " [ 9.32861328]\n",
      " [ 8.24953154]\n",
      " [20.04337204]\n",
      " [ 9.07666909]\n",
      " [15.82211837]\n",
      " [10.52178296]\n",
      " [16.2404408 ]\n",
      " [17.51442276]\n",
      " [12.00492614]\n",
      " [11.60561836]\n",
      " [13.7019842 ]\n",
      " [18.44614092]\n",
      " [18.5935045 ]\n",
      " [ 8.83898589]\n",
      " [ 9.15748138]\n",
      " [20.37612852]\n",
      " [12.78452704]\n",
      " [16.4258337 ]\n",
      " [15.17562006]\n",
      " [15.95997462]\n",
      " [ 7.22749377]\n",
      " [11.49628409]\n",
      " [14.15358229]\n",
      " [ 7.58877224]\n",
      " [13.29316909]\n",
      " [15.23266402]\n",
      " [11.10648363]\n",
      " [15.98849661]\n",
      " [14.80483426]\n",
      " [12.60388781]\n",
      " [18.17993573]\n",
      " [ 7.88349941]\n",
      " [16.86317079]\n",
      " [17.2719859 ]\n",
      " [20.54726042]\n",
      " [ 9.40942557]\n",
      " [14.8523709 ]\n",
      " [ 7.9643117 ]\n",
      " [15.0377638 ]\n",
      " [17.60474238]\n",
      " [20.19548929]\n",
      " [18.84069503]\n",
      " [15.12332975]\n",
      " [20.18598196]\n",
      " [14.9046612 ]\n",
      " [14.47683144]\n",
      " [17.41934948]\n",
      " [ 9.70415274]\n",
      " [20.70413134]\n",
      " [19.09739289]\n",
      " [16.77760484]\n",
      " [13.66395489]\n",
      " [16.11684554]\n",
      " [20.62807271]\n",
      " [ 7.92152873]\n",
      " [ 8.91029085]\n",
      " [10.6216099 ]\n",
      " [ 7.85022376]\n",
      " [14.96170517]\n",
      " [14.14882862]\n",
      " [ 8.84849321]\n",
      " [11.51054508]\n",
      " [15.44657891]\n",
      " [20.51398478]\n",
      " [18.06584779]]\n"
     ]
    }
   ],
   "source": [
    "print(y, y_pred) #y_pred tahmin edilen değerler, y ler gerçek değerler"
   ]
  },
  {
   "cell_type": "markdown",
   "id": "a84dc34f",
   "metadata": {},
   "source": [
    "Elimde bir mse değeri var ve ben bunun olabildiğince düşük olamsını istiyorum yani mümkün olduğunca 0a doğru gitmesini istiyorum."
   ]
  },
  {
   "cell_type": "code",
   "execution_count": 23,
   "id": "effadcdf",
   "metadata": {},
   "outputs": [
    {
     "data": {
      "text/plain": [
       "sales   14.02\n",
       "dtype: float64"
      ]
     },
     "execution_count": 23,
     "metadata": {},
     "output_type": "execute_result"
    }
   ],
   "source": [
    "y.mean() #ynin ortlamasını aldım. daha sonra standart sapmasına bakıyorum"
   ]
  },
  {
   "cell_type": "code",
   "execution_count": 24,
   "id": "e6b4d999",
   "metadata": {},
   "outputs": [
    {
     "data": {
      "text/plain": [
       "sales   5.22\n",
       "dtype: float64"
      ]
     },
     "execution_count": 24,
     "metadata": {},
     "output_type": "execute_result"
    }
   ],
   "source": [
    "y.std() # stdsi 5 çıktı yani değerler 9 ile 19 arasında değişiyor diyebilirim\n",
    "#bu durumda elde ettiğim 10 değeri büyük mü küçük mü diye düşünüyorum ve birazcık\n",
    "# büyük olduğu kanaatına varıyorum. yani ortalama hata 1.5 2 gibi olsa daha \n",
    "# iyi olabilir gibi geliyor.\n",
    "#değerin büyüklüğünü nasıl değerlendireceğimi bilmediğim durumlarda bağımlı\n",
    "# değişkenin ortalamsına ve standart sapmasına bakıyorum ve kara veriyorum.\n",
    "# bu problem için ben ortalma 10 birimlik bir hata yapıyorsam bu o kadar da küçük değil\n",
    "#"
   ]
  },
  {
   "cell_type": "code",
   "execution_count": 25,
   "id": "7c131fc4",
   "metadata": {},
   "outputs": [
    {
     "data": {
      "text/plain": [
       "3.2423221486546887"
      ]
     },
     "execution_count": 25,
     "metadata": {},
     "output_type": "execute_result"
    }
   ],
   "source": [
    "#rmse\n",
    "np.sqrt(mean_squared_error(y, y_pred)) # np karekök fonksiyonunu getirdim ve mse değerinin karekökünü hesapladım\n",
    "# rmse değeri buydu. benim için yine ortalama bir hata metriğiydi bu"
   ]
  },
  {
   "cell_type": "code",
   "execution_count": 26,
   "id": "5fc82ddc",
   "metadata": {},
   "outputs": [],
   "source": [
    "# istersem tekrar mseyi kullanırım geliştirmeler yapıp tekrar mse değerne bakabilirim.\n",
    "#bir de mae değerine bakalım"
   ]
  },
  {
   "cell_type": "code",
   "execution_count": 27,
   "id": "7265ce7d",
   "metadata": {},
   "outputs": [
    {
     "data": {
      "text/plain": [
       "2.549806038927486"
      ]
     },
     "execution_count": 27,
     "metadata": {},
     "output_type": "execute_result"
    }
   ],
   "source": [
    "#mae mutlak hatadır\n",
    "#bunun daha küçük çıkması daha iyi olduğu anlamına gelmemektedir.\n",
    "#buradaki daha iyi kıyası bu modellerin birbiriyle kıyası değil aynı modelde daha\n",
    "# düşük sonuç elde edilmesiyle olmaktadır. örn değişiklik yaptıktan sonra 2 maenin kıyası\n",
    "#diğer kıyaslamaları çoklu doğrusal regersyonda yapacağız.\n",
    "mean_absolute_error(y, y_pred)"
   ]
  },
  {
   "cell_type": "code",
   "execution_count": 28,
   "id": "c6f1fd38",
   "metadata": {},
   "outputs": [
    {
     "data": {
      "text/plain": [
       "0.611875050850071"
      ]
     },
     "execution_count": 28,
     "metadata": {},
     "output_type": "execute_result"
    }
   ],
   "source": [
    "# R-Kare, son olarak r2 ifadesini değerlendirelim.\n",
    "\n",
    "reg_model.score(X, y) #score metoduyla bunu gerçkeleştiriyoruz. bağımlı ve bağımsızdeğişkenleri girdim"
   ]
  },
  {
   "cell_type": "markdown",
   "id": "e362693a",
   "metadata": {},
   "source": [
    "* nedir bu r2 metriği?\n",
    "\n",
    "doğrusal regersyon modellerinde modelin başarısına ilişkin çok önemli olan bir metriktir r2 metriği. bu değer şnu ifade eder: veri setindeki bağımsız değişkenlerin bağımlı değişkeni açıklama yüzdesidir. örneğin bu veri setinde bir tane bağımsız değşiken kullandık. tv değişkeninin satış değişkenindeki değişikliği açıklama yüzdesidir. yani bu modelde bağımsız değişkenler bağımlı değişkenin %61ni açılkamıştır şeklinde yorumlanır.\n",
    "\n",
    "* Dikkat\n",
    "\n",
    "1. değişken sayısı arttıkça r2 şişmeye meğillidir. Burada düzeltilmiş r2 değerinin de göz önünde bulundurulması gerekmektedir.\n",
    "\n",
    "2. Biz burada olaylara istatistiki ekonometrik vs şeklinde bakmıyoruz. burada modellerin kat sayıların anlamlılığı, f istatistiği, t istatistiği gibi noramellik varsayımı ve diğer bazı varsayımlar gibi varsayımlarla özetle istatistiki çıktılarla ilgilenmiyoruz. bu önemli bir ayrım noktasıdır.buraad model anlamlılıkları veya katsayı testleri yapmıyoruz. burada konuya makine öğrenmesi açısından yaklaşıyoruz. diğer ele alacağımız konularla uyumlu olabilecek bir pencereyle yaklaşıyoruz. dolayısıyla bizim için doğrusal bir formda tahmin etme görevi vardır. bu tahmini en yüksek başarıyla elde etmeye çalışıyor olacağız.burada eğer bu bir istatistik dersi olsaydı ve orada doğrusal regersyonnu değerlendiriyor olasydık bu durumda kat sayıların anlamlılıkları, modelin anlamlılıkları ve varsayım testleri ve bu varsayımlar sağlanmadığında ne yapmak lazım nasıl yaklaşmak lazım gibi çözümlerin hepsini ele almak lazımdı. biz daha çok optimizasyon yaklaşımıyla, makine öğrenmesi yaklaşımıyla yüksek tahmin performansıyla ilgileniyoruz. dolayısıyla aslında basit doğrusal regresyonda, çoklu doğrusal regresyonda yüksek tahmin başarlı değerli modeller değildir ama konunun temellerinde olduğu için bu konularla ilgili bir bilgi ediniyoruz. yani en genelinde bizim gelişmiş regersyon problemlerini çözmek için kullanacağımız modeller regresyon modelleri olmayacak. ağaca dayalı regesyon modelleri olacak. doğrusal regersyon modelleri olmayacak."
   ]
  },
  {
   "cell_type": "markdown",
   "id": "39407f37",
   "metadata": {},
   "source": [
    "### 9- Çoklu Doğrusal Regresyon Modeli (Multiple Linear Regression)"
   ]
  },
  {
   "cell_type": "markdown",
   "id": "d0911a74",
   "metadata": {},
   "source": [
    "Burada diğeri gibi 1 tane değil birden fazla bağımsız değişkenimiz olacak ve bütün veri setini modellemiş olacağız"
   ]
  },
  {
   "cell_type": "code",
   "execution_count": 29,
   "id": "15e013d2",
   "metadata": {},
   "outputs": [
    {
     "data": {
      "text/html": [
       "<div>\n",
       "<style scoped>\n",
       "    .dataframe tbody tr th:only-of-type {\n",
       "        vertical-align: middle;\n",
       "    }\n",
       "\n",
       "    .dataframe tbody tr th {\n",
       "        vertical-align: top;\n",
       "    }\n",
       "\n",
       "    .dataframe thead th {\n",
       "        text-align: right;\n",
       "    }\n",
       "</style>\n",
       "<table border=\"1\" class=\"dataframe\">\n",
       "  <thead>\n",
       "    <tr style=\"text-align: right;\">\n",
       "      <th></th>\n",
       "      <th>TV</th>\n",
       "      <th>radio</th>\n",
       "      <th>newspaper</th>\n",
       "      <th>sales</th>\n",
       "    </tr>\n",
       "  </thead>\n",
       "  <tbody>\n",
       "    <tr>\n",
       "      <th>0</th>\n",
       "      <td>230.10</td>\n",
       "      <td>37.80</td>\n",
       "      <td>69.20</td>\n",
       "      <td>22.10</td>\n",
       "    </tr>\n",
       "    <tr>\n",
       "      <th>1</th>\n",
       "      <td>44.50</td>\n",
       "      <td>39.30</td>\n",
       "      <td>45.10</td>\n",
       "      <td>10.40</td>\n",
       "    </tr>\n",
       "    <tr>\n",
       "      <th>2</th>\n",
       "      <td>17.20</td>\n",
       "      <td>45.90</td>\n",
       "      <td>69.30</td>\n",
       "      <td>9.30</td>\n",
       "    </tr>\n",
       "    <tr>\n",
       "      <th>3</th>\n",
       "      <td>151.50</td>\n",
       "      <td>41.30</td>\n",
       "      <td>58.50</td>\n",
       "      <td>18.50</td>\n",
       "    </tr>\n",
       "    <tr>\n",
       "      <th>4</th>\n",
       "      <td>180.80</td>\n",
       "      <td>10.80</td>\n",
       "      <td>58.40</td>\n",
       "      <td>12.90</td>\n",
       "    </tr>\n",
       "    <tr>\n",
       "      <th>...</th>\n",
       "      <td>...</td>\n",
       "      <td>...</td>\n",
       "      <td>...</td>\n",
       "      <td>...</td>\n",
       "    </tr>\n",
       "    <tr>\n",
       "      <th>195</th>\n",
       "      <td>38.20</td>\n",
       "      <td>3.70</td>\n",
       "      <td>13.80</td>\n",
       "      <td>7.60</td>\n",
       "    </tr>\n",
       "    <tr>\n",
       "      <th>196</th>\n",
       "      <td>94.20</td>\n",
       "      <td>4.90</td>\n",
       "      <td>8.10</td>\n",
       "      <td>9.70</td>\n",
       "    </tr>\n",
       "    <tr>\n",
       "      <th>197</th>\n",
       "      <td>177.00</td>\n",
       "      <td>9.30</td>\n",
       "      <td>6.40</td>\n",
       "      <td>12.80</td>\n",
       "    </tr>\n",
       "    <tr>\n",
       "      <th>198</th>\n",
       "      <td>283.60</td>\n",
       "      <td>42.00</td>\n",
       "      <td>66.20</td>\n",
       "      <td>25.50</td>\n",
       "    </tr>\n",
       "    <tr>\n",
       "      <th>199</th>\n",
       "      <td>232.10</td>\n",
       "      <td>8.60</td>\n",
       "      <td>8.70</td>\n",
       "      <td>13.40</td>\n",
       "    </tr>\n",
       "  </tbody>\n",
       "</table>\n",
       "<p>200 rows × 4 columns</p>\n",
       "</div>"
      ],
      "text/plain": [
       "        TV  radio  newspaper  sales\n",
       "0   230.10  37.80      69.20  22.10\n",
       "1    44.50  39.30      45.10  10.40\n",
       "2    17.20  45.90      69.30   9.30\n",
       "3   151.50  41.30      58.50  18.50\n",
       "4   180.80  10.80      58.40  12.90\n",
       "..     ...    ...        ...    ...\n",
       "195  38.20   3.70      13.80   7.60\n",
       "196  94.20   4.90       8.10   9.70\n",
       "197 177.00   9.30       6.40  12.80\n",
       "198 283.60  42.00      66.20  25.50\n",
       "199 232.10   8.60       8.70  13.40\n",
       "\n",
       "[200 rows x 4 columns]"
      ]
     },
     "execution_count": 29,
     "metadata": {},
     "output_type": "execute_result"
    }
   ],
   "source": [
    "df = pd.read_csv(\"advertising.csv\")\n",
    "df\n",
    "#burada yapacağımız iş diğer değişkenleri kullanarak çoklu doğrusal regresyon modeli kurmak\n",
    "# olacaktır."
   ]
  },
  {
   "cell_type": "code",
   "execution_count": 30,
   "id": "48fce1ba",
   "metadata": {},
   "outputs": [
    {
     "data": {
      "text/html": [
       "<div>\n",
       "<style scoped>\n",
       "    .dataframe tbody tr th:only-of-type {\n",
       "        vertical-align: middle;\n",
       "    }\n",
       "\n",
       "    .dataframe tbody tr th {\n",
       "        vertical-align: top;\n",
       "    }\n",
       "\n",
       "    .dataframe thead th {\n",
       "        text-align: right;\n",
       "    }\n",
       "</style>\n",
       "<table border=\"1\" class=\"dataframe\">\n",
       "  <thead>\n",
       "    <tr style=\"text-align: right;\">\n",
       "      <th></th>\n",
       "      <th>TV</th>\n",
       "      <th>radio</th>\n",
       "      <th>newspaper</th>\n",
       "    </tr>\n",
       "  </thead>\n",
       "  <tbody>\n",
       "    <tr>\n",
       "      <th>0</th>\n",
       "      <td>230.10</td>\n",
       "      <td>37.80</td>\n",
       "      <td>69.20</td>\n",
       "    </tr>\n",
       "    <tr>\n",
       "      <th>1</th>\n",
       "      <td>44.50</td>\n",
       "      <td>39.30</td>\n",
       "      <td>45.10</td>\n",
       "    </tr>\n",
       "    <tr>\n",
       "      <th>2</th>\n",
       "      <td>17.20</td>\n",
       "      <td>45.90</td>\n",
       "      <td>69.30</td>\n",
       "    </tr>\n",
       "    <tr>\n",
       "      <th>3</th>\n",
       "      <td>151.50</td>\n",
       "      <td>41.30</td>\n",
       "      <td>58.50</td>\n",
       "    </tr>\n",
       "    <tr>\n",
       "      <th>4</th>\n",
       "      <td>180.80</td>\n",
       "      <td>10.80</td>\n",
       "      <td>58.40</td>\n",
       "    </tr>\n",
       "    <tr>\n",
       "      <th>...</th>\n",
       "      <td>...</td>\n",
       "      <td>...</td>\n",
       "      <td>...</td>\n",
       "    </tr>\n",
       "    <tr>\n",
       "      <th>195</th>\n",
       "      <td>38.20</td>\n",
       "      <td>3.70</td>\n",
       "      <td>13.80</td>\n",
       "    </tr>\n",
       "    <tr>\n",
       "      <th>196</th>\n",
       "      <td>94.20</td>\n",
       "      <td>4.90</td>\n",
       "      <td>8.10</td>\n",
       "    </tr>\n",
       "    <tr>\n",
       "      <th>197</th>\n",
       "      <td>177.00</td>\n",
       "      <td>9.30</td>\n",
       "      <td>6.40</td>\n",
       "    </tr>\n",
       "    <tr>\n",
       "      <th>198</th>\n",
       "      <td>283.60</td>\n",
       "      <td>42.00</td>\n",
       "      <td>66.20</td>\n",
       "    </tr>\n",
       "    <tr>\n",
       "      <th>199</th>\n",
       "      <td>232.10</td>\n",
       "      <td>8.60</td>\n",
       "      <td>8.70</td>\n",
       "    </tr>\n",
       "  </tbody>\n",
       "</table>\n",
       "<p>200 rows × 3 columns</p>\n",
       "</div>"
      ],
      "text/plain": [
       "        TV  radio  newspaper\n",
       "0   230.10  37.80      69.20\n",
       "1    44.50  39.30      45.10\n",
       "2    17.20  45.90      69.30\n",
       "3   151.50  41.30      58.50\n",
       "4   180.80  10.80      58.40\n",
       "..     ...    ...        ...\n",
       "195  38.20   3.70      13.80\n",
       "196  94.20   4.90       8.10\n",
       "197 177.00   9.30       6.40\n",
       "198 283.60  42.00      66.20\n",
       "199 232.10   8.60       8.70\n",
       "\n",
       "[200 rows x 3 columns]"
      ]
     },
     "execution_count": 30,
     "metadata": {},
     "output_type": "execute_result"
    }
   ],
   "source": [
    "#bunu için sales bağımlı değişkenimi attığım diğer bağımsız değişkenlerimi seçiyorum\n",
    "\n",
    "X = df.drop(\"sales\", axis = 1)\n",
    "X"
   ]
  },
  {
   "cell_type": "code",
   "execution_count": 31,
   "id": "16d71068",
   "metadata": {},
   "outputs": [
    {
     "data": {
      "text/html": [
       "<div>\n",
       "<style scoped>\n",
       "    .dataframe tbody tr th:only-of-type {\n",
       "        vertical-align: middle;\n",
       "    }\n",
       "\n",
       "    .dataframe tbody tr th {\n",
       "        vertical-align: top;\n",
       "    }\n",
       "\n",
       "    .dataframe thead th {\n",
       "        text-align: right;\n",
       "    }\n",
       "</style>\n",
       "<table border=\"1\" class=\"dataframe\">\n",
       "  <thead>\n",
       "    <tr style=\"text-align: right;\">\n",
       "      <th></th>\n",
       "      <th>sales</th>\n",
       "    </tr>\n",
       "  </thead>\n",
       "  <tbody>\n",
       "    <tr>\n",
       "      <th>0</th>\n",
       "      <td>22.10</td>\n",
       "    </tr>\n",
       "    <tr>\n",
       "      <th>1</th>\n",
       "      <td>10.40</td>\n",
       "    </tr>\n",
       "    <tr>\n",
       "      <th>2</th>\n",
       "      <td>9.30</td>\n",
       "    </tr>\n",
       "    <tr>\n",
       "      <th>3</th>\n",
       "      <td>18.50</td>\n",
       "    </tr>\n",
       "    <tr>\n",
       "      <th>4</th>\n",
       "      <td>12.90</td>\n",
       "    </tr>\n",
       "    <tr>\n",
       "      <th>...</th>\n",
       "      <td>...</td>\n",
       "    </tr>\n",
       "    <tr>\n",
       "      <th>195</th>\n",
       "      <td>7.60</td>\n",
       "    </tr>\n",
       "    <tr>\n",
       "      <th>196</th>\n",
       "      <td>9.70</td>\n",
       "    </tr>\n",
       "    <tr>\n",
       "      <th>197</th>\n",
       "      <td>12.80</td>\n",
       "    </tr>\n",
       "    <tr>\n",
       "      <th>198</th>\n",
       "      <td>25.50</td>\n",
       "    </tr>\n",
       "    <tr>\n",
       "      <th>199</th>\n",
       "      <td>13.40</td>\n",
       "    </tr>\n",
       "  </tbody>\n",
       "</table>\n",
       "<p>200 rows × 1 columns</p>\n",
       "</div>"
      ],
      "text/plain": [
       "     sales\n",
       "0    22.10\n",
       "1    10.40\n",
       "2     9.30\n",
       "3    18.50\n",
       "4    12.90\n",
       "..     ...\n",
       "195   7.60\n",
       "196   9.70\n",
       "197  12.80\n",
       "198  25.50\n",
       "199  13.40\n",
       "\n",
       "[200 rows x 1 columns]"
      ]
     },
     "execution_count": 31,
     "metadata": {},
     "output_type": "execute_result"
    }
   ],
   "source": [
    "y = df[[\"sales\"]] #bağımlı değişkenimi de dfin içerisinden salesi seçtiğimde seçmiş olacağım.\n",
    "y"
   ]
  },
  {
   "cell_type": "markdown",
   "id": "4ba51911",
   "metadata": {},
   "source": [
    "Elimde artık bağımlı ve bağımsız değişkenler var buradan artık model kurma basamağına ilerleyebilirim."
   ]
  },
  {
   "cell_type": "markdown",
   "id": "1225a728",
   "metadata": {},
   "source": [
    "* Model\n",
    "\n",
    " bir önceki bölümde akla şöyle bir soru gelmiş olabilir. model validasyon yöntemlerini\n",
    " kullanmadık mı acaba ya da kullanmalı mıydık gibi, evet önceki bölümde bir regresyon \n",
    " sürecini basit regeresyon üzerinden görsel grfik teknik üzerinden basitçe karmaşıklaştırmadan \n",
    " başarıları değerlendirerek tamamladık.Şimdi bu bölümde de diğer kavramlalrı bir araya getiriyor olacağız.\n",
    " modelleme basamağı bu bölümde o yüzden diğerinden daha farklı şekilde ele alınıyor olacak.\n",
    " yani önce ver setini train test diye ayırmamız lazım."
   ]
  },
  {
   "cell_type": "code",
   "execution_count": 32,
   "id": "7f03894b",
   "metadata": {},
   "outputs": [],
   "source": [
    "# train test split metodunu getirerek bu işlemi yapabilirim.\n",
    "X_train, X_test, y_train, y_test = train_test_split(X, y, test_size = 0.20, random_state = 1)\n",
    "# diyorum ki sen bu bağımlı bağımsız değişkenleri al ve benim test size olarak 20ye 80 olarak ayırdığım şekilde ayır.\n",
    "# yani train oranını 80 test oranını 20 şeklinde ayır ve rastgele bir örneklem  oluştur.\n",
    "#buradaki random_state=1 ifadesi ne anlama gelmektedir? eğer benim oluşturduğum train test ayrımmının ile \n",
    "# sizin oluşturduğunuz train test ayrımının aynı olmasını istiyorsanız buraya aynı numaraları yazmanız gerekmektedir.\n",
    "# hangi sayının yazıldığının önemi yok ancak aynı rassallıkta sayılar oluşacağından aynı sonuçlar elde edilecektir.\n",
    "# bu train test metodu bağımlı ve bağımsız değişkeni ayrı ayrı ister ve daha sonra bize train setinde bir x ve train setinden bir\n",
    "# y ve test setinde bir x ve test setinde bir y verir. yani bu isimlendirmeleri ayrı ayrı yapar\n",
    "# çünkü model kurarken xler ve örn train setinde y'yi birlikte kullanacağız yine model kurarken kullandığımız ve öğrendiğimiz verinin\n",
    "# dışında ayrı ayrı test setindeki xe ve test setindeki yye ihtiyacımız olacak. dolayısıyla 4 parçalı şekilde\n",
    "# trainin xi ysi ve testin xi ysi ayrı olacak şekilde bize veriyi parçalamaktadır."
   ]
  },
  {
   "cell_type": "code",
   "execution_count": 33,
   "id": "d68d0e7c",
   "metadata": {},
   "outputs": [
    {
     "data": {
      "text/plain": [
       "(160, 3)"
      ]
     },
     "execution_count": 33,
     "metadata": {},
     "output_type": "execute_result"
    }
   ],
   "source": [
    "X_train.shape #%80 160 gözlem birimi 3 değişken"
   ]
  },
  {
   "cell_type": "code",
   "execution_count": 34,
   "id": "e9667bce",
   "metadata": {},
   "outputs": [
    {
     "data": {
      "text/plain": [
       "(160, 1)"
      ]
     },
     "execution_count": 34,
     "metadata": {},
     "output_type": "execute_result"
    }
   ],
   "source": [
    "y_train.shape #%80 160 gözlem birimi 1 değişken"
   ]
  },
  {
   "cell_type": "code",
   "execution_count": 35,
   "id": "664ef469",
   "metadata": {},
   "outputs": [
    {
     "data": {
      "text/plain": [
       "(40, 3)"
      ]
     },
     "execution_count": 35,
     "metadata": {},
     "output_type": "execute_result"
    }
   ],
   "source": [
    "X_test.shape # %20 40 gözlem birimi 3 değişken"
   ]
  },
  {
   "cell_type": "code",
   "execution_count": 36,
   "id": "dc895694",
   "metadata": {},
   "outputs": [
    {
     "data": {
      "text/plain": [
       "(160, 1)"
      ]
     },
     "execution_count": 36,
     "metadata": {},
     "output_type": "execute_result"
    }
   ],
   "source": [
    "y_train.shape #%80 40 gözlem birimi 1 değişken bağımlı değişken y"
   ]
  },
  {
   "cell_type": "code",
   "execution_count": 37,
   "id": "5901d430",
   "metadata": {},
   "outputs": [],
   "source": [
    "# ne yapacaktık hatırlayalım train seti ile model kuracaktık ve test seti ile \n",
    "# test edecektik. yapalım."
   ]
  },
  {
   "cell_type": "code",
   "execution_count": 38,
   "id": "68d38aef",
   "metadata": {},
   "outputs": [
    {
     "data": {
      "text/html": [
       "<style>#sk-container-id-1 {color: black;}#sk-container-id-1 pre{padding: 0;}#sk-container-id-1 div.sk-toggleable {background-color: white;}#sk-container-id-1 label.sk-toggleable__label {cursor: pointer;display: block;width: 100%;margin-bottom: 0;padding: 0.3em;box-sizing: border-box;text-align: center;}#sk-container-id-1 label.sk-toggleable__label-arrow:before {content: \"▸\";float: left;margin-right: 0.25em;color: #696969;}#sk-container-id-1 label.sk-toggleable__label-arrow:hover:before {color: black;}#sk-container-id-1 div.sk-estimator:hover label.sk-toggleable__label-arrow:before {color: black;}#sk-container-id-1 div.sk-toggleable__content {max-height: 0;max-width: 0;overflow: hidden;text-align: left;background-color: #f0f8ff;}#sk-container-id-1 div.sk-toggleable__content pre {margin: 0.2em;color: black;border-radius: 0.25em;background-color: #f0f8ff;}#sk-container-id-1 input.sk-toggleable__control:checked~div.sk-toggleable__content {max-height: 200px;max-width: 100%;overflow: auto;}#sk-container-id-1 input.sk-toggleable__control:checked~label.sk-toggleable__label-arrow:before {content: \"▾\";}#sk-container-id-1 div.sk-estimator input.sk-toggleable__control:checked~label.sk-toggleable__label {background-color: #d4ebff;}#sk-container-id-1 div.sk-label input.sk-toggleable__control:checked~label.sk-toggleable__label {background-color: #d4ebff;}#sk-container-id-1 input.sk-hidden--visually {border: 0;clip: rect(1px 1px 1px 1px);clip: rect(1px, 1px, 1px, 1px);height: 1px;margin: -1px;overflow: hidden;padding: 0;position: absolute;width: 1px;}#sk-container-id-1 div.sk-estimator {font-family: monospace;background-color: #f0f8ff;border: 1px dotted black;border-radius: 0.25em;box-sizing: border-box;margin-bottom: 0.5em;}#sk-container-id-1 div.sk-estimator:hover {background-color: #d4ebff;}#sk-container-id-1 div.sk-parallel-item::after {content: \"\";width: 100%;border-bottom: 1px solid gray;flex-grow: 1;}#sk-container-id-1 div.sk-label:hover label.sk-toggleable__label {background-color: #d4ebff;}#sk-container-id-1 div.sk-serial::before {content: \"\";position: absolute;border-left: 1px solid gray;box-sizing: border-box;top: 0;bottom: 0;left: 50%;z-index: 0;}#sk-container-id-1 div.sk-serial {display: flex;flex-direction: column;align-items: center;background-color: white;padding-right: 0.2em;padding-left: 0.2em;position: relative;}#sk-container-id-1 div.sk-item {position: relative;z-index: 1;}#sk-container-id-1 div.sk-parallel {display: flex;align-items: stretch;justify-content: center;background-color: white;position: relative;}#sk-container-id-1 div.sk-item::before, #sk-container-id-1 div.sk-parallel-item::before {content: \"\";position: absolute;border-left: 1px solid gray;box-sizing: border-box;top: 0;bottom: 0;left: 50%;z-index: -1;}#sk-container-id-1 div.sk-parallel-item {display: flex;flex-direction: column;z-index: 1;position: relative;background-color: white;}#sk-container-id-1 div.sk-parallel-item:first-child::after {align-self: flex-end;width: 50%;}#sk-container-id-1 div.sk-parallel-item:last-child::after {align-self: flex-start;width: 50%;}#sk-container-id-1 div.sk-parallel-item:only-child::after {width: 0;}#sk-container-id-1 div.sk-dashed-wrapped {border: 1px dashed gray;margin: 0 0.4em 0.5em 0.4em;box-sizing: border-box;padding-bottom: 0.4em;background-color: white;}#sk-container-id-1 div.sk-label label {font-family: monospace;font-weight: bold;display: inline-block;line-height: 1.2em;}#sk-container-id-1 div.sk-label-container {text-align: center;}#sk-container-id-1 div.sk-container {/* jupyter's `normalize.less` sets `[hidden] { display: none; }` but bootstrap.min.css set `[hidden] { display: none !important; }` so we also need the `!important` here to be able to override the default hidden behavior on the sphinx rendered scikit-learn.org. See: https://github.com/scikit-learn/scikit-learn/issues/21755 */display: inline-block !important;position: relative;}#sk-container-id-1 div.sk-text-repr-fallback {display: none;}</style><div id=\"sk-container-id-1\" class=\"sk-top-container\"><div class=\"sk-text-repr-fallback\"><pre>LinearRegression()</pre><b>In a Jupyter environment, please rerun this cell to show the HTML representation or trust the notebook. <br />On GitHub, the HTML representation is unable to render, please try loading this page with nbviewer.org.</b></div><div class=\"sk-container\" hidden><div class=\"sk-item\"><div class=\"sk-estimator sk-toggleable\"><input class=\"sk-toggleable__control sk-hidden--visually\" id=\"sk-estimator-id-1\" type=\"checkbox\" checked><label for=\"sk-estimator-id-1\" class=\"sk-toggleable__label sk-toggleable__label-arrow\">LinearRegression</label><div class=\"sk-toggleable__content\"><pre>LinearRegression()</pre></div></div></div></div></div>"
      ],
      "text/plain": [
       "LinearRegression()"
      ]
     },
     "execution_count": 38,
     "metadata": {},
     "output_type": "execute_result"
    }
   ],
   "source": [
    "reg_model = LinearRegression()\n",
    "reg_model.fit(X_train, y_train) # reg_model.fit diyerek modeli kurmuş oluyorum\n",
    "#fit içerisine bağımlı ve bağımsız değişkenleri verdim\n",
    "# bu şekilde kullanabileceğim gibi başka şekilde de kullanabilirim"
   ]
  },
  {
   "cell_type": "code",
   "execution_count": 39,
   "id": "3f7c773f",
   "metadata": {},
   "outputs": [],
   "source": [
    "#reg_model = LinearRegression().fit(X_train, y_train) #bunları birlikte de yazabilirim"
   ]
  },
  {
   "cell_type": "code",
   "execution_count": 40,
   "id": "491ed675",
   "metadata": {},
   "outputs": [
    {
     "data": {
      "text/plain": [
       "array([2.90794702])"
      ]
     },
     "execution_count": 40,
     "metadata": {},
     "output_type": "execute_result"
    }
   ],
   "source": [
    "# hemen tahmin etme hata değerlendirme değil de konuyu pekiştirmek amaçlı \n",
    "# önce sabitini getiriyorum\n",
    "\n",
    "# sabit (b - bias)\n",
    "reg_model.intercept_ #sonuna 0 koyarsam sadece sayı yazacak biliyorum bunu : reg_model.intercept_[0]"
   ]
  },
  {
   "cell_type": "code",
   "execution_count": 41,
   "id": "5c26fbd3",
   "metadata": {},
   "outputs": [
    {
     "data": {
      "text/plain": [
       "array([[0.0468431 , 0.17854434, 0.00258619]])"
      ]
     },
     "execution_count": 41,
     "metadata": {},
     "output_type": "execute_result"
    }
   ],
   "source": [
    "# coefficients (w - weights) katsayılar\n",
    "#katsayıları getirmke istersek \n",
    "reg_model.coef_\n",
    "#3 tane weight geldi, bir sonraki bölümde bunlarla ilgili sorularımız olacak\n",
    "#ve yanıtlayacağız."
   ]
  },
  {
   "cell_type": "markdown",
   "id": "4a1f75ce",
   "metadata": {},
   "source": [
    "### 10- Çoklu Doğrusal Regresyonda Tahmin İşlemleri"
   ]
  },
  {
   "cell_type": "code",
   "execution_count": 42,
   "id": "3ca30fd3",
   "metadata": {},
   "outputs": [],
   "source": [
    "# Tahminleme aşamasında elde ettiğimiz katsayıları kullanarak tahminleme \n",
    "# işlemini gerçekleştireceğiz.\n",
    "\n",
    "# örn soru\n",
    "# aşağdaki gözlem değerlerine göre satışın değeri nedir?\n",
    "\n",
    "#TV: 30\n",
    "# radio: 10\n",
    "# newspaper: 40"
   ]
  },
  {
   "cell_type": "code",
   "execution_count": 43,
   "id": "ebb024bb",
   "metadata": {},
   "outputs": [
    {
     "data": {
      "text/plain": [
       "array([2.90794702])"
      ]
     },
     "execution_count": 43,
     "metadata": {},
     "output_type": "execute_result"
    }
   ],
   "source": [
    "# 2.90 sabitimin katsayısıydı\n",
    "reg_model.intercept_"
   ]
  },
  {
   "cell_type": "code",
   "execution_count": 44,
   "id": "1ac59af3",
   "metadata": {},
   "outputs": [
    {
     "data": {
      "text/plain": [
       "array([[0.0468431 , 0.17854434, 0.00258619]])"
      ]
     },
     "execution_count": 44,
     "metadata": {},
     "output_type": "execute_result"
    }
   ],
   "source": [
    "# weight katsayılarımdı 0.0468431 , 0.17854434, 0.00258619\n",
    "reg_model.coef_"
   ]
  },
  {
   "cell_type": "code",
   "execution_count": 45,
   "id": "d4cefde9",
   "metadata": {},
   "outputs": [],
   "source": [
    "#ne yapılması lazım ? doğrusal bir formda ilgili gözlem değerlerinin çarpılıp\n",
    "# sabit ile toplanması lazım.(model denklemini yazınız mülakatlarda sorular\n",
    "#klasik bir sorudur)\n",
    "# bu bir regresyon çıktısıdır, makine öğrenmesi işlerinin yoğunlukta olduğu, istatistiksel işlerin\n",
    "#yoğunlukta olduğu bir veri bilimci pozisyonu için bir regresyon çıktısını yorumlama ve bu regresyon çıktısındaki\n",
    "#ağırlıkları ve sabiti kullanarak model denklemini yazabilmek oldukça önemlidir.\n",
    "#1-) burada birinci sorumuz model denklemini yazınız?\n",
    "#2-) bu değerlere göre beklenen satış sayısı nedir?"
   ]
  },
  {
   "cell_type": "code",
   "execution_count": 46,
   "id": "1bf4be2f",
   "metadata": {},
   "outputs": [
    {
     "data": {
      "text/plain": [
       "6.20213102"
      ]
     },
     "execution_count": 46,
     "metadata": {},
     "output_type": "execute_result"
    }
   ],
   "source": [
    "#model denklemi : \n",
    "# sales = 2.90 + (TV) *  0.04 + (radio) * 0.17 + (newspaper) * 0.002\n",
    "\n",
    "#tahmin edilen satışı bu model denklemine göre bulabiliriz:\n",
    "2.90794702 + 30 * 0.0468431 + 10 * 0.17854434 + 40 * 0.00258619"
   ]
  },
  {
   "cell_type": "code",
   "execution_count": 47,
   "id": "8f6c334c",
   "metadata": {},
   "outputs": [
    {
     "name": "stderr",
     "output_type": "stream",
     "text": [
      "C:\\ProgramData\\anaconda3\\Lib\\site-packages\\sklearn\\base.py:464: UserWarning: X does not have valid feature names, but LinearRegression was fitted with feature names\n",
      "  warnings.warn(\n"
     ]
    },
    {
     "data": {
      "text/plain": [
       "array([[6.202131]])"
      ]
     },
     "execution_count": 47,
     "metadata": {},
     "output_type": "execute_result"
    }
   ],
   "source": [
    "# bu ifadeyi fonksiyonel şekilde nasıl yapabilir dersek:\n",
    "# örn bunu bir departmana vereceğiz \n",
    "\n",
    "yeni_veri =[[30], [10], [40]] #örn yeni bir veri oluşturdum \n",
    "\n",
    "yeni_veri =pd.DataFrame(yeni_veri).T #df çevirdim\n",
    "\n",
    "reg_model.predict(yeni_veri) # tahmin et diyorum bağımsız değişkenleri ver dedim bunlara göre bağımlı değişkenin bilgisini tahmin ediyorum"
   ]
  },
  {
   "cell_type": "code",
   "execution_count": 48,
   "id": "8be16ab2",
   "metadata": {},
   "outputs": [],
   "source": [
    "# 6.20 bulmuştum ve kendim hesaplarken 5.88 bulmuştum küsüratlardan dolayı \n",
    "#farklı, bu yüzden orjinalleriyle gidip değerleri değiştiriyorum."
   ]
  },
  {
   "cell_type": "code",
   "execution_count": 49,
   "id": "962b9da6",
   "metadata": {},
   "outputs": [],
   "source": [
    "# modelimi kullanarak manuel tahminlerde bulunabiliyorum, modelin görmediği verilerdi\n",
    "# dışarıdan gelen herhangi yeni gözlemlerdi, şimdi tahmin başarımızı değerlendirme\n",
    "# aşamsına geldik "
   ]
  },
  {
   "cell_type": "markdown",
   "id": "5fe93b5b",
   "metadata": {},
   "source": [
    "### 11- Çoklu Doğrusal Regresyonda Tahmin Başarısı"
   ]
  },
  {
   "cell_type": "code",
   "execution_count": 50,
   "id": "a48b41fc",
   "metadata": {},
   "outputs": [],
   "source": [
    "# Tahmin Başarısı Değerelendirme\n",
    "\n",
    "# şimdi elimizde bir train ve test seti var hangisinin hatasına bakmalıyız.\n",
    "# yoksa birlikte mi bakmalıyız, ayrı ayrı mı bakmalıyız? Train testi yaptık ancak cross \n",
    "#validation vardı onu da mı bir değerlendirmeliyiz gibi sorular olabilir. bu bölümde bunların\n",
    "# yanıtlarını bulacağız."
   ]
  },
  {
   "cell_type": "code",
   "execution_count": 51,
   "id": "9f9afba8",
   "metadata": {},
   "outputs": [],
   "source": [
    "# öncelikle train hatamı inceleyebilirim, yani bir model kurdum ve bunu train setimin \n",
    "#üzerinde kurdum ancak daha önce o x ve y'yi komple train seti gibi düşünürsek orada da hata hesaplamıştık.\n",
    "# yani dolayısıyla regresyon modelini train setinde bağımlı değişkeni de tahmin edip kenarda saklayabilirim\n",
    "# ve onun hata kareler oratalmasını v kare köküne erişebilirim."
   ]
  },
  {
   "cell_type": "code",
   "execution_count": 52,
   "id": "a1e28f76",
   "metadata": {},
   "outputs": [
    {
     "data": {
      "text/plain": [
       "1.7369025901470923"
      ]
     },
     "execution_count": 52,
     "metadata": {},
     "output_type": "execute_result"
    }
   ],
   "source": [
    "# Train RMSE\n",
    "y_pred = reg_model.predict(X_train) #yukarıdaki açıklama \n",
    "np.sqrt(mean_squared_error(y_train, y_pred)) # bu bizim train hatamız, hata kareler ortalamsı"
   ]
  },
  {
   "cell_type": "code",
   "execution_count": 53,
   "id": "da156145",
   "metadata": {},
   "outputs": [],
   "source": [
    "# modeli train veri seti üzerinden kurdum buun hatasını değerlendirmek için ne\n",
    "# yapacağım, yine otrain setinin gerçek değerleine ve o train setinin tahmin edilen değerlerine \n",
    "# bakmam gerekmektedir. X_trainden sonra bağımlı değişkenime baktım y_train ve y_pred bu sayede hata oranıma eriştim"
   ]
  },
  {
   "cell_type": "code",
   "execution_count": 54,
   "id": "e5c05532",
   "metadata": {},
   "outputs": [
    {
     "data": {
      "text/plain": [
       "0.8959372632325174"
      ]
     },
     "execution_count": 54,
     "metadata": {},
     "output_type": "execute_result"
    }
   ],
   "source": [
    "# Train setine ilişkin R2 değeri\n",
    "# bağımsız değişkenlerşn bağımlı değişkeni açıklmaa oranıdır.\n",
    "reg_model.score(X_train, y_train)"
   ]
  },
  {
   "cell_type": "code",
   "execution_count": 55,
   "id": "1a3f961a",
   "metadata": {},
   "outputs": [],
   "source": [
    "# neredeyse %90a ulaştık daha önce %60 oranlarında olan değere 3 tane yeni değişken eklediğimde\n",
    "# %90lara kadar ulaşan bir r2 değeri elde etmiş oldum.\n",
    "#o zaman buradan şunu anlıyorum iki değişken vardı bunları underfit etmiştik yani iyi \n",
    "# açıklayamıyorduk ve demek ki hatamız da ona göre daha yüksekti ama  yeni değişkenler eklendiğinde\n",
    "# açıklama oranımız yükseldi, henüz test setine bakmadık ancak ama train seti üzerinden bile yükseldi\n",
    "#tek değikenlide hatam 3.24 iken çok değişkenlideki hatam 1.73 e düştü yani çok ciddi bir \n",
    "# iyileştirme elde etmiş oldum. buradan elde ettiğim bilgi çok değişkenli bir yapı\n",
    "# elde ettiğimde açıklama oranında iyileştirme elde etmem oluyor."
   ]
  },
  {
   "cell_type": "code",
   "execution_count": 56,
   "id": "0e33d4fd",
   "metadata": {},
   "outputs": [],
   "source": [
    "# ancak ben train setiyle model kuracağım test setiyle test edeceğim demiştim.\n",
    "#tabi ben bunu test ederken train hatasına bakmayayım diye bir şey söz konusu değil\n",
    "# bakabilirim.buna baktıkan sonra test setine bakabilirim."
   ]
  },
  {
   "cell_type": "code",
   "execution_count": 57,
   "id": "9eea5fcc",
   "metadata": {},
   "outputs": [
    {
     "data": {
      "text/plain": [
       "1.4113417558581587"
      ]
     },
     "execution_count": 57,
     "metadata": {},
     "output_type": "execute_result"
    }
   ],
   "source": [
    "# TEST -RMSE\n",
    "y_pred = reg_model.predict(X_test) #burada ilk defa train üzerinden kurduğum modele test verisini sorup hatasını elde ediyorum. predict metodu tahmin etmek için kullanılır.ben sana bir test veri seti göndereceğim sen bunu bir değerlendr diyor.hangi seti göndereceksin sorrusuna tets setini gönder diyoruz. x_test seti bağımsız değişkenlerini soruyoruz modele bu sayede y bağımlı değişkenini tahmin edyor.\n",
    "np.sqrt(mean_squared_error(y_test, y_pred)) # bende y bağımlı değişkeninin gerçek değerleri ve tahmin değerleri var rmse değerini alıyorum."
   ]
  },
  {
   "cell_type": "code",
   "execution_count": 58,
   "id": "879471e3",
   "metadata": {},
   "outputs": [],
   "source": [
    "#train hatam 1.73tü , test hatam ise 1.41 oldu. peki elde ettiğim 1.41 büyük mü küçük mü,\n",
    "# yoksa iyi mi kötü mü nasıl anlayacağım. normalde train hata ile test hata arasında şöyle bir ilişki vardır.\n",
    "#normalde test hatası train hatasından daha yüksek çıkmaktadır dolayısıyla bizim elde ettiğimiz durum\n",
    "# çok güzel bir durum oldu. testin trainden daha düşük çıkması düşük olduğu anlamına geldi.\n",
    "#bu durum beklenti dışıdır ve güzel bir durumdur."
   ]
  },
  {
   "cell_type": "code",
   "execution_count": 59,
   "id": "24704b48",
   "metadata": {},
   "outputs": [
    {
     "data": {
      "text/plain": [
       "0.8927605914615384"
      ]
     },
     "execution_count": 59,
     "metadata": {},
     "output_type": "execute_result"
    }
   ],
   "source": [
    "# Test R2 değeri \n",
    "\n",
    "reg_model.score(X_test, y_test) # öncekine oldukça benzer bir değer elde ettim bu da0.89 çıktı\n",
    "#yani bu veri setindeki bağımsız değişkenlerin bağımlı değişkenleri açıklama yüzdesi %90 civarındadır.\n",
    "# yani oldukça yüksek bir oran denebilir."
   ]
  },
  {
   "cell_type": "code",
   "execution_count": 60,
   "id": "7538cec2",
   "metadata": {},
   "outputs": [],
   "source": [
    "# peki şimdi bu train test ayrımıydı, nbu tıpkı rmse, mae değerleri gibi model validasyonu söz konusu olduğunda\n",
    "#tercih yapabileceğimiz, altarnatifler arasından tercih yapabileceğimiz bir yöntemdir.\n",
    "#holdout yöntemi, train test olarak ayırdık, train setiyle model kurduk test setiyle\n",
    "#hatamızı değerlendirdik.bunun yerine onk atlı cros validation da yapabilirdik.\n",
    "# şimdi cross validation yönteini ele alacağız."
   ]
  },
  {
   "cell_type": "code",
   "execution_count": 61,
   "id": "0f251241",
   "metadata": {},
   "outputs": [
    {
     "data": {
      "text/plain": [
       "1.6913531708051797"
      ]
     },
     "execution_count": 61,
     "metadata": {},
     "output_type": "execute_result"
    }
   ],
   "source": [
    "# 10 Katlı Cross Validation (CV) RMSE\n",
    "\n",
    "np.mean(np.sqrt(-cross_val_score(reg_model,\n",
    "                                 X, y, cv = 10, scoring=\"neg_mean_squared_error\")))"
   ]
  },
  {
   "cell_type": "code",
   "execution_count": 62,
   "id": "e19dbe0f",
   "metadata": {},
   "outputs": [
    {
     "data": {
      "text/plain": [
       "array([1.88689808, 1.81595022, 1.44548731, 1.68069713, 1.14139187,\n",
       "       1.31971064, 2.85891276, 1.45399362, 1.7443426 , 1.56614748])"
      ]
     },
     "execution_count": 62,
     "metadata": {},
     "output_type": "execute_result"
    }
   ],
   "source": [
    "# 10 katlı cvyi görmek için bakıyorum buna bakmak zorunda değilim görüldüğü gibi 10 tane var\n",
    "np.sqrt(-cross_val_score(reg_model,\n",
    "                        X, y, cv = 10, scoring=\"neg_mean_squared_error\"))"
   ]
  },
  {
   "cell_type": "code",
   "execution_count": 63,
   "id": "c53c4c1b",
   "metadata": {},
   "outputs": [],
   "source": [
    "# cross val scoru hesaplattık bunun için içerisine regresyon modelini kullandım,\n",
    "#bütün veri kullanılmış, dikkat gözlem sayım oldukça az, train setei üzerinde kullnamamayı tercih ediyorum.\n",
    "#çünkü 200 tane satır var zaten dolayısıyla 10 katlı çapraz doğrulamayı bütün veri üzerinden \n",
    "# yapıyorum. bu yüzden x ve y'yi olduğu gibi yazdım. cvnin scoru negatif mean squared error, \n",
    "#yani negatif ortalama hatayı veriyor bu yüzden bunu eksiyle çarptık, başına eksi koymuş olduk\n",
    "#önemli ince bir ayrımdır.bunun başına eksi koymasam değerler eksi şekilde gelecekti\n",
    "#eksi hata olmaaycağı için ortlama hatayı bulmak için eksi ile çarptım. bu yüzden önemi yoktur bu probmlem bu \n",
    "# şekilde basit şekilde çözülebiliyor. bu sayede 10 katlı cvde 10 tane çıktı alıyorum\n",
    "#yukarıda görüldüğü gibi.9 parçasıyla model kurduk 1 tanesiyle test ettik bunlaradan ilki 1.88, bir tnaesi çok \n",
    "# yüksek diğeri çok düşük gibi sonuçlar elde ettim. burada çapraz doğrulama yapmanın \n",
    "# ne kadar önemli olduğunu anlıyoruz. dolayısıyla bunların daha sonrasında kareköklerini alırsam\n",
    "#rmse değerleri gelmiş olur.o zaman bunlar madem 10 katın rmse değerleri o zaman bunların ortlamasını alırsak\n",
    "#10 katlı çapraz doğrulamayı rmse değeri açısından gerçekleştirmiş oluruz.\n",
    "# bizim train hatamız 1.73 test hatamız 1.41 10 katlı cv hatamız ise 1.69dur.\n",
    "# yani buradaki hatalardan hangisine güvenmem lazım, ver isetimiz bol olsa çok fazla \n",
    "# fark etmez gibi bir yorum yapabilirdik fakat veri setimiz az olduğundan dolayı 10 katlı\n",
    "#cv yöntemine güvenmek daha doğru olabilir. bunun dışında veri setinin boyutu az 10 parça yerine 5 parça\n",
    "#mı yapsak deyimi geçerli olabilir kontrol edelim."
   ]
  },
  {
   "cell_type": "code",
   "execution_count": 64,
   "id": "cf2664cb",
   "metadata": {},
   "outputs": [
    {
     "data": {
      "text/plain": [
       "1.7175247278732086"
      ]
     },
     "execution_count": 64,
     "metadata": {},
     "output_type": "execute_result"
    }
   ],
   "source": [
    "np.mean(np.sqrt(-cross_val_score(reg_model,\n",
    "                                 X, y, cv = 5, scoring=\"neg_mean_squared_error\")))"
   ]
  },
  {
   "cell_type": "code",
   "execution_count": 65,
   "id": "4d339a14",
   "metadata": {},
   "outputs": [],
   "source": [
    "#ciddi bir fark gözlemleyemedik.\n",
    "# bu şekilde tek değişkenli ve çok değişkenli olacak şekilde regresyon modellerimizi\n",
    "#kurduk, bu regresyon modellerine ilişkin tahmi netme işlemlerini gerçekleştirdik\n",
    "#daha sonra tahmin başarısı dğerlendirme işlemlerini gerçekleştirdik ve bundan sonra bir regresyon kullanam ihtiyacınız olduktan\n",
    "# sonra direkt veri setini okuma, ilgili veri önişleme özellik mühendisliği  işlemlerini yapma\n",
    "#model kurma basamaklarına gelince de modeli kurmadan önce veriyi 80e 20 ayırma ya da komple bütün veriye hata bakma gibi\n",
    "#cross validation yapmak ve daha sonrasında modelleme işlemi ve daha sonra hata değerlendirme işlemlerini yapmak gibi işlemleri gözlemlemiş olduk."
   ]
  },
  {
   "cell_type": "markdown",
   "id": "1a87f7a8",
   "metadata": {},
   "source": [
    "### 12- Gradient Descent ile Doğrusal Regresyon"
   ]
  },
  {
   "cell_type": "code",
   "execution_count": 66,
   "id": "0e7d94fc",
   "metadata": {},
   "outputs": [],
   "source": [
    "# Simple Linear Regression with Gradient Descent from Scratch\n",
    "\n",
    "#yapacağımız işlem tamamen kod seviyesinde 0dan iteratif olarak nasıl çalıştığını \n",
    "# anlamak için olacaktır.aslında regresyon kısmını bitirmiştik.\n",
    "# işlemlerimde mse değerini minimuma getirmeye çalışıyordum."
   ]
  },
  {
   "cell_type": "code",
   "execution_count": 67,
   "id": "8a87439f",
   "metadata": {},
   "outputs": [],
   "source": [
    "# ilk fonksiyonumu tanımlıyorum cost fonksiyonu \n",
    "# cost fonksiyonunun görvi mse değerini hesaplamaktır. bunun için bütün gözlem değerlerini\n",
    "# gezmemiz ve bir sabit ve ağırlık çiftine göre tahmin edilen değerleri hesaplamamız lazım\n",
    "#bu koşullar doğrultusunda fonksiyonuma 4 tane argüman verdim. y bağımlı değişken\n",
    "#b sabit w ağırlık ve x bağımsız değişken şeklinde. bu örneği iki dğeişken üzerinden gerçekleştiriyor olacağız\n",
    "#len y dediğimde gözlem sayısını tutuyoruz. gözlem sayısı bize neden lazım çünkü tüm gözlem birimlerini gezip bunların hatasını hesaplıyor olacağımdan dolayı\n",
    "#dikkat sse gibi bir ifade var sse hata kareler toplamı demektir. dolayısıyla fonksiyondaki hata kareler toplamı bölümünü buraad gerçekleştiriyor olacağız.\n",
    "# daha sonra da bunu m'e bölerek mse hatasını bulmuş olacağız.for ile bütün gözlem birimlerini gez diyorum. 0dan başlayıp m'e kadar.\n",
    "#birinci gözlem birimine gelince örn ne olacak. tüm sabit ve ağırlık birimine göre tahmin edilen y hesaplanacak. ikinci satırda ise gerçek i değerleri\n",
    "# bulunmaktadır. dolayısıyla bu ikisinin farkı alındıktan sonra karesini alırsam ve bunları her iterasyonda sse'ye ekleyecek şekilde düzenlersem\n",
    "#bu durumda toplam hatayı bulmuş oluruz. bunu m'e böldüğümde ortalama hatayı bulmuş olacağım. yani bu durumda mse değerini bulmuş olacağım.\n",
    "#\n",
    "\n",
    "def cost_function(Y,b,w,X):\n",
    "    m = len(Y)\n",
    "    sse = 0\n",
    "    \n",
    "    for i in range(0,m):\n",
    "        y_hat = b + w * X[i]\n",
    "        y = Y[i]\n",
    "        sse += (y_hat - y) ** 2\n",
    "    mse = sse / m\n",
    "    return mse"
   ]
  },
  {
   "cell_type": "code",
   "execution_count": 68,
   "id": "4b051ace",
   "metadata": {},
   "outputs": [],
   "source": [
    "#daha sonra oluşturmam gereken update kuralıdır. yani sabit ve ağırlıkların\n",
    "#update edilmesidir. bu fonksiyonumuzun 5 tane argümanı vardır. Bağımlı değişken,\n",
    "#ağırlıklar, bağımsız değişken ve learning ratedir. learning rate öğrenme oranıdır, öğrenme hızıdır, \n",
    "#yani gradientten ne kadarlık bir parça koparılacağı ve bunun ne hızda eski parametreye yansıtılması\n",
    "#gerektiğini ifade ediyor.\n",
    "\n",
    "def update_weights(Y, b, w, X, learning_rate):\n",
    "    m = len(Y)\n",
    "    \n",
    "    b_deriv_sum = 0\n",
    "    w_deriv_sum = 0\n",
    "    \n",
    "    for i in range(0,m):\n",
    "        y_hat = b + w * X[i]\n",
    "        y = Y[i]\n",
    "        b_deriv_sum += (y_hat - y)\n",
    "        w_deriv_sum += (y_hat - y) * X[i]\n",
    "    new_b = b - (learning_rate * 1 / m * b_deriv_sum)\n",
    "    new_w = w - (learning_rate * 1 / m * w_deriv_sum)\n",
    "    return new_b, new_w"
   ]
  },
  {
   "cell_type": "code",
   "execution_count": 69,
   "id": "572a533f",
   "metadata": {},
   "outputs": [],
   "source": [
    "#bazı hesaplamam gereken türevler, gradyanlar var.bunları sum diyerek tutuyorum.bütün gözem \n",
    "#birimlerini gezeceğim ve her bir  gözlem birimi için bir işlem yapacağım.ve bu işlemin neticesini sumlarda tutuyor\n",
    "#olacağım.0'dan m'e kadar gözlemlerimi geziyor olacağım. yine tahmin edilen değerlerimi aldım\n",
    "#ve gerçek değerlerim de y ile elimde. dikkar gradient distence teorisinde, özellikle uygulama bölümünde \n",
    "#yine literatüre baktığımızda kafamız karışabilir. bu yüzden bu noktayı ifade etmekte fayda vardır.\n",
    "#şimdi bu bütün gözlem birimleri gezilerek belirli bir ağırlık seti olduğunda, bu bütün\n",
    "# gözlem birimleri gezilerek aslında her bir gözlem birimi için daha düşük hata vermek için \n",
    "#ne taraf gitmem gerektiği sorusu sorulur.bu birinci iterasyonda 1. gözlem biriminin tahmin edilen değerdir.\n",
    "#alt satırda 1. gözlem değerinin gerçek değerler tutuluyor ve alt satırda bakın tahmin edilen değer ile gerçek değerin\n",
    "# farkı alınıp toplam ifadesine eklenmiş ve bu sabit için yapılmış. Ağırlık için de bu şekilde gerçekleştirilmiş\n",
    "#şimdi sabitin kısmi türevi yani b_deriv_sum 'ın kısmi türevi (y_hat - y)'dir. ağırlığın kısmi türevi de eşit olduğu değerdir.\n",
    "#formülasyona baktığımızdaki işlemlerin yapılma aşaması y_hattan başlayıp w_deriv_suma kadar olan alanda \n",
    "#devam etmektedir.bu aşamada tüm gözlem birimlerine nereye gidilmesi gerektiğine dair bir soru sorulmaktadır.ve çıkan sonuçların ortalaması\n",
    "# alınarak nereye gidileceğine karar verilmektedir örn bir gözlem birimi 3 birim sağa giderken diğeri 2 birim sola gidebilir.new_b,w kısımlarında\n",
    "#ortalama alma işlemi gerçekleşir.burası kritik noktalardan biridir. aslında burada yapılan işlem bütün gözlem brimlerine giderek\n",
    "#belirli bir ağırlık çerçevesinde nereye gidilmesi gerektiğine karar vermektir. buna beach gradient distence denir. bir diğer \n",
    "#gradient distence yöntemi stokastik gradient distence yönteminde ise her iterasyonda sadece 1 gözlem birimine gidilir. mini beach bir başka\n",
    "#gradient distence yöntemindeyse 5, 10,100 şekinde farklı sayıda gözlem birimine gidilir. biz şu anda bütün gözlem birimlerine gidiyoruz.\n",
    "#her iterasyon demiştik, şu anda b_deriv_sum da bir iterasyon yok.sadece bir tane ağırlık çifti var veriye soktuğum bu ağırlık çiftini\n",
    "#gözlem birimlerinden geçiriyorum. gözlem birimlerinden geçtikten sonra biri sağa biri sola dedi ya tamam be no zaman\n",
    "# ortalam alarak nereye gideceğimi bulup bu şekilde ifade edebiliyorum. daa sonra bunları belirli bir learing rate ile çarptıktan sonra\n",
    "#ağırlıkların eski değerleri ile işleme sokarak yeni ağırlıkları tespit ediyorum. dolayısıyla burada sadece bir tane iterasyon var. bu iterasyonda \n",
    "#başta belirttiğim b ve w ağırlıkları içindir. dolayısıyla ben bir kere update weighti çalıştırırsam bana bir kere güncelleme yapacaktır."
   ]
  },
  {
   "cell_type": "code",
   "execution_count": 70,
   "id": "36312365",
   "metadata": {},
   "outputs": [],
   "source": [
    "# diyelimki ağırlıkları bir kere update ettim daha sonra costu çağırıp hatama baktıktan sonra\n",
    "# bir kere daha updeta işlemi yapabilirim gibi devam edebilirim. bu şekilde belirli bir iterasyon sayısında update \n",
    "# etmem lazım. artık train fonksiyonumu yazıp bütün bu işlemleri belirli bir iterasyon adedince yerine getirebilmenin tanımını\n",
    "#yapmam lazım. aşağıda fonksiyonum."
   ]
  },
  {
   "cell_type": "code",
   "execution_count": 78,
   "id": "73e2183a",
   "metadata": {},
   "outputs": [],
   "source": [
    "# train fonksiyonu\n",
    "\n",
    "def train(Y, initial_b, initial_w, X, learning_rate, num_iters):\n",
    "    \n",
    "    print(\"Starting gradient descent at b = {0}, w = {1}, mse = {2}\".format(initial_b, initial_w,\n",
    "                                                                           cost_function(Y, initial_b, initial_w, X)))#ilk hatanın raporlandığı bölüm.\n",
    "    \n",
    "    \n",
    "    b = initial_b #iterasyon sayıları\n",
    "    w = initial_w #iterasyon sayıları\n",
    "    \n",
    "    cost_history = []\n",
    "    \n",
    "    for i in range(num_iters):\n",
    "        b, w = update_weights(Y, b, w, X, learning_rate)\n",
    "        mse = cost_function(Y, b, w, X)\n",
    "        cost_history.append(mse)\n",
    "        \n",
    "        if i % 100 == 0:\n",
    "            print(\"iter={:d}    b={:.2f}    w={:.4f}    mse{:.4}\".format(i, b, w, mse))\n",
    "            \n",
    "        print(\"After {0} iterations b = {1}, w = {2}, mse = {3}\".format(num_iters, b, w, cost_function(Y, b, w, X)))\n",
    "        return cost_history, b, w"
   ]
  },
  {
   "cell_type": "code",
   "execution_count": 79,
   "id": "d8ea13a0",
   "metadata": {},
   "outputs": [],
   "source": [
    "# train fonksiyonu bütün bu iterasyon süreçlerini göz önünd bulundurarak yapacak\n",
    "#foknsiyona parametre olarak bağımlı değişken Y, çalışmanın başında biizm verecek olduğumuz\n",
    "# ilk ağırlıklar, bağımsız değişken X, learning rate ve num_iters'i verdik, num_iters iterasyon sayısını,\n",
    "# içermektedir.epoc değeri olarak bazı kaynaklarda görebilirsin ancak bu yanlıştır biz şu anda \n",
    "#sinir ağı mimarilerinde değiliz bu yüzden yanlış olur. elimizde olan şey şu anda doğrusal regresyondur.\n",
    "\n",
    "# işlemlere başlamdan öne cost fonksiyonumu çağırıyorum. cost fonksiyonuma bağımlı değişkenimi giriyorum,\n",
    "#bağımsız değişkenimi giriyorum ve verilecek olan başlangıç ağırlıklarını gir ve bunu bana raporla diyorum.\n",
    "#yani gradient descentin başladığı nokta, ağırlıkların ilk değerleri ve bu ağırlıklara karşı ilk ortalama hatam ve\n",
    "#bunları yazdırıp raporluyorum. işe yarıyor mu yaramıyor mu görmek istiyorum.daha sonra b ve w şeklinde girdiğim ağırlıkları\n",
    "#isimlendiriyorum alt satırda. takip etmesi daha kolay olması açısından bu şekilde bir isimlendirme yaptım.\n",
    "#yani biz çalışamnın başında rastgele değerler vereceğim iki tane ağırlık değeri vereceğim. deneye yanıla optimum yere gidecek ya\n",
    "#biz bu ağırlılkarı rastgele vereceğiz, verdikten sonra lışık olduğumuz notasyona geri dönüyorum takip edilebilirlik açısından bu şekilde \n",
    "# isimlendiriyorum. daha sonra cost history diye bir bölümüm var.her iterasyonda hataları hesaplayacağım.10, 100,1000 iterasyon yapma \n",
    "#durumumuz var her iterasyonda bu hataları gözlemleyip bir yerde saklama istiyoruz.bunları da cost history diye bir listeye atacağız.\n",
    "#daha sonra her iterasyonda bunu hareket ettirip optimum noktaya götürecek bölümdeyiz bu bölüm for döngüsü ile başlayan\n",
    "# bölüm. diyelimki 10, 100 , 1000 iterasyon var bakalım ilk iterasyonda neler oluyormuş. birinci iterasyonda update_weightsi çağırıyoruz\n",
    "#şimdi update_weights bizim sana başta verdiğimiz ilk ağırlıklar var sen bu ağırlıkları al ve sen bunları bi güncelle bakalım diyorum.\n",
    "#daha sonra fonksiyona yazdığım parametreleri ve learning rate oranını veriyorum. o da learning rate oranına göre bi güncelleme işlemi yapıyor.\n",
    "#artık yeni iterasyonlarım olduğu için kontrol etmek amacı ile daha sonra cost fonksiyonumu çağırıyorum. ve mse hatama tekrar bakıyorum bir gelşime olup \n",
    "# olmadığını kontrol etmek amacı ile. fonksiyonumu çağırdıktan sonra tekrardan fonksiyona gerekli parametrelerimi veriyorum.\n",
    "#bu sayede mse değerlerim çıkmış oluyor. şu anda birinci iterasyonda ilk ortalama hatam. bu hatayı cost history içerisine \n",
    "#append ile gönderiyorum daha sonrasında. bununla birlikte ilk iterasyon bitmiş oldu. daha sonrasında hala döngünün içerisindeyim ve \n",
    "# bakıyor ifle eğer inin 100e bölümü 0 ise alttaki koşulu çalıştır diyor. ancak ilk iterasyonda olduğum için yani 1 in 100e bölümü 0 olmadığı için \n",
    "#koşul çalışmayacak. yani aslında burası her 100de bir bölümü rapora demektir.bu aşama subjektiftir ben bu aşamalarda raporlama yapmak istedim gibi\n",
    "# düşünülebilir. daha sonra döngü devam ediyor ve 2. iterasyona geldim. dikkat update weightsi birdaha çağırıyorum. sen bu b ve w değerlerini tekrardan al\n",
    "# ve birdaha güncelle bakalım diyorum ve yeni ağırlıklar geliyor. daha sonra yeni ağırlıklara göre costu tekrar çağırıyorum ve yeni ağırlıklara göre yeni hata oranımı \n",
    "#yani mse değerimi tekrardan oluşturuyorum. o da ban sonuç dönüyor ve bunu mse olarak dönüyor. yine bunu döngünün dışındak costun içerisine \n",
    "#gönderiyorum. bu şekilde bunu 10 20, 30 ,100 kere yapıyorum ve her 100e geldiğinde bunu raporluyorum, print ediyorum. printin içerisinde ilgili iter\n",
    "#sayısı şu, ilgili ağırlıkların değerleri bunlar (b,w) ve ortalama hatam bu diyerek raporluyorum. daha sonrasında iterasyon sayısı bittikten sonra \n",
    "#işte şu kadar iterasyon sonrasında ağırlıkların değerleri bunlardır, ortlama hatan da budur diyerek son bir raporlama yapıyorum. daha sonra fonksiyonumda\n",
    "# eğer kullanacak olursam diye cost_historyi ve ağırlıkları return ediyorum. şimdi bunu da çalıştırıyorum."
   ]
  },
  {
   "cell_type": "code",
   "execution_count": 80,
   "id": "c9383e01",
   "metadata": {},
   "outputs": [],
   "source": [
    "# veri setimi baştan okutuyorum.\n",
    "df = pd.read_csv(\"advertising.csv\")"
   ]
  },
  {
   "cell_type": "code",
   "execution_count": 81,
   "id": "c989bd16",
   "metadata": {},
   "outputs": [],
   "source": [
    "# değişkenlerimi oluşturuyorum\n",
    "\n",
    "X = df[\"radio\"] #radio olsun dedim\n",
    "Y = df[\"sales\"] #bu zaten bağımlı değişkenim."
   ]
  },
  {
   "cell_type": "code",
   "execution_count": 82,
   "id": "d392c6f9",
   "metadata": {},
   "outputs": [],
   "source": [
    "#şimdi train fonksiyonumu çalıştıracağım ancak learning rate ne olacak sorum var\n",
    "#başlangıç ağırlıkları ne olacak sorusu var, başlangıç iterasyon sayısı ne olacak soruları var.\n",
    "#şimdi dikkat parametre nedir hiperparametre nedir? parametre modelin veriyi kullanarak veriden hareketle bulduğu değerlerdir.\n",
    "#yani ağırlıklar var ya bu ağırlıklar veri setinden bulunur. hiperparametreler ise veri setinden bulunamayan ve\n",
    "#kullanıcı tarafından ayarlanması gereken parametrelerdir. gelişmiş hiperparametre optimizasyonu konularını\n",
    "#gelişmiş ağaç yöntemleri konusunda ele alıyor olacağız. fakat burada gradient destence yöntemi kullandığımızdan dolayı  kullanıcı \n",
    "# tarafından ayarlanması gereken hiperparametreler sözkonusu. dolayısıyla ucundan dokunmuş olduk. \n",
    "#burada başlangıç learningrat oranı, başlangıç iterasyon sayısı oranı ve başlangıç ağırlık değerlerini bizim kullanıcı olarak\n",
    "# belirtmemiz gerekmektedir. bir lisansüstü sorusu olarak da şu soruya yanıt vermiş oluyoruz. normal denklemler yöntemi ile gradient\n",
    "# descent yöntemi arasında doğrusal regresyon açısından, katsayı bulmak, ağırlık bulmak açısından, ne gibi farklılıklar vardır.\n",
    "#işte olası farklılıklardan biri budur. yani ağırlıları bulma görevim var bunu anlıyoruz. bunu normal denklemler yöntemi ile direkt\n",
    "#analitik şekilde çözdük diğeri bir optimizasyon yöntemiydi sürece dayalı olarak gerçekleşiyordu gradient descent bir diğeri ise \n",
    "# yani yeni tespit ettiğimiz durum ise ayarlanması gereken hiperparametreler vardır. normal denklemler yönteminde böyle bir şey yoktur."
   ]
  },
  {
   "cell_type": "code",
   "execution_count": 83,
   "id": "665fbd4c",
   "metadata": {},
   "outputs": [],
   "source": [
    "#veri setimiz için örnek olabilecek hiperparametre değereleri\n",
    "\n",
    "learning_rate = 0.001 # öğrenme oranı\n",
    "initial_b = 0.001 #başlangıç ağırlıklarım b ve w\n",
    "initial_w = 0.001\n",
    "num_iters = 10000 # iterasyon sayım ise 10bin\n",
    "# nereden biliyorum 0.001 olması gerektiğini? bilmiyorum örnek olarak verdim.\n",
    "# bunları gelişmiş yöntemlerde paramaetre arama uzayında, hiperparametre arama uzayında\n",
    "#ilgili hiperparameter kombinasyonlarını deniyor olacağım. hangisinin daha iyi olabileceğini dneme yanılma yoluyla \n",
    "# gözlemliyor olacağım."
   ]
  },
  {
   "cell_type": "code",
   "execution_count": 86,
   "id": "46da24db",
   "metadata": {},
   "outputs": [
    {
     "name": "stdout",
     "output_type": "stream",
     "text": [
      "Starting gradient descent at b = 0.001, w = 0.001, mse = 222.9477491673001\n",
      "iter=0    b=0.01    w=0.3708    mse53.25\n",
      "After 10000 iterations b = 0.014998235999999988, w = 0.37084814670000027, mse = 53.25401123914189\n"
     ]
    }
   ],
   "source": [
    "# train fonksiyonumu getirerek öğrenme işlemimi başlatıyorum\n",
    "\n",
    "cost_history, b, w = train(Y, initial_b, initial_w, X, learning_rate, num_iters)\n",
    "# belirlediğim iterasyon sayısı kadar bir train etme işlemi yapacak.learning rate ve başlangıç değerlerim var."
   ]
  },
  {
   "cell_type": "code",
   "execution_count": 87,
   "id": "00d1a38d",
   "metadata": {},
   "outputs": [],
   "source": [
    "#bana başında bir raporlama yapmasını istemiştim ve bu raporlamayı başlarken yaptı\n",
    "#onun çıktısı böyle değil her iter için ağırlık çiftleri gözüküyor. daha sonrasında \n",
    "# ortalam hataları gözükmektedir. çıktıyı beğenmediği için değişkenlere atadı."
   ]
  },
  {
   "cell_type": "code",
   "execution_count": 88,
   "id": "13679869",
   "metadata": {},
   "outputs": [
    {
     "data": {
      "text/plain": [
       "[53.25401123914189]"
      ]
     },
     "execution_count": 88,
     "metadata": {},
     "output_type": "execute_result"
    }
   ],
   "source": [
    "cost_history"
   ]
  },
  {
   "cell_type": "code",
   "execution_count": 89,
   "id": "806140dc",
   "metadata": {},
   "outputs": [
    {
     "data": {
      "text/plain": [
       "0.014998235999999988"
      ]
     },
     "execution_count": 89,
     "metadata": {},
     "output_type": "execute_result"
    }
   ],
   "source": [
    "b"
   ]
  },
  {
   "cell_type": "code",
   "execution_count": 90,
   "id": "692207a7",
   "metadata": {},
   "outputs": [
    {
     "data": {
      "text/plain": [
       "0.37084814670000027"
      ]
     },
     "execution_count": 90,
     "metadata": {},
     "output_type": "execute_result"
    }
   ],
   "source": [
    "w"
   ]
  },
  {
   "cell_type": "code",
   "execution_count": null,
   "id": "b57de882",
   "metadata": {},
   "outputs": [],
   "source": [
    "#adım adım gradient descent yöntemini uyguladım projeme ve adım adım hatanın\n",
    "#düşüyor olması lazımdı.\n",
    "# bu bölüm bonus bir bölüm olduğu için öğrenme motivasyonunu bozmamalı zor\n",
    "#bir konuydu. belirli bir veri setiyle çalıştığı için her veriyle çalışmayabilir\n",
    "#bu sadece bir örnekti. sadece teorik olarak bu süreç nsaıl işliyor onu göstermek \n",
    "#için yapılmıştır. \n",
    "# belirli bir yerden sonra haya düşmemeye başladı ne yapılabilir yeni değişkenler eklenebilir\n",
    "# learning rate ile oynanabilir, ya da diğer değerlerle oynanabilir ancak hata alınabilir onlarda.\n"
   ]
  }
 ],
 "metadata": {
  "kernelspec": {
   "display_name": "Python 3 (ipykernel)",
   "language": "python",
   "name": "python3"
  },
  "language_info": {
   "codemirror_mode": {
    "name": "ipython",
    "version": 3
   },
   "file_extension": ".py",
   "mimetype": "text/x-python",
   "name": "python",
   "nbconvert_exporter": "python",
   "pygments_lexer": "ipython3",
   "version": "3.11.5"
  }
 },
 "nbformat": 4,
 "nbformat_minor": 5
}
