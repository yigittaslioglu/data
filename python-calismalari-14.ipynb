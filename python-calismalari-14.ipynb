{
 "cells": [
  {
   "cell_type": "markdown",
   "id": "43c64f36",
   "metadata": {},
   "source": [
    "# hata ve hataları ele almak 10.1"
   ]
  },
  {
   "cell_type": "code",
   "execution_count": 1,
   "id": "8cbeee34",
   "metadata": {},
   "outputs": [],
   "source": [
    "#alabileceğim hatalar ıönceden tahmin edip ona göre kod yazmam lazım"
   ]
  },
  {
   "cell_type": "code",
   "execution_count": 2,
   "id": "1e058839",
   "metadata": {},
   "outputs": [],
   "source": [
    "# error \n",
    "# name error (print(a))\n",
    "# value error int(1a2)\n",
    "# zero devision error (sıfıra bölünemez hatası)\n",
    "# syntax error (yazım hatası)\n",
    "#built in exception kısmına gelme mlazım doctan python.orgtan"
   ]
  },
  {
   "cell_type": "markdown",
   "id": "a8211b93",
   "metadata": {},
   "source": [
    "# hata yönetimi 10.2"
   ]
  },
  {
   "cell_type": "code",
   "execution_count": 3,
   "id": "0b1d5cca",
   "metadata": {},
   "outputs": [],
   "source": [
    "# error handling"
   ]
  },
  {
   "cell_type": "code",
   "execution_count": 9,
   "id": "ab865ed0",
   "metadata": {},
   "outputs": [
    {
     "name": "stdout",
     "output_type": "stream",
     "text": [
      "x: *10\n",
      "x ve ye için sayısal değer girin\n"
     ]
    }
   ],
   "source": [
    "\n",
    "try: # tahmin ettiğim hatayo yazmak için kodumu try içine alıyorum\n",
    "    \n",
    "    x = int(input(\"x: \"))\n",
    "    y = int(input(\"y: \"))\n",
    "    print(x/y)\n",
    "\n",
    "except ZeroDivisionError: #except kısmına da tahmin ettiğim hatayı yazıyorum anca hata göstermez ve benim dediğim şeyi gösterir\n",
    "    print(\"y için 0 girilemez\") #hata için göstermek istediğim yazıyı yazıyorum\n",
    "except ValueError: #bunu ayrı yazmak yerine valueerror kısmını virgülle yukarı yazabilirim zerodan sonra\n",
    "    print(\"x ve ye için sayısal değer girin\")"
   ]
  },
  {
   "cell_type": "code",
   "execution_count": 11,
   "id": "a903a732",
   "metadata": {},
   "outputs": [
    {
     "name": "stdout",
     "output_type": "stream",
     "text": [
      "x: 10\n",
      "y: 2a\n",
      "yanlış bilgi girdiniz\n",
      "invalid literal for int() with base 10: '2a'\n"
     ]
    }
   ],
   "source": [
    "try: \n",
    "    x = int(input(\"x: \"))\n",
    "    y = int(input(\"y: \"))\n",
    "    print(x/y)\n",
    "\n",
    "except (ZeroDivisionError, ValueError) as e: \n",
    "    print(\"yanlış bilgi girdiniz\") \n",
    "    print(e) #bu sayede ne hatası olduğunu gösteriyor\n"
   ]
  },
  {
   "cell_type": "code",
   "execution_count": 1,
   "id": "71e30a2a",
   "metadata": {},
   "outputs": [
    {
     "name": "stdout",
     "output_type": "stream",
     "text": [
      "x: 10\n",
      "y: e\n",
      "yanlış bilgi girdiniz\n"
     ]
    }
   ],
   "source": [
    "try: \n",
    "    x = int(input(\"x: \"))\n",
    "    y = int(input(\"y: \"))\n",
    "    print(x/y)\n",
    "\n",
    "except : \n",
    "    print(\"yanlış bilgi girdiniz\") \n",
    "    "
   ]
  },
  {
   "cell_type": "code",
   "execution_count": 6,
   "id": "ec8239b9",
   "metadata": {},
   "outputs": [
    {
     "name": "stdout",
     "output_type": "stream",
     "text": [
      "x: 10\n",
      "y: a\n",
      "yanlış bilgi girdiniz invalid literal for int() with base 10: 'a'\n",
      "try except sonlandı\n",
      "x: 10\n",
      "y: 2\n",
      "5.0\n",
      "her şey yolunda\n",
      "try except sonlandı\n"
     ]
    }
   ],
   "source": [
    "while True:\n",
    "    try: \n",
    "        x = int(input(\"x: \"))\n",
    "        y = int(input(\"y: \"))\n",
    "        print(x/y)\n",
    "\n",
    "    except Exception as ex: # bu sayede hata kodunu görebilirim\n",
    "        print(\"yanlış bilgi girdiniz\", ex) \n",
    "    else:\n",
    "        print(\"her şey yolunda\")\n",
    "        break\n",
    "# eğer hata oluşursa sormaya devam eder ancak doğru bilgi girilirse break olur\n",
    "    finally: # her zaman çalışır except ya da try çalışsın fark etmez\n",
    "        print(\"try except sonlandı\")# kaynakların kapatılması açısından bu çalıştırılır"
   ]
  },
  {
   "cell_type": "markdown",
   "id": "ae89c1d4",
   "metadata": {},
   "source": [
    "# hata nesnesi oluşturma 10.3"
   ]
  },
  {
   "cell_type": "code",
   "execution_count": 8,
   "id": "2e3be363",
   "metadata": {},
   "outputs": [
    {
     "ename": "Exception",
     "evalue": "x 5ten büyük değer olamaz",
     "output_type": "error",
     "traceback": [
      "\u001b[1;31m---------------------------------------------------------------------------\u001b[0m",
      "\u001b[1;31mException\u001b[0m                                 Traceback (most recent call last)",
      "Cell \u001b[1;32mIn[8], line 3\u001b[0m\n\u001b[0;32m      1\u001b[0m x \u001b[38;5;241m=\u001b[39m \u001b[38;5;241m10\u001b[39m\n\u001b[0;32m      2\u001b[0m \u001b[38;5;28;01mif\u001b[39;00m x \u001b[38;5;241m>\u001b[39m \u001b[38;5;241m5\u001b[39m:\n\u001b[1;32m----> 3\u001b[0m     \u001b[38;5;28;01mraise\u001b[39;00m \u001b[38;5;167;01mException\u001b[39;00m(\u001b[38;5;124m\"\u001b[39m\u001b[38;5;124mx 5ten büyük değer olamaz\u001b[39m\u001b[38;5;124m\"\u001b[39m)\n",
      "\u001b[1;31mException\u001b[0m: x 5ten büyük değer olamaz"
     ]
    }
   ],
   "source": [
    "x = 10\n",
    "if x > 5:\n",
    "    raise Exception(\"x 5ten büyük değer olamaz\") #bu alanda exception fırlatabilmek için raise komutunu kulanıyorum dah asonra exception yazıp istediğim hatayı içine yazıyorum\n",
    "    "
   ]
  },
  {
   "cell_type": "code",
   "execution_count": 20,
   "id": "0fe597c8",
   "metadata": {},
   "outputs": [
    {
     "name": "stdout",
     "output_type": "stream",
     "text": [
      "parola geçerli\n",
      "geçerli parola\n",
      "validation tamamlandı\n"
     ]
    }
   ],
   "source": [
    "def check_password(psw):\n",
    "    import re #regular exception moodülünü import edip exeption kontrollerini yapabilirim\n",
    "    if len(psw) < 8:\n",
    "        raise Exception(\"parola en az 7 karakter olmalı\")\n",
    "    elif not re.search(\"[a-z]\", psw): # re de search modülü var bu alanda a'dan zye kadar olacak tüm küçük harfleri temsil edecek ve ikinci parametre parolam olacak eğer true dönerse raise ile exception fırlatacağım uyaracağım çünkü parola küçük harf olmalı\n",
    "        raise Exception(\"parola küçük harf içermelidir\")\n",
    "    elif not re.search(\"[A-Z]\", psw):\n",
    "        raise Exception(\"parola büyük harf içermelidir\")       \n",
    "    elif not re.search(\"[0-9]\", psw):\n",
    "        raise Exception(\"parola rakam içermelidir\")\n",
    "    elif not re.search(\"[_@$]\", psw):\n",
    "        raise Exception(\"parola alfa numerik karakter içermelidir\")\n",
    "    elif re.search(\"\\s\",psw): #burada parola boşluk içerip içermediğini kontrol ediyorum\n",
    "        raise Exception(\"parola boşluk içermemelidir\")\n",
    "    else:\n",
    "        print(\"parola geçerli\")\n",
    "        \n",
    "password = \"12345678aD@\"\n",
    "\n",
    "try:\n",
    "    check_password(password)\n",
    "except Exception as ex:\n",
    "    print(ex)\n",
    "else:\n",
    "    print(\"geçerli parola\")\n",
    "finally:\n",
    "    print(\"validation tamamlandı\")"
   ]
  },
  {
   "cell_type": "code",
   "execution_count": 21,
   "id": "9f4e6143",
   "metadata": {},
   "outputs": [
    {
     "ename": "Exception",
     "evalue": "name alanı fazla karakter içeriyor",
     "output_type": "error",
     "traceback": [
      "\u001b[1;31m---------------------------------------------------------------------------\u001b[0m",
      "\u001b[1;31mException\u001b[0m                                 Traceback (most recent call last)",
      "Cell \u001b[1;32mIn[21], line 8\u001b[0m\n\u001b[0;32m      5\u001b[0m         \u001b[38;5;28;01melse\u001b[39;00m:\n\u001b[0;32m      6\u001b[0m             \u001b[38;5;28mself\u001b[39m\u001b[38;5;241m.\u001b[39mname \u001b[38;5;241m=\u001b[39m name\n\u001b[1;32m----> 8\u001b[0m p \u001b[38;5;241m=\u001b[39m \u001b[43mPerson\u001b[49m\u001b[43m(\u001b[49m\u001b[38;5;124;43m\"\u001b[39;49m\u001b[38;5;124;43maliiiiiiiiii\u001b[39;49m\u001b[38;5;124;43m\"\u001b[39;49m\u001b[43m,\u001b[49m\u001b[38;5;241;43m1989\u001b[39;49m\u001b[43m)\u001b[49m\n",
      "Cell \u001b[1;32mIn[21], line 4\u001b[0m, in \u001b[0;36mPerson.__init__\u001b[1;34m(self, name, year)\u001b[0m\n\u001b[0;32m      2\u001b[0m \u001b[38;5;28;01mdef\u001b[39;00m \u001b[38;5;21m__init__\u001b[39m(\u001b[38;5;28mself\u001b[39m,name,year):\n\u001b[0;32m      3\u001b[0m     \u001b[38;5;28;01mif\u001b[39;00m \u001b[38;5;28mlen\u001b[39m(name) \u001b[38;5;241m>\u001b[39m \u001b[38;5;241m10\u001b[39m:\n\u001b[1;32m----> 4\u001b[0m         \u001b[38;5;28;01mraise\u001b[39;00m \u001b[38;5;167;01mException\u001b[39;00m(\u001b[38;5;124m\"\u001b[39m\u001b[38;5;124mname alanı fazla karakter içeriyor\u001b[39m\u001b[38;5;124m\"\u001b[39m)\n\u001b[0;32m      5\u001b[0m     \u001b[38;5;28;01melse\u001b[39;00m:\n\u001b[0;32m      6\u001b[0m         \u001b[38;5;28mself\u001b[39m\u001b[38;5;241m.\u001b[39mname \u001b[38;5;241m=\u001b[39m name\n",
      "\u001b[1;31mException\u001b[0m: name alanı fazla karakter içeriyor"
     ]
    }
   ],
   "source": [
    "class Person:\n",
    "    def __init__(self,name,year):\n",
    "        if len(name) > 10:\n",
    "            raise Exception(\"name alanı fazla karakter içeriyor\")\n",
    "        else:\n",
    "            self.name = name\n",
    "            \n",
    "p = Person(\"aliiiiiiiiii\",1989) # bu şekilde istediğim bir alan aistediğim bilgi gitmiş mi emin olabilirim ve kontrolünü yapabilirim"
   ]
  },
  {
   "cell_type": "markdown",
   "id": "e9ca5000",
   "metadata": {},
   "source": [
    "# hataları ele almak uygulama 10.4"
   ]
  },
  {
   "cell_type": "code",
   "execution_count": 22,
   "id": "521182db",
   "metadata": {},
   "outputs": [],
   "source": [
    "liste = [\"1\", \"2\", \"5a\", \"10b\", \"abc\", \"10\", \"50\"]\n",
    "\n",
    "# 1-listedeki sayısal değerleri bulunuz\n",
    "#2- kullanıcı \"q\" değerini girmedikçe aldığınız her inputun asyısal olduğundan emin olun aksi halde hata mesajı yazın\n",
    "#3- girilen parola iiçnde türkçe karakter hatası verin\n",
    "#4- faktöriyl fonksiyonu oluşturup fonksiyona gelen değer için hata mesajı verin örn negatif değer ve sayısa lolmayan değer için"
   ]
  },
  {
   "cell_type": "code",
   "execution_count": 23,
   "id": "aaeac438",
   "metadata": {},
   "outputs": [
    {
     "name": "stdout",
     "output_type": "stream",
     "text": [
      "1\n",
      "2\n",
      "10\n",
      "50\n"
     ]
    }
   ],
   "source": [
    "#1-\n",
    "for x in liste:\n",
    "    try:\n",
    "        result = int(x)\n",
    "        print(result)\n",
    "    except ValueError:\n",
    "        continue # listede sayılsa değer görmeyince bir sonraki değere geçecek"
   ]
  },
  {
   "cell_type": "code",
   "execution_count": 28,
   "id": "fb27c7fb",
   "metadata": {},
   "outputs": [
    {
     "name": "stdout",
     "output_type": "stream",
     "text": [
      "say: f\n",
      "geçersiz sayı\n",
      "say: d\n",
      "geçersiz sayı\n",
      "say: s\n",
      "geçersiz sayı\n",
      "say: a\n",
      "geçersiz sayı\n",
      "say: 3\n",
      "girdiğiniz sayı:  3.0\n"
     ]
    }
   ],
   "source": [
    "#2-\n",
    "while True:\n",
    "    sayi = input(\"say: \")\n",
    "    if sayi == \"q\":\n",
    "        break\n",
    "        \n",
    "    try:\n",
    "        result = float(sayi)\n",
    "        print(\"girdiğiniz sayı: \", result)\n",
    "        break\n",
    "    except ValueError:\n",
    "        print(\"geçersiz sayı\")\n",
    "        continue"
   ]
  },
  {
   "cell_type": "code",
   "execution_count": 32,
   "id": "e079f39f",
   "metadata": {},
   "outputs": [
    {
     "name": "stdout",
     "output_type": "stream",
     "text": [
      "parola: sadik\n",
      "geçerli parola\n"
     ]
    }
   ],
   "source": [
    "#3-\n",
    "\n",
    "def check(parola):\n",
    "    \n",
    "    turkce = \"çşğüöıİ\"\n",
    "\n",
    "    for i in parola:\n",
    "        if i in turkce:\n",
    "            raise TypeError(\"parola türkçe karakter içeremez\")\n",
    "        else:\n",
    "            pass\n",
    "    print(\"geçerli parola\")\n",
    "    \n",
    "parola = input(\"parola: \")\n",
    "\n",
    "try:\n",
    "    check(parola)\n",
    "except TypeError as err:\n",
    "    print(err)"
   ]
  },
  {
   "cell_type": "code",
   "execution_count": 35,
   "id": "de390017",
   "metadata": {},
   "outputs": [
    {
     "name": "stdout",
     "output_type": "stream",
     "text": [
      "120\n",
      "3628800\n",
      "2432902008176640000\n",
      "nagetif değer\n",
      "invalid literal for int() with base 10: '10a'\n"
     ]
    }
   ],
   "source": [
    "#4- \n",
    "def faktoriyel(x):\n",
    "    x = int(x)\n",
    "    \n",
    "    if x < 0:\n",
    "        raise ValueError(\"nagetif değer\")\n",
    "        \n",
    "    result = 1\n",
    "    \n",
    "    for i in range(1, x+1): # girilen sayıya kadar sayıların çarpımını bulup geriye göndermek\n",
    "        result *= i\n",
    "        \n",
    "    return result\n",
    "\n",
    "for x in [5,10,20,-3,\"10a\"]:\n",
    "    try:\n",
    "        y = faktoriyel(x)\n",
    "    except ValueError as err:\n",
    "        print(err)\n",
    "        continue # hata olsa bile bir sonraki eleman geçsin\n",
    "    print(y)"
   ]
  },
  {
   "cell_type": "code",
   "execution_count": null,
   "id": "2d4aca47",
   "metadata": {},
   "outputs": [],
   "source": []
  }
 ],
 "metadata": {
  "kernelspec": {
   "display_name": "Python 3 (ipykernel)",
   "language": "python",
   "name": "python3"
  },
  "language_info": {
   "codemirror_mode": {
    "name": "ipython",
    "version": 3
   },
   "file_extension": ".py",
   "mimetype": "text/x-python",
   "name": "python",
   "nbconvert_exporter": "python",
   "pygments_lexer": "ipython3",
   "version": "3.10.9"
  }
 },
 "nbformat": 4,
 "nbformat_minor": 5
}
