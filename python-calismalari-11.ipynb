{
 "cells": [
  {
   "cell_type": "markdown",
   "id": "7cd6e8d1",
   "metadata": {},
   "source": [
    "## 8.3 nesne tabanlı programlama metodlar"
   ]
  },
  {
   "cell_type": "code",
   "execution_count": 1,
   "id": "23bccbfb",
   "metadata": {},
   "outputs": [
    {
     "name": "stdout",
     "output_type": "stream",
     "text": [
      "init metodu çalıştı\n",
      "init metodu çalıştı\n",
      "hello there. I am ali\n",
      "hello there. I am yiğit\n",
      "adım: ali, yaşım: 28\n",
      "adım: yiğit, yaşım: 25\n"
     ]
    }
   ],
   "source": [
    "class Person:\n",
    "    \n",
    "    #class attributes\n",
    "    address = \"no information\"\n",
    "    \n",
    "    #constructor ( yapıcı metod)\n",
    "    def __init__(self, name, year):\n",
    "        \n",
    "        #object attributes\n",
    "        self.name = name\n",
    "        self.year = year\n",
    "        print(\"init metodu çalıştı\")\n",
    "        \n",
    "     #insstance methods\n",
    "    def intro(self): #instance methods olduğu için yani objelere hizmet edeceği için self parametresini vermem lazım\n",
    "        print(\"hello there. I am \" + self.name)\n",
    "        \n",
    "    def calculate(self):\n",
    "        return 2023 - self.year\n",
    "        \n",
    "#object (instance)        \n",
    "p1 = Person(name = \"ali\", year = 1995)\n",
    "p2 = Person(name = \"yiğit\", year = 1998)\n",
    "\n",
    "p1.intro() #print(\"hello there. I am \" + self.name) yazdırır\n",
    "p2.intro() # artık ismi değişti ve yiğit oldu\n",
    "\n",
    "print(f\"adım: {p1.name}, yaşım: {p1.calculate()}\")\n",
    "# yine yadığım fonksyionu prametre gibi de çağırabilirim\n",
    "# ve f string şeklinde de yazabilirim\n",
    "print(f\"adım: {p2.name}, yaşım: {p2.calculate()}\")"
   ]
  },
  {
   "cell_type": "code",
   "execution_count": 2,
   "id": "174d7af3",
   "metadata": {},
   "outputs": [
    {
     "name": "stdout",
     "output_type": "stream",
     "text": [
      "c1 : alan = 3.14, çevre = 6.28\n",
      "c2 : alan = 78.5, çevre = 31.400000000000002\n"
     ]
    }
   ],
   "source": [
    "class Circle:\n",
    "    # class object attribute\n",
    "    pi = 3.14\n",
    "    \n",
    "    def __init__(self, yaricap=1):\n",
    "        self.yaricap = yaricap\n",
    "        \n",
    "    #methods\n",
    "    \n",
    "    def cevrehesapla(self):\n",
    "        return 2 * self.pi * self.yaricap\n",
    "    \n",
    "    def alanhesapla(self):\n",
    "        return self.pi * (self.yaricap ** 2)\n",
    "    \n",
    "    \n",
    "c1 = Circle() # yaricap1 = 1\n",
    "c2 = Circle(5)\n",
    "\n",
    "print(f\"c1 : alan = {c1.alanhesapla()}, çevre = {c1.cevrehesapla()}\")\n",
    "print(f\"c2 : alan = {c2.alanhesapla()}, çevre = {c2.cevrehesapla()}\")"
   ]
  },
  {
   "cell_type": "markdown",
   "id": "6fc0e105",
   "metadata": {},
   "source": [
    "## nesne tabanlı programlama inheritance(kalıtım) 8.4"
   ]
  },
  {
   "cell_type": "code",
   "execution_count": 3,
   "id": "40ef1543",
   "metadata": {},
   "outputs": [],
   "source": [
    "# inheritance miras almakla ilgilidir\n",
    "\n",
    "#person => name, lastname, age, aet(),run(), drink()\n",
    "\n",
    "#student()person, teacher(person) burada student ve teacher için tanımlayacağım tüm bilgileri yukarıda yazarak\n",
    "# birdaha aynı bilgileri student ve teacher için ayrı ayrı tanımlamıyorum\n",
    "\n",
    "#burada person temel sınıf teacher ve studenta miras verece"
   ]
  },
  {
   "cell_type": "code",
   "execution_count": 21,
   "id": "54bb0d02",
   "metadata": {},
   "outputs": [
    {
     "name": "stdout",
     "output_type": "stream",
     "text": [
      "person created\n",
      "person created\n",
      "student created\n",
      "ali yılmaz\n",
      "yeşim kiraz 1234\n",
      "ı am a person\n",
      "ı am e student\n",
      "ı am eating\n",
      "ı am eating\n",
      "hello ı am a student bro\n",
      "person created\n",
      "ı am a math teacher\n"
     ]
    }
   ],
   "source": [
    "class Person():\n",
    "    def __init__(self, fname, lname):\n",
    "        self.firstname = fname\n",
    "        self.lastname = lname \n",
    "        print(\"person created\")\n",
    "        \n",
    "    def who(self):\n",
    "        print(\"ı am a person\")\n",
    "        \n",
    "    def eat(self):\n",
    "        print(\"ı am eating\")\n",
    "        \n",
    "class Student(Person): # personun sahip olmuş olduğu tüm özelliklere student da sahip olmuş oluyor\n",
    "    def __init__(self, fname, lname, number):\n",
    "        Person.__init__(self, fname, lname) #bunu Studentın init metodu personun init metodunu ezeceği için yazdım bu sayede ezmede n çalışabilecek\n",
    "        self.studentnumber = number\n",
    "        print(\"student created\")#artık ikisi de ezilmeden çalışır\n",
    "        \n",
    "    def who(self): #aynı isimdeki metod temel sınıftaki metodu ezer buna override denir\n",
    "        print(\"ı am e student\") #person metodunu ezdiğim bir fonksiyon\n",
    "        \n",
    "    def hello(self):\n",
    "        print(\"hello ı am a student bro\")\n",
    "        \n",
    "class Teacher(Person):\n",
    "    def __init__(self,fname, lname, branch): #temel sınıftaki parametreleri eklemeliyim\n",
    "        #person nokta init yazmak yerine ezmesin diye super metodu var kullanılan\n",
    "        super().__init__(fname,lname) #bu sayede self yazmama gerek kalmıyor sadece init çağıırıp normal parametreleri veriyorum\n",
    "        self.branch = branch\n",
    "        \n",
    "    def who(self):\n",
    "        print(f\"ı am a {self.branch} teacher\")\n",
    "        \n",
    "p1 = Person(\"ali\", \"yılmaz\")\n",
    "s1 = Student(\"yeşim\", \"kiraz\", 1234) #bunu çağırmam personun init metodunu tekrar çağırmasına nede noldu\n",
    "\n",
    "print(p1.firstname + \" \" + p1.lastname)\n",
    "print(s1.firstname + \" \" +s1.lastname + \" \" +str(s1.studentnumber))\n",
    "\n",
    "p1.who()\n",
    "s1.who()\n",
    "\n",
    "p1.eat()\n",
    "s1.eat()\n",
    "\n",
    "s1.hello()\n",
    "\n",
    "t1 = Teacher(\"serkan\", \"yılmaz\", \"math\")\n",
    "t1.who()"
   ]
  },
  {
   "cell_type": "markdown",
   "id": "d32faa2a",
   "metadata": {},
   "source": [
    " ## 8.5 nesne tabanlı pogramlama özel metodlar"
   ]
  },
  {
   "cell_type": "code",
   "execution_count": 24,
   "id": "ba3f0a3f",
   "metadata": {},
   "outputs": [
    {
     "name": "stdout",
     "output_type": "stream",
     "text": [
      "3\n",
      "9\n"
     ]
    }
   ],
   "source": [
    "mylist = [1,2,3]\n",
    "mystr = \"my string\" # len metodu her obje için farklı çalışıyor yani\n",
    "\n",
    "print(len(mylist))\n",
    "print(len(mystr))"
   ]
  },
  {
   "cell_type": "code",
   "execution_count": 41,
   "id": "b9c68224",
   "metadata": {},
   "outputs": [
    {
     "name": "stdout",
     "output_type": "stream",
     "text": [
      "movie objesi çalıştı\n",
      "film adı by yönetmen adı\n"
     ]
    }
   ],
   "source": [
    "class Movie():\n",
    "    def __init__(self, title, director, duration):\n",
    "        self.title = title\n",
    "        self.director = director\n",
    "        self.duration = duration\n",
    "        print(\"movie objesi çalıştı\")\n",
    "        \n",
    "    def __str__(self): # str parantezine aldığımda aslında bu fonksiyon çalışır ve bunu kendim de yazabilirim\n",
    "        return f\"{self.title} by {self.director}\"\n",
    "    \n",
    "    def __len__(self): # len metodu normalde çalışmıyordu ancak kendim yazdığımda çalıştı\n",
    "        return self.duration\n",
    "    def __del__(self):\n",
    "        print(\"movie silindi\")\n",
    "\n",
    "     \n",
    "m = Movie(\"film adı\", \"yönetmen adı\", 120)\n",
    "\n",
    "#print(len(m))\n",
    "#print(type(m)) #movie için len metodu çalışmaz yani class için \n",
    "\n",
    "#print(len(mylist))\n",
    "#print(len(m))\n",
    "print(str(m))\n",
    "#del m\n",
    "#print(m)"
   ]
  },
  {
   "cell_type": "code",
   "execution_count": 42,
   "id": "b65b903c",
   "metadata": {},
   "outputs": [],
   "source": [
    "# diğer pythonda özel metodları bulmak için python special methods yazabilirim informit.coma bakabilirim"
   ]
  },
  {
   "cell_type": "code",
   "execution_count": null,
   "id": "b4e4f7c7",
   "metadata": {},
   "outputs": [],
   "source": []
  }
 ],
 "metadata": {
  "kernelspec": {
   "display_name": "Python 3 (ipykernel)",
   "language": "python",
   "name": "python3"
  },
  "language_info": {
   "codemirror_mode": {
    "name": "ipython",
    "version": 3
   },
   "file_extension": ".py",
   "mimetype": "text/x-python",
   "name": "python",
   "nbconvert_exporter": "python",
   "pygments_lexer": "ipython3",
   "version": "3.10.9"
  }
 },
 "nbformat": 4,
 "nbformat_minor": 5
}
