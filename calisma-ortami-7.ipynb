{
 "cells": [
  {
   "cell_type": "markdown",
   "id": "ea6962f3",
   "metadata": {},
   "source": [
    "# 10 Feature Engineering "
   ]
  },
  {
   "cell_type": "markdown",
   "id": "2c54bf7e",
   "metadata": {},
   "source": [
    "## 5- Uygulama"
   ]
  },
  {
   "cell_type": "markdown",
   "id": "cf583d13",
   "metadata": {},
   "source": [
    "### 1- Feature Engineering & Data Preprocessing Uygulama"
   ]
  },
  {
   "cell_type": "markdown",
   "id": "abc0210a",
   "metadata": {},
   "source": [
    "##### Titanik veri setini kullanarak gördüğümüz tüm konuları kapsayacak şekilde ele alıyor olacağız"
   ]
  },
  {
   "cell_type": "code",
   "execution_count": 1,
   "id": "d2473d23",
   "metadata": {},
   "outputs": [
    {
     "name": "stdout",
     "output_type": "stream",
     "text": [
      "Defaulting to user installation because normal site-packages is not writeable\n",
      "Requirement already satisfied: missingno in c:\\users\\asus\\appdata\\roaming\\python\\python311\\site-packages (0.5.2)\n",
      "Requirement already satisfied: numpy in c:\\programdata\\anaconda3\\lib\\site-packages (from missingno) (1.24.3)\n",
      "Requirement already satisfied: matplotlib in c:\\programdata\\anaconda3\\lib\\site-packages (from missingno) (3.7.2)\n",
      "Requirement already satisfied: scipy in c:\\programdata\\anaconda3\\lib\\site-packages (from missingno) (1.11.1)\n",
      "Requirement already satisfied: seaborn in c:\\programdata\\anaconda3\\lib\\site-packages (from missingno) (0.12.2)\n",
      "Requirement already satisfied: contourpy>=1.0.1 in c:\\programdata\\anaconda3\\lib\\site-packages (from matplotlib->missingno) (1.0.5)\n",
      "Requirement already satisfied: cycler>=0.10 in c:\\programdata\\anaconda3\\lib\\site-packages (from matplotlib->missingno) (0.11.0)\n",
      "Requirement already satisfied: fonttools>=4.22.0 in c:\\programdata\\anaconda3\\lib\\site-packages (from matplotlib->missingno) (4.25.0)\n",
      "Requirement already satisfied: kiwisolver>=1.0.1 in c:\\programdata\\anaconda3\\lib\\site-packages (from matplotlib->missingno) (1.4.4)\n",
      "Requirement already satisfied: packaging>=20.0 in c:\\programdata\\anaconda3\\lib\\site-packages (from matplotlib->missingno) (23.1)\n",
      "Requirement already satisfied: pillow>=6.2.0 in c:\\programdata\\anaconda3\\lib\\site-packages (from matplotlib->missingno) (9.4.0)\n",
      "Requirement already satisfied: pyparsing<3.1,>=2.3.1 in c:\\programdata\\anaconda3\\lib\\site-packages (from matplotlib->missingno) (3.0.9)\n",
      "Requirement already satisfied: python-dateutil>=2.7 in c:\\programdata\\anaconda3\\lib\\site-packages (from matplotlib->missingno) (2.8.2)\n",
      "Requirement already satisfied: pandas>=0.25 in c:\\programdata\\anaconda3\\lib\\site-packages (from seaborn->missingno) (2.0.3)\n",
      "Requirement already satisfied: pytz>=2020.1 in c:\\programdata\\anaconda3\\lib\\site-packages (from pandas>=0.25->seaborn->missingno) (2023.3.post1)\n",
      "Requirement already satisfied: tzdata>=2022.1 in c:\\programdata\\anaconda3\\lib\\site-packages (from pandas>=0.25->seaborn->missingno) (2023.3)\n",
      "Requirement already satisfied: six>=1.5 in c:\\programdata\\anaconda3\\lib\\site-packages (from python-dateutil>=2.7->matplotlib->missingno) (1.16.0)\n"
     ]
    }
   ],
   "source": [
    "import numpy as np\n",
    "import pandas as pd\n",
    "import matplotlib.pyplot as plt\n",
    "import seaborn as sns\n",
    "!pip install missingno\n",
    "import missingno as msno\n",
    "from datetime import date\n",
    "from sklearn.metrics import accuracy_score\n",
    "from sklearn.model_selection import train_test_split\n",
    "from sklearn.neighbors import LocalOutlierFactor #çok değişkenli ayıklama yöntemi bunkarı gptye sor\n",
    "from sklearn.preprocessing import MinMaxScaler, LabelEncoder, StandardScaler, RobustScaler #standartlaştırma ve dönüştürme fonksiyonları\n"
   ]
  },
  {
   "cell_type": "code",
   "execution_count": 2,
   "id": "ae5d8894",
   "metadata": {},
   "outputs": [
    {
     "data": {
      "text/html": [
       "<div>\n",
       "<style scoped>\n",
       "    .dataframe tbody tr th:only-of-type {\n",
       "        vertical-align: middle;\n",
       "    }\n",
       "\n",
       "    .dataframe tbody tr th {\n",
       "        vertical-align: top;\n",
       "    }\n",
       "\n",
       "    .dataframe thead th {\n",
       "        text-align: right;\n",
       "    }\n",
       "</style>\n",
       "<table border=\"1\" class=\"dataframe\">\n",
       "  <thead>\n",
       "    <tr style=\"text-align: right;\">\n",
       "      <th></th>\n",
       "      <th>PassengerId</th>\n",
       "      <th>Survived</th>\n",
       "      <th>Pclass</th>\n",
       "      <th>Name</th>\n",
       "      <th>Sex</th>\n",
       "      <th>Age</th>\n",
       "      <th>SibSp</th>\n",
       "      <th>Parch</th>\n",
       "      <th>Ticket</th>\n",
       "      <th>Fare</th>\n",
       "      <th>Cabin</th>\n",
       "      <th>Embarked</th>\n",
       "    </tr>\n",
       "  </thead>\n",
       "  <tbody>\n",
       "    <tr>\n",
       "      <th>0</th>\n",
       "      <td>1</td>\n",
       "      <td>0</td>\n",
       "      <td>3</td>\n",
       "      <td>Braund, Mr. Owen Harris</td>\n",
       "      <td>male</td>\n",
       "      <td>22.0</td>\n",
       "      <td>1</td>\n",
       "      <td>0</td>\n",
       "      <td>A/5 21171</td>\n",
       "      <td>7.2500</td>\n",
       "      <td>NaN</td>\n",
       "      <td>S</td>\n",
       "    </tr>\n",
       "    <tr>\n",
       "      <th>1</th>\n",
       "      <td>2</td>\n",
       "      <td>1</td>\n",
       "      <td>1</td>\n",
       "      <td>Cumings, Mrs. John Bradley (Florence Briggs Th...</td>\n",
       "      <td>female</td>\n",
       "      <td>38.0</td>\n",
       "      <td>1</td>\n",
       "      <td>0</td>\n",
       "      <td>PC 17599</td>\n",
       "      <td>71.2833</td>\n",
       "      <td>C85</td>\n",
       "      <td>C</td>\n",
       "    </tr>\n",
       "    <tr>\n",
       "      <th>2</th>\n",
       "      <td>3</td>\n",
       "      <td>1</td>\n",
       "      <td>3</td>\n",
       "      <td>Heikkinen, Miss. Laina</td>\n",
       "      <td>female</td>\n",
       "      <td>26.0</td>\n",
       "      <td>0</td>\n",
       "      <td>0</td>\n",
       "      <td>STON/O2. 3101282</td>\n",
       "      <td>7.9250</td>\n",
       "      <td>NaN</td>\n",
       "      <td>S</td>\n",
       "    </tr>\n",
       "    <tr>\n",
       "      <th>3</th>\n",
       "      <td>4</td>\n",
       "      <td>1</td>\n",
       "      <td>1</td>\n",
       "      <td>Futrelle, Mrs. Jacques Heath (Lily May Peel)</td>\n",
       "      <td>female</td>\n",
       "      <td>35.0</td>\n",
       "      <td>1</td>\n",
       "      <td>0</td>\n",
       "      <td>113803</td>\n",
       "      <td>53.1000</td>\n",
       "      <td>C123</td>\n",
       "      <td>S</td>\n",
       "    </tr>\n",
       "    <tr>\n",
       "      <th>4</th>\n",
       "      <td>5</td>\n",
       "      <td>0</td>\n",
       "      <td>3</td>\n",
       "      <td>Allen, Mr. William Henry</td>\n",
       "      <td>male</td>\n",
       "      <td>35.0</td>\n",
       "      <td>0</td>\n",
       "      <td>0</td>\n",
       "      <td>373450</td>\n",
       "      <td>8.0500</td>\n",
       "      <td>NaN</td>\n",
       "      <td>S</td>\n",
       "    </tr>\n",
       "  </tbody>\n",
       "</table>\n",
       "</div>"
      ],
      "text/plain": [
       "   PassengerId  Survived  Pclass  \\\n",
       "0            1         0       3   \n",
       "1            2         1       1   \n",
       "2            3         1       3   \n",
       "3            4         1       1   \n",
       "4            5         0       3   \n",
       "\n",
       "                                                Name     Sex   Age  SibSp  \\\n",
       "0                            Braund, Mr. Owen Harris    male  22.0      1   \n",
       "1  Cumings, Mrs. John Bradley (Florence Briggs Th...  female  38.0      1   \n",
       "2                             Heikkinen, Miss. Laina  female  26.0      0   \n",
       "3       Futrelle, Mrs. Jacques Heath (Lily May Peel)  female  35.0      1   \n",
       "4                           Allen, Mr. William Henry    male  35.0      0   \n",
       "\n",
       "   Parch            Ticket     Fare Cabin Embarked  \n",
       "0      0         A/5 21171   7.2500   NaN        S  \n",
       "1      0          PC 17599  71.2833   C85        C  \n",
       "2      0  STON/O2. 3101282   7.9250   NaN        S  \n",
       "3      0            113803  53.1000  C123        S  \n",
       "4      0            373450   8.0500   NaN        S  "
      ]
     },
     "execution_count": 2,
     "metadata": {},
     "output_type": "execute_result"
    }
   ],
   "source": [
    "df = pd.read_csv(\"titanic.csv\")\n",
    "\n",
    "df.head()"
   ]
  },
  {
   "cell_type": "code",
   "execution_count": 3,
   "id": "0838c9dc",
   "metadata": {},
   "outputs": [
    {
     "data": {
      "text/plain": [
       "(891, 12)"
      ]
     },
     "execution_count": 3,
     "metadata": {},
     "output_type": "execute_result"
    }
   ],
   "source": [
    "df.shape #veri setimde 891 gözlem birimi ve 12 değişken bulunmaktadır.\n",
    "#ve titanic yolcularının hayatta kalıp kalmama odağında yolcuların idleri, \n",
    "#yolcuların yolculuk sınıfları, cinsiyet, isim ,yaş, akrabalık ilişkileri, ticket, fare, cabin\n",
    "# embarked gibi değişkenleri bulunmaktadır. bu problemde ana hedef insanların hayatta kalıp alamayacağını modelleyebilmektir."
   ]
  },
  {
   "cell_type": "markdown",
   "id": "7b3ad067",
   "metadata": {},
   "source": [
    "##### değişken üretme ve veri önişleme bölümlerinin hepsini birlikte toparlamış olacağız"
   ]
  },
  {
   "cell_type": "code",
   "execution_count": 4,
   "id": "5d73861d",
   "metadata": {},
   "outputs": [],
   "source": [
    "# değişken isimlelrinin büyük küçük harflerden oluşuyor olmasını değiştireceğim.\n",
    "#hepsini büyük harf yapacağım\n",
    "\n",
    "df.columns = [col.upper() for col in df.columns] #df sütunlarında gez yakaladığın isimleri büyük harf yap"
   ]
  },
  {
   "cell_type": "code",
   "execution_count": 5,
   "id": "88e0cc28",
   "metadata": {},
   "outputs": [
    {
     "data": {
      "text/html": [
       "<div>\n",
       "<style scoped>\n",
       "    .dataframe tbody tr th:only-of-type {\n",
       "        vertical-align: middle;\n",
       "    }\n",
       "\n",
       "    .dataframe tbody tr th {\n",
       "        vertical-align: top;\n",
       "    }\n",
       "\n",
       "    .dataframe thead th {\n",
       "        text-align: right;\n",
       "    }\n",
       "</style>\n",
       "<table border=\"1\" class=\"dataframe\">\n",
       "  <thead>\n",
       "    <tr style=\"text-align: right;\">\n",
       "      <th></th>\n",
       "      <th>PASSENGERID</th>\n",
       "      <th>SURVIVED</th>\n",
       "      <th>PCLASS</th>\n",
       "      <th>NAME</th>\n",
       "      <th>SEX</th>\n",
       "      <th>AGE</th>\n",
       "      <th>SIBSP</th>\n",
       "      <th>PARCH</th>\n",
       "      <th>TICKET</th>\n",
       "      <th>FARE</th>\n",
       "      <th>CABIN</th>\n",
       "      <th>EMBARKED</th>\n",
       "    </tr>\n",
       "  </thead>\n",
       "  <tbody>\n",
       "    <tr>\n",
       "      <th>0</th>\n",
       "      <td>1</td>\n",
       "      <td>0</td>\n",
       "      <td>3</td>\n",
       "      <td>Braund, Mr. Owen Harris</td>\n",
       "      <td>male</td>\n",
       "      <td>22.0</td>\n",
       "      <td>1</td>\n",
       "      <td>0</td>\n",
       "      <td>A/5 21171</td>\n",
       "      <td>7.2500</td>\n",
       "      <td>NaN</td>\n",
       "      <td>S</td>\n",
       "    </tr>\n",
       "    <tr>\n",
       "      <th>1</th>\n",
       "      <td>2</td>\n",
       "      <td>1</td>\n",
       "      <td>1</td>\n",
       "      <td>Cumings, Mrs. John Bradley (Florence Briggs Th...</td>\n",
       "      <td>female</td>\n",
       "      <td>38.0</td>\n",
       "      <td>1</td>\n",
       "      <td>0</td>\n",
       "      <td>PC 17599</td>\n",
       "      <td>71.2833</td>\n",
       "      <td>C85</td>\n",
       "      <td>C</td>\n",
       "    </tr>\n",
       "    <tr>\n",
       "      <th>2</th>\n",
       "      <td>3</td>\n",
       "      <td>1</td>\n",
       "      <td>3</td>\n",
       "      <td>Heikkinen, Miss. Laina</td>\n",
       "      <td>female</td>\n",
       "      <td>26.0</td>\n",
       "      <td>0</td>\n",
       "      <td>0</td>\n",
       "      <td>STON/O2. 3101282</td>\n",
       "      <td>7.9250</td>\n",
       "      <td>NaN</td>\n",
       "      <td>S</td>\n",
       "    </tr>\n",
       "    <tr>\n",
       "      <th>3</th>\n",
       "      <td>4</td>\n",
       "      <td>1</td>\n",
       "      <td>1</td>\n",
       "      <td>Futrelle, Mrs. Jacques Heath (Lily May Peel)</td>\n",
       "      <td>female</td>\n",
       "      <td>35.0</td>\n",
       "      <td>1</td>\n",
       "      <td>0</td>\n",
       "      <td>113803</td>\n",
       "      <td>53.1000</td>\n",
       "      <td>C123</td>\n",
       "      <td>S</td>\n",
       "    </tr>\n",
       "    <tr>\n",
       "      <th>4</th>\n",
       "      <td>5</td>\n",
       "      <td>0</td>\n",
       "      <td>3</td>\n",
       "      <td>Allen, Mr. William Henry</td>\n",
       "      <td>male</td>\n",
       "      <td>35.0</td>\n",
       "      <td>0</td>\n",
       "      <td>0</td>\n",
       "      <td>373450</td>\n",
       "      <td>8.0500</td>\n",
       "      <td>NaN</td>\n",
       "      <td>S</td>\n",
       "    </tr>\n",
       "  </tbody>\n",
       "</table>\n",
       "</div>"
      ],
      "text/plain": [
       "   PASSENGERID  SURVIVED  PCLASS  \\\n",
       "0            1         0       3   \n",
       "1            2         1       1   \n",
       "2            3         1       3   \n",
       "3            4         1       1   \n",
       "4            5         0       3   \n",
       "\n",
       "                                                NAME     SEX   AGE  SIBSP  \\\n",
       "0                            Braund, Mr. Owen Harris    male  22.0      1   \n",
       "1  Cumings, Mrs. John Bradley (Florence Briggs Th...  female  38.0      1   \n",
       "2                             Heikkinen, Miss. Laina  female  26.0      0   \n",
       "3       Futrelle, Mrs. Jacques Heath (Lily May Peel)  female  35.0      1   \n",
       "4                           Allen, Mr. William Henry    male  35.0      0   \n",
       "\n",
       "   PARCH            TICKET     FARE CABIN EMBARKED  \n",
       "0      0         A/5 21171   7.2500   NaN        S  \n",
       "1      0          PC 17599  71.2833   C85        C  \n",
       "2      0  STON/O2. 3101282   7.9250   NaN        S  \n",
       "3      0            113803  53.1000  C123        S  \n",
       "4      0            373450   8.0500   NaN        S  "
      ]
     },
     "execution_count": 5,
     "metadata": {},
     "output_type": "execute_result"
    }
   ],
   "source": [
    "df.head()"
   ]
  },
  {
   "cell_type": "markdown",
   "id": "fff636cc",
   "metadata": {},
   "source": [
    "##### birinci adımım artık değişken mühendisliği\n",
    "#### 1.Feature Engineering (değişken mühendisliği)\n",
    "\n",
    "teroik bölümlerde bu alanların ilişkili olduğunu ifade etmiştik bazen yeni ürettiğimiz değişkenleri daha sonra ön işlemeden geçirmemiz gerekebilir, bazen önce önişleme yapıp sonra yeni değişken türetmeniz gerekebilir dolayısıyla bu yarımın farkında olarak 1. adımımız değişken mühendisliği. "
   ]
  },
  {
   "cell_type": "code",
   "execution_count": 6,
   "id": "65a0895e",
   "metadata": {},
   "outputs": [],
   "source": [
    "#cabin bool\n",
    "df[\"NWE_CABIN_BOOL\"] = df[\"CABIN\"].notnull().astype(\"int\")\n",
    "\n",
    "#name count\n",
    "df[\"NEW_NAME_COUNT\"] = df[\"NAME\"].str.len()\n",
    "\n",
    "# name word count\n",
    "df[\"NEW_NAME_WORD_COUNT\"] = df[\"NAME\"].apply(lambda x: len(str(x).split(\" \")))\n",
    "\n",
    "#name dr\n",
    "df[\"NEW_NAME_DR\"] = df[\"NAME\"].apply(lambda x: len([x for x in x.split() if x.startswith(\"Dr\")]))\n",
    "\n",
    "#name title\n",
    "df[\"NEW_TITLE\"] = df.NAME.str.extract(\" ([A-Za-z]+)\\.\", expand = False)\n",
    "\n",
    "#family size\n",
    "df[\"NEW_FAMILY_SIZE\"] = df[\"SIBSP\"] + df[\"PARCH\"] + 1\n",
    "\n",
    "#age_pclass\n",
    "df[\"NEW_AGE_PCLASS\"] = df[\"AGE\"] * df[\"PCLASS\"]\n",
    "\n",
    "#is alone\n",
    "df.loc[((df[\"SIBSP\"] + df[\"PARCH\"]) > 0), \"NEW_IS_ALONE\"] = \"NO\"\n",
    "df.loc[((df[\"SIBSP\"] + df[\"PARCH\"]) == 0), \"NEW_IS_ALONE\"] = \"YES\"\n",
    "\n",
    "#age level(BU YENİ)\n",
    "df.loc[(df[\"AGE\"] < 18), \"NEW_AGE_CAT\"] = \"young\"\n",
    "df.loc[(df[\"AGE\"] >=18) & (df[\"AGE\"] < 56), \"NEW_AGE_CAT\"] = \"mature\"\n",
    "df.loc[(df[\"AGE\"] >= 56), \"NEW_AGE_CAT\"] = \"senior\"\n",
    "\n",
    "# sex x age\n",
    "df.loc[(df[\"SEX\"] == \"male\") & (df[\"AGE\"] <= 21), \"NEW_SEX_CAT\"] = \"youngmale\"\n",
    "df.loc[(df[\"SEX\"] == \"male\") & ((df[\"AGE\"] > 21) & (df[\"AGE\"]) <= 50), \"NEW_SEX_CAT\"] = \"maturemale\"\n",
    "df.loc[(df[\"SEX\"] == \"male\") & (df[\"AGE\"] > 50), \"NEW_SEX_CAT\"] = \"seniormale\"\n",
    "df.loc[(df[\"SEX\"] == \"female\") & (df[\"AGE\"] <= 21), \"NEW_SEX_CAT\"] = \"youngfemale\"\n",
    "df.loc[(df[\"SEX\"] == \"female\") & ((df[\"AGE\"] > 21) & (df[\"AGE\"]) <= 50), \"NEW_SEX_CAT\"] = \"maturefemale\"\n",
    "df.loc[(df[\"SEX\"] == \"female\") & (df[\"AGE\"] > 50), \"NEW_SEX_CAT\"] = \"seniorfemale\"\n"
   ]
  },
  {
   "cell_type": "code",
   "execution_count": 7,
   "id": "acf621f6",
   "metadata": {},
   "outputs": [
    {
     "data": {
      "text/html": [
       "<div>\n",
       "<style scoped>\n",
       "    .dataframe tbody tr th:only-of-type {\n",
       "        vertical-align: middle;\n",
       "    }\n",
       "\n",
       "    .dataframe tbody tr th {\n",
       "        vertical-align: top;\n",
       "    }\n",
       "\n",
       "    .dataframe thead th {\n",
       "        text-align: right;\n",
       "    }\n",
       "</style>\n",
       "<table border=\"1\" class=\"dataframe\">\n",
       "  <thead>\n",
       "    <tr style=\"text-align: right;\">\n",
       "      <th></th>\n",
       "      <th>PASSENGERID</th>\n",
       "      <th>SURVIVED</th>\n",
       "      <th>PCLASS</th>\n",
       "      <th>NAME</th>\n",
       "      <th>SEX</th>\n",
       "      <th>AGE</th>\n",
       "      <th>SIBSP</th>\n",
       "      <th>PARCH</th>\n",
       "      <th>TICKET</th>\n",
       "      <th>FARE</th>\n",
       "      <th>...</th>\n",
       "      <th>NWE_CABIN_BOOL</th>\n",
       "      <th>NEW_NAME_COUNT</th>\n",
       "      <th>NEW_NAME_WORD_COUNT</th>\n",
       "      <th>NEW_NAME_DR</th>\n",
       "      <th>NEW_TITLE</th>\n",
       "      <th>NEW_FAMILY_SIZE</th>\n",
       "      <th>NEW_AGE_PCLASS</th>\n",
       "      <th>NEW_IS_ALONE</th>\n",
       "      <th>NEW_AGE_CAT</th>\n",
       "      <th>NEW_SEX_CAT</th>\n",
       "    </tr>\n",
       "  </thead>\n",
       "  <tbody>\n",
       "    <tr>\n",
       "      <th>0</th>\n",
       "      <td>1</td>\n",
       "      <td>0</td>\n",
       "      <td>3</td>\n",
       "      <td>Braund, Mr. Owen Harris</td>\n",
       "      <td>male</td>\n",
       "      <td>22.0</td>\n",
       "      <td>1</td>\n",
       "      <td>0</td>\n",
       "      <td>A/5 21171</td>\n",
       "      <td>7.2500</td>\n",
       "      <td>...</td>\n",
       "      <td>0</td>\n",
       "      <td>23</td>\n",
       "      <td>4</td>\n",
       "      <td>0</td>\n",
       "      <td>Mr</td>\n",
       "      <td>2</td>\n",
       "      <td>66.0</td>\n",
       "      <td>NO</td>\n",
       "      <td>mature</td>\n",
       "      <td>maturemale</td>\n",
       "    </tr>\n",
       "    <tr>\n",
       "      <th>1</th>\n",
       "      <td>2</td>\n",
       "      <td>1</td>\n",
       "      <td>1</td>\n",
       "      <td>Cumings, Mrs. John Bradley (Florence Briggs Th...</td>\n",
       "      <td>female</td>\n",
       "      <td>38.0</td>\n",
       "      <td>1</td>\n",
       "      <td>0</td>\n",
       "      <td>PC 17599</td>\n",
       "      <td>71.2833</td>\n",
       "      <td>...</td>\n",
       "      <td>1</td>\n",
       "      <td>51</td>\n",
       "      <td>7</td>\n",
       "      <td>0</td>\n",
       "      <td>Mrs</td>\n",
       "      <td>2</td>\n",
       "      <td>38.0</td>\n",
       "      <td>NO</td>\n",
       "      <td>mature</td>\n",
       "      <td>maturefemale</td>\n",
       "    </tr>\n",
       "    <tr>\n",
       "      <th>2</th>\n",
       "      <td>3</td>\n",
       "      <td>1</td>\n",
       "      <td>3</td>\n",
       "      <td>Heikkinen, Miss. Laina</td>\n",
       "      <td>female</td>\n",
       "      <td>26.0</td>\n",
       "      <td>0</td>\n",
       "      <td>0</td>\n",
       "      <td>STON/O2. 3101282</td>\n",
       "      <td>7.9250</td>\n",
       "      <td>...</td>\n",
       "      <td>0</td>\n",
       "      <td>22</td>\n",
       "      <td>3</td>\n",
       "      <td>0</td>\n",
       "      <td>Miss</td>\n",
       "      <td>1</td>\n",
       "      <td>78.0</td>\n",
       "      <td>YES</td>\n",
       "      <td>mature</td>\n",
       "      <td>maturefemale</td>\n",
       "    </tr>\n",
       "    <tr>\n",
       "      <th>3</th>\n",
       "      <td>4</td>\n",
       "      <td>1</td>\n",
       "      <td>1</td>\n",
       "      <td>Futrelle, Mrs. Jacques Heath (Lily May Peel)</td>\n",
       "      <td>female</td>\n",
       "      <td>35.0</td>\n",
       "      <td>1</td>\n",
       "      <td>0</td>\n",
       "      <td>113803</td>\n",
       "      <td>53.1000</td>\n",
       "      <td>...</td>\n",
       "      <td>1</td>\n",
       "      <td>44</td>\n",
       "      <td>7</td>\n",
       "      <td>0</td>\n",
       "      <td>Mrs</td>\n",
       "      <td>2</td>\n",
       "      <td>35.0</td>\n",
       "      <td>NO</td>\n",
       "      <td>mature</td>\n",
       "      <td>maturefemale</td>\n",
       "    </tr>\n",
       "    <tr>\n",
       "      <th>4</th>\n",
       "      <td>5</td>\n",
       "      <td>0</td>\n",
       "      <td>3</td>\n",
       "      <td>Allen, Mr. William Henry</td>\n",
       "      <td>male</td>\n",
       "      <td>35.0</td>\n",
       "      <td>0</td>\n",
       "      <td>0</td>\n",
       "      <td>373450</td>\n",
       "      <td>8.0500</td>\n",
       "      <td>...</td>\n",
       "      <td>0</td>\n",
       "      <td>24</td>\n",
       "      <td>4</td>\n",
       "      <td>0</td>\n",
       "      <td>Mr</td>\n",
       "      <td>1</td>\n",
       "      <td>105.0</td>\n",
       "      <td>YES</td>\n",
       "      <td>mature</td>\n",
       "      <td>maturemale</td>\n",
       "    </tr>\n",
       "  </tbody>\n",
       "</table>\n",
       "<p>5 rows × 22 columns</p>\n",
       "</div>"
      ],
      "text/plain": [
       "   PASSENGERID  SURVIVED  PCLASS  \\\n",
       "0            1         0       3   \n",
       "1            2         1       1   \n",
       "2            3         1       3   \n",
       "3            4         1       1   \n",
       "4            5         0       3   \n",
       "\n",
       "                                                NAME     SEX   AGE  SIBSP  \\\n",
       "0                            Braund, Mr. Owen Harris    male  22.0      1   \n",
       "1  Cumings, Mrs. John Bradley (Florence Briggs Th...  female  38.0      1   \n",
       "2                             Heikkinen, Miss. Laina  female  26.0      0   \n",
       "3       Futrelle, Mrs. Jacques Heath (Lily May Peel)  female  35.0      1   \n",
       "4                           Allen, Mr. William Henry    male  35.0      0   \n",
       "\n",
       "   PARCH            TICKET     FARE  ... NWE_CABIN_BOOL NEW_NAME_COUNT  \\\n",
       "0      0         A/5 21171   7.2500  ...              0             23   \n",
       "1      0          PC 17599  71.2833  ...              1             51   \n",
       "2      0  STON/O2. 3101282   7.9250  ...              0             22   \n",
       "3      0            113803  53.1000  ...              1             44   \n",
       "4      0            373450   8.0500  ...              0             24   \n",
       "\n",
       "   NEW_NAME_WORD_COUNT  NEW_NAME_DR  NEW_TITLE  NEW_FAMILY_SIZE  \\\n",
       "0                    4            0         Mr                2   \n",
       "1                    7            0        Mrs                2   \n",
       "2                    3            0       Miss                1   \n",
       "3                    7            0        Mrs                2   \n",
       "4                    4            0         Mr                1   \n",
       "\n",
       "  NEW_AGE_PCLASS  NEW_IS_ALONE  NEW_AGE_CAT   NEW_SEX_CAT  \n",
       "0           66.0            NO       mature    maturemale  \n",
       "1           38.0            NO       mature  maturefemale  \n",
       "2           78.0           YES       mature  maturefemale  \n",
       "3           35.0            NO       mature  maturefemale  \n",
       "4          105.0           YES       mature    maturemale  \n",
       "\n",
       "[5 rows x 22 columns]"
      ]
     },
     "execution_count": 7,
     "metadata": {},
     "output_type": "execute_result"
    }
   ],
   "source": [
    "df.head()"
   ]
  },
  {
   "cell_type": "code",
   "execution_count": 8,
   "id": "4abc9ff1",
   "metadata": {},
   "outputs": [
    {
     "data": {
      "text/plain": [
       "(891, 22)"
      ]
     },
     "execution_count": 8,
     "metadata": {},
     "output_type": "execute_result"
    }
   ],
   "source": [
    "df.shape #artık 22 değişkenim var"
   ]
  },
  {
   "cell_type": "code",
   "execution_count": 9,
   "id": "6750edf0",
   "metadata": {},
   "outputs": [],
   "source": [
    "#bazı ön işleme işlmeleri yapmak istiyorum bu saatten sonra ancak hangileri  sayısal hangileri kategorik bunu bilmiyorum\n",
    "#bu yüzden grabcolname fonksiyonumu çağrıyorum."
   ]
  },
  {
   "cell_type": "code",
   "execution_count": 10,
   "id": "6c51bc15",
   "metadata": {},
   "outputs": [
    {
     "name": "stdout",
     "output_type": "stream",
     "text": [
      "Observations 891\n",
      "Variables:  22\n",
      "cat_cols:  13\n",
      "num_cols:  5\n",
      "cat_but_car:  3\n",
      "num_but_cat:  7\n"
     ]
    }
   ],
   "source": [
    "def grab_col_names(dataframe, cat_th=10, car_th=20, print_results=True):\n",
    "\n",
    "\n",
    "\n",
    "    cat_cols = [col for col in dataframe.columns if str(dataframe[col].dtypes) in [\"category\", \"object\", \"bool\"]]\n",
    "    num_but_cat = [col for col in dataframe.columns if dataframe[col].nunique() < cat_th and dataframe[col].dtypes in [\"int64\", \"float64\"]]\n",
    "    cat_but_car = [col for col in dataframe.columns if dataframe[col].nunique() > car_th and str(dataframe[col].dtypes) in [\"category\", \"object\"]]\n",
    "    cat_cols = [col for col in cat_cols if col not in cat_but_car]\n",
    "    cat_cols = cat_cols + num_but_cat\n",
    "    num_cols = [col for col in dataframe.columns if dataframe[col].dtypes in [\"int64\", \"float64\"]]\n",
    "    num_cols = [col for col in num_cols if col not in cat_cols]\n",
    "\n",
    "    if print_results:\n",
    "        print(f'Observations {dataframe.shape[0]}')\n",
    "        print(f'Variables:  {dataframe.shape[1]}')\n",
    "        print(f'cat_cols:  {len(cat_cols)}')\n",
    "        print(f'num_cols:  {len(num_cols)}')\n",
    "        print(f'cat_but_car:  {len(cat_but_car)}')\n",
    "        print(f'num_but_cat:  {len(num_but_cat)}')\n",
    "\n",
    "    return cat_cols, num_cols, cat_but_car\n",
    "\n",
    "cat_cols, num_cols, cat_but_car = grab_col_names(df)"
   ]
  },
  {
   "cell_type": "code",
   "execution_count": 11,
   "id": "e8f6e36e",
   "metadata": {},
   "outputs": [
    {
     "data": {
      "text/plain": [
       "['SEX',\n",
       " 'EMBARKED',\n",
       " 'NEW_TITLE',\n",
       " 'NEW_IS_ALONE',\n",
       " 'NEW_AGE_CAT',\n",
       " 'NEW_SEX_CAT',\n",
       " 'SURVIVED',\n",
       " 'PCLASS',\n",
       " 'SIBSP',\n",
       " 'PARCH',\n",
       " 'NEW_NAME_WORD_COUNT',\n",
       " 'NEW_NAME_DR',\n",
       " 'NEW_FAMILY_SIZE']"
      ]
     },
     "execution_count": 11,
     "metadata": {},
     "output_type": "execute_result"
    }
   ],
   "source": [
    "cat_cols"
   ]
  },
  {
   "cell_type": "code",
   "execution_count": 12,
   "id": "a2613f00",
   "metadata": {},
   "outputs": [
    {
     "data": {
      "text/plain": [
       "['PASSENGERID', 'AGE', 'FARE', 'NEW_NAME_COUNT', 'NEW_AGE_PCLASS']"
      ]
     },
     "execution_count": 12,
     "metadata": {},
     "output_type": "execute_result"
    }
   ],
   "source": [
    "num_cols #PASSENGERID bir num değişken değil sileceğim list comperations ile"
   ]
  },
  {
   "cell_type": "code",
   "execution_count": 13,
   "id": "533c7d85",
   "metadata": {},
   "outputs": [],
   "source": [
    "num_cols = [col for col in num_cols if \"PASSENGERID\" not in col]"
   ]
  },
  {
   "cell_type": "code",
   "execution_count": 14,
   "id": "d9d50948",
   "metadata": {},
   "outputs": [],
   "source": [
    "#sayısal değişkenlerimi seçtim artık sayısal değişkenler üzerinde diğer ön\n",
    "#işleme işlemlerine başlayabilirim."
   ]
  },
  {
   "cell_type": "code",
   "execution_count": 15,
   "id": "631a5d58",
   "metadata": {},
   "outputs": [
    {
     "data": {
      "text/plain": [
       "['AGE', 'FARE', 'NEW_NAME_COUNT', 'NEW_AGE_PCLASS']"
      ]
     },
     "execution_count": 15,
     "metadata": {},
     "output_type": "execute_result"
    }
   ],
   "source": [
    "num_cols"
   ]
  },
  {
   "cell_type": "markdown",
   "id": "6590b5af",
   "metadata": {},
   "source": [
    "### 2- Aykırı Değerler (Outliers)"
   ]
  },
  {
   "cell_type": "code",
   "execution_count": 16,
   "id": "fa30d709",
   "metadata": {},
   "outputs": [],
   "source": [
    "# hızlı bir şekild eoutliearları kontrol etmek için ne yapacağız\n",
    "#check_outlier fonkiyonumu çağıracağım\n",
    "\n",
    "def outlier_thresholds(dataframe, col_name, q1 = 0.25, q3 = 0.75): \n",
    "    quartile1  =dataframe[col_name].quantile(q1) \n",
    "    quartile3  =dataframe[col_name].quantile(q3) \n",
    "    interquantile_range = quartile3 - quartile1\n",
    "    up_limit = quartile3 + 1.5 * interquantile_range\n",
    "    low_limit = quartile1 - 1.5 * interquantile_range\n",
    "    return low_limit, up_limit\n",
    "\n",
    "def check_outlier(dataframe, col_name):\n",
    "    low_limit, up_limit = outlier_thresholds(dataframe, col_name)\n",
    "    if dataframe[(dataframe[col_name] > up_limit) | (dataframe[col_name] < low_limit)].any(axis = None): \n",
    "        return True\n",
    "    else:\n",
    "        return False "
   ]
  },
  {
   "cell_type": "code",
   "execution_count": 17,
   "id": "0c91e667",
   "metadata": {},
   "outputs": [
    {
     "name": "stdout",
     "output_type": "stream",
     "text": [
      "AGE True\n",
      "FARE True\n",
      "NEW_NAME_COUNT True\n",
      "NEW_AGE_PCLASS True\n"
     ]
    }
   ],
   "source": [
    "for col in num_cols:\n",
    "    print(col, check_outlier(df,col)) # aykırı değer olduğunu öğrendim hepsinde"
   ]
  },
  {
   "cell_type": "code",
   "execution_count": 18,
   "id": "bc254c3c",
   "metadata": {},
   "outputs": [],
   "source": [
    "#peki bu ayrkırı değerler ile eşik değerleri değiştirmek istiyorum şimdi de\n"
   ]
  },
  {
   "cell_type": "code",
   "execution_count": 19,
   "id": "efba980b",
   "metadata": {},
   "outputs": [],
   "source": [
    "def replace_with_thresholds(dataframe, variable):\n",
    "    low_limit, up_limit = outlier_thresholds(dataframe, variable) \n",
    "    dataframe.loc[(dataframe[variable] < low_limit), variable] = low_limit \n",
    "    dataframe.loc[(dataframe[variable] > up_limit), variable] = up_limit"
   ]
  },
  {
   "cell_type": "code",
   "execution_count": 20,
   "id": "a77ceeb5",
   "metadata": {},
   "outputs": [],
   "source": [
    "for col in num_cols:\n",
    "    replace_with_thresholds(df,col)"
   ]
  },
  {
   "cell_type": "code",
   "execution_count": 21,
   "id": "f6cd6093",
   "metadata": {},
   "outputs": [
    {
     "name": "stdout",
     "output_type": "stream",
     "text": [
      "AGE False\n",
      "FARE False\n",
      "NEW_NAME_COUNT False\n",
      "NEW_AGE_PCLASS False\n"
     ]
    }
   ],
   "source": [
    "#fonksiyonu çalıştırdıktan sonra tekrar bir aykırı değerlere bakalım diyorum\n",
    "#yani check_outlierı çalıştırıyorum\n",
    "\n",
    "for col in num_cols:\n",
    "    print(col, check_outlier(df,col)) #outlier problemim yok artık çıkan sonuca göre"
   ]
  },
  {
   "cell_type": "code",
   "execution_count": 22,
   "id": "ffd33fe3",
   "metadata": {},
   "outputs": [],
   "source": [
    "#artık aykırı değer problemim yok ancak eksik değer problemim var"
   ]
  },
  {
   "cell_type": "markdown",
   "id": "d9a8c6fc",
   "metadata": {},
   "source": [
    "### 3- Eksik Değerler (Missing Values)"
   ]
  },
  {
   "cell_type": "code",
   "execution_count": 23,
   "id": "74072df3",
   "metadata": {},
   "outputs": [],
   "source": [
    "# daha önce yazmış olduğumuz missing values tableımız vardı bunu bir görelim\n",
    "#missing_values_table fonksiyonumu getiriyorum\n",
    "\n",
    "def missing_values_table(dataframe, na_name = False): \n",
    "    na_columns = [col for col in dataframe.columns if dataframe[col].isnull().sum() > 0]  \n",
    "    n_miss = dataframe[na_columns].isnull().sum().sort_values(ascending = False) \n",
    "    ratio = (dataframe[na_columns].isnull().sum() / dataframe.shape[0] * 100).sort_values(ascending = False) \n",
    "    missing_df = pd.concat ([n_miss, np.round(ratio,2)], axis = 1, keys=[\"n_miss\",\"ratio\"]) \n",
    "    print(missing_df, end=\"\\n\") \n",
    "    \n",
    "    if na_name:\n",
    "        return na_columns"
   ]
  },
  {
   "cell_type": "code",
   "execution_count": 24,
   "id": "8e974c58",
   "metadata": {},
   "outputs": [
    {
     "name": "stdout",
     "output_type": "stream",
     "text": [
      "                n_miss  ratio\n",
      "CABIN              687  77.10\n",
      "AGE                177  19.87\n",
      "NEW_AGE_PCLASS     177  19.87\n",
      "NEW_AGE_CAT        177  19.87\n",
      "EMBARKED             2   0.22\n"
     ]
    }
   ],
   "source": [
    "missing_values_table(df)\n",
    "#burada cabini biliyorum yaşı biliyorum embarkedı biliyorum ancak NEW_AGE_PCLASS ve NEW_AGE_CAT\n",
    "# değişkenlerindeki eksiklikler nereden geldi diye dşünüyorum"
   ]
  },
  {
   "cell_type": "code",
   "execution_count": 25,
   "id": "afbc589b",
   "metadata": {},
   "outputs": [],
   "source": [
    "#bu oluşturulan değişkenler yaştan türetildiği için ve yaşta da eksiklik olduğu için\n",
    "#bu değişkenlerde de yaşa bağlı olarak eksiklik var. bunu daha sonra göz önünde bulunduruyor olacağım \n",
    "#şimdi burada cabin yerine cabin_bool adında yeni bir değişken oluşturdum dolayısıyla\n",
    "#cabin değişkenini silebilirim."
   ]
  },
  {
   "cell_type": "code",
   "execution_count": 26,
   "id": "fb0ee637",
   "metadata": {},
   "outputs": [],
   "source": [
    "df.drop(\"CABIN\", inplace = True, axis = 1) #cabin değişkenini kalıcı bir şekild esil diyorum"
   ]
  },
  {
   "cell_type": "code",
   "execution_count": 27,
   "id": "bb459840",
   "metadata": {},
   "outputs": [],
   "source": [
    "#burada hazır silme işlemine başlamışken diğer sileceğim istemediğim değişkenleri de silebilirim"
   ]
  },
  {
   "cell_type": "code",
   "execution_count": 28,
   "id": "0d61754b",
   "metadata": {},
   "outputs": [],
   "source": [
    "#burada ticket ve name değişkenini sileceğim neden name değişkeni üzerinden anlamlı\n",
    "#yeni bir değişken oluşturmuştum zaten."
   ]
  },
  {
   "cell_type": "code",
   "execution_count": 29,
   "id": "8e21089b",
   "metadata": {},
   "outputs": [],
   "source": [
    "remove_cols = [\"TICKET\", \"NAME\"]\n",
    "df.drop(remove_cols, inplace = True, axis = 1)"
   ]
  },
  {
   "cell_type": "code",
   "execution_count": 30,
   "id": "455629fd",
   "metadata": {},
   "outputs": [
    {
     "name": "stdout",
     "output_type": "stream",
     "text": [
      "                n_miss  ratio\n",
      "AGE                177  19.87\n",
      "NEW_AGE_PCLASS     177  19.87\n",
      "NEW_AGE_CAT        177  19.87\n",
      "EMBARKED             2   0.22\n"
     ]
    }
   ],
   "source": [
    "#değişiklik kontrolü için tekrar missing_table geetiriyorum\n",
    "\n",
    "missing_values_table(df) # değişiklikler gözlendi"
   ]
  },
  {
   "cell_type": "code",
   "execution_count": 31,
   "id": "7b929781",
   "metadata": {},
   "outputs": [],
   "source": [
    "#ageten oluşturduğum değişkenlerdeki eksiklikler ageden kaynaklandığı için şu işlemi yapacağım\n",
    "#oluşturmuş olduğum new_titlea göre groupby alıp yaş değişkeninin eksik değerlerini\n",
    "#median ile dolduruyorum. ama unutma new_titlea göre\n",
    "\n",
    "df[\"AGE\"] = df[\"AGE\"].fillna(df.groupby(\"NEW_TITLE\")[\"AGE\"].transform(\"median\"))"
   ]
  },
  {
   "cell_type": "code",
   "execution_count": 32,
   "id": "025630bf",
   "metadata": {},
   "outputs": [
    {
     "name": "stdout",
     "output_type": "stream",
     "text": [
      "                n_miss  ratio\n",
      "NEW_AGE_PCLASS     177  19.87\n",
      "NEW_AGE_CAT        177  19.87\n",
      "EMBARKED             2   0.22\n"
     ]
    }
   ],
   "source": [
    "missing_values_table(df) #bu sayede yaş değişkeni üzerindeki eksiklikler gitti\n",
    "#peki age e bağlı diğer değişkenler ne olacak, tekrardan oluşturmam lazım."
   ]
  },
  {
   "cell_type": "code",
   "execution_count": 33,
   "id": "89fb8fc5",
   "metadata": {},
   "outputs": [],
   "source": [
    "df[\"NEW_AGE_PCLASS\"] = df[\"AGE\"] * df[\"PCLASS\"]\n",
    "\n",
    "df.loc[(df[\"AGE\"] < 18), \"NEW_AGE_CAT\"] = \"young\"\n",
    "df.loc[(df[\"AGE\"] >=18) & (df[\"AGE\"] < 56), \"NEW_AGE_CAT\"] = \"mature\"\n",
    "df.loc[(df[\"AGE\"] >= 56), \"NEW_AGE_CAT\"] = \"senior\"\n",
    "\n",
    "df.loc[(df[\"SEX\"] == \"male\") & (df[\"AGE\"] <= 21), \"NEW_SEX_CAT\"] = \"youngmale\"\n",
    "df.loc[(df[\"SEX\"] == \"male\") & ((df[\"AGE\"] > 21) & (df[\"AGE\"]) <= 50), \"NEW_SEX_CAT\"] = \"maturemale\"\n",
    "df.loc[(df[\"SEX\"] == \"male\") & (df[\"AGE\"] > 50), \"NEW_SEX_CAT\"] = \"seniormale\"\n",
    "df.loc[(df[\"SEX\"] == \"female\") & (df[\"AGE\"] <= 21), \"NEW_SEX_CAT\"] = \"youngfemale\"\n",
    "df.loc[(df[\"SEX\"] == \"female\") & ((df[\"AGE\"] > 21) & (df[\"AGE\"]) <= 50), \"NEW_SEX_CAT\"] = \"maturefemale\"\n",
    "df.loc[(df[\"SEX\"] == \"female\") & (df[\"AGE\"] > 50), \"NEW_SEX_CAT\"] = \"seniorfemale\""
   ]
  },
  {
   "cell_type": "code",
   "execution_count": 34,
   "id": "5deeff9a",
   "metadata": {},
   "outputs": [
    {
     "name": "stdout",
     "output_type": "stream",
     "text": [
      "          n_miss  ratio\n",
      "EMBARKED       2   0.22\n"
     ]
    }
   ],
   "source": [
    "missing_values_table(df) #tekrar eksik değer tablosundan kontrol ediyorum\n",
    "#ve eksiklikler gitmiş oluyor neden gitti? \n",
    "# çünkü tabloyu tekrardan oluşturunca yani eksik değer olmayan age ile oluşturunca\n",
    "#artık bunlarda da eksik değer olmamış oluyor."
   ]
  },
  {
   "cell_type": "code",
   "execution_count": 35,
   "id": "8e625f24",
   "metadata": {},
   "outputs": [],
   "source": [
    "# sadece embarked kaldı, bunu da programatik şekilde ele almıştık ne yapmıştım\n",
    "df = df.apply(lambda x: x.fillna(x.mode()[0]) if (x.dtype == object and len(x.unique()) <= 10) else x, axis = 0)\n",
    "    \n",
    "# tipi object olan ve eşsiz değer sayısı 10dan küçük olan kategorik değişkenleri modları ile doldur dedim\n"
   ]
  },
  {
   "cell_type": "code",
   "execution_count": 36,
   "id": "1b8d30a9",
   "metadata": {},
   "outputs": [
    {
     "name": "stdout",
     "output_type": "stream",
     "text": [
      "Empty DataFrame\n",
      "Columns: [n_miss, ratio]\n",
      "Index: []\n"
     ]
    }
   ],
   "source": [
    "#sadece embarked değişkenim olduğu için o dolacak tekrar kontrol ediyorum\n",
    "missing_values_table(df) #ve hiçbir boş değerim kalmadı sonuç boş liste"
   ]
  },
  {
   "cell_type": "markdown",
   "id": "a948c587",
   "metadata": {},
   "source": [
    "dikkat eksik değerlerimden kurtuldum evet ancak kurtulmamayı da tercih edebilirdim. kullanacağım yöntemlere göre ağaç yöntemleri için hiç dokunmamayı tercih edebilirdim."
   ]
  },
  {
   "cell_type": "markdown",
   "id": "edf9d04f",
   "metadata": {},
   "source": [
    "### 4- Label Encoding"
   ]
  },
  {
   "cell_type": "code",
   "execution_count": 37,
   "id": "e5fab69b",
   "metadata": {},
   "outputs": [],
   "source": [
    "#4. adımım label encoding işlemi, burada ne yapmıştık iki sınıflı kategorik değişkenleri dönüştürmüştük.\n",
    "#0 ve 1 olarak öncelikle bu iki sınıflı kategorik değişkenleri seçmem gerkiyordu seçelim"
   ]
  },
  {
   "cell_type": "code",
   "execution_count": 38,
   "id": "63b96d75",
   "metadata": {},
   "outputs": [
    {
     "data": {
      "text/plain": [
       "['SEX', 'NWE_CABIN_BOOL', 'NEW_IS_ALONE']"
      ]
     },
     "execution_count": 38,
     "metadata": {},
     "output_type": "execute_result"
    }
   ],
   "source": [
    "binary_cols = [col for col in df.columns if df[col].dtype not in [\"int64\", \"float64\"] \n",
    "               and df[col].nunique() == 2]\n",
    "\n",
    "# binary_cols diyerek int ve float olmayan yani kategorik olan yani hem object hem de \n",
    "#kategori tipindeki değişkenler de dahi olacak ve eşsiz iki sınıfa sahip olan değişkenleri seç diyorum\n",
    "binary_cols"
   ]
  },
  {
   "cell_type": "code",
   "execution_count": 39,
   "id": "3c78c6ba",
   "metadata": {},
   "outputs": [
    {
     "data": {
      "text/plain": [
       "['SEX', 'NEW_IS_ALONE']"
      ]
     },
     "execution_count": 39,
     "metadata": {},
     "output_type": "execute_result"
    }
   ],
   "source": [
    "binary_cols = [col for col in binary_cols if col not in \"NWE_CABIN_BOOL\"]\n",
    "binary_cols #onda sadece bu iki  değişken çıktı bu yüzden bu kolonu da silmem gerekti"
   ]
  },
  {
   "cell_type": "code",
   "execution_count": 40,
   "id": "cb9eef58",
   "metadata": {},
   "outputs": [],
   "source": [
    "# artık label encodera sokabilirim fonksiyonumu getiriyorum\n",
    "\n",
    "def label_encoder(dataframe, binary_col): \n",
    "    labelencoder = LabelEncoder() \n",
    "    dataframe[binary_col] = labelencoder.fit_transform(dataframe[binary_col]) \n",
    "    return dataframe"
   ]
  },
  {
   "cell_type": "code",
   "execution_count": 41,
   "id": "bf41e2c4",
   "metadata": {},
   "outputs": [],
   "source": [
    "for col in binary_cols:\n",
    "    df= label_encoder(df,col)"
   ]
  },
  {
   "cell_type": "code",
   "execution_count": 42,
   "id": "b0e38e78",
   "metadata": {},
   "outputs": [],
   "source": [
    "# kalanını diğer bölümde işleyecek"
   ]
  },
  {
   "cell_type": "markdown",
   "id": "81c9e690",
   "metadata": {},
   "source": [
    "### 5- Rare Encoding"
   ]
  },
  {
   "cell_type": "code",
   "execution_count": 43,
   "id": "c2d65de0",
   "metadata": {},
   "outputs": [],
   "source": [
    "#işlemlere buradan devam ediyor olacağım label ancodingten sonra şimdi napalım dediğimizde\n",
    "#one hot encoder aklıma geliyor olmalı fakat önce rare encoderı yapacağım ki \n",
    "# olası indirgemeleri yaptıktan sonra one hot encodingi yapayım bu sebeple rare\n",
    "#analyser fonksiyonumu getiriyorum"
   ]
  },
  {
   "cell_type": "code",
   "execution_count": 44,
   "id": "d1b19120",
   "metadata": {},
   "outputs": [],
   "source": [
    "def rare_analyser(dataframe, target, cat_cols):\n",
    "    for col in cat_cols:\n",
    "        print(col, \":\", len(dataframe[col].value_counts())) \n",
    "        print(pd.DataFrame({\"COUNT\": dataframe[col].value_counts(), \n",
    "                           \"RATIO\": dataframe[col].value_counts() / len(dataframe), \n",
    "                           \"TARGET_MEAN\": dataframe.groupby(col)[target].mean()}), end= \"\\n\\n\\n\") "
   ]
  },
  {
   "cell_type": "code",
   "execution_count": 45,
   "id": "8de96c32",
   "metadata": {},
   "outputs": [
    {
     "name": "stdout",
     "output_type": "stream",
     "text": [
      "SEX : 2\n",
      "     COUNT     RATIO  TARGET_MEAN\n",
      "SEX                              \n",
      "0      314  0.352413     0.742038\n",
      "1      577  0.647587     0.188908\n",
      "\n",
      "\n",
      "EMBARKED : 3\n",
      "          COUNT     RATIO  TARGET_MEAN\n",
      "EMBARKED                              \n",
      "C           168  0.188552     0.553571\n",
      "Q            77  0.086420     0.389610\n",
      "S           646  0.725028     0.339009\n",
      "\n",
      "\n",
      "NEW_TITLE : 17\n",
      "           COUNT     RATIO  TARGET_MEAN\n",
      "NEW_TITLE                              \n",
      "Capt           1  0.001122     0.000000\n",
      "Col            2  0.002245     0.500000\n",
      "Countess       1  0.001122     1.000000\n",
      "Don            1  0.001122     0.000000\n",
      "Dr             7  0.007856     0.428571\n",
      "Jonkheer       1  0.001122     0.000000\n",
      "Lady           1  0.001122     1.000000\n",
      "Major          2  0.002245     0.500000\n",
      "Master        40  0.044893     0.575000\n",
      "Miss         182  0.204265     0.697802\n",
      "Mlle           2  0.002245     1.000000\n",
      "Mme            1  0.001122     1.000000\n",
      "Mr           517  0.580247     0.156673\n",
      "Mrs          125  0.140292     0.792000\n",
      "Ms             1  0.001122     1.000000\n",
      "Rev            6  0.006734     0.000000\n",
      "Sir            1  0.001122     1.000000\n",
      "\n",
      "\n",
      "NEW_IS_ALONE : 2\n",
      "              COUNT     RATIO  TARGET_MEAN\n",
      "NEW_IS_ALONE                              \n",
      "0               354  0.397306     0.505650\n",
      "1               537  0.602694     0.303538\n",
      "\n",
      "\n",
      "NEW_AGE_CAT : 3\n",
      "             COUNT     RATIO  TARGET_MEAN\n",
      "NEW_AGE_CAT                              \n",
      "mature         735  0.824916     0.363265\n",
      "senior          39  0.043771     0.307692\n",
      "young          117  0.131313     0.538462\n",
      "\n",
      "\n",
      "NEW_SEX_CAT : 4\n",
      "              COUNT     RATIO  TARGET_MEAN\n",
      "NEW_SEX_CAT                               \n",
      "maturefemale    297  0.333333     0.730640\n",
      "maturemale      530  0.594837     0.194340\n",
      "seniorfemale     17  0.019080     0.941176\n",
      "seniormale       47  0.052750     0.127660\n",
      "\n",
      "\n",
      "SURVIVED : 2\n",
      "          COUNT     RATIO  TARGET_MEAN\n",
      "SURVIVED                              \n",
      "0           549  0.616162          0.0\n",
      "1           342  0.383838          1.0\n",
      "\n",
      "\n",
      "PCLASS : 3\n",
      "        COUNT     RATIO  TARGET_MEAN\n",
      "PCLASS                              \n",
      "1         216  0.242424     0.629630\n",
      "2         184  0.206510     0.472826\n",
      "3         491  0.551066     0.242363\n",
      "\n",
      "\n",
      "SIBSP : 7\n",
      "       COUNT     RATIO  TARGET_MEAN\n",
      "SIBSP                              \n",
      "0        608  0.682379     0.345395\n",
      "1        209  0.234568     0.535885\n",
      "2         28  0.031425     0.464286\n",
      "3         16  0.017957     0.250000\n",
      "4         18  0.020202     0.166667\n",
      "5          5  0.005612     0.000000\n",
      "8          7  0.007856     0.000000\n",
      "\n",
      "\n",
      "PARCH : 7\n",
      "       COUNT     RATIO  TARGET_MEAN\n",
      "PARCH                              \n",
      "0        678  0.760943     0.343658\n",
      "1        118  0.132435     0.550847\n",
      "2         80  0.089787     0.500000\n",
      "3          5  0.005612     0.600000\n",
      "4          4  0.004489     0.000000\n",
      "5          5  0.005612     0.200000\n",
      "6          1  0.001122     0.000000\n",
      "\n",
      "\n",
      "NEW_NAME_WORD_COUNT : 8\n",
      "                     COUNT     RATIO  TARGET_MEAN\n",
      "NEW_NAME_WORD_COUNT                              \n",
      "3                      305  0.342312     0.291803\n",
      "4                      388  0.435466     0.340206\n",
      "5                       96  0.107744     0.427083\n",
      "6                       53  0.059484     0.773585\n",
      "7                       38  0.042649     0.842105\n",
      "8                        9  0.010101     0.555556\n",
      "9                        1  0.001122     1.000000\n",
      "14                       1  0.001122     1.000000\n",
      "\n",
      "\n",
      "NEW_NAME_DR : 2\n",
      "             COUNT     RATIO  TARGET_MEAN\n",
      "NEW_NAME_DR                              \n",
      "0              881  0.988777      0.38252\n",
      "1               10  0.011223      0.50000\n",
      "\n",
      "\n",
      "NEW_FAMILY_SIZE : 9\n",
      "                 COUNT     RATIO  TARGET_MEAN\n",
      "NEW_FAMILY_SIZE                              \n",
      "1                  537  0.602694     0.303538\n",
      "2                  161  0.180696     0.552795\n",
      "3                  102  0.114478     0.578431\n",
      "4                   29  0.032548     0.724138\n",
      "5                   15  0.016835     0.200000\n",
      "6                   22  0.024691     0.136364\n",
      "7                   12  0.013468     0.333333\n",
      "8                    6  0.006734     0.000000\n",
      "11                   7  0.007856     0.000000\n",
      "\n",
      "\n"
     ]
    }
   ],
   "source": [
    "rare_analyser(df, \"SURVIVED\", cat_cols) #hızlı bir şekilde analiz ediyorum\n",
    "# ve burada birleşmesi gereken sınıflar kendini açık etti gibi gözüküyor\n",
    "#gözlem oranlarına bakıp az olan sınıfları belirliyorum gözümle ve dolayısıyla rare encoderımı \n",
    "#bunların üzerine gönderiyor olacağım. dikkat bu herkese aynı muameleyi yapmak olacaktır.\n",
    "#hepsini böyle direkt rare ecoderdan geçirmek çok mantıklı olmayabilir biz üst seviye br genel çözüm ele alıyoruz gibi düşünmeliyiz.\n",
    "#dolayısıyla bu senaryolar kendi içerisinde değişebilir, kendilerince farklı yorumlar yapılabilir\n",
    "#mesela aile sayısı değişkeni için tek kişiyse tek kişi işte 0 ile 3 arasında varsa küçük aile işte 3ten büyükse geniş aile gibi bir sınıflandırma da yapılabilir\n",
    "#yeni bir kategorik değişken de türetilebilir, buna benzer senaryolar ele alınabilir\n",
    "#peki şimdi şunu yapalım"
   ]
  },
  {
   "cell_type": "code",
   "execution_count": 46,
   "id": "25cd70bf",
   "metadata": {},
   "outputs": [],
   "source": [
    "def rare_encoder(dataframe, rare_perc):\n",
    "    temp_df = dataframe.copy() \n",
    "    \n",
    "    rare_columns = [col for col in temp_df.columns if temp_df[col].dtypes == object \n",
    "                   and (temp_df[col].value_counts() / len(temp_df) < rare_perc).any(axis = None)] \n",
    "    \n",
    "    for var in rare_columns: \n",
    "        tmp = temp_df[var].value_counts() / len(temp_df)\n",
    "        rare_labels = tmp[tmp < rare_perc].index \n",
    "        temp_df[var] = np.where(temp_df[var].isin(rare_labels), 'Rare', temp_df[var]) \n",
    "        \n",
    "    return temp_df"
   ]
  },
  {
   "cell_type": "code",
   "execution_count": 47,
   "id": "e492df35",
   "metadata": {},
   "outputs": [],
   "source": [
    "df = rare_encoder(df, 0.01)"
   ]
  },
  {
   "cell_type": "code",
   "execution_count": 48,
   "id": "39177b87",
   "metadata": {},
   "outputs": [
    {
     "data": {
      "text/plain": [
       "NEW_TITLE\n",
       "Mr        517\n",
       "Miss      182\n",
       "Mrs       125\n",
       "Master     40\n",
       "Rare       27\n",
       "Name: count, dtype: int64"
      ]
     },
     "execution_count": 48,
     "metadata": {},
     "output_type": "execute_result"
    }
   ],
   "source": [
    "df[\"NEW_TITLE\"].value_counts() # örn NEW_TItLE bakalım burada birçok sınıf vardı hepsi gitmiş ve rare encod edilmiş\n",
    "#önemli olabilecekler frekansı yükssek olabilecekler daha sonra one hot encodinge sokulduğunda bu önemini taşıyor olacak."
   ]
  },
  {
   "cell_type": "markdown",
   "id": "921a2f7d",
   "metadata": {},
   "source": [
    "### 6- One Hot Encoding"
   ]
  },
  {
   "cell_type": "code",
   "execution_count": 49,
   "id": "34bb94fc",
   "metadata": {},
   "outputs": [],
   "source": [
    "#one hot encoding işlemini gerçekleştireceğim burada yine veri setindeki tüm \n",
    "#kategorik değişkenleri çevirmem lazım\n",
    "#burada oheye girecek kolonları seçmiştim tekrar bu işlemi yapmam gerekiyor"
   ]
  },
  {
   "cell_type": "code",
   "execution_count": 50,
   "id": "cfc5c2ac",
   "metadata": {},
   "outputs": [],
   "source": [
    "ohe_cols = [col for col in df.columns if 10 >= df[col].nunique() > 2]\n",
    "#kaldı ki yeni oluşturduğum birçok değişken var bundan dolayı bu işlemi yapmamız lazım\n",
    "#burada şunu diyoruz zaten 2 sınıfa sahip olanları dönüştürdüm, 2den fazla eşsiz değere \n",
    "#sahip olan değişkenler ve 10dan küçük sayıda eşszi değere sahip değişkenleri dönüştür diyorum"
   ]
  },
  {
   "cell_type": "code",
   "execution_count": 51,
   "id": "78da5b26",
   "metadata": {},
   "outputs": [],
   "source": [
    "# ohe fonksiyonumu çağırıyorum\n",
    "def one_hot_encoder(dataframe, categorical_cols, drop_first = True):\n",
    "    dataframe = pd.get_dummies(dataframe, columns = categorical_cols, drop_first = drop_first)\n",
    "    return dataframe"
   ]
  },
  {
   "cell_type": "code",
   "execution_count": 52,
   "id": "c36af335",
   "metadata": {},
   "outputs": [],
   "source": [
    "df = one_hot_encoder(df, ohe_cols) #oheden geçiyorum"
   ]
  },
  {
   "cell_type": "code",
   "execution_count": 53,
   "id": "fd3ffea4",
   "metadata": {},
   "outputs": [
    {
     "data": {
      "text/html": [
       "<div>\n",
       "<style scoped>\n",
       "    .dataframe tbody tr th:only-of-type {\n",
       "        vertical-align: middle;\n",
       "    }\n",
       "\n",
       "    .dataframe tbody tr th {\n",
       "        vertical-align: top;\n",
       "    }\n",
       "\n",
       "    .dataframe thead th {\n",
       "        text-align: right;\n",
       "    }\n",
       "</style>\n",
       "<table border=\"1\" class=\"dataframe\">\n",
       "  <thead>\n",
       "    <tr style=\"text-align: right;\">\n",
       "      <th></th>\n",
       "      <th>PASSENGERID</th>\n",
       "      <th>SURVIVED</th>\n",
       "      <th>SEX</th>\n",
       "      <th>AGE</th>\n",
       "      <th>FARE</th>\n",
       "      <th>NWE_CABIN_BOOL</th>\n",
       "      <th>NEW_NAME_COUNT</th>\n",
       "      <th>NEW_NAME_DR</th>\n",
       "      <th>NEW_AGE_PCLASS</th>\n",
       "      <th>NEW_IS_ALONE</th>\n",
       "      <th>...</th>\n",
       "      <th>NEW_FAMILY_SIZE_5</th>\n",
       "      <th>NEW_FAMILY_SIZE_6</th>\n",
       "      <th>NEW_FAMILY_SIZE_7</th>\n",
       "      <th>NEW_FAMILY_SIZE_8</th>\n",
       "      <th>NEW_FAMILY_SIZE_11</th>\n",
       "      <th>NEW_AGE_CAT_senior</th>\n",
       "      <th>NEW_AGE_CAT_young</th>\n",
       "      <th>NEW_SEX_CAT_maturemale</th>\n",
       "      <th>NEW_SEX_CAT_seniorfemale</th>\n",
       "      <th>NEW_SEX_CAT_seniormale</th>\n",
       "    </tr>\n",
       "  </thead>\n",
       "  <tbody>\n",
       "    <tr>\n",
       "      <th>0</th>\n",
       "      <td>1</td>\n",
       "      <td>0</td>\n",
       "      <td>1</td>\n",
       "      <td>22.0</td>\n",
       "      <td>7.2500</td>\n",
       "      <td>0</td>\n",
       "      <td>23</td>\n",
       "      <td>0</td>\n",
       "      <td>66.0</td>\n",
       "      <td>0</td>\n",
       "      <td>...</td>\n",
       "      <td>False</td>\n",
       "      <td>False</td>\n",
       "      <td>False</td>\n",
       "      <td>False</td>\n",
       "      <td>False</td>\n",
       "      <td>False</td>\n",
       "      <td>False</td>\n",
       "      <td>True</td>\n",
       "      <td>False</td>\n",
       "      <td>False</td>\n",
       "    </tr>\n",
       "    <tr>\n",
       "      <th>1</th>\n",
       "      <td>2</td>\n",
       "      <td>1</td>\n",
       "      <td>0</td>\n",
       "      <td>38.0</td>\n",
       "      <td>65.6344</td>\n",
       "      <td>1</td>\n",
       "      <td>45</td>\n",
       "      <td>0</td>\n",
       "      <td>38.0</td>\n",
       "      <td>0</td>\n",
       "      <td>...</td>\n",
       "      <td>False</td>\n",
       "      <td>False</td>\n",
       "      <td>False</td>\n",
       "      <td>False</td>\n",
       "      <td>False</td>\n",
       "      <td>False</td>\n",
       "      <td>False</td>\n",
       "      <td>False</td>\n",
       "      <td>False</td>\n",
       "      <td>False</td>\n",
       "    </tr>\n",
       "    <tr>\n",
       "      <th>2</th>\n",
       "      <td>3</td>\n",
       "      <td>1</td>\n",
       "      <td>0</td>\n",
       "      <td>26.0</td>\n",
       "      <td>7.9250</td>\n",
       "      <td>0</td>\n",
       "      <td>22</td>\n",
       "      <td>0</td>\n",
       "      <td>78.0</td>\n",
       "      <td>1</td>\n",
       "      <td>...</td>\n",
       "      <td>False</td>\n",
       "      <td>False</td>\n",
       "      <td>False</td>\n",
       "      <td>False</td>\n",
       "      <td>False</td>\n",
       "      <td>False</td>\n",
       "      <td>False</td>\n",
       "      <td>False</td>\n",
       "      <td>False</td>\n",
       "      <td>False</td>\n",
       "    </tr>\n",
       "    <tr>\n",
       "      <th>3</th>\n",
       "      <td>4</td>\n",
       "      <td>1</td>\n",
       "      <td>0</td>\n",
       "      <td>35.0</td>\n",
       "      <td>53.1000</td>\n",
       "      <td>1</td>\n",
       "      <td>44</td>\n",
       "      <td>0</td>\n",
       "      <td>35.0</td>\n",
       "      <td>0</td>\n",
       "      <td>...</td>\n",
       "      <td>False</td>\n",
       "      <td>False</td>\n",
       "      <td>False</td>\n",
       "      <td>False</td>\n",
       "      <td>False</td>\n",
       "      <td>False</td>\n",
       "      <td>False</td>\n",
       "      <td>False</td>\n",
       "      <td>False</td>\n",
       "      <td>False</td>\n",
       "    </tr>\n",
       "    <tr>\n",
       "      <th>4</th>\n",
       "      <td>5</td>\n",
       "      <td>0</td>\n",
       "      <td>1</td>\n",
       "      <td>35.0</td>\n",
       "      <td>8.0500</td>\n",
       "      <td>0</td>\n",
       "      <td>24</td>\n",
       "      <td>0</td>\n",
       "      <td>105.0</td>\n",
       "      <td>1</td>\n",
       "      <td>...</td>\n",
       "      <td>False</td>\n",
       "      <td>False</td>\n",
       "      <td>False</td>\n",
       "      <td>False</td>\n",
       "      <td>False</td>\n",
       "      <td>False</td>\n",
       "      <td>False</td>\n",
       "      <td>True</td>\n",
       "      <td>False</td>\n",
       "      <td>False</td>\n",
       "    </tr>\n",
       "  </tbody>\n",
       "</table>\n",
       "<p>5 rows × 50 columns</p>\n",
       "</div>"
      ],
      "text/plain": [
       "   PASSENGERID  SURVIVED  SEX   AGE     FARE  NWE_CABIN_BOOL  NEW_NAME_COUNT  \\\n",
       "0            1         0    1  22.0   7.2500               0              23   \n",
       "1            2         1    0  38.0  65.6344               1              45   \n",
       "2            3         1    0  26.0   7.9250               0              22   \n",
       "3            4         1    0  35.0  53.1000               1              44   \n",
       "4            5         0    1  35.0   8.0500               0              24   \n",
       "\n",
       "   NEW_NAME_DR  NEW_AGE_PCLASS  NEW_IS_ALONE  ...  NEW_FAMILY_SIZE_5  \\\n",
       "0            0            66.0             0  ...              False   \n",
       "1            0            38.0             0  ...              False   \n",
       "2            0            78.0             1  ...              False   \n",
       "3            0            35.0             0  ...              False   \n",
       "4            0           105.0             1  ...              False   \n",
       "\n",
       "   NEW_FAMILY_SIZE_6  NEW_FAMILY_SIZE_7  NEW_FAMILY_SIZE_8  \\\n",
       "0              False              False              False   \n",
       "1              False              False              False   \n",
       "2              False              False              False   \n",
       "3              False              False              False   \n",
       "4              False              False              False   \n",
       "\n",
       "   NEW_FAMILY_SIZE_11  NEW_AGE_CAT_senior  NEW_AGE_CAT_young  \\\n",
       "0               False               False              False   \n",
       "1               False               False              False   \n",
       "2               False               False              False   \n",
       "3               False               False              False   \n",
       "4               False               False              False   \n",
       "\n",
       "   NEW_SEX_CAT_maturemale  NEW_SEX_CAT_seniorfemale  NEW_SEX_CAT_seniormale  \n",
       "0                    True                     False                   False  \n",
       "1                   False                     False                   False  \n",
       "2                   False                     False                   False  \n",
       "3                   False                     False                   False  \n",
       "4                    True                     False                   False  \n",
       "\n",
       "[5 rows x 50 columns]"
      ]
     },
     "execution_count": 53,
     "metadata": {},
     "output_type": "execute_result"
    }
   ],
   "source": [
    "df.head() #kontrol için head atıyorum\n",
    "# dikkat bütün olası kategoriler değişkenlere dönüştü \n",
    "#örn cinsiyet kategorisi olan NEW_SEX_CAT_seniorfemale kategoriden değişkene dönüşmüş\n"
   ]
  },
  {
   "cell_type": "code",
   "execution_count": 54,
   "id": "46472e7f",
   "metadata": {},
   "outputs": [
    {
     "data": {
      "text/plain": [
       "(891, 50)"
      ]
     },
     "execution_count": 54,
     "metadata": {},
     "output_type": "execute_result"
    }
   ],
   "source": [
    "df.shape #artık 50 değişkenim var, eğer first drop etmeseydim daha da fazla olacaktı\n",
    "#daha önce 12ydi 38 yeni değişken oluşturmuşum"
   ]
  },
  {
   "cell_type": "code",
   "execution_count": 55,
   "id": "c0086318",
   "metadata": {},
   "outputs": [],
   "source": [
    "#ancak burada yeni bir kaygım var acaba tekrardan rare analyser fonksiyonumu çağırıp\n",
    "# bi kontrol etsem mi diyorum çünkü frekansı çok düşük sınıfı çok düşük değişkenler olabilir diye endişe ediyorum.\n",
    "#bu değişkenlerin gereksiz olup olmadığına karar vermek istiyorum. yani bilgi taşıyıp taşımadıklarına bakmak istiyorum\n",
    "#şu an akışta geri gitmek zorunda kaldım çünkü elimde artık yeni bir veri var.\n",
    "# tekrardan grab_col_namesi çağırmam gerekiyor. çünkü birçok değişiklik yaptım\n",
    "#kategorik, numeric, cat_but_car değişkenleri tekrar seçmem gerekiyor"
   ]
  },
  {
   "cell_type": "code",
   "execution_count": 56,
   "id": "1b292d09",
   "metadata": {},
   "outputs": [
    {
     "name": "stdout",
     "output_type": "stream",
     "text": [
      "Observations 891\n",
      "Variables:  50\n",
      "cat_cols:  42\n",
      "num_cols:  5\n",
      "cat_but_car:  0\n",
      "num_but_cat:  2\n"
     ]
    }
   ],
   "source": [
    "cat_cols, num_cols, cat_but_car = grab_col_names(df)"
   ]
  },
  {
   "cell_type": "code",
   "execution_count": 57,
   "id": "9afb6b48",
   "metadata": {},
   "outputs": [
    {
     "data": {
      "text/plain": [
       "['AGE', 'FARE', 'NEW_NAME_COUNT', 'NEW_AGE_PCLASS']"
      ]
     },
     "execution_count": 57,
     "metadata": {},
     "output_type": "execute_result"
    }
   ],
   "source": [
    "num_cols =[col for col in num_cols if \"PASSENGERID\" not in col]\n",
    "num_cols #passengeridyi sildim numeric collara bakıyorum."
   ]
  },
  {
   "cell_type": "code",
   "execution_count": 58,
   "id": "fbfae116",
   "metadata": {},
   "outputs": [
    {
     "name": "stdout",
     "output_type": "stream",
     "text": [
      "PCLASS_2 : 2\n",
      "          COUNT    RATIO  TARGET_MEAN\n",
      "PCLASS_2                             \n",
      "False       707  0.79349     0.360679\n",
      "True        184  0.20651     0.472826\n",
      "\n",
      "\n",
      "PCLASS_3 : 2\n",
      "          COUNT     RATIO  TARGET_MEAN\n",
      "PCLASS_3                              \n",
      "False       400  0.448934     0.557500\n",
      "True        491  0.551066     0.242363\n",
      "\n",
      "\n",
      "SIBSP_1 : 2\n",
      "         COUNT     RATIO  TARGET_MEAN\n",
      "SIBSP_1                              \n",
      "False      682  0.765432     0.337243\n",
      "True       209  0.234568     0.535885\n",
      "\n",
      "\n",
      "SIBSP_2 : 2\n",
      "         COUNT     RATIO  TARGET_MEAN\n",
      "SIBSP_2                              \n",
      "False      863  0.968575     0.381228\n",
      "True        28  0.031425     0.464286\n",
      "\n",
      "\n",
      "SIBSP_3 : 2\n",
      "         COUNT     RATIO  TARGET_MEAN\n",
      "SIBSP_3                              \n",
      "False      875  0.982043     0.386286\n",
      "True        16  0.017957     0.250000\n",
      "\n",
      "\n",
      "SIBSP_4 : 2\n",
      "         COUNT     RATIO  TARGET_MEAN\n",
      "SIBSP_4                              \n",
      "False      873  0.979798     0.388316\n",
      "True        18  0.020202     0.166667\n",
      "\n",
      "\n",
      "SIBSP_5 : 2\n",
      "         COUNT     RATIO  TARGET_MEAN\n",
      "SIBSP_5                              \n",
      "False      886  0.994388     0.386005\n",
      "True         5  0.005612     0.000000\n",
      "\n",
      "\n",
      "SIBSP_8 : 2\n",
      "         COUNT     RATIO  TARGET_MEAN\n",
      "SIBSP_8                              \n",
      "False      884  0.992144     0.386878\n",
      "True         7  0.007856     0.000000\n",
      "\n",
      "\n",
      "PARCH_1 : 2\n",
      "         COUNT     RATIO  TARGET_MEAN\n",
      "PARCH_1                              \n",
      "False      773  0.867565     0.358344\n",
      "True       118  0.132435     0.550847\n",
      "\n",
      "\n",
      "PARCH_2 : 2\n",
      "         COUNT     RATIO  TARGET_MEAN\n",
      "PARCH_2                              \n",
      "False      811  0.910213      0.37238\n",
      "True        80  0.089787      0.50000\n",
      "\n",
      "\n",
      "PARCH_3 : 2\n",
      "         COUNT     RATIO  TARGET_MEAN\n",
      "PARCH_3                              \n",
      "False      886  0.994388     0.382619\n",
      "True         5  0.005612     0.600000\n",
      "\n",
      "\n",
      "PARCH_4 : 2\n",
      "         COUNT     RATIO  TARGET_MEAN\n",
      "PARCH_4                              \n",
      "False      887  0.995511     0.385569\n",
      "True         4  0.004489     0.000000\n",
      "\n",
      "\n",
      "PARCH_5 : 2\n",
      "         COUNT     RATIO  TARGET_MEAN\n",
      "PARCH_5                              \n",
      "False      886  0.994388     0.384876\n",
      "True         5  0.005612     0.200000\n",
      "\n",
      "\n",
      "PARCH_6 : 2\n",
      "         COUNT     RATIO  TARGET_MEAN\n",
      "PARCH_6                              \n",
      "False      890  0.998878      0.38427\n",
      "True         1  0.001122      0.00000\n",
      "\n",
      "\n",
      "EMBARKED_Q : 2\n",
      "            COUNT    RATIO  TARGET_MEAN\n",
      "EMBARKED_Q                             \n",
      "False         814  0.91358     0.383292\n",
      "True           77  0.08642     0.389610\n",
      "\n",
      "\n",
      "EMBARKED_S : 2\n",
      "            COUNT     RATIO  TARGET_MEAN\n",
      "EMBARKED_S                              \n",
      "False         245  0.274972     0.502041\n",
      "True          646  0.725028     0.339009\n",
      "\n",
      "\n",
      "NEW_NAME_WORD_COUNT_4 : 2\n",
      "                       COUNT     RATIO  TARGET_MEAN\n",
      "NEW_NAME_WORD_COUNT_4                              \n",
      "False                    503  0.564534     0.417495\n",
      "True                     388  0.435466     0.340206\n",
      "\n",
      "\n",
      "NEW_NAME_WORD_COUNT_5 : 2\n",
      "                       COUNT     RATIO  TARGET_MEAN\n",
      "NEW_NAME_WORD_COUNT_5                              \n",
      "False                    795  0.892256     0.378616\n",
      "True                      96  0.107744     0.427083\n",
      "\n",
      "\n",
      "NEW_NAME_WORD_COUNT_6 : 2\n",
      "                       COUNT     RATIO  TARGET_MEAN\n",
      "NEW_NAME_WORD_COUNT_6                              \n",
      "False                    838  0.940516     0.359189\n",
      "True                      53  0.059484     0.773585\n",
      "\n",
      "\n",
      "NEW_NAME_WORD_COUNT_7 : 2\n",
      "                       COUNT     RATIO  TARGET_MEAN\n",
      "NEW_NAME_WORD_COUNT_7                              \n",
      "False                    853  0.957351     0.363423\n",
      "True                      38  0.042649     0.842105\n",
      "\n",
      "\n",
      "NEW_NAME_WORD_COUNT_8 : 2\n",
      "                       COUNT     RATIO  TARGET_MEAN\n",
      "NEW_NAME_WORD_COUNT_8                              \n",
      "False                    882  0.989899     0.382086\n",
      "True                       9  0.010101     0.555556\n",
      "\n",
      "\n",
      "NEW_NAME_WORD_COUNT_9 : 2\n",
      "                       COUNT     RATIO  TARGET_MEAN\n",
      "NEW_NAME_WORD_COUNT_9                              \n",
      "False                    890  0.998878     0.383146\n",
      "True                       1  0.001122     1.000000\n",
      "\n",
      "\n",
      "NEW_NAME_WORD_COUNT_14 : 2\n",
      "                        COUNT     RATIO  TARGET_MEAN\n",
      "NEW_NAME_WORD_COUNT_14                              \n",
      "False                     890  0.998878     0.383146\n",
      "True                        1  0.001122     1.000000\n",
      "\n",
      "\n",
      "NEW_TITLE_Miss : 2\n",
      "                COUNT     RATIO  TARGET_MEAN\n",
      "NEW_TITLE_Miss                              \n",
      "False             709  0.795735     0.303244\n",
      "True              182  0.204265     0.697802\n",
      "\n",
      "\n",
      "NEW_TITLE_Mr : 2\n",
      "              COUNT     RATIO  TARGET_MEAN\n",
      "NEW_TITLE_Mr                              \n",
      "False           374  0.419753     0.697861\n",
      "True            517  0.580247     0.156673\n",
      "\n",
      "\n",
      "NEW_TITLE_Mrs : 2\n",
      "               COUNT     RATIO  TARGET_MEAN\n",
      "NEW_TITLE_Mrs                              \n",
      "False            766  0.859708     0.317232\n",
      "True             125  0.140292     0.792000\n",
      "\n",
      "\n",
      "NEW_TITLE_Rare : 2\n",
      "                COUNT     RATIO  TARGET_MEAN\n",
      "NEW_TITLE_Rare                              \n",
      "False             864  0.969697     0.381944\n",
      "True               27  0.030303     0.444444\n",
      "\n",
      "\n",
      "NEW_FAMILY_SIZE_2 : 2\n",
      "                   COUNT     RATIO  TARGET_MEAN\n",
      "NEW_FAMILY_SIZE_2                              \n",
      "False                730  0.819304     0.346575\n",
      "True                 161  0.180696     0.552795\n",
      "\n",
      "\n",
      "NEW_FAMILY_SIZE_3 : 2\n",
      "                   COUNT     RATIO  TARGET_MEAN\n",
      "NEW_FAMILY_SIZE_3                              \n",
      "False                789  0.885522     0.358682\n",
      "True                 102  0.114478     0.578431\n",
      "\n",
      "\n",
      "NEW_FAMILY_SIZE_4 : 2\n",
      "                   COUNT     RATIO  TARGET_MEAN\n",
      "NEW_FAMILY_SIZE_4                              \n",
      "False                862  0.967452     0.372390\n",
      "True                  29  0.032548     0.724138\n",
      "\n",
      "\n",
      "NEW_FAMILY_SIZE_5 : 2\n",
      "                   COUNT     RATIO  TARGET_MEAN\n",
      "NEW_FAMILY_SIZE_5                              \n",
      "False                876  0.983165     0.386986\n",
      "True                  15  0.016835     0.200000\n",
      "\n",
      "\n",
      "NEW_FAMILY_SIZE_6 : 2\n",
      "                   COUNT     RATIO  TARGET_MEAN\n",
      "NEW_FAMILY_SIZE_6                              \n",
      "False                869  0.975309     0.390104\n",
      "True                  22  0.024691     0.136364\n",
      "\n",
      "\n",
      "NEW_FAMILY_SIZE_7 : 2\n",
      "                   COUNT     RATIO  TARGET_MEAN\n",
      "NEW_FAMILY_SIZE_7                              \n",
      "False                879  0.986532     0.384528\n",
      "True                  12  0.013468     0.333333\n",
      "\n",
      "\n",
      "NEW_FAMILY_SIZE_8 : 2\n",
      "                   COUNT     RATIO  TARGET_MEAN\n",
      "NEW_FAMILY_SIZE_8                              \n",
      "False                885  0.993266     0.386441\n",
      "True                   6  0.006734     0.000000\n",
      "\n",
      "\n",
      "NEW_FAMILY_SIZE_11 : 2\n",
      "                    COUNT     RATIO  TARGET_MEAN\n",
      "NEW_FAMILY_SIZE_11                              \n",
      "False                 884  0.992144     0.386878\n",
      "True                    7  0.007856     0.000000\n",
      "\n",
      "\n",
      "NEW_AGE_CAT_senior : 2\n",
      "                    COUNT     RATIO  TARGET_MEAN\n",
      "NEW_AGE_CAT_senior                              \n",
      "False                 852  0.956229     0.387324\n",
      "True                   39  0.043771     0.307692\n",
      "\n",
      "\n",
      "NEW_AGE_CAT_young : 2\n",
      "                   COUNT     RATIO  TARGET_MEAN\n",
      "NEW_AGE_CAT_young                              \n",
      "False                774  0.868687     0.360465\n",
      "True                 117  0.131313     0.538462\n",
      "\n",
      "\n",
      "NEW_SEX_CAT_maturemale : 2\n",
      "                        COUNT     RATIO  TARGET_MEAN\n",
      "NEW_SEX_CAT_maturemale                              \n",
      "False                     361  0.405163      0.66205\n",
      "True                      530  0.594837      0.19434\n",
      "\n",
      "\n",
      "NEW_SEX_CAT_seniorfemale : 2\n",
      "                          COUNT    RATIO  TARGET_MEAN\n",
      "NEW_SEX_CAT_seniorfemale                             \n",
      "False                       874  0.98092     0.372998\n",
      "True                         17  0.01908     0.941176\n",
      "\n",
      "\n",
      "NEW_SEX_CAT_seniormale : 2\n",
      "                        COUNT    RATIO  TARGET_MEAN\n",
      "NEW_SEX_CAT_seniormale                             \n",
      "False                     844  0.94725     0.398104\n",
      "True                       47  0.05275     0.127660\n",
      "\n",
      "\n",
      "SURVIVED : 2\n",
      "          COUNT     RATIO  TARGET_MEAN\n",
      "SURVIVED                              \n",
      "0           549  0.616162          0.0\n",
      "1           342  0.383838          1.0\n",
      "\n",
      "\n",
      "NEW_NAME_DR : 2\n",
      "             COUNT     RATIO  TARGET_MEAN\n",
      "NEW_NAME_DR                              \n",
      "0              881  0.988777      0.38252\n",
      "1               10  0.011223      0.50000\n",
      "\n",
      "\n"
     ]
    }
   ],
   "source": [
    "rare_analyser(df, \"SURVIVED\", cat_cols) #cat_colsu da rareanalyserden geçiriyorum\n",
    "#burada yeni oluşturduğum değişkenlerime bakıyorum, oranlarının birbirine en azından\n",
    "#biraz daha yakın olmasını istiyorum örn new_sex_cat_maturemale targetmean açısından \n",
    "# ne kadar anlamlı olduğunu gözlemledim."
   ]
  },
  {
   "cell_type": "code",
   "execution_count": 59,
   "id": "ec6075e1",
   "metadata": {},
   "outputs": [],
   "source": [
    "#örn bir tane yakaladık new family size 11' de targetmean 0 gözüküyor yani bir \n",
    "# bilgi taşımıyor gibi gözüküyor yani çöp bunun gibi birkaç tane var.\n",
    "# durum olarak oheden geçirdiğim ve yeni oluşturduğum değişkenlerin de hepsinin\n",
    "#ge... olup olmadığını bilmiyorum ve bunun da sorgulanması gerek diye düşünüyorum\n",
    "#yeni problemim şu iki sınıflı olup da sınıflardan birinin oranı 0.01den az mı bunu araştıracağım."
   ]
  },
  {
   "cell_type": "code",
   "execution_count": 60,
   "id": "162f4e86",
   "metadata": {},
   "outputs": [
    {
     "data": {
      "text/plain": [
       "['SIBSP_5',\n",
       " 'SIBSP_8',\n",
       " 'PARCH_3',\n",
       " 'PARCH_4',\n",
       " 'PARCH_5',\n",
       " 'PARCH_6',\n",
       " 'NEW_NAME_WORD_COUNT_9',\n",
       " 'NEW_NAME_WORD_COUNT_14',\n",
       " 'NEW_FAMILY_SIZE_8',\n",
       " 'NEW_FAMILY_SIZE_11']"
      ]
     },
     "execution_count": 60,
     "metadata": {},
     "output_type": "execute_result"
    }
   ],
   "source": [
    "useless_cols = [col for col in df.columns if df[col].nunique() == 2 and\n",
    "               (df[col].value_counts() / len(df) < 0.01).any(axis = None)]\n",
    "\n",
    "useless_cols\n",
    "#kullanışsız sütunlar diye bir değişken oluşturuyorum kategorik değişkenlerin sınıf sayısını\n",
    "#gözlem sayısına böl bunlardan herhangi bir tanesinde 0.01den küçük olan 2 sınıflı \n",
    "# bir kategorik değişken varsa bunu getir diyorum"
   ]
  },
  {
   "cell_type": "code",
   "execution_count": 61,
   "id": "71781692",
   "metadata": {},
   "outputs": [],
   "source": [
    "# bunları silmeyi veya silmemeyi tercih eedbiliriz. ancak silebilirim."
   ]
  },
  {
   "cell_type": "code",
   "execution_count": 62,
   "id": "afc8d1b2",
   "metadata": {},
   "outputs": [],
   "source": [
    "#sileceğim kod:\n",
    "# df.drop(useless_cols, axis = 1, inplace = True)"
   ]
  },
  {
   "cell_type": "markdown",
   "id": "c2b11a1e",
   "metadata": {},
   "source": [
    "### 7- Standartlaştırma (Standard Scaler)"
   ]
  },
  {
   "cell_type": "code",
   "execution_count": 63,
   "id": "a6a3d7ad",
   "metadata": {},
   "outputs": [],
   "source": [
    "# diyelimki bu problemde gerekli değil ama standartlaştırmaya ihtiyacımız\n",
    "# olursa ne yapacağız işte bunu: bunun yerine rebust scaler ya da minmax scaler da kullanılabilir tavsiye edilir"
   ]
  },
  {
   "cell_type": "code",
   "execution_count": 64,
   "id": "0a3a3ab4",
   "metadata": {},
   "outputs": [
    {
     "data": {
      "text/html": [
       "<div>\n",
       "<style scoped>\n",
       "    .dataframe tbody tr th:only-of-type {\n",
       "        vertical-align: middle;\n",
       "    }\n",
       "\n",
       "    .dataframe tbody tr th {\n",
       "        vertical-align: top;\n",
       "    }\n",
       "\n",
       "    .dataframe thead th {\n",
       "        text-align: right;\n",
       "    }\n",
       "</style>\n",
       "<table border=\"1\" class=\"dataframe\">\n",
       "  <thead>\n",
       "    <tr style=\"text-align: right;\">\n",
       "      <th></th>\n",
       "      <th>AGE</th>\n",
       "      <th>FARE</th>\n",
       "      <th>NEW_NAME_COUNT</th>\n",
       "      <th>NEW_AGE_PCLASS</th>\n",
       "    </tr>\n",
       "  </thead>\n",
       "  <tbody>\n",
       "    <tr>\n",
       "      <th>0</th>\n",
       "      <td>-0.560638</td>\n",
       "      <td>-0.820552</td>\n",
       "      <td>-0.436675</td>\n",
       "      <td>0.066488</td>\n",
       "    </tr>\n",
       "    <tr>\n",
       "      <th>1</th>\n",
       "      <td>0.663302</td>\n",
       "      <td>2.031623</td>\n",
       "      <td>2.248303</td>\n",
       "      <td>-0.790429</td>\n",
       "    </tr>\n",
       "    <tr>\n",
       "      <th>2</th>\n",
       "      <td>-0.254653</td>\n",
       "      <td>-0.787578</td>\n",
       "      <td>-0.558720</td>\n",
       "      <td>0.433739</td>\n",
       "    </tr>\n",
       "    <tr>\n",
       "      <th>3</th>\n",
       "      <td>0.433813</td>\n",
       "      <td>1.419297</td>\n",
       "      <td>2.126258</td>\n",
       "      <td>-0.882241</td>\n",
       "    </tr>\n",
       "    <tr>\n",
       "      <th>4</th>\n",
       "      <td>0.433813</td>\n",
       "      <td>-0.781471</td>\n",
       "      <td>-0.314631</td>\n",
       "      <td>1.260052</td>\n",
       "    </tr>\n",
       "  </tbody>\n",
       "</table>\n",
       "</div>"
      ],
      "text/plain": [
       "        AGE      FARE  NEW_NAME_COUNT  NEW_AGE_PCLASS\n",
       "0 -0.560638 -0.820552       -0.436675        0.066488\n",
       "1  0.663302  2.031623        2.248303       -0.790429\n",
       "2 -0.254653 -0.787578       -0.558720        0.433739\n",
       "3  0.433813  1.419297        2.126258       -0.882241\n",
       "4  0.433813 -0.781471       -0.314631        1.260052"
      ]
     },
     "execution_count": 64,
     "metadata": {},
     "output_type": "execute_result"
    }
   ],
   "source": [
    "scaler = StandardScaler()\n",
    "df[num_cols] = scaler.fit_transform(df[num_cols])\n",
    "\n",
    "df[num_cols].head() #sayısal değişkenler dönüştürüldü"
   ]
  },
  {
   "cell_type": "code",
   "execution_count": 65,
   "id": "d1fcb8ae",
   "metadata": {},
   "outputs": [
    {
     "data": {
      "text/plain": [
       "(891, 50)"
      ]
     },
     "execution_count": 65,
     "metadata": {},
     "output_type": "execute_result"
    }
   ],
   "source": [
    "#burada veri önişlemeyle ilgili işlemlerimiz bitmiştir.\n",
    "# artık kullanacak olduğum herhangi bir makine öğrenmesi algoritması bu veri üzerinde çalışabilir.\n",
    "df.shape"
   ]
  },
  {
   "cell_type": "markdown",
   "id": "781cc743",
   "metadata": {},
   "source": [
    "### 8- Model"
   ]
  },
  {
   "cell_type": "code",
   "execution_count": 66,
   "id": "22d25dc4",
   "metadata": {},
   "outputs": [],
   "source": [
    "# aslında işlerim bitti ancak verim hazır olduğu için modelleyeceğim.\n",
    "#bir ml modeli oluşturacağım detaylarına takılmadan."
   ]
  },
  {
   "cell_type": "code",
   "execution_count": 67,
   "id": "a6fb02db",
   "metadata": {},
   "outputs": [],
   "source": [
    "#öncelikle bağımlı ve bağımsız değişkeni seçmem gerekiyor \n",
    "# bu çalışmada bağımlı değşiken survived değişkeni, bağımsız değişkenler ise passngerid ve survived dışındaki değişkenler"
   ]
  },
  {
   "cell_type": "code",
   "execution_count": 68,
   "id": "10ee39a1",
   "metadata": {},
   "outputs": [
    {
     "data": {
      "text/plain": [
       "0.8059701492537313"
      ]
     },
     "execution_count": 68,
     "metadata": {},
     "output_type": "execute_result"
    }
   ],
   "source": [
    "y = df[\"SURVIVED\"]\n",
    "X = df.drop([\"PASSENGERID\", \"SURVIVED\"], axis = 1)\n",
    "#konumuz ml değil ancak feature engineering ve veri önişleme kounlarını bitirdim ancak verim hazır olduğu için basit bir model kuracağım\n",
    "#veri setini train ve test olarak ikiye ayırıyorum train il emodeli kuracağım test set ile de modeli test ediyor olacağım\n",
    "X_train, X_test, y_train, y_test = train_test_split(X, y, test_size = 0.30, random_state = 17)\n",
    "#model veriyi ezberlemesin diye verinin bir kısmıyla eğitim kalan kısmıyla tahmin yapsın diye traintestsplit metodunu kullanıyor olacağız\n",
    "\n",
    "\n",
    "#model nesnesini getiriyorum slearnden randomforestclassifier getiriyorum\n",
    "from sklearn.ensemble import RandomForestClassifier #ağaç temelli bir yöntem kullanıyorum\n",
    "\n",
    "rf_model = RandomForestClassifier(random_state = 46).fit(X_train, y_train) #random forest modelini kurdum #x_train bağımsız değişkenler y_train bağımlı değişkenler train veri setleri üzerinden modeli kurdum ve fit ettim random_statei aynı sonuçları alabilmek için 46 yazdık\n",
    "y_pred = rf_model.predict(X_test) # modeli kurduktan sonra bu modeli kullanarak tahmin edelim diyerek predict(X_test) diyerek bağımsız değişken değerlerini modele soktum ve bana test setinin bağımlı değişkenlerini tahmin et diyorum ve daha sonra bendekilerle kıyaslayayım diyorum accuracy_score ile kıyaslayacağım\n",
    "accuracy_score(y_pred, y_test) # modelin x_test ile tahmin etmesini istiyorum ve y_test ile tahmin ettiğim değerleri kıyaslıyorum."
   ]
  },
  {
   "cell_type": "markdown",
   "id": "cae4b336",
   "metadata": {},
   "source": [
    "%80 doğruluk oranına ulaştık. bu ne demek, bu gemiye binmeden önce kişler bilgilerini bana verseydi ben bu bilgilerimi bu modele sorsaydım gemiye binenlerin %80ninin hayatta kalıp kalamayacağını doğru tahmin edebilirdim. başarı oranım %80dir.\n",
    "\n",
    "\n",
    "veri işlerinin en büyük kısmı veriye ulaşma veriyi hazırlama gibi kısımlarıdır.\n",
    "kalan %20lik kısmı ise modeli kurup tahmin ettirme kısmıdır."
   ]
  },
  {
   "cell_type": "code",
   "execution_count": 69,
   "id": "299b818f",
   "metadata": {},
   "outputs": [],
   "source": [
    "#peki biz hiçbir işlem yapmasaydık model skorumuz ne olurdu diye soracak olursak?"
   ]
  },
  {
   "cell_type": "code",
   "execution_count": 70,
   "id": "6603f6e1",
   "metadata": {
    "scrolled": true
   },
   "outputs": [
    {
     "ename": "SyntaxError",
     "evalue": "invalid syntax (3316272275.py, line 1)",
     "output_type": "error",
     "traceback": [
      "\u001b[1;36m  Cell \u001b[1;32mIn[70], line 1\u001b[1;36m\u001b[0m\n\u001b[1;33m    denemesdlkjflsdjflks***23423**23\u001b[0m\n\u001b[1;37m                          ^\u001b[0m\n\u001b[1;31mSyntaxError\u001b[0m\u001b[1;31m:\u001b[0m invalid syntax\n"
     ]
    }
   ],
   "source": [
    "#denemesdlkjflsdjflks***23423**23"
   ]
  },
  {
   "cell_type": "code",
   "execution_count": null,
   "id": "029bfa79",
   "metadata": {},
   "outputs": [],
   "source": [
    "# SADECE EN GEREKLİ OLAN İŞLEMLERİ YAPARAK MODELE SOKUP DENEYECEĞİM"
   ]
  },
  {
   "cell_type": "code",
   "execution_count": null,
   "id": "377690d1",
   "metadata": {},
   "outputs": [],
   "source": [
    "dff = pd.read_csv(\"titanic.csv\") # veriyi okuttum\n",
    "dff.dropna(inplace = True) # boş verileri sildim\n",
    "dff =pd.get_dummies(dff, columns = [\"Sex\", \"Embarked\"], drop_first = True) # dropfirst true yaparak label encoda ihtiyaç olmayacak şekilde 2 sınıflıları da binary encod ediyorum \n",
    "y= dff[\"Survived\"] #bağımlı değişkenimi seçtim\n",
    "X = dff.drop([\"PassengerId\", \"Survived\", \"Name\", \"Ticket\", \"Cabin\"], axis = 1) #bağımsız değişkenlerimi seçtim\n",
    "X_train, X_test, y_train, y_test = train_test_split(X, y, test_size = 0.30, random_state = 17) # test train diye ayırdım\n",
    "rf_model = RandomForestClassifier(random_state = 46).fit(X_train, y_train) #modelimi kurdum\n",
    "y_pred = rf_model.predict(X_test) #tahminlerim\n",
    "accuracy_score(y_pred, y_test) #başarı sonucum"
   ]
  },
  {
   "cell_type": "code",
   "execution_count": null,
   "id": "32eb60a4",
   "metadata": {},
   "outputs": [],
   "source": [
    "# boş değerleri silmesem mesela kapatsam kodu hata alıyprum nan değerler olduğu için\n",
    "# hani duyarsızdı ağaç yöntemleri diyecek olursak? evet duarsız ancak hiçbir şey yapılmayacağı anlamına gelmiyor\n",
    "# buradaki rf demek ki programı uygulamak açısından duyarlı\n",
    "# get_dummiesi kapatırsam da string değerler yüzünden model çalışamıyor\n",
    "\n",
    "\n",
    "# netice olarak yapmasam %70 değer aldım "
   ]
  },
  {
   "cell_type": "code",
   "execution_count": null,
   "id": "6196b256",
   "metadata": {},
   "outputs": [],
   "source": [
    "# yeni ürettiğim değişkenlere ne oldu diye bakmak istiyorum\n",
    "#acaba gerekliler miydi örn?"
   ]
  },
  {
   "cell_type": "markdown",
   "id": "d8d73130",
   "metadata": {},
   "source": [
    "### normal modelimi kullanarak bir deneme gerçekleştireceğim için %70 başarı olanı çalıştırmamak için hatalı bir kod yazıp başına kernel atttım. normal model çalışsın diye"
   ]
  },
  {
   "cell_type": "code",
   "execution_count": 76,
   "id": "66946dbe",
   "metadata": {},
   "outputs": [
    {
     "data": {
      "image/png": "[encoded data removed]",
      "text/plain": [
       "<Figure size 1000x1000 with 1 Axes>"
      ]
     },
     "metadata": {},
     "output_type": "display_data"
    }
   ],
   "source": [
    "def plot_importance(model, features, num=len(X), save=False):\n",
    "    feature_imp = pd.DataFrame({\"Value\": model.feature_importances_ , \"Feature\": features.columns})\n",
    "    plt.figure(figsize=(10,10))\n",
    "    sns.set(font_scale=1)\n",
    "    sns.barplot(x=\"Value\", y=\"Feature\", data=feature_imp.sort_values(by=\"Value\",\n",
    "                                                                    ascending= False)[0:num])\n",
    "    \n",
    "    plt.title(\"Features\")\n",
    "    plt.tight_layout()\n",
    "    plt.show()\n",
    "    if save:\n",
    "        plt.savefig(\"importances.png\")\n",
    "        \n",
    "        \n",
    "plot_importance(rf_model, X_train)\n",
    "#konum dışı olduğu için kod detayına girmedim."
   ]
  },
  {
   "cell_type": "markdown",
   "id": "f996b66a",
   "metadata": {},
   "source": [
    "burada değişkenlerimin önem sırasını görebiliyorum. ilginç bir şekilde NEW_NAME_COUNT değişkenim en önemli değişken olarak çıktı, fare değişkeni ikinci en önemli değişken yani bilet fiyatı, yine oluşturduğum yeni değişken newagepclass değişkeni en üst sıralarda, new_title_mr yine üst sıralarda,\n",
    "\n",
    "peki çöpler hangileri new_name_word_count dan oluşturduğum dummies featurelar anlamsız olmuş. \n",
    "\n",
    "özellik mühendisliği ve veri ön işleme çok önemlidir ve machine learning algoritmaları bunlara dayanmaktadır."
   ]
  }
 ],
 "metadata": {
  "kernelspec": {
   "display_name": "Python 3 (ipykernel)",
   "language": "python",
   "name": "python3"
  },
  "language_info": {
   "codemirror_mode": {
    "name": "ipython",
    "version": 3
   },
   "file_extension": ".py",
   "mimetype": "text/x-python",
   "name": "python",
   "nbconvert_exporter": "python",
   "pygments_lexer": "ipython3",
   "version": "3.11.5"
  }
 },
 "nbformat": 4,
 "nbformat_minor": 5
}
