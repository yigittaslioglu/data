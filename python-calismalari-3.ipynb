{
 "cells": [
  {
   "cell_type": "markdown",
   "id": "f171d28c",
   "metadata": {},
   "source": [
    "## pythonda sets 3.19"
   ]
  },
  {
   "cell_type": "code",
   "execution_count": 14,
   "id": "3404f763",
   "metadata": {},
   "outputs": [],
   "source": [
    "fruits = {\"orange\", \"aple\", \"banana\"} # set tanımlaması süslü parantez ile yapılır"
   ]
  },
  {
   "cell_type": "code",
   "execution_count": 15,
   "id": "324953b2",
   "metadata": {},
   "outputs": [
    {
     "data": {
      "text/plain": [
       "{'aple', 'banana', 'orange'}"
      ]
     },
     "execution_count": 15,
     "metadata": {},
     "output_type": "execute_result"
    }
   ],
   "source": [
    "fruits #bunlara noraml listeler gibi index bilgileri ile ulaşamam\n",
    "# indexlenemez bir listedir"
   ]
  },
  {
   "cell_type": "code",
   "execution_count": 16,
   "id": "52a9325d",
   "metadata": {},
   "outputs": [],
   "source": [
    "# elemanlarına döngü kulanarak ulaşabilirim"
   ]
  },
  {
   "cell_type": "code",
   "execution_count": 17,
   "id": "85f52ca9",
   "metadata": {},
   "outputs": [
    {
     "name": "stdout",
     "output_type": "stream",
     "text": [
      "orange\n",
      "banana\n",
      "aple\n"
     ]
    }
   ],
   "source": [
    "for i in fruits:\n",
    "    print(i) # setler sıralanamaz index numarası olmadığı için "
   ]
  },
  {
   "cell_type": "code",
   "execution_count": 18,
   "id": "4b8ba8b2",
   "metadata": {},
   "outputs": [],
   "source": [
    "#listeye eleman eklemek için add metodunu kullanabilirim"
   ]
  },
  {
   "cell_type": "code",
   "execution_count": 19,
   "id": "4bc1ac30",
   "metadata": {},
   "outputs": [],
   "source": [
    "fruits.add(\"strawbery\")"
   ]
  },
  {
   "cell_type": "code",
   "execution_count": 21,
   "id": "1a97a6f0",
   "metadata": {},
   "outputs": [],
   "source": [
    "# birden fazla eleman eklemek için update metodunu kullanırım\n",
    "fruits.update([\"mango\", \"grape\"])"
   ]
  },
  {
   "cell_type": "code",
   "execution_count": 23,
   "id": "77d652bf",
   "metadata": {},
   "outputs": [
    {
     "data": {
      "text/plain": [
       "{'aple', 'banana', 'grape', 'mango', 'orange', 'strawbery'}"
      ]
     },
     "execution_count": 23,
     "metadata": {},
     "output_type": "execute_result"
    }
   ],
   "source": [
    "fruits #eğer daha önceden var olan bir eleman eklenirse o elean eklenmez\n",
    "# bir eleman sadece bir kere listede olabilir"
   ]
  },
  {
   "cell_type": "code",
   "execution_count": 24,
   "id": "da9dda79",
   "metadata": {},
   "outputs": [],
   "source": [
    "mylist = [1,2,3,3,4,4,4,5]"
   ]
  },
  {
   "cell_type": "code",
   "execution_count": 25,
   "id": "318f5313",
   "metadata": {},
   "outputs": [
    {
     "name": "stdout",
     "output_type": "stream",
     "text": [
      "{1, 2, 3, 4, 5}\n"
     ]
    }
   ],
   "source": [
    "print(set(mylist))"
   ]
  },
  {
   "cell_type": "code",
   "execution_count": 26,
   "id": "cf494593",
   "metadata": {},
   "outputs": [],
   "source": [
    "fruits.remove(\"mango\")"
   ]
  },
  {
   "cell_type": "code",
   "execution_count": 27,
   "id": "6ffcabcf",
   "metadata": {},
   "outputs": [
    {
     "data": {
      "text/plain": [
       "{'aple', 'banana', 'grape', 'orange', 'strawbery'}"
      ]
     },
     "execution_count": 27,
     "metadata": {},
     "output_type": "execute_result"
    }
   ],
   "source": [
    "fruits"
   ]
  },
  {
   "cell_type": "code",
   "execution_count": 28,
   "id": "76fe9a28",
   "metadata": {},
   "outputs": [],
   "source": [
    "fruits.discard(\"aple\")"
   ]
  },
  {
   "cell_type": "code",
   "execution_count": 29,
   "id": "9ffe6764",
   "metadata": {},
   "outputs": [
    {
     "data": {
      "text/plain": [
       "{'banana', 'grape', 'orange', 'strawbery'}"
      ]
     },
     "execution_count": 29,
     "metadata": {},
     "output_type": "execute_result"
    }
   ],
   "source": [
    "fruits"
   ]
  },
  {
   "cell_type": "code",
   "execution_count": 30,
   "id": "be6436af",
   "metadata": {},
   "outputs": [
    {
     "data": {
      "text/plain": [
       "'strawbery'"
      ]
     },
     "execution_count": 30,
     "metadata": {},
     "output_type": "execute_result"
    }
   ],
   "source": [
    "fruits.pop()"
   ]
  },
  {
   "cell_type": "code",
   "execution_count": 31,
   "id": "fe695770",
   "metadata": {},
   "outputs": [
    {
     "data": {
      "text/plain": [
       "{'banana', 'grape', 'orange'}"
      ]
     },
     "execution_count": 31,
     "metadata": {},
     "output_type": "execute_result"
    }
   ],
   "source": [
    "fruits"
   ]
  },
  {
   "cell_type": "code",
   "execution_count": 32,
   "id": "f38c6f1a",
   "metadata": {},
   "outputs": [],
   "source": [
    "fruits.clear()"
   ]
  },
  {
   "cell_type": "code",
   "execution_count": 33,
   "id": "29cb2ae6",
   "metadata": {},
   "outputs": [
    {
     "data": {
      "text/plain": [
       "set()"
      ]
     },
     "execution_count": 33,
     "metadata": {},
     "output_type": "execute_result"
    }
   ],
   "source": [
    "fruits"
   ]
  },
  {
   "cell_type": "markdown",
   "id": "b2988879",
   "metadata": {},
   "source": [
    "## pythonda value ve refereans veri tipleri 3.20"
   ]
  },
  {
   "cell_type": "code",
   "execution_count": 34,
   "id": "2690f6d3",
   "metadata": {},
   "outputs": [],
   "source": [
    "# bir veri tipi tnımladığım aman bu bellek üzerinde nasıl değerlendiriliyor"
   ]
  },
  {
   "cell_type": "code",
   "execution_count": 35,
   "id": "24184021",
   "metadata": {},
   "outputs": [
    {
     "data": {
      "text/plain": [
       "(25, 10)"
      ]
     },
     "execution_count": 35,
     "metadata": {},
     "output_type": "execute_result"
    }
   ],
   "source": [
    "x = 5\n",
    "y = 25 \n",
    "\n",
    "x = y\n",
    "\n",
    "y = 10\n",
    "\n",
    "x,y #buna value types denir string ve sayısal değerler"
   ]
  },
  {
   "cell_type": "code",
   "execution_count": 36,
   "id": "12c52c75",
   "metadata": {},
   "outputs": [],
   "source": [
    " # reference types => list"
   ]
  },
  {
   "cell_type": "code",
   "execution_count": 37,
   "id": "d56556e2",
   "metadata": {},
   "outputs": [
    {
     "data": {
      "text/plain": [
       "(['grape', 'banana'], ['grape', 'banana'])"
      ]
     },
     "execution_count": 37,
     "metadata": {},
     "output_type": "execute_result"
    }
   ],
   "source": [
    "a = [\" apple\", \"banana\"]\n",
    "b = [\" apple\", \"banana\"]\n",
    "a = b\n",
    "b[0] = \"grape\"\n",
    "a,b\n",
    "# referans veri tiplerinde bir eşitlik yaptıktan sonra ikisi de aynı adresi taşıyor olduğundan \n",
    "# dolayı birindeki değişiklik diğerini de etkiler"
   ]
  },
  {
   "cell_type": "markdown",
   "id": "437601e1",
   "metadata": {},
   "source": [
    "## 4.1 atama operatörleri "
   ]
  },
  {
   "cell_type": "code",
   "execution_count": 38,
   "id": "4eb204d0",
   "metadata": {},
   "outputs": [],
   "source": [
    "x , y, z = 5, 10, 20"
   ]
  },
  {
   "cell_type": "code",
   "execution_count": 46,
   "id": "225eab81",
   "metadata": {},
   "outputs": [
    {
     "data": {
      "text/plain": [
       "(20, 5, 20)"
      ]
     },
     "execution_count": 46,
     "metadata": {},
     "output_type": "execute_result"
    }
   ],
   "source": [
    "#x,y = y, x\n",
    "\n",
    "x,y,z"
   ]
  },
  {
   "cell_type": "code",
   "execution_count": 47,
   "id": "dacec7f2",
   "metadata": {},
   "outputs": [],
   "source": [
    "x = x + 5"
   ]
  },
  {
   "cell_type": "code",
   "execution_count": 48,
   "id": "369a4029",
   "metadata": {},
   "outputs": [
    {
     "data": {
      "text/plain": [
       "(25, 5, 20)"
      ]
     },
     "execution_count": 48,
     "metadata": {},
     "output_type": "execute_result"
    }
   ],
   "source": [
    "x,y,z"
   ]
  },
  {
   "cell_type": "code",
   "execution_count": 56,
   "id": "98ff3bfb",
   "metadata": {},
   "outputs": [
    {
     "data": {
      "text/plain": [
       "(0.0, 3125, 20)"
      ]
     },
     "execution_count": 56,
     "metadata": {},
     "output_type": "execute_result"
    }
   ],
   "source": [
    "x += 5 # topla\n",
    "x -= 5 # çıkar\n",
    "x *= 5 # çarp\n",
    "x /= 5 # böl\n",
    "x %= 5 # modunu al\n",
    "x //= 5 #tam bölme\n",
    "y **= 5 # 5 üssünü al\n",
    "\n",
    "\n",
    "x,y,z"
   ]
  },
  {
   "cell_type": "code",
   "execution_count": 57,
   "id": "4fe6e874",
   "metadata": {},
   "outputs": [
    {
     "data": {
      "text/plain": [
       "(1, 2, 3)"
      ]
     },
     "execution_count": 57,
     "metadata": {},
     "output_type": "execute_result"
    }
   ],
   "source": [
    "values = 1,2,3\n",
    "\n",
    "values # daha fazla yazarsam örneğin 5 elemanı 3 değişkene dağıtamam"
   ]
  },
  {
   "cell_type": "code",
   "execution_count": 58,
   "id": "5d539189",
   "metadata": {},
   "outputs": [
    {
     "name": "stdout",
     "output_type": "stream",
     "text": [
      "1 2 3\n"
     ]
    }
   ],
   "source": [
    "x ,y ,z = values\n",
    "print(x,y,z)"
   ]
  },
  {
   "cell_type": "code",
   "execution_count": 62,
   "id": "e7e0ed1a",
   "metadata": {},
   "outputs": [
    {
     "name": "stdout",
     "output_type": "stream",
     "text": [
      "1 2 4\n",
      "1 2 [3, 4, 5]\n"
     ]
    }
   ],
   "source": [
    "# birden fazla değişkeni değişkene adğıtmak için fazla eleman almak \n",
    "# istedğim değişkenin soluna yıldız eklerim\n",
    "valıues = 1,2,3,4,5\n",
    "x,y, *z = valıues\n",
    "print(x,y,z[1])\n",
    "print(x,y,z)"
   ]
  },
  {
   "cell_type": "markdown",
   "id": "2eb5c897",
   "metadata": {},
   "source": [
    "## atama operatörleri uygulama 4.2"
   ]
  },
  {
   "cell_type": "code",
   "execution_count": 63,
   "id": "a16da02e",
   "metadata": {},
   "outputs": [],
   "source": [
    "x,y,z = 2,5,107\n",
    "\n",
    "numbers = 1,5,7,10,6\n",
    "\n",
    "#1- kullanıcıdan aldığınız 2 sayının çarpımı ile x,y,z toplamının farkı nedir\n",
    "#2- y'nin x'e kalansız bölümünü hesaplayınız\n",
    "#3- (x,y,z) toplamının mod 3 ü nedir\n",
    "#4- y'nin x. kuvvetini hesaplayınız\n",
    "#5- x, *y, z = numbers işlemine göre z'nin küpü kaçtır\n",
    "#6- x,*y, z = numbers işlemine göre y'nin değerleri topamı kaçtır"
   ]
  },
  {
   "cell_type": "code",
   "execution_count": 66,
   "id": "a19e0605",
   "metadata": {},
   "outputs": [
    {
     "name": "stdout",
     "output_type": "stream",
     "text": [
      "sayı giriniz: 7\n",
      "sayı giriniz: 8\n"
     ]
    },
    {
     "data": {
      "text/plain": [
       "-58"
      ]
     },
     "execution_count": 66,
     "metadata": {},
     "output_type": "execute_result"
    }
   ],
   "source": [
    "#1- \n",
    "sayi1 = int(input(\"sayı giriniz: \"))\n",
    "sayi2 = int(input(\"sayı giriniz: \"))\n",
    "carpim = sayi1 * sayi2\n",
    "toplam = x + y + z\n",
    "result = carpim - toplam\n",
    "result"
   ]
  },
  {
   "cell_type": "code",
   "execution_count": 67,
   "id": "c6027aac",
   "metadata": {},
   "outputs": [
    {
     "data": {
      "text/plain": [
       "2"
      ]
     },
     "execution_count": 67,
     "metadata": {},
     "output_type": "execute_result"
    }
   ],
   "source": [
    "#2-\n",
    "result = y // x\n",
    "result"
   ]
  },
  {
   "cell_type": "code",
   "execution_count": 68,
   "id": "4d06e37c",
   "metadata": {},
   "outputs": [
    {
     "data": {
      "text/plain": [
       "0"
      ]
     },
     "execution_count": 68,
     "metadata": {},
     "output_type": "execute_result"
    }
   ],
   "source": [
    "#3-\n",
    "result = (x + y + z) % 3\n",
    "result"
   ]
  },
  {
   "cell_type": "code",
   "execution_count": 69,
   "id": "cf7cf5ca",
   "metadata": {},
   "outputs": [
    {
     "data": {
      "text/plain": [
       "25"
      ]
     },
     "execution_count": 69,
     "metadata": {},
     "output_type": "execute_result"
    }
   ],
   "source": [
    "#4-\n",
    "result =  y **x\n",
    "result"
   ]
  },
  {
   "cell_type": "code",
   "execution_count": 70,
   "id": "9bf60211",
   "metadata": {},
   "outputs": [
    {
     "data": {
      "text/plain": [
       "216"
      ]
     },
     "execution_count": 70,
     "metadata": {},
     "output_type": "execute_result"
    }
   ],
   "source": [
    "#5-\n",
    "x,*y,z = numbers \n",
    "z**3"
   ]
  },
  {
   "cell_type": "code",
   "execution_count": 78,
   "id": "e9745593",
   "metadata": {},
   "outputs": [
    {
     "data": {
      "text/plain": [
       "22"
      ]
     },
     "execution_count": 78,
     "metadata": {},
     "output_type": "execute_result"
    }
   ],
   "source": [
    "#6-\n",
    "x,*y,z = numbers \n",
    "f = y[0] + y[1] + y[2]\n",
    "f"
   ]
  },
  {
   "cell_type": "markdown",
   "id": "a4ddf8ac",
   "metadata": {},
   "source": [
    "## karşılaştırma operatörleri 4.3"
   ]
  },
  {
   "cell_type": "code",
   "execution_count": 2,
   "id": "7a70cce8",
   "metadata": {},
   "outputs": [],
   "source": [
    "#username, password = > database parolayı doğrulamak \n",
    "#içinkullanıcı bilgisi ile parloyı kontrol ediyorum eğer \n",
    "#doğruysa istediği alan gidecek"
   ]
  },
  {
   "cell_type": "code",
   "execution_count": 13,
   "id": "fa93fb6f",
   "metadata": {},
   "outputs": [],
   "source": [
    "a,b,c,d = 5,5,10,4\n",
    "pasword = \"1234\"\n",
    "username = \"sadikturan\""
   ]
  },
  {
   "cell_type": "code",
   "execution_count": 14,
   "id": "dfef8b62",
   "metadata": {},
   "outputs": [
    {
     "data": {
      "text/plain": [
       "True"
      ]
     },
     "execution_count": 14,
     "metadata": {},
     "output_type": "execute_result"
    }
   ],
   "source": [
    "result = (a == b )#True burada a be ye eşit mi diye sordum\n",
    "result"
   ]
  },
  {
   "cell_type": "code",
   "execution_count": 15,
   "id": "c20d872a",
   "metadata": {},
   "outputs": [
    {
     "data": {
      "text/plain": [
       "False"
      ]
     },
     "execution_count": 15,
     "metadata": {},
     "output_type": "execute_result"
    }
   ],
   "source": [
    "result = (a == c)\n",
    "result"
   ]
  },
  {
   "cell_type": "code",
   "execution_count": 16,
   "id": "a22b35b8",
   "metadata": {},
   "outputs": [
    {
     "data": {
      "text/plain": [
       "False"
      ]
     },
     "execution_count": 16,
     "metadata": {},
     "output_type": "execute_result"
    }
   ],
   "source": [
    "result = (\"sdktrn\" == username) \n",
    "result"
   ]
  },
  {
   "cell_type": "code",
   "execution_count": 18,
   "id": "0a530ac0",
   "metadata": {},
   "outputs": [
    {
     "data": {
      "text/plain": [
       "True"
      ]
     },
     "execution_count": 18,
     "metadata": {},
     "output_type": "execute_result"
    }
   ],
   "source": [
    "result = (\"sadikturan\" == username)\n",
    "result"
   ]
  },
  {
   "cell_type": "code",
   "execution_count": 20,
   "id": "eeb1d311",
   "metadata": {},
   "outputs": [
    {
     "data": {
      "text/plain": [
       "False"
      ]
     },
     "execution_count": 20,
     "metadata": {},
     "output_type": "execute_result"
    }
   ],
   "source": [
    "result = (a != b) burada a b ye eşit değil mi diye sordum\n",
    "result"
   ]
  },
  {
   "cell_type": "code",
   "execution_count": 21,
   "id": "2eae4dbc",
   "metadata": {},
   "outputs": [
    {
     "data": {
      "text/plain": [
       "True"
      ]
     },
     "execution_count": 21,
     "metadata": {},
     "output_type": "execute_result"
    }
   ],
   "source": [
    "result = ( a != c)\n",
    "result"
   ]
  },
  {
   "cell_type": "code",
   "execution_count": 23,
   "id": "9ee3f5b0",
   "metadata": {},
   "outputs": [
    {
     "data": {
      "text/plain": [
       "False"
      ]
     },
     "execution_count": 23,
     "metadata": {},
     "output_type": "execute_result"
    }
   ],
   "source": [
    "result = (a > b)\n",
    "result"
   ]
  },
  {
   "cell_type": "code",
   "execution_count": 24,
   "id": "77ea2fb0",
   "metadata": {},
   "outputs": [
    {
     "data": {
      "text/plain": [
       "True"
      ]
     },
     "execution_count": 24,
     "metadata": {},
     "output_type": "execute_result"
    }
   ],
   "source": [
    "result = ( a < c)\n",
    "result"
   ]
  },
  {
   "cell_type": "code",
   "execution_count": 25,
   "id": "c6bdb414",
   "metadata": {},
   "outputs": [
    {
     "data": {
      "text/plain": [
       "True"
      ]
     },
     "execution_count": 25,
     "metadata": {},
     "output_type": "execute_result"
    }
   ],
   "source": [
    "result =(a >= b )\n",
    "result"
   ]
  },
  {
   "cell_type": "code",
   "execution_count": 28,
   "id": "495d8d6f",
   "metadata": {},
   "outputs": [
    {
     "data": {
      "text/plain": [
       "True"
      ]
     },
     "execution_count": 28,
     "metadata": {},
     "output_type": "execute_result"
    }
   ],
   "source": [
    "result = ( True == 1)\n",
    "result"
   ]
  },
  {
   "cell_type": "code",
   "execution_count": 29,
   "id": "62e9a590",
   "metadata": {},
   "outputs": [
    {
     "data": {
      "text/plain": [
       "True"
      ]
     },
     "execution_count": 29,
     "metadata": {},
     "output_type": "execute_result"
    }
   ],
   "source": [
    "result = ( False == 0)\n",
    "result"
   ]
  },
  {
   "cell_type": "code",
   "execution_count": 31,
   "id": "aa4a6ca0",
   "metadata": {},
   "outputs": [
    {
     "data": {
      "text/plain": [
       "41"
      ]
     },
     "execution_count": 31,
     "metadata": {},
     "output_type": "execute_result"
    }
   ],
   "source": [
    "result = False + True + 40\n",
    "result"
   ]
  },
  {
   "cell_type": "markdown",
   "id": "0adc5bdb",
   "metadata": {},
   "source": [
    " ## karşılaştırma operatörleri 4.4 uygulama"
   ]
  },
  {
   "cell_type": "code",
   "execution_count": 32,
   "id": "bd666279",
   "metadata": {},
   "outputs": [],
   "source": [
    "#1- girilen iki sayıdan habgisi dah abüyüktür ? \n",
    "#2- kullanıcıdan 2 vize (%60) ve final (%40) notuu alıp ortalam hesaplayınız\n",
    "#eğer ortalam 50 üstüyse geçti değilse kaldı yazdırın\n",
    "#3-girilen bir sayıın tek mi çift mi olduğunu yazdırın\n",
    "#4- girilen bir sayının negtif mi pozitif mi olduğunu yazdırın\n",
    "#5- parola ve email bilgisini isteyip doğruluğunu kontrol edin.\n",
    "#(email: email.@sadikturan.com parola: abc123)"
   ]
  },
  {
   "cell_type": "code",
   "execution_count": 34,
   "id": "9d698aae",
   "metadata": {},
   "outputs": [
    {
     "name": "stdout",
     "output_type": "stream",
     "text": [
      "a sayısını giriniz: 5\n",
      "b sayısını giriniz: 8\n",
      "a: 5 b: 8'den büyüktür: False\n"
     ]
    }
   ],
   "source": [
    "#1-\n",
    "a = int(input(\"a sayısını giriniz: \"))\n",
    "b = int(input(\"b sayısını giriniz: \"))\n",
    "result = a > b\n",
    "print(f\"a: {a} b: {b}'den büyüktür: {result}\")"
   ]
  },
  {
   "cell_type": "code",
   "execution_count": 41,
   "id": "776b2d6a",
   "metadata": {},
   "outputs": [
    {
     "name": "stdout",
     "output_type": "stream",
     "text": [
      "1.vize notunu giriniz: 50\n",
      "2.vize notunu giriniz: 40\n",
      "final notunu giriniz: 50\n",
      "ortalamanız: 47.0, 50 altında olduğu için kaldınız\n"
     ]
    }
   ],
   "source": [
    "#2-\n",
    "vize1 = float(input(\"1.vize notunu giriniz: \"))\n",
    "vize2 = float(input(\"2.vize notunu giriniz: \"))\n",
    "final = float(input(\"final notunu giriniz: \"))\n",
    "ortalama = (((vize1 + vize2)/2) * 0.60) + (final * 0.40)\n",
    "if ortalama > 50:\n",
    "    print(f\"ortlamanız: {ortalama}, ortalamanız 50 üstünde olduğu için geçtiniz\")\n",
    "else:\n",
    "    print(f\"ortalamanız: {ortalama}, 50 altında olduğu için kaldınız\")"
   ]
  },
  {
   "cell_type": "code",
   "execution_count": 44,
   "id": "c06a2f83",
   "metadata": {},
   "outputs": [
    {
     "name": "stdout",
     "output_type": "stream",
     "text": [
      "sayı giriniz: 5\n",
      "girdiğiniz sayı çift mi: False\n"
     ]
    }
   ],
   "source": [
    "#3-\n",
    "sayi = int(input(\"sayı giriniz: \"))\n",
    "kontrol = (sayi % 2 == 0)\n",
    "print(f\"girdiğiniz sayı çift mi: {kontrol}\")"
   ]
  },
  {
   "cell_type": "code",
   "execution_count": 45,
   "id": "3bc94588",
   "metadata": {},
   "outputs": [
    {
     "name": "stdout",
     "output_type": "stream",
     "text": [
      "negatif veya pozitif sayı giriniz: -6\n",
      "girilen sayı sıfırdan büyük mü: False\n"
     ]
    }
   ],
   "source": [
    "#4-\n",
    "sayi = int(input(\"negatif veya pozitif sayı giriniz: \"))\n",
    "kontrol = sayi > 0\n",
    "print(f\"girilen sayı sıfırdan büyük mü: {kontrol}\")"
   ]
  },
  {
   "cell_type": "code",
   "execution_count": 47,
   "id": "35b97026",
   "metadata": {},
   "outputs": [
    {
     "name": "stdout",
     "output_type": "stream",
     "text": [
      "e-mailinizi giriniz: sdfds\n",
      "parola giriniz: sdfsd\n",
      "girdiğiniz bilgiler doğru mu : False\n"
     ]
    }
   ],
   "source": [
    "#5-\n",
    "email = input(\"e-mailinizi giriniz: \")\n",
    "parola = input(\"parola giriniz: \")\n",
    "kontrol = (email == \"email.@sadikturan.com\") and (parola == \"abc123\")\n",
    "print(f\"girdiğiniz bilgiler doğru mu : {kontrol}\")"
   ]
  },
  {
   "cell_type": "code",
   "execution_count": 48,
   "id": "0e3a006e",
   "metadata": {},
   "outputs": [],
   "source": [
    "# parolanın sonundaki boşlkları silmek için strip() metodunu kullnabilirim \n",
    "# parolanın büyük küük harfini önemsememek için .lower metodunu kullanabiirim\n",
    "# kontrol kısmında \"\"lardan sonra . koyarak yazabilirim ikisini de"
   ]
  },
  {
   "cell_type": "code",
   "execution_count": null,
   "id": "55706303",
   "metadata": {},
   "outputs": [],
   "source": []
  }
 ],
 "metadata": {
  "kernelspec": {
   "display_name": "Python 3 (ipykernel)",
   "language": "python",
   "name": "python3"
  },
  "language_info": {
   "codemirror_mode": {
    "name": "ipython",
    "version": 3
   },
   "file_extension": ".py",
   "mimetype": "text/x-python",
   "name": "python",
   "nbconvert_exporter": "python",
   "pygments_lexer": "ipython3",
   "version": "3.10.9"
  }
 },
 "nbformat": 4,
 "nbformat_minor": 5
}
