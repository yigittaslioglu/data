{
 "cells": [
  {
   "cell_type": "markdown",
   "id": "1abe46b7",
   "metadata": {},
   "source": [
    "## 9.1 modül nedir"
   ]
  },
  {
   "cell_type": "code",
   "execution_count": 1,
   "id": "2516d6a0",
   "metadata": {},
   "outputs": [
    {
     "data": {
      "text/plain": [
       "'\\n1- kendi hazırladığım modüller\\n2- hazır modüller\\n   a- standart modüller\\n   b- üçüncü şahıs modüller\\n   \\n   \\nyazdığımız programlar büyüdükçe parçalamamız gerekiyor. parçaları toplayınca \\nprogramın kendisi oluşuyor. her parçaay modül denir.\\nher parçanın karşılığı py dosyasıdır. ve kendi aralarında iletişim sağlayabilirler\\nbu modüllere kütüphane denebilir farklı görevleri yerine getiren kütüphaneler\\n\\n\\nkütüphanelere pypi.org tan ulaşabilirim\\ndetaylar ve kullanımları\\n\\n'"
      ]
     },
     "execution_count": 1,
     "metadata": {},
     "output_type": "execute_result"
    }
   ],
   "source": [
    "\"\"\"\n",
    "1- kendi hazırladığım modüller\n",
    "2- hazır modüller\n",
    "   a- standart modüller\n",
    "   b- üçüncü şahıs modüller\n",
    "   \n",
    "   \n",
    "yazdığımız programlar büyüdükçe parçalamamız gerekiyor. parçaları toplayınca \n",
    "programın kendisi oluşuyor. her parçaay modül denir.\n",
    "her parçanın karşılığı py dosyasıdır. ve kendi aralarında iletişim sağlayabilirler\n",
    "bu modüllere kütüphane denebilir farklı görevleri yerine getiren kütüphaneler\n",
    "\n",
    "\n",
    "kütüphanelere pypi.org tan ulaşabilirim\n",
    "detaylar ve kullanımları\n",
    "\n",
    "\"\"\""
   ]
  },
  {
   "cell_type": "markdown",
   "id": "58647223",
   "metadata": {},
   "source": [
    "# 9.2 hazır modül kullanımı math modülü"
   ]
  },
  {
   "cell_type": "code",
   "execution_count": 2,
   "id": "234a40f7",
   "metadata": {},
   "outputs": [],
   "source": [
    "import math"
   ]
  },
  {
   "cell_type": "code",
   "execution_count": 12,
   "id": "8099621c",
   "metadata": {},
   "outputs": [
    {
     "name": "stdout",
     "output_type": "stream",
     "text": [
      "6\n"
     ]
    }
   ],
   "source": [
    "#value = dir(math) #math modülü iiçndeki tüm fonksiyonları yazdırdım\n",
    "#value = help(math) #math modülü için yardımcı döküman\n",
    "#value = help(math.factorial)\n",
    "value = math.sqrt(49)\n",
    "value = math.factorial(4)\n",
    "value = math.floor(5.9) # aşağı yuvarla\n",
    "value = math.ceil(5.9) #yukarı yuvarla\n",
    "\n",
    "\n",
    "print(value)"
   ]
  },
  {
   "cell_type": "code",
   "execution_count": 14,
   "id": "f94476a0",
   "metadata": {},
   "outputs": [],
   "source": [
    "from math import * #artık math.sqrt değil de dierkt sqrt çalıştırabilirim yıldız her şey demek"
   ]
  },
  {
   "cell_type": "code",
   "execution_count": 16,
   "id": "1b9e92fa",
   "metadata": {},
   "outputs": [],
   "source": [
    "from math import factorial, sqrt # dersem sadece bunlar import olur mathten"
   ]
  },
  {
   "cell_type": "markdown",
   "id": "3dc397c3",
   "metadata": {},
   "source": [
    "# 9.3 random modülü kullanımı"
   ]
  },
  {
   "cell_type": "code",
   "execution_count": 17,
   "id": "8a4c031d",
   "metadata": {},
   "outputs": [],
   "source": [
    "import random"
   ]
  },
  {
   "cell_type": "code",
   "execution_count": 20,
   "id": "ed747861",
   "metadata": {},
   "outputs": [
    {
     "name": "stdout",
     "output_type": "stream",
     "text": [
      "['BPF', 'LOG4', 'NV_MAGICCONST', 'RECIP_BPF', 'Random', 'SG_MAGICCONST', 'SystemRandom', 'TWOPI', '_ONE', '_Sequence', '_Set', '__all__', '__builtins__', '__cached__', '__doc__', '__file__', '__loader__', '__name__', '__package__', '__spec__', '_accumulate', '_acos', '_bisect', '_ceil', '_cos', '_e', '_exp', '_floor', '_index', '_inst', '_isfinite', '_log', '_os', '_pi', '_random', '_repeat', '_sha512', '_sin', '_sqrt', '_test', '_test_generator', '_urandom', '_warn', 'betavariate', 'choice', 'choices', 'expovariate', 'gammavariate', 'gauss', 'getrandbits', 'getstate', 'lognormvariate', 'normalvariate', 'paretovariate', 'randbytes', 'randint', 'random', 'randrange', 'sample', 'seed', 'setstate', 'shuffle', 'triangular', 'uniform', 'vonmisesvariate', 'weibullvariate']\n"
     ]
    }
   ],
   "source": [
    "result = dir(random) #bir nesnenin özelliklerini ve metotlarını liste olarak döndürmek için kullanılır. Bu fonksiyonu kullanarak, bir nesnenin içeriğini ve kullanılabilir özellikleri hızlıca inceleyebilirsiniz.\n",
    "print(result)"
   ]
  },
  {
   "cell_type": "code",
   "execution_count": 26,
   "id": "67b02326",
   "metadata": {},
   "outputs": [
    {
     "data": {
      "text/plain": [
       "51.404850947094474"
      ]
     },
     "execution_count": 26,
     "metadata": {},
     "output_type": "execute_result"
    }
   ],
   "source": [
    "result = random.random() * 100 #0.0 ile 1.0 arasında rastgele sayı üretir varsayılan olarak\n",
    "result"
   ]
  },
  {
   "cell_type": "code",
   "execution_count": 35,
   "id": "cff0de1b",
   "metadata": {},
   "outputs": [
    {
     "data": {
      "text/plain": [
       "50.81717516007462"
      ]
     },
     "execution_count": 35,
     "metadata": {},
     "output_type": "execute_result"
    }
   ],
   "source": [
    "result = random.uniform(10,100) #uniform ile 10 ile 100 arasında üretecek\n",
    "result"
   ]
  },
  {
   "cell_type": "code",
   "execution_count": 34,
   "id": "b78cbd8f",
   "metadata": {},
   "outputs": [
    {
     "data": {
      "text/plain": [
       "30"
      ]
     },
     "execution_count": 34,
     "metadata": {},
     "output_type": "execute_result"
    }
   ],
   "source": [
    "result = random.randint(1,100) #1 ile 100 arasında int değer üretir\n",
    "result"
   ]
  },
  {
   "cell_type": "code",
   "execution_count": 53,
   "id": "4354b41a",
   "metadata": {},
   "outputs": [
    {
     "name": "stdout",
     "output_type": "stream",
     "text": [
      " \n"
     ]
    }
   ],
   "source": [
    "greeting = \" hello there\"\n",
    "names = [\"ali\", \"deniz\",\"cenk\",\"kerem\",\"ahmet\",\"deneme\"]\n",
    "result = names[random.randint(0,len(names)-1) ] #-1 koydum çünkü 6. index yok\n",
    "result = random.choice(greeting) # bir listeden rastegele eleman seçmek için yazılmış bir metoddur\n",
    "# str içinde de her karakterleri alır\n",
    "print(result)"
   ]
  },
  {
   "cell_type": "code",
   "execution_count": 55,
   "id": "0b76d271",
   "metadata": {},
   "outputs": [
    {
     "name": "stdout",
     "output_type": "stream",
     "text": [
      "[5, 1, 3, 4, 6, 0, 8, 7, 2, 9]\n"
     ]
    }
   ],
   "source": [
    "liste = list(range(10))\n",
    "random.shuffle(liste) #liste içindeki elemanları karıştırmak için kullanılan bir metoddur. elemanların yeri değişir\n",
    "\n",
    "result = liste\n",
    "print(liste)"
   ]
  },
  {
   "cell_type": "code",
   "execution_count": 60,
   "id": "85e896c8",
   "metadata": {},
   "outputs": [
    {
     "data": {
      "text/plain": [
       "[73, 30, 1]"
      ]
     },
     "execution_count": 60,
     "metadata": {},
     "output_type": "execute_result"
    }
   ],
   "source": [
    "liste = range(100)\n",
    "result = random.sample(liste,3) # belirlediğim liste içinden belirttiğim kadar sayıda elemanı rastgele seçer ve ban verir\n",
    "result"
   ]
  },
  {
   "cell_type": "code",
   "execution_count": 64,
   "id": "09134ec2",
   "metadata": {},
   "outputs": [
    {
     "data": {
      "text/plain": [
       "['kerem', 'cenk']"
      ]
     },
     "execution_count": 64,
     "metadata": {},
     "output_type": "execute_result"
    }
   ],
   "source": [
    "result = random.sample(names, 2)\n",
    "result\n",
    "# bir liste içinden rastgele istediğim miktarda eleman alabilirim yani"
   ]
  },
  {
   "cell_type": "markdown",
   "id": "366f05f3",
   "metadata": {},
   "source": [
    "# 9.4 modül hazırlama"
   ]
  },
  {
   "cell_type": "code",
   "execution_count": 65,
   "id": "44a7e491",
   "metadata": {},
   "outputs": [
    {
     "name": "stdout",
     "output_type": "stream",
     "text": [
      "modül eklendi\n"
     ]
    }
   ],
   "source": [
    "print(\"modül eklendi\")\n",
    "number = 10 \n",
    "\n",
    "numbers = [1,2,3]\n",
    "\n",
    "person = {\n",
    "    \"name\": \"ali\",\n",
    "    \"age\":\"25\",\n",
    "    \"city\":\"istanbul\"\n",
    "}\n",
    "\n",
    "def func(x):\n",
    "    print(f\"x: {x}\")\n",
    "    \n",
    "class Person:\n",
    "    def speak(self):\n",
    "        print(\"ı am speaking\")"
   ]
  },
  {
   "cell_type": "code",
   "execution_count": null,
   "id": "e32acd24",
   "metadata": {},
   "outputs": [],
   "source": [
    "#gerektiğinde git izle py dosyasıyla yapıyor\n",
    "\"\"\"\n",
    "import diyip dosya adını yazarsam çalışır\n",
    "\"\"\""
   ]
  }
 ],
 "metadata": {
  "kernelspec": {
   "display_name": "Python 3 (ipykernel)",
   "language": "python",
   "name": "python3"
  },
  "language_info": {
   "codemirror_mode": {
    "name": "ipython",
    "version": 3
   },
   "file_extension": ".py",
   "mimetype": "text/x-python",
   "name": "python",
   "nbconvert_exporter": "python",
   "pygments_lexer": "ipython3",
   "version": "3.10.9"
  }
 },
 "nbformat": 4,
 "nbformat_minor": 5
}
