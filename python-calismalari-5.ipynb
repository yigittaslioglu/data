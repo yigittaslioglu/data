{
 "cells": [
  {
   "cell_type": "markdown",
   "id": "f99799ad",
   "metadata": {},
   "source": [
    "## for döngüleri 6.1"
   ]
  },
  {
   "cell_type": "code",
   "execution_count": 1,
   "id": "7e9d6a18",
   "metadata": {},
   "outputs": [],
   "source": [
    "numbers = [1,2,3,4,5]"
   ]
  },
  {
   "cell_type": "code",
   "execution_count": 2,
   "id": "b249a1f1",
   "metadata": {},
   "outputs": [
    {
     "name": "stdout",
     "output_type": "stream",
     "text": [
      "1\n",
      "2\n",
      "3\n",
      "4\n",
      "5\n"
     ]
    }
   ],
   "source": [
    "for i in numbers: # bir değişken belirleyip içine listeyi yazıyorum\n",
    "    print(i)      # değişkeni yazdırıyorum\n",
    "# listenin içinden elemanları al değişkenin içine at ve elemanları dolaş \n",
    "#gelen her elemanı yazdır\n",
    "# print içine helo yazarsam listenin eleman sayısı kadar bana hello yazdıracak"
   ]
  },
  {
   "cell_type": "code",
   "execution_count": 3,
   "id": "a09332ca",
   "metadata": {},
   "outputs": [
    {
     "name": "stdout",
     "output_type": "stream",
     "text": [
      "my name is çınar\n",
      "my name is sadık\n",
      "my name is sena\n"
     ]
    }
   ],
   "source": [
    "names = [\"çınar\",\"sadık\",\"sena\"]\n",
    "\n",
    "for name in names:\n",
    "    print(f\"my name is {name}\")"
   ]
  },
  {
   "cell_type": "code",
   "execution_count": 4,
   "id": "3396431b",
   "metadata": {},
   "outputs": [
    {
     "name": "stdout",
     "output_type": "stream",
     "text": [
      "s\n",
      "a\n",
      "d\n",
      "ı\n",
      "k\n",
      " \n",
      "t\n",
      "u\n",
      "r\n",
      "a\n",
      "n\n"
     ]
    }
   ],
   "source": [
    "name = \"sadık turan\"\n",
    "for n in name: #string ifadenin her karakteri yazdırılır\n",
    "    print(n)"
   ]
  },
  {
   "cell_type": "code",
   "execution_count": 5,
   "id": "dc292147",
   "metadata": {},
   "outputs": [
    {
     "name": "stdout",
     "output_type": "stream",
     "text": [
      "1 2\n",
      "3 4\n",
      "5 7\n"
     ]
    }
   ],
   "source": [
    "tuple = [(1,2),(3,4),(5,7)]\n",
    "\n",
    "for a,b in tuple: # tek tek ayrılmış şekilde yaabilirim bu sefer\n",
    "    print(a,b)"
   ]
  },
  {
   "cell_type": "code",
   "execution_count": 6,
   "id": "dd3f0716",
   "metadata": {},
   "outputs": [
    {
     "name": "stdout",
     "output_type": "stream",
     "text": [
      "('k1', 1)\n",
      "('k2', 2)\n",
      "('k3', 3)\n"
     ]
    }
   ],
   "source": [
    "d = {\"k1\": 1, \"k2\": 2, \"k3\": 3}\n",
    "\n",
    "for item in d.items(): #d.items() yazarak key bilgilerinin value değerlerine ulşamış olurum\n",
    "    print(item)"
   ]
  },
  {
   "cell_type": "code",
   "execution_count": 7,
   "id": "5c1237aa",
   "metadata": {},
   "outputs": [
    {
     "name": "stdout",
     "output_type": "stream",
     "text": [
      "1\n",
      "2\n",
      "3\n"
     ]
    }
   ],
   "source": [
    "for key, value in d.items(): # key yazdırırsam key bilgisine ulaşırım \n",
    "    print(value) # value bilgisini yazdırırsam value bilgisine ulaşırım"
   ]
  },
  {
   "cell_type": "markdown",
   "id": "52d2fe93",
   "metadata": {},
   "source": [
    "## for döngüleri uygulama 6.2"
   ]
  },
  {
   "cell_type": "code",
   "execution_count": 8,
   "id": "f791fa0d",
   "metadata": {},
   "outputs": [],
   "source": [
    "sayilar = [ 1,3,5,7,9,12,19,21]\n",
    "\n",
    "#1- sayilar listesindeki hangi sayılar 3'ün katıdır?\n",
    "#2- sayilar listesindeki sayıların toplamı kaçtır?\n",
    "#3- sayilar listesimdeki tek sayıların karesini alınız?"
   ]
  },
  {
   "cell_type": "code",
   "execution_count": 9,
   "id": "a14af25a",
   "metadata": {},
   "outputs": [
    {
     "name": "stdout",
     "output_type": "stream",
     "text": [
      "3\n",
      "9\n",
      "12\n",
      "21\n"
     ]
    }
   ],
   "source": [
    "#1- \n",
    "for i in sayilar:\n",
    "    if i %3==0:\n",
    "        print(i)"
   ]
  },
  {
   "cell_type": "code",
   "execution_count": 10,
   "id": "151c3d14",
   "metadata": {},
   "outputs": [
    {
     "name": "stdout",
     "output_type": "stream",
     "text": [
      "tolam: 77\n"
     ]
    }
   ],
   "source": [
    "#2- \n",
    "toplam = 0\n",
    "for i in sayilar:\n",
    "    toplam += i\n",
    "print(\"tolam:\", toplam) #toplamların olacağı bir boş değer oluşturup\n",
    "# for ile listeyi dolaştım ve toplamı dolaşırken i' yi toplayıp \n",
    "# eşitlemesini istedim ve böylece listenin toplamını bulmuş oldum"
   ]
  },
  {
   "cell_type": "code",
   "execution_count": 11,
   "id": "5216aa13",
   "metadata": {},
   "outputs": [
    {
     "name": "stdout",
     "output_type": "stream",
     "text": [
      "1\n",
      "9\n",
      "25\n",
      "49\n",
      "81\n",
      "361\n",
      "441\n"
     ]
    }
   ],
   "source": [
    "#3-\n",
    "for i in sayilar:\n",
    "    if i %2 == 1:\n",
    "        print(i**2)"
   ]
  },
  {
   "cell_type": "code",
   "execution_count": 12,
   "id": "38b7a8a9",
   "metadata": {},
   "outputs": [],
   "source": [
    "#4- şehirlerinden hangileri en fazla 5 karakterlidir?\n",
    "\n",
    "sehirler = [\"kocaeli\", \"istanbul\", \"ankara\", \"izmir\", \" rize\"]"
   ]
  },
  {
   "cell_type": "code",
   "execution_count": 13,
   "id": "e21d6a55",
   "metadata": {},
   "outputs": [
    {
     "name": "stdout",
     "output_type": "stream",
     "text": [
      "izmir\n",
      " rize\n"
     ]
    }
   ],
   "source": [
    "for i in sehirler:\n",
    "    if len(i) <= 5:\n",
    "        print(i)"
   ]
  },
  {
   "cell_type": "code",
   "execution_count": 14,
   "id": "352e6ddf",
   "metadata": {},
   "outputs": [],
   "source": [
    "#5- ürünlerin fiyatlarının toplamı nedir?\n",
    "urunler = [\n",
    "    {\"name\": \"samsungs6\", \"price\": \"3000\"},\n",
    "    {\"name\": \"samsungs7\", \"price\": \"4000\"},\n",
    "    {\"name\": \"samsungs8\", \"price\": \"5000\"},\n",
    "    {\"name\": \"samsungs9\", \"price\": \"6000\"},\n",
    "    {\"name\": \"samsungs10\", \"price\": \"7000\"},\n",
    "    \n",
    "]"
   ]
  },
  {
   "cell_type": "code",
   "execution_count": 15,
   "id": "e8645780",
   "metadata": {},
   "outputs": [
    {
     "name": "stdout",
     "output_type": "stream",
     "text": [
      "25000\n"
     ]
    }
   ],
   "source": [
    "toplam = 0\n",
    "for urun in urunler:\n",
    "    fiyat = int(urun[\"price\"])\n",
    "    toplam += fiyat\n",
    "print(toplam)\n",
    "# for ile urunler listesini tamamen dolaştım ancak sadece price değerini\n",
    "# istediğim için parantez içinde urun[\"price\"] yazdım ve daha sonra\n",
    "# bunları toplamak için toplam += fiyat yazdım ve toplamı yazdırdım\n",
    "# for döngüsü dışında yazdırdım ki her seferinde yazdırmasın"
   ]
  },
  {
   "cell_type": "code",
   "execution_count": 16,
   "id": "dba24288",
   "metadata": {},
   "outputs": [
    {
     "name": "stdout",
     "output_type": "stream",
     "text": [
      "samsungs6\n",
      "samsungs7\n",
      "samsungs8\n"
     ]
    }
   ],
   "source": [
    "#6- ürünlerin fiyatı en fazla 5000 olan ürünleri gösteriniz?\n",
    "\n",
    "for urun in urunler:\n",
    "    if int(urun[\"price\"]) <= 5000:\n",
    "        print(urun[\"name\"])"
   ]
  },
  {
   "cell_type": "markdown",
   "id": "3ae7fda3",
   "metadata": {},
   "source": [
    "# while döngüleri 6.3"
   ]
  },
  {
   "cell_type": "code",
   "execution_count": 17,
   "id": "15a3dadc",
   "metadata": {},
   "outputs": [],
   "source": [
    "numbers = [1,2,3,4,5]"
   ]
  },
  {
   "cell_type": "code",
   "execution_count": 18,
   "id": "c2d7b243",
   "metadata": {},
   "outputs": [],
   "source": [
    "#1-100 e kadar sayıları yazdırın"
   ]
  },
  {
   "cell_type": "code",
   "execution_count": 19,
   "id": "664fc0ff",
   "metadata": {},
   "outputs": [
    {
     "name": "stdout",
     "output_type": "stream",
     "text": [
      "sayı tek: 0\n",
      "xsayı tek: 1\n",
      "sayı tek: 2\n",
      "xsayı tek: 3\n",
      "sayı tek: 4\n",
      "xsayı tek: 5\n",
      "sayı tek: 6\n",
      "xsayı tek: 7\n",
      "sayı tek: 8\n",
      "xsayı tek: 9\n",
      "sayı tek: 10\n",
      "xsayı tek: 11\n",
      "sayı tek: 12\n",
      "xsayı tek: 13\n",
      "sayı tek: 14\n",
      "xsayı tek: 15\n",
      "sayı tek: 16\n",
      "xsayı tek: 17\n",
      "sayı tek: 18\n",
      "xsayı tek: 19\n",
      "sayı tek: 20\n",
      "xsayı tek: 21\n",
      "sayı tek: 22\n",
      "xsayı tek: 23\n",
      "sayı tek: 24\n",
      "xsayı tek: 25\n",
      "sayı tek: 26\n",
      "xsayı tek: 27\n",
      "sayı tek: 28\n",
      "xsayı tek: 29\n",
      "sayı tek: 30\n",
      "xsayı tek: 31\n",
      "sayı tek: 32\n",
      "xsayı tek: 33\n",
      "sayı tek: 34\n",
      "xsayı tek: 35\n",
      "sayı tek: 36\n",
      "xsayı tek: 37\n",
      "sayı tek: 38\n",
      "xsayı tek: 39\n",
      "sayı tek: 40\n",
      "xsayı tek: 41\n",
      "sayı tek: 42\n",
      "xsayı tek: 43\n",
      "sayı tek: 44\n",
      "xsayı tek: 45\n",
      "sayı tek: 46\n",
      "xsayı tek: 47\n",
      "sayı tek: 48\n",
      "xsayı tek: 49\n",
      "sayı tek: 50\n",
      "xsayı tek: 51\n",
      "sayı tek: 52\n",
      "xsayı tek: 53\n",
      "sayı tek: 54\n",
      "xsayı tek: 55\n",
      "sayı tek: 56\n",
      "xsayı tek: 57\n",
      "sayı tek: 58\n",
      "xsayı tek: 59\n",
      "sayı tek: 60\n",
      "xsayı tek: 61\n",
      "sayı tek: 62\n",
      "xsayı tek: 63\n",
      "sayı tek: 64\n",
      "xsayı tek: 65\n",
      "sayı tek: 66\n",
      "xsayı tek: 67\n",
      "sayı tek: 68\n",
      "xsayı tek: 69\n",
      "sayı tek: 70\n",
      "xsayı tek: 71\n",
      "sayı tek: 72\n",
      "xsayı tek: 73\n",
      "sayı tek: 74\n",
      "xsayı tek: 75\n",
      "sayı tek: 76\n",
      "xsayı tek: 77\n",
      "sayı tek: 78\n",
      "xsayı tek: 79\n",
      "sayı tek: 80\n",
      "xsayı tek: 81\n",
      "sayı tek: 82\n",
      "xsayı tek: 83\n",
      "sayı tek: 84\n",
      "xsayı tek: 85\n",
      "sayı tek: 86\n",
      "xsayı tek: 87\n",
      "sayı tek: 88\n",
      "xsayı tek: 89\n",
      "sayı tek: 90\n",
      "xsayı tek: 91\n",
      "sayı tek: 92\n",
      "xsayı tek: 93\n",
      "sayı tek: 94\n",
      "xsayı tek: 95\n",
      "sayı tek: 96\n",
      "xsayı tek: 97\n",
      "sayı tek: 98\n",
      "xsayı tek: 99\n",
      "sayı tek: 100\n",
      "bitti\n"
     ]
    }
   ],
   "source": [
    "x = 0\n",
    "\n",
    "while x <= 100:\n",
    "    if x %2 == 1:\n",
    "        print(f\"xsayı tek: {x}\")\n",
    "    else:\n",
    "        print(f\"sayı tek: {x}\")\n",
    "    x += 1\n",
    "print(\"bitti\")\n",
    "# while döngüsünün çalışması için truedeğer döndürmesi gerekmektedir\n",
    "# while ile if de kullanabilirim eğer sayının artarak devam etmesini \n",
    "# istersem x += 1 değeri ile yazabilirim ve while koşulu x<=100 olduğu\n",
    "#için 100e kadar devam edecektir"
   ]
  },
  {
   "cell_type": "code",
   "execution_count": 20,
   "id": "58398914",
   "metadata": {},
   "outputs": [
    {
     "name": "stdout",
     "output_type": "stream",
     "text": [
      "isminizi girin: g\n",
      "merhaba g\n"
     ]
    }
   ],
   "source": [
    "name = \"\" #boşluk karakteri false değerlendirilir\n",
    "while not name.strip(): \n",
    "    name = input(\"isminizi girin: \")\n",
    "    \n",
    "print(f\"merhaba {name}\") \n",
    "# while not name diyerek true değeri bir isim girilmiş hal olarak koşulluyorum\n",
    "# ve isim girilince döngü bitiyor. strip metodu ile de herhangi bir boşluk \n",
    "# karakteri girilirse bunu kabul etmeyerek isim girilmesini sağlıyor"
   ]
  },
  {
   "cell_type": "markdown",
   "id": "366005a5",
   "metadata": {},
   "source": [
    "## while alıştırma 6.4"
   ]
  },
  {
   "cell_type": "code",
   "execution_count": 21,
   "id": "dc713d3b",
   "metadata": {},
   "outputs": [],
   "source": [
    "sayilar = [1,3,5,7,9,12,19,21]\n",
    "#1-sayılar listesini ekrana yazdırın.\n",
    "#2-başlangıç ve bitiş değerlerini kullanıcıdan alıp aradaki tüm\n",
    "#  tek sayıları ekrana yazdırın\n",
    "#3- 1-100 arasındaki sayıları azalan şekilde yazdırın(tersten)\n",
    "#4- kullanıcıdan alacağınız 5 sayıyı ekrana sıralı şekilde yazdırın\n",
    "#5- kullanıcıdan alacağınız sınırsız ürün bilgisini urunler listesi \n",
    "#  içindeki sak\n",
    "#   * ürün sayını kullanıcıya sorun\n",
    "#   * dictionary listesi yapısı (name, price) şeklinde olsun\n",
    "#   * ürün ekleme işlemi bittiğinde ürünler ekrana while ile listelensin"
   ]
  },
  {
   "cell_type": "code",
   "execution_count": 22,
   "id": "dbb8ce57",
   "metadata": {},
   "outputs": [
    {
     "name": "stdout",
     "output_type": "stream",
     "text": [
      "1\n",
      "3\n",
      "5\n",
      "7\n",
      "9\n",
      "12\n",
      "19\n",
      "21\n"
     ]
    }
   ],
   "source": [
    "#1-\n",
    "i = 0 #kontrol değişkenim\n",
    "while (i < len(sayilar)):\n",
    "   print(sayilar[i])\n",
    "   i += 1\n",
    "# kontrol değişkenime i nin sayısını her saydığında ekledim ve \n",
    "# inin sayısı sayiların eleman sayısına eşit olduğunda dur dedim\n",
    "# ve bunu print ile yazdırdım"
   ]
  },
  {
   "cell_type": "code",
   "execution_count": 23,
   "id": "5a0aa79a",
   "metadata": {},
   "outputs": [
    {
     "name": "stdout",
     "output_type": "stream",
     "text": [
      "başlangıç değeri giriniz:1\n",
      "bitiş değeri giriniz: 3\n",
      "3\n"
     ]
    }
   ],
   "source": [
    "basla = int(input(\"başlangıç değeri giriniz:\" ))\n",
    "bitis = int(input(\"bitiş değeri giriniz: \"))\n",
    "i = basla\n",
    "while i < bitis:\n",
    "    i += 1\n",
    "    if i %2 == 1:\n",
    "        print(i)\n",
    "# kontrol değişkenimi tanımladım yoksa basla değişkeni ile işlem yapmam gerkecekti\n",
    "# zaten o da baslaya eşit. while için true döngüm ise i nin bitisten \n",
    "# küçük olduğu sürece çalışmasını söyledim.ve i ye her seferinde 1 ekleyerek devam etmesini söyledim.\n",
    "# ve tek sayılar için if koşulu ekleyip yazdırdım."
   ]
  },
  {
   "cell_type": "code",
   "execution_count": 24,
   "id": "968e20ae",
   "metadata": {},
   "outputs": [
    {
     "name": "stdout",
     "output_type": "stream",
     "text": [
      "99\n",
      "98\n",
      "97\n",
      "96\n",
      "95\n",
      "94\n",
      "93\n",
      "92\n",
      "91\n",
      "90\n",
      "89\n",
      "88\n",
      "87\n",
      "86\n",
      "85\n",
      "84\n",
      "83\n",
      "82\n",
      "81\n",
      "80\n",
      "79\n",
      "78\n",
      "77\n",
      "76\n",
      "75\n",
      "74\n",
      "73\n",
      "72\n",
      "71\n",
      "70\n",
      "69\n",
      "68\n",
      "67\n",
      "66\n",
      "65\n",
      "64\n",
      "63\n",
      "62\n",
      "61\n",
      "60\n",
      "59\n",
      "58\n",
      "57\n",
      "56\n",
      "55\n",
      "54\n",
      "53\n",
      "52\n",
      "51\n",
      "50\n",
      "49\n",
      "48\n",
      "47\n",
      "46\n",
      "45\n",
      "44\n",
      "43\n",
      "42\n",
      "41\n",
      "40\n",
      "39\n",
      "38\n",
      "37\n",
      "36\n",
      "35\n",
      "34\n",
      "33\n",
      "32\n",
      "31\n",
      "30\n",
      "29\n",
      "28\n",
      "27\n",
      "26\n",
      "25\n",
      "24\n",
      "23\n",
      "22\n",
      "21\n",
      "20\n",
      "19\n",
      "18\n",
      "17\n",
      "16\n",
      "15\n",
      "14\n",
      "13\n",
      "12\n",
      "11\n",
      "10\n",
      "9\n",
      "8\n",
      "7\n",
      "6\n",
      "5\n",
      "4\n",
      "3\n",
      "2\n",
      "1\n",
      "0\n"
     ]
    }
   ],
   "source": [
    "i = 100\n",
    "while i > 0: \n",
    "    i -= 1\n",
    "    print(i)\n",
    "    "
   ]
  },
  {
   "cell_type": "code",
   "execution_count": 25,
   "id": "2f6158d1",
   "metadata": {},
   "outputs": [
    {
     "name": "stdout",
     "output_type": "stream",
     "text": [
      "sayı giriniz: 1\n",
      "sayı giriniz: 1\n",
      "sayı giriniz: 1\n",
      "sayı giriniz: 3\n",
      "sayı giriniz: 2\n",
      "[1, 1, 1, 2, 3]\n"
     ]
    }
   ],
   "source": [
    "numbers = []\n",
    "\n",
    "i = 0 \n",
    "\n",
    "while i < 5:\n",
    "    sayi = int(input(\"sayı giriniz: \"))\n",
    "    numbers.append(sayi)\n",
    "    i += 1\n",
    "    \n",
    "numbers.sort()\n",
    "\n",
    "print(numbers)\n",
    "# numbers diye liste açtım ve aldığım değerleri orada sakladım\n",
    "# i ile kontrol değişkenimi belirledim\n",
    "# while için true değerim i nin 5 ten küçük olması çünkü kullanıcılardan\n",
    "#  5 değer istiyorum\n",
    "# sayi ile kullanıcıdan sayı aldım\n",
    "# numbers.append ile aldığım sayıları listeme ekledim\n",
    "# i'yi de 1 artırarak döngüyü durdurdum\n",
    "# numbers.sort ile sıraladım"
   ]
  },
  {
   "cell_type": "code",
   "execution_count": 26,
   "id": "960670e1",
   "metadata": {},
   "outputs": [
    {
     "name": "stdout",
     "output_type": "stream",
     "text": [
      "kaç ürün eklensin: 1\n",
      "ürün ismi: r\n",
      "fiyat girin: 3\n",
      "ürün adı: r, ürün fiyatı: 3\n"
     ]
    }
   ],
   "source": [
    "urunler = []\n",
    "adet = int(input(\"kaç ürün eklensin: \"))\n",
    "i = 0\n",
    "\n",
    "while i < adet:\n",
    "    name = input(\"ürün ismi: \")\n",
    "    fiyat = input(\"fiyat girin: \")\n",
    "    urunler.append({\n",
    "        \"name\":name,\n",
    "        \"fiyat\": fiyat\n",
    "    })\n",
    "    i += 1\n",
    "for urun in urunler:\n",
    "    print(f\"ürün adı: {urun['name']}, ürün fiyatı: {urun['fiyat']}\")"
   ]
  },
  {
   "cell_type": "markdown",
   "id": "77254b7b",
   "metadata": {},
   "source": [
    "## 6.5 break and continue"
   ]
  },
  {
   "cell_type": "code",
   "execution_count": 27,
   "id": "af2c020e",
   "metadata": {},
   "outputs": [
    {
     "name": "stdout",
     "output_type": "stream",
     "text": [
      "s\n",
      "a\n",
      "d\n",
      "ı\n"
     ]
    }
   ],
   "source": [
    "name = \"sadık turan\"\n",
    "for letter in name:\n",
    "    if letter == \"k\":\n",
    "        break\n",
    "    print(letter)"
   ]
  },
  {
   "cell_type": "code",
   "execution_count": 28,
   "id": "e81d7f24",
   "metadata": {},
   "outputs": [
    {
     "name": "stdout",
     "output_type": "stream",
     "text": [
      "1\n",
      "2\n",
      "4\n",
      "5\n"
     ]
    }
   ],
   "source": [
    "x = 0 \n",
    "\n",
    "while x < 5:\n",
    "    x += 1\n",
    "    if x == 3:\n",
    "        continue #continuedan sonra kod blokları işletilmediği için 2de takılı kalır bu yüzden x+= 1 yukarı aldım\n",
    "    print(x)\n",
    " #   x +=1\n",
    "#3ü saymadı"
   ]
  },
  {
   "cell_type": "code",
   "execution_count": 29,
   "id": "67bc1426",
   "metadata": {},
   "outputs": [],
   "source": [
    "#1 den 100e kadar tek sayıların toplamı"
   ]
  },
  {
   "cell_type": "code",
   "execution_count": 30,
   "id": "210051e2",
   "metadata": {},
   "outputs": [
    {
     "name": "stdout",
     "output_type": "stream",
     "text": [
      "toplam: {2601}\n"
     ]
    }
   ],
   "source": [
    "x = 0\n",
    "result = 0\n",
    "while x <= 100:\n",
    "    x += 1\n",
    "    if x %2 == 0:\n",
    "        continue\n",
    "    result += x\n",
    "print(f\"toplam:\", {result})\n",
    "# x değerini ekledim bu benim sayı değerim \n",
    "# result benim toplam değerim\n",
    "# while için döngü x 100e şietlenene kadar devam etsin dedim ve x bir artarak devam etsin\n",
    "# eğer sonuç 2 mod 0 ise bunlar ıdahil etme dedim continue ile \n",
    "# ve resulte sonuçları ekledim\n",
    "# bu sayede 1den 100e kadar olan tek sayıların toplamını yazdırmış oldum"
   ]
  },
  {
   "cell_type": "markdown",
   "id": "bd27e0a5",
   "metadata": {},
   "source": [
    "## döngü metodarı 6.6"
   ]
  },
  {
   "cell_type": "code",
   "execution_count": 31,
   "id": "94be8656",
   "metadata": {},
   "outputs": [],
   "source": [
    "liste = [1,2,3]"
   ]
  },
  {
   "cell_type": "code",
   "execution_count": 32,
   "id": "96ead393",
   "metadata": {},
   "outputs": [
    {
     "name": "stdout",
     "output_type": "stream",
     "text": [
      "15\n",
      "25\n",
      "35\n",
      "45\n",
      "55\n",
      "65\n",
      "75\n",
      "85\n",
      "95\n"
     ]
    }
   ],
   "source": [
    "for item in range(15,100,10): # range metodu for ie kullanılabilir ilk kısım nerden\n",
    "    # başlayacağını belirler son kısım ise nereye kadar gideceğini yani 2 ile 10\n",
    "    print(item) # son kısım ise kaçar kaçar gideceğini"
   ]
  },
  {
   "cell_type": "code",
   "execution_count": 33,
   "id": "63f4511e",
   "metadata": {},
   "outputs": [
    {
     "name": "stdout",
     "output_type": "stream",
     "text": [
      "[5, 15, 25, 35, 45, 55, 65, 75, 85, 95]\n"
     ]
    }
   ],
   "source": [
    "print(list(range(5,100,10)))"
   ]
  },
  {
   "cell_type": "code",
   "execution_count": 34,
   "id": "cc26c3cb",
   "metadata": {},
   "outputs": [
    {
     "name": "stdout",
     "output_type": "stream",
     "text": [
      "index: 0 ,letter: h\n",
      "index: 1 ,letter: e\n",
      "index: 2 ,letter: l\n",
      "index: 3 ,letter: l\n",
      "index: 4 ,letter: o\n",
      "index: 5 ,letter:  \n",
      "index: 6 ,letter: t\n",
      "index: 7 ,letter: h\n",
      "index: 8 ,letter: e\n",
      "index: 9 ,letter: r\n",
      "index: 10 ,letter: e\n"
     ]
    }
   ],
   "source": [
    "#enumerate\n",
    "greeting = \"hello there\"\n",
    "index = 0\n",
    "\n",
    "for letter in greeting:\n",
    "    print(f\"index: {index} ,letter: {letter}\") # index numarası yazdırma\n",
    "    index += 1"
   ]
  },
  {
   "cell_type": "code",
   "execution_count": 40,
   "id": "cdab2b82",
   "metadata": {},
   "outputs": [
    {
     "name": "stdout",
     "output_type": "stream",
     "text": [
      "index: 0, letter: h\n",
      "index: 1, letter: e\n",
      "index: 2, letter: l\n",
      "index: 3, letter: l\n",
      "index: 4, letter: o\n",
      "index: 5, letter:  \n",
      "index: 6, letter: t\n",
      "index: 7, letter: h\n",
      "index: 8, letter: e\n",
      "index: 9, letter: r\n",
      "index: 10, letter: e\n"
     ]
    }
   ],
   "source": [
    "greeting = \"hello there\"\n",
    "\n",
    "\n",
    "for index ,letter in enumerate(greeting): # enumerate indexlerini veriyor bana\n",
    "    #print(item)\n",
    "    print(f\"index: {index}, letter: {letter}\")"
   ]
  },
  {
   "cell_type": "code",
   "execution_count": 38,
   "id": "e384f99e",
   "metadata": {},
   "outputs": [],
   "source": [
    "# zip meteodu"
   ]
  },
  {
   "cell_type": "code",
   "execution_count": 44,
   "id": "cf72a335",
   "metadata": {},
   "outputs": [
    {
     "name": "stdout",
     "output_type": "stream",
     "text": [
      "[(1, 'a', 100), (2, 'b', 200), (3, 'c', 300), (4, 'd', 400), (5, 'e', 500)]\n"
     ]
    }
   ],
   "source": [
    "list1 = [1,2,3,4,5]\n",
    "list2 = [\"a\",\"b\",\"c\",\"d\",\"e\"] #iki listeyi birleştirmek istiyorum\n",
    "list3 = [100,200,300,400,500]\n",
    "\n",
    "print(list(zip(list1,list2,list3))) # iki listeyi birleştirmek için zip metodunu kullanabilirim"
   ]
  },
  {
   "cell_type": "code",
   "execution_count": 45,
   "id": "615d557d",
   "metadata": {},
   "outputs": [
    {
     "name": "stdout",
     "output_type": "stream",
     "text": [
      "(1, 'a', 100)\n",
      "(2, 'b', 200)\n",
      "(3, 'c', 300)\n",
      "(4, 'd', 400)\n",
      "(5, 'e', 500)\n"
     ]
    }
   ],
   "source": [
    "for item in zip(list1,list2,list3): #for döngüsünde zip metodunu \n",
    "    print(item) #kullanabilirim "
   ]
  },
  {
   "cell_type": "code",
   "execution_count": 47,
   "id": "b759ca9c",
   "metadata": {},
   "outputs": [
    {
     "name": "stdout",
     "output_type": "stream",
     "text": [
      "1 a\n",
      "2 b\n",
      "3 c\n",
      "4 d\n",
      "5 e\n"
     ]
    }
   ],
   "source": [
    "for a,b,c in zip(list1,list2,list3):\n",
    "    print(a,b) #eğer başta abc şeklinde ayırırsam aşağıda ayrı ayrı liste\n",
    "    # dışına da alabilirim sonuçları"
   ]
  },
  {
   "cell_type": "code",
   "execution_count": null,
   "id": "28608a47",
   "metadata": {},
   "outputs": [],
   "source": []
  }
 ],
 "metadata": {
  "kernelspec": {
   "display_name": "Python 3 (ipykernel)",
   "language": "python",
   "name": "python3"
  },
  "language_info": {
   "codemirror_mode": {
    "name": "ipython",
    "version": 3
   },
   "file_extension": ".py",
   "mimetype": "text/x-python",
   "name": "python",
   "nbconvert_exporter": "python",
   "pygments_lexer": "ipython3",
   "version": "3.10.9"
  }
 },
 "nbformat": 4,
 "nbformat_minor": 5
}
