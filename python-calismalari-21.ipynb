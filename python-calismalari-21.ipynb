{
 "cells": [
  {
   "cell_type": "markdown",
   "id": "2dc36705",
   "metadata": {},
   "source": [
    "# 20.11 pandas ile join ve merge "
   ]
  },
  {
   "cell_type": "code",
   "execution_count": 1,
   "id": "ca7d7539",
   "metadata": {},
   "outputs": [],
   "source": [
    "# sqldeki join ile aynı\n",
    "#iki tane tbloyu birleştirmek için kullanılır örneğin siperiş id \n",
    "#ile müşteri id, inner join, left join, right join, full outer join şeklinde birleşecek"
   ]
  },
  {
   "cell_type": "code",
   "execution_count": 2,
   "id": "f00ad07f",
   "metadata": {},
   "outputs": [],
   "source": [
    "import pandas as pd"
   ]
  },
  {
   "cell_type": "code",
   "execution_count": 3,
   "id": "eb43747c",
   "metadata": {},
   "outputs": [
    {
     "name": "stdout",
     "output_type": "stream",
     "text": [
      "   customerId firstname lastname\n",
      "0           1     ahmer   yılmaz\n",
      "1           2       ali  korkmaz\n",
      "2           3     hasan    çelik\n",
      "3           4     canan   toprak\n",
      "   orderId  customerId   orderdate\n",
      "0       10           1  2010-07-04\n",
      "1       11           2  2010-08-04\n",
      "2       12           5  2010-07-07\n",
      "3       13           7  2012-10-04\n"
     ]
    }
   ],
   "source": [
    "customers = {\n",
    "    \"customerId\": [1,2,3,4],\n",
    "    \"firstname\": [\"ahmer\",\"ali\",\"hasan\",\"canan\"],\n",
    "    \"lastname\": [\"yılmaz\",\"korkmaz\",\"çelik\",\"toprak\"]\n",
    "}\n",
    "\n",
    "orders = {\n",
    "    \"orderId\": [10,11,12,13],\n",
    "    \"customerId\": [1,2,5,7],\n",
    "    \"orderdate\": [\"2010-07-04\",\"2010-08-04\",\"2010-07-07\",\"2012-10-04\"]\n",
    "}\n",
    "\n",
    "\n",
    "df_customer = pd.DataFrame(customers, columns = [\"customerId\",\"firstname\",\"lastname\"])\n",
    "df_orders = pd.DataFrame(orders, columns = [\"orderId\",\"customerId\",\"orderdate\"])\n",
    "\n",
    "print(df_customer)\n",
    "print(df_orders)\n",
    "\n"
   ]
  },
  {
   "cell_type": "code",
   "execution_count": 4,
   "id": "778cd097",
   "metadata": {},
   "outputs": [
    {
     "data": {
      "text/html": [
       "<div>\n",
       "<style scoped>\n",
       "    .dataframe tbody tr th:only-of-type {\n",
       "        vertical-align: middle;\n",
       "    }\n",
       "\n",
       "    .dataframe tbody tr th {\n",
       "        vertical-align: top;\n",
       "    }\n",
       "\n",
       "    .dataframe thead th {\n",
       "        text-align: right;\n",
       "    }\n",
       "</style>\n",
       "<table border=\"1\" class=\"dataframe\">\n",
       "  <thead>\n",
       "    <tr style=\"text-align: right;\">\n",
       "      <th></th>\n",
       "      <th>customerId</th>\n",
       "      <th>firstname</th>\n",
       "      <th>lastname</th>\n",
       "      <th>customerId</th>\n",
       "      <th>firstname</th>\n",
       "      <th>lastname</th>\n",
       "    </tr>\n",
       "  </thead>\n",
       "  <tbody>\n",
       "    <tr>\n",
       "      <th>0</th>\n",
       "      <td>1</td>\n",
       "      <td>ahmer</td>\n",
       "      <td>yılmaz</td>\n",
       "      <td>4</td>\n",
       "      <td>yağmur</td>\n",
       "      <td>bilge</td>\n",
       "    </tr>\n",
       "    <tr>\n",
       "      <th>1</th>\n",
       "      <td>2</td>\n",
       "      <td>ali</td>\n",
       "      <td>korkmaz</td>\n",
       "      <td>5</td>\n",
       "      <td>çınar</td>\n",
       "      <td>turan</td>\n",
       "    </tr>\n",
       "    <tr>\n",
       "      <th>2</th>\n",
       "      <td>3</td>\n",
       "      <td>hasan</td>\n",
       "      <td>çelik</td>\n",
       "      <td>6</td>\n",
       "      <td>cengiz</td>\n",
       "      <td>yılmaz</td>\n",
       "    </tr>\n",
       "    <tr>\n",
       "      <th>3</th>\n",
       "      <td>4</td>\n",
       "      <td>canan</td>\n",
       "      <td>toprak</td>\n",
       "      <td>7</td>\n",
       "      <td>can</td>\n",
       "      <td>turan</td>\n",
       "    </tr>\n",
       "  </tbody>\n",
       "</table>\n",
       "</div>"
      ],
      "text/plain": [
       "   customerId firstname lastname  customerId firstname lastname\n",
       "0           1     ahmer   yılmaz           4    yağmur    bilge\n",
       "1           2       ali  korkmaz           5     çınar    turan\n",
       "2           3     hasan    çelik           6    cengiz   yılmaz\n",
       "3           4     canan   toprak           7       can    turan"
      ]
     },
     "execution_count": 4,
     "metadata": {},
     "output_type": "execute_result"
    }
   ],
   "source": [
    "result = pd.merge(df_customer,df_orders, how = \"inner\") #merge edeceğim iki tabloyu yani birleştireceğim\n",
    "# how inner diyorum nasıl birleştirilsin diye soruyor ve inner join şeklinde birleştirilsin diyorum\n",
    "#siparişi birleşen kullanıcılar gelir\n",
    "\n",
    "result = pd.merge(df_customer,df_orders, how = \"left\") #left dediğimde müşteriler gelsin ancak siparişi olmayanlar da gelsin diyoum\n",
    "\n",
    "result = pd.merge(df_customer,df_orders, how = \"right\") #sahipsiz sipariş var mı diye soruyorum databaseten isimler isilinmiş oluyor\n",
    "\n",
    "#result = pd.merge(df_customer,df_orders, how = \"outer\") tüm kayıtlar ortak kayıt olsun olmasın getirilir\n",
    "\n",
    "\n",
    "\n",
    "customersA = {\n",
    "    \"customerId\": [1,2,3,4],\n",
    "    \"firstname\": [\"ahmer\",\"ali\",\"hasan\",\"canan\"],\n",
    "    \"lastname\": [\"yılmaz\",\"korkmaz\",\"çelik\",\"toprak\"]\n",
    "}\n",
    "\n",
    "# ayrı tablolarda tuttuğum bilgileri birleştirmek istiyorum önce df yapacağım\n",
    "customersB = {\n",
    "    \"customerId\": [4,5,6,7],\n",
    "    \"firstname\": [\"yağmur\",\"çınar\",\"cengiz\",\"can\"],\n",
    "    \"lastname\": [\"bilge\",\"turan\",\"yılmaz\",\"turan\"]\n",
    "}\n",
    "\n",
    "df_customerA = pd.DataFrame(customersA, columns = [\"customerId\",\"firstname\",\"lastname\"])\n",
    "df_customerB = pd.DataFrame(customersB, columns = [\"customerId\",\"firstname\",\"lastname\"])\n",
    "\n",
    "#iki dfyi birleştireceğim\n",
    "result = pd.concat([df_customerA,df_customerB]) #alt alt abirleştirilir\n",
    "result = pd.concat([df_customerA,df_customerB], axis = 1) #kolonlar yan yan getirilir\n",
    "\n",
    "\n",
    "\n",
    "result"
   ]
  },
  {
   "cell_type": "markdown",
   "id": "2152d9e6",
   "metadata": {},
   "source": [
    "# 20.12 pandas ile dataframe metodları"
   ]
  },
  {
   "cell_type": "code",
   "execution_count": 5,
   "id": "d28fcd46",
   "metadata": {},
   "outputs": [],
   "source": [
    "import numpy as np\n",
    "import pandas as pd"
   ]
  },
  {
   "cell_type": "code",
   "execution_count": 6,
   "id": "9e3f19a5",
   "metadata": {
    "scrolled": false
   },
   "outputs": [
    {
     "name": "stdout",
     "output_type": "stream",
     "text": [
      "<class 'pandas.core.frame.DataFrame'>\n",
      "RangeIndex: 5 entries, 0 to 4\n",
      "Data columns (total 4 columns):\n",
      " #   Column   Non-Null Count  Dtype \n",
      "---  ------   --------------  ----- \n",
      " 0   column1  5 non-null      int64 \n",
      " 1   column2  5 non-null      int64 \n",
      " 2   column3  5 non-null      object\n",
      " 3   column4  5 non-null      int64 \n",
      "dtypes: int64(3), object(1)\n",
      "memory usage: 288.0+ bytes\n"
     ]
    },
    {
     "data": {
      "text/html": [
       "<div>\n",
       "<style scoped>\n",
       "    .dataframe tbody tr th:only-of-type {\n",
       "        vertical-align: middle;\n",
       "    }\n",
       "\n",
       "    .dataframe tbody tr th {\n",
       "        vertical-align: top;\n",
       "    }\n",
       "\n",
       "    .dataframe thead th {\n",
       "        text-align: right;\n",
       "    }\n",
       "</style>\n",
       "<table border=\"1\" class=\"dataframe\">\n",
       "  <thead>\n",
       "    <tr style=\"text-align: right;\">\n",
       "      <th></th>\n",
       "      <th>column1</th>\n",
       "      <th>column2</th>\n",
       "      <th>column3</th>\n",
       "      <th>column4</th>\n",
       "    </tr>\n",
       "  </thead>\n",
       "  <tbody>\n",
       "    <tr>\n",
       "      <th>4</th>\n",
       "      <td>5</td>\n",
       "      <td>25</td>\n",
       "      <td>dea</td>\n",
       "      <td>3</td>\n",
       "    </tr>\n",
       "    <tr>\n",
       "      <th>3</th>\n",
       "      <td>4</td>\n",
       "      <td>20</td>\n",
       "      <td>cb</td>\n",
       "      <td>2</td>\n",
       "    </tr>\n",
       "    <tr>\n",
       "      <th>1</th>\n",
       "      <td>2</td>\n",
       "      <td>20</td>\n",
       "      <td>bcaa</td>\n",
       "      <td>4</td>\n",
       "    </tr>\n",
       "    <tr>\n",
       "      <th>2</th>\n",
       "      <td>3</td>\n",
       "      <td>13</td>\n",
       "      <td>ade</td>\n",
       "      <td>3</td>\n",
       "    </tr>\n",
       "    <tr>\n",
       "      <th>0</th>\n",
       "      <td>1</td>\n",
       "      <td>10</td>\n",
       "      <td>abc</td>\n",
       "      <td>3</td>\n",
       "    </tr>\n",
       "  </tbody>\n",
       "</table>\n",
       "</div>"
      ],
      "text/plain": [
       "   column1  column2 column3  column4\n",
       "4        5       25     dea        3\n",
       "3        4       20      cb        2\n",
       "1        2       20    bcaa        4\n",
       "2        3       13     ade        3\n",
       "0        1       10     abc        3"
      ]
     },
     "execution_count": 6,
     "metadata": {},
     "output_type": "execute_result"
    }
   ],
   "source": [
    "data = {\n",
    "    \"column1\": [1,2,3,4,5],\n",
    "    \"column2\": [10,20,13,20,25],\n",
    "    \"column3\": [\"abc\",\"bcaa\",\"ade\",\"cb\",\"dea\"]\n",
    "    \n",
    "}\n",
    "\n",
    "df = pd.DataFrame(data)\n",
    "result = df\n",
    "\n",
    "result = df[\"column2\"].unique() #listede tek olan değerleri getirir\n",
    "result = df[\"column2\"].nunique() #tekil verilerin sayısını söyler\n",
    "result = df[\"column2\"].value_counts() #hangi veriden kaç tane olduğunu söyler\n",
    "result = df[\"column1\"] * 2 #elemanları ikiyle çarpar\n",
    "\n",
    "def kareal(x):\n",
    "    return x * x\n",
    "\n",
    "result = df[\"column1\"].apply(kareal) #appl metodunun içine fonksiyon tanımlayabiliyorum içine yazdığım fonksiyona parametre olarak gidiyor\n",
    "\n",
    "\n",
    "kareal2 = lambda x: x * x\n",
    "\n",
    "result = df[\"column2\"].apply(kareal2)\n",
    "result = df[\"column2\"].apply(lambda x: x * x) #sadece bir kere kullanacaksam apply içine yazabilirim\n",
    "df[\"column4\"] = df[\"column3\"].apply(len) #he rbir str elemanın kaç karakter olduğuunu söyler\n",
    "\n",
    "result = df.columns\n",
    "result = len(df.columns)\n",
    "result =df.index #index bilgileri geliyor\n",
    "result = len(df.index) # kaç elemanlı olduğunu gösterir 5 satır vardır\n",
    "result = df.info() #detaylı bilgi veriyor\n",
    "\n",
    "\n",
    "result = df.sort_values(\"column2\") #sıralanmış şekilde geilr kolon\n",
    "result = df.sort_values(\"column3\") #alfaetik sıralı şekilde geilir\n",
    "result = df.sort_values(\"column3\", ascending = False) #varsayılan truedur artarak gidiyor normalde sıra false yaparsam abc en aşağıya gelir\n",
    "\n",
    "\n",
    "\n",
    "\n",
    "result\n",
    "#df kolon4ü yazdırmış oldum"
   ]
  },
  {
   "cell_type": "code",
   "execution_count": 14,
   "id": "5fe21c59",
   "metadata": {},
   "outputs": [
    {
     "name": "stdout",
     "output_type": "stream",
     "text": [
      "Kategori  Elektronik  giyim  kitap\n",
      "Ay                                \n",
      "haziran           30     36     32\n",
      "mayıs             20     12     14\n",
      "nisan             15     52     42\n"
     ]
    }
   ],
   "source": [
    "data = {\n",
    "    \"Ay\": [\"mayıs\",\"haziran\",\"nisan\",\"mayıs\",\"haziran\",\"nisan\",\"mayıs\",\"haziran\",\"nisan\"],\n",
    "    \"Kategori\": [\"Elektronik\",\"Elektronik\",\"Elektronik\",\"kitap\",\"kitap\",\"kitap\",\"giyim\",\"giyim\",\"giyim\"],\n",
    "    \"Gelir\": [20,30,15,14,32,42,12,36,52]\n",
    "}\n",
    "\n",
    "df =pd.DataFrame(data) # dic veriyi df yaptım\n",
    "\n",
    "print(df.pivot_table(index = \"Ay\", columns = \"Kategori\", values = \"Gelir\"))\n",
    "\n",
    "# belirttiğimiz yerler bana kolon olarak geldi aylar index olarak gelirimi de value olarak ayarlayıp bir pivot tabloya çevirebildim"
   ]
  },
  {
   "cell_type": "code",
   "execution_count": null,
   "id": "d74e40ab",
   "metadata": {},
   "outputs": [],
   "source": []
  },
  {
   "cell_type": "code",
   "execution_count": null,
   "id": "a8e19d38",
   "metadata": {},
   "outputs": [],
   "source": []
  }
 ],
 "metadata": {
  "kernelspec": {
   "display_name": "Python 3 (ipykernel)",
   "language": "python",
   "name": "python3"
  },
  "language_info": {
   "codemirror_mode": {
    "name": "ipython",
    "version": 3
   },
   "file_extension": ".py",
   "mimetype": "text/x-python",
   "name": "python",
   "nbconvert_exporter": "python",
   "pygments_lexer": "ipython3",
   "version": "3.10.9"
  }
 },
 "nbformat": 4,
 "nbformat_minor": 5
}
