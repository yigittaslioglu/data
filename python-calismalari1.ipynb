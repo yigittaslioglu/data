{
 "cells": [
  {
   "cell_type": "code",
   "execution_count": 1,
   "id": "895f84eb",
   "metadata": {},
   "outputs": [],
   "source": [
    "# 3.3 değişken tanımlama"
   ]
  },
  {
   "cell_type": "code",
   "execution_count": 2,
   "id": "ee7f1a0e",
   "metadata": {},
   "outputs": [
    {
     "name": "stdout",
     "output_type": "stream",
     "text": [
      "2920.0\n",
      "3650.0\n"
     ]
    }
   ],
   "source": [
    "maasAli = 5000\n",
    "maasAhmet = 4000\n",
    "vergi = 0.27\n",
    "\n",
    "print(maasAhmet - (maasAhmet * vergi))\n",
    "print(maasAli - (maasAli * vergi))\n",
    "# bu bilgiler veri tabanından gelecek"
   ]
  },
  {
   "cell_type": "code",
   "execution_count": 3,
   "id": "8215546b",
   "metadata": {},
   "outputs": [
    {
     "name": "stdout",
     "output_type": "stream",
     "text": [
      "20\n",
      "50\n"
     ]
    }
   ],
   "source": [
    "number = 20 \n",
    "print(number)\n",
    "number += 30\n",
    "print(number)"
   ]
  },
  {
   "cell_type": "code",
   "execution_count": 4,
   "id": "0c21fb73",
   "metadata": {},
   "outputs": [
    {
     "name": "stdout",
     "output_type": "stream",
     "text": [
      "sadık turan\n"
     ]
    }
   ],
   "source": [
    "firstname = 'sadık'\n",
    "lastname = 'turan'\n",
    "print(firstname + ' ' + lastname)"
   ]
  },
  {
   "cell_type": "code",
   "execution_count": 5,
   "id": "23e6462c",
   "metadata": {},
   "outputs": [
    {
     "name": "stdout",
     "output_type": "stream",
     "text": [
      "1 4.5 çınar\n"
     ]
    }
   ],
   "source": [
    "x , y , z = (1, 4.5, 'çınar')\n",
    "print(x,y,z)"
   ]
  },
  {
   "cell_type": "markdown",
   "id": "fd21bdda",
   "metadata": {},
   "source": [
    "# 3.4 değişken tanımlama uygulama"
   ]
  },
  {
   "cell_type": "code",
   "execution_count": 6,
   "id": "c9b52e85",
   "metadata": {},
   "outputs": [
    {
     "data": {
      "text/plain": [
       "' 1- bir müşterinin aşağıaki bilgileri için değişken oluşturun\\n\\nmüşteri adı\\nmüşteri soyadı\\nmüşteri ad + soyadı\\nmüşteri cinsiyet\\nmüşteri tc kimilk\\nmüşteri doğum yılı\\nmüşteri adres bilgisi \\nmüşteri yaşı'"
      ]
     },
     "execution_count": 6,
     "metadata": {},
     "output_type": "execute_result"
    }
   ],
   "source": [
    "\"\"\" 1- bir müşterinin aşağıaki bilgileri için değişken oluşturun\n",
    "\n",
    "müşteri adı\n",
    "müşteri soyadı\n",
    "müşteri ad + soyadı\n",
    "müşteri cinsiyet\n",
    "müşteri tc kimilk\n",
    "müşteri doğum yılı\n",
    "müşteri adres bilgisi \n",
    "müşteri yaşı\"\"\""
   ]
  },
  {
   "cell_type": "code",
   "execution_count": 7,
   "id": "3ac5dabb",
   "metadata": {},
   "outputs": [
    {
     "name": "stdout",
     "output_type": "stream",
     "text": [
      "yiğit taşlıoğlu yiğit taşlıoğlu erkek 5555555555 2000 istanbul 23\n"
     ]
    }
   ],
   "source": [
    "a = \"yiğit\"\n",
    "b = \"taşlıoğlu\"\n",
    "c = \"yiğit\" + \" \"+\"taşlıoğlu\"\n",
    "d = \"erkek\"\n",
    "e = \"5555555555\"\n",
    "f = 2000\n",
    "g = \"istanbul\"\n",
    "t = 2023 - f\n",
    "print(a,b,c,d,e,f,g,t)"
   ]
  },
  {
   "cell_type": "code",
   "execution_count": 8,
   "id": "90210e3e",
   "metadata": {},
   "outputs": [
    {
     "data": {
      "text/plain": [
       "' aşağıdaki siparişlerin toplam bilgiini hesaplayınız\\n\\nsipariş 1 = 110 tl\\nsipariş 2 = 1100.5 tl\\nsipariş 3 = 356.95 tl\\n'"
      ]
     },
     "execution_count": 8,
     "metadata": {},
     "output_type": "execute_result"
    }
   ],
   "source": [
    "\"\"\" aşağıdaki siparişlerin toplam bilgiini hesaplayınız\n",
    "\n",
    "sipariş 1 = 110 tl\n",
    "sipariş 2 = 1100.5 tl\n",
    "sipariş 3 = 356.95 tl\n",
    "\"\"\""
   ]
  },
  {
   "cell_type": "code",
   "execution_count": 9,
   "id": "e3991ba5",
   "metadata": {},
   "outputs": [
    {
     "name": "stdout",
     "output_type": "stream",
     "text": [
      "1567.45\n"
     ]
    }
   ],
   "source": [
    "print(110 + 1100.5 + 356.95)"
   ]
  },
  {
   "cell_type": "code",
   "execution_count": 10,
   "id": "7aeed005",
   "metadata": {},
   "outputs": [
    {
     "name": "stdout",
     "output_type": "stream",
     "text": [
      "1567.45\n"
     ]
    }
   ],
   "source": [
    "order1 = 110\n",
    "order2 = 1100.5\n",
    "order3 = 356.95\n",
    "print(order1 + order2 + order3)"
   ]
  },
  {
   "cell_type": "code",
   "execution_count": 11,
   "id": "e732c584",
   "metadata": {},
   "outputs": [
    {
     "data": {
      "text/plain": [
       "('total: ', 1567.45)"
      ]
     },
     "execution_count": 11,
     "metadata": {},
     "output_type": "execute_result"
    }
   ],
   "source": [
    "total1 = order1 + order2 + order3\n",
    "total = (\"total: \" , total1)\n",
    "total"
   ]
  },
  {
   "cell_type": "markdown",
   "id": "b14e39cb",
   "metadata": {},
   "source": [
    "## 3.5 veri tipi dönüşümleri"
   ]
  },
  {
   "cell_type": "code",
   "execution_count": 12,
   "id": "8124342c",
   "metadata": {},
   "outputs": [
    {
     "name": "stdout",
     "output_type": "stream",
     "text": [
      "1.sayı : 4\n",
      "2.sayı : 4\n",
      "8\n"
     ]
    }
   ],
   "source": [
    "x = int(input(\"1.sayı : \"))\n",
    "y = int(input(\"2.sayı : \"))\n",
    "toplam = x + y\n",
    "print(toplam)"
   ]
  },
  {
   "cell_type": "code",
   "execution_count": 13,
   "id": "0ab0c8b6",
   "metadata": {},
   "outputs": [],
   "source": [
    "x = 5\n",
    "y = 2.5\n",
    "name = 'yiğit'\n",
    "isonline = True"
   ]
  },
  {
   "cell_type": "code",
   "execution_count": 14,
   "id": "da9dce07",
   "metadata": {},
   "outputs": [
    {
     "name": "stdout",
     "output_type": "stream",
     "text": [
      "<class 'int'>\n",
      "<class 'float'>\n",
      "<class 'str'>\n",
      "<class 'bool'>\n"
     ]
    }
   ],
   "source": [
    "print(type(x))\n",
    "print(type(y))\n",
    "print(type(name))\n",
    "print(type(isonline))"
   ]
  },
  {
   "cell_type": "code",
   "execution_count": 15,
   "id": "edcc472b",
   "metadata": {},
   "outputs": [],
   "source": [
    "# bool değerler karşılaştırma ya da sınıflandırmada kullanılabilir"
   ]
  },
  {
   "cell_type": "code",
   "execution_count": 16,
   "id": "de521b1c",
   "metadata": {},
   "outputs": [],
   "source": [
    "# isonline int değere dönebilir True = 1 olur bool değer \n",
    "#inte dönüşebilir yani"
   ]
  },
  {
   "cell_type": "code",
   "execution_count": 17,
   "id": "3d9dcc2c",
   "metadata": {},
   "outputs": [],
   "source": [
    "#**************************"
   ]
  },
  {
   "cell_type": "markdown",
   "id": "8459f3b5",
   "metadata": {},
   "source": [
    " ## veri tipi dönüşümleri demo 3.6"
   ]
  },
  {
   "cell_type": "code",
   "execution_count": 18,
   "id": "10f05a4c",
   "metadata": {},
   "outputs": [
    {
     "data": {
      "text/plain": [
       "'daire alanı = pi*r2\\ndaire çevresi = 2*pi*r\\n\\nyarı çapı verilen bir dairenin alanını ve çevresini hesaplayınız\\n(r : 3.14 )'"
      ]
     },
     "execution_count": 18,
     "metadata": {},
     "output_type": "execute_result"
    }
   ],
   "source": [
    "\"\"\"daire alanı = pi*r2\n",
    "daire çevresi = 2*pi*r\n",
    "\n",
    "yarı çapı verilen bir dairenin alanını ve çevresini hesaplayınız\n",
    "(r : 3.14 )\"\"\""
   ]
  },
  {
   "cell_type": "code",
   "execution_count": 19,
   "id": "4fc35f12",
   "metadata": {},
   "outputs": [
    {
     "name": "stdout",
     "output_type": "stream",
     "text": [
      "yarı çap giriniz : 4\n",
      "50.24\n",
      "25.12\n"
     ]
    }
   ],
   "source": [
    "yariCap = int(input(\"yarı çap giriniz : \"))\n",
    "pi = 3.14\n",
    "\n",
    "daireAlan = pi * (yariCap **2)\n",
    "daireCevre = 2 * yariCap * pi\n",
    "print(daireAlan)\n",
    "print(daireCevre)"
   ]
  },
  {
   "cell_type": "markdown",
   "id": "3946eab7",
   "metadata": {},
   "source": [
    "## karakter dizileri 3.7"
   ]
  },
  {
   "cell_type": "code",
   "execution_count": 20,
   "id": "f3164150",
   "metadata": {},
   "outputs": [
    {
     "name": "stdout",
     "output_type": "stream",
     "text": [
      "my name is sadık turan and\n",
      "I am 36 years old\n",
      "m\n",
      " \n",
      "m\n",
      "d\n",
      "44\n",
      "name\n",
      "and\n",
      "I am 36 years ol\n",
      "nm ssdktrnadIa 6\n"
     ]
    }
   ],
   "source": [
    "name = 'sadık' # içinde birden fazla karakter olması karakter \n",
    "#dizisi dememizin sebebi\n",
    "surname = 'turan'\n",
    "age = 36\n",
    "print('my name is ' + name + ' ' + surname  + ' and\\nI am ' + str(age) + ' years old')\n",
    "greeting = ('my name is ' + name + ' ' + surname  + ' and\\nI am ' + str(age) + ' years old')\n",
    "print(greeting[5])\n",
    "print(greeting[2])\n",
    "print(greeting[5])\n",
    "print(greeting[-1])\n",
    "print(len(greeting))\n",
    "print(greeting[3:7])\n",
    "print(greeting[23:43])\n",
    "print(greeting[3:34:2])\n",
    "\n",
    "\n"
   ]
  },
  {
   "cell_type": "markdown",
   "id": "4b2ecdf6",
   "metadata": {},
   "source": [
    "## 3.8 format"
   ]
  },
  {
   "cell_type": "code",
   "execution_count": 21,
   "id": "b48d74ab",
   "metadata": {},
   "outputs": [
    {
     "name": "stdout",
     "output_type": "stream",
     "text": [
      "My name is Çınar\n"
     ]
    }
   ],
   "source": [
    "name = \"Çınar\"\n",
    "print(f\"My name is {name}\")"
   ]
  },
  {
   "cell_type": "markdown",
   "id": "209eaeb0",
   "metadata": {},
   "source": [
    "# 3.9 string demo uygulama karakter dizileri"
   ]
  },
  {
   "cell_type": "code",
   "execution_count": 22,
   "id": "18a37775",
   "metadata": {},
   "outputs": [
    {
     "name": "stdout",
     "output_type": "stream",
     "text": [
      "65\n"
     ]
    }
   ],
   "source": [
    "website =\"http://www.sadikturan.com\"\n",
    "course = \"python kursu: baştan sona python programlama rehperiniz (40 saat)\"\n",
    "\n",
    "#1- coursee karakter dizisinde kaç karakter bulunmaktadır ? \n",
    "print(len(course))"
   ]
  },
  {
   "cell_type": "code",
   "execution_count": 23,
   "id": "01c47295",
   "metadata": {},
   "outputs": [
    {
     "name": "stdout",
     "output_type": "stream",
     "text": [
      "www\n"
     ]
    }
   ],
   "source": [
    "#2- 'website ' içinden www karakterlerini alın ?\n",
    "print(website[7:10])"
   ]
  },
  {
   "cell_type": "code",
   "execution_count": 24,
   "id": "f3b65107",
   "metadata": {},
   "outputs": [
    {
     "name": "stdout",
     "output_type": "stream",
     "text": [
      "com\n"
     ]
    }
   ],
   "source": [
    "#3- website içinden com karakterlerini alın\n",
    "print(website[-3:])"
   ]
  },
  {
   "cell_type": "code",
   "execution_count": 25,
   "id": "f84c74c2",
   "metadata": {},
   "outputs": [
    {
     "name": "stdout",
     "output_type": "stream",
     "text": [
      "python kursu: b\n",
      "riniz (40 saat)\n"
     ]
    }
   ],
   "source": [
    "#4- course karakteri içinde ilk 15 ve son 15 karakteri alın\n",
    "print(course[:15])\n",
    "print(course[-15:])"
   ]
  },
  {
   "cell_type": "code",
   "execution_count": 26,
   "id": "0b5caae6",
   "metadata": {},
   "outputs": [
    {
     "data": {
      "text/plain": [
       "')taas 04( zinirepher amalmargorp nohtyp anos natşab :usruk nohtyp'"
      ]
     },
     "execution_count": 26,
     "metadata": {},
     "output_type": "execute_result"
    }
   ],
   "source": [
    " #5- course ifadesindeki krakterler itersten yazdırın\n",
    "course[::-1]"
   ]
  },
  {
   "cell_type": "code",
   "execution_count": 27,
   "id": "16e1357c",
   "metadata": {},
   "outputs": [
    {
     "name": "stdout",
     "output_type": "stream",
     "text": [
      "My name is Bora Yılmaz, I am 32 years old and I am Mühendis\n"
     ]
    }
   ],
   "source": [
    "#6- verilen ifadeleri cümle şeklinde yazdır\n",
    "name, surname , age, job = \"Bora\", \"Yılmaz\", 32, \"Mühendis\"\n",
    "\n",
    "print(f\"My name is {name} {surname}, I am {age} years old and I am {job}\")"
   ]
  },
  {
   "cell_type": "code",
   "execution_count": 28,
   "id": "a335a74c",
   "metadata": {},
   "outputs": [
    {
     "name": "stdout",
     "output_type": "stream",
     "text": [
      "Hello World\n"
     ]
    }
   ],
   "source": [
    "#7- \"Hello world ifadesindeki w yi W ile değiştririn\"\n",
    "result = \"Hello\" \n",
    "x = \" W\"\n",
    "y = \"orld\"\n",
    "print(result +x+y)"
   ]
  },
  {
   "cell_type": "code",
   "execution_count": 29,
   "id": "0a2fa133",
   "metadata": {},
   "outputs": [
    {
     "name": "stdout",
     "output_type": "stream",
     "text": [
      "abcabcabc\n"
     ]
    }
   ],
   "source": [
    "#8- abc ifadesini yan yana 3 kere yazdırın\n",
    "x = \"abc\"*3\n",
    "print(x)"
   ]
  },
  {
   "cell_type": "markdown",
   "id": "84742eb1",
   "metadata": {},
   "source": [
    "## 3.10 string methodları"
   ]
  },
  {
   "cell_type": "code",
   "execution_count": 30,
   "id": "9032d492",
   "metadata": {},
   "outputs": [
    {
     "name": "stdout",
     "output_type": "stream",
     "text": [
      "hello there. my name is sadık turan\n"
     ]
    }
   ],
   "source": [
    "message = \"hello there. my name is sadık turan\"\n",
    "print(message)"
   ]
  },
  {
   "cell_type": "code",
   "execution_count": 31,
   "id": "b522b11d",
   "metadata": {},
   "outputs": [
    {
     "data": {
      "text/plain": [
       "'HELLO THERE. MY NAME IS SADIK TURAN'"
      ]
     },
     "execution_count": 31,
     "metadata": {},
     "output_type": "execute_result"
    }
   ],
   "source": [
    "message.upper()"
   ]
  },
  {
   "cell_type": "code",
   "execution_count": 32,
   "id": "88078777",
   "metadata": {},
   "outputs": [
    {
     "data": {
      "text/plain": [
       "'hello there. my name is sadık turan'"
      ]
     },
     "execution_count": 32,
     "metadata": {},
     "output_type": "execute_result"
    }
   ],
   "source": [
    "message.lower()"
   ]
  },
  {
   "cell_type": "code",
   "execution_count": 33,
   "id": "3744f464",
   "metadata": {},
   "outputs": [
    {
     "data": {
      "text/plain": [
       "'Hello There. My Name Is Sadık Turan'"
      ]
     },
     "execution_count": 33,
     "metadata": {},
     "output_type": "execute_result"
    }
   ],
   "source": [
    "message.title()"
   ]
  },
  {
   "cell_type": "code",
   "execution_count": 34,
   "id": "22e20eb6",
   "metadata": {},
   "outputs": [
    {
     "data": {
      "text/plain": [
       "'Hello there. my name is sadık turan'"
      ]
     },
     "execution_count": 34,
     "metadata": {},
     "output_type": "execute_result"
    }
   ],
   "source": [
    "message.capitalize()"
   ]
  },
  {
   "cell_type": "code",
   "execution_count": 35,
   "id": "3f92a64c",
   "metadata": {},
   "outputs": [
    {
     "data": {
      "text/plain": [
       "'hello there. my name is sadık turan'"
      ]
     },
     "execution_count": 35,
     "metadata": {},
     "output_type": "execute_result"
    }
   ],
   "source": [
    "message.strip() #boşlukları kladırır"
   ]
  },
  {
   "cell_type": "code",
   "execution_count": 36,
   "id": "8410e334",
   "metadata": {},
   "outputs": [
    {
     "data": {
      "text/plain": [
       "['hello', 'there.', 'my', 'name', 'is', 'sadık', 'turan']"
      ]
     },
     "execution_count": 36,
     "metadata": {},
     "output_type": "execute_result"
    }
   ],
   "source": [
    "message.split() #böler"
   ]
  },
  {
   "cell_type": "code",
   "execution_count": 37,
   "id": "8ed08d8b",
   "metadata": {},
   "outputs": [
    {
     "data": {
      "text/plain": [
       "'my'"
      ]
     },
     "execution_count": 37,
     "metadata": {},
     "output_type": "execute_result"
    }
   ],
   "source": [
    "message.split()[2]"
   ]
  },
  {
   "cell_type": "code",
   "execution_count": 38,
   "id": "e3bfeb91",
   "metadata": {},
   "outputs": [
    {
     "data": {
      "text/plain": [
       "['hello there', ' my name is sadık turan']"
      ]
     },
     "execution_count": 38,
     "metadata": {},
     "output_type": "execute_result"
    }
   ],
   "source": [
    "message.split(\".\")# noktadan ayır dedim"
   ]
  },
  {
   "cell_type": "code",
   "execution_count": 39,
   "id": "a925c51d",
   "metadata": {
    "scrolled": true
   },
   "outputs": [
    {
     "data": {
      "text/plain": [
       "'hello*there.*my*name*is*sadık*turan'"
      ]
     },
     "execution_count": 39,
     "metadata": {},
     "output_type": "execute_result"
    }
   ],
   "source": [
    "message = message.split()\n",
    "message = \"*\".join(message)\n",
    "message"
   ]
  },
  {
   "cell_type": "code",
   "execution_count": 40,
   "id": "a5970df5",
   "metadata": {},
   "outputs": [
    {
     "data": {
      "text/plain": [
       "24"
      ]
     },
     "execution_count": 40,
     "metadata": {},
     "output_type": "execute_result"
    }
   ],
   "source": [
    "message.find(\"sadık\") #kelimeyi arar ilk harfinde olan index numarasını getirir"
   ]
  },
  {
   "cell_type": "code",
   "execution_count": 41,
   "id": "15ab433e",
   "metadata": {},
   "outputs": [
    {
     "data": {
      "text/plain": [
       "True"
      ]
     },
     "execution_count": 41,
     "metadata": {},
     "output_type": "execute_result"
    }
   ],
   "source": [
    "message.startswith(\"h\") # mesah h ile mi başlıyor diye sordum "
   ]
  },
  {
   "cell_type": "code",
   "execution_count": 42,
   "id": "f18e1be2",
   "metadata": {},
   "outputs": [
    {
     "data": {
      "text/plain": [
       "False"
      ]
     },
     "execution_count": 42,
     "metadata": {},
     "output_type": "execute_result"
    }
   ],
   "source": [
    "message.endswith(\"l\")"
   ]
  },
  {
   "cell_type": "code",
   "execution_count": 43,
   "id": "fd644e02",
   "metadata": {},
   "outputs": [
    {
     "data": {
      "text/plain": [
       "'hekko*there.*my*name*is*yiğit*turan'"
      ]
     },
     "execution_count": 43,
     "metadata": {},
     "output_type": "execute_result"
    }
   ],
   "source": [
    "message.replace(\"sadık\",\"yiğit\")# yeniden adlandırdım\n",
    "message.replace(\"sadık\",\"yiğit\").replace(\"ç\",\"c\").replace(\"l\",\"k\")"
   ]
  },
  {
   "cell_type": "code",
   "execution_count": 44,
   "id": "b1e85b99",
   "metadata": {},
   "outputs": [
    {
     "data": {
      "text/plain": [
       "'********************************hello*there.*my*name*is*sadık*turan*********************************'"
      ]
     },
     "execution_count": 44,
     "metadata": {},
     "output_type": "execute_result"
    }
   ],
   "source": [
    "message.center(100,'*') #yüz karakterlik bir konteyner oluşturur ve ilgili mesajı ortalar"
   ]
  },
  {
   "cell_type": "code",
   "execution_count": 45,
   "id": "55616925",
   "metadata": {},
   "outputs": [],
   "source": [
    "# gogola string metodlarını aratıp bulabilirim"
   ]
  },
  {
   "cell_type": "markdown",
   "id": "6ebea475",
   "metadata": {},
   "source": [
    "## 3.11 string method uygulama"
   ]
  },
  {
   "cell_type": "code",
   "execution_count": 46,
   "id": "4f81847b",
   "metadata": {},
   "outputs": [
    {
     "data": {
      "text/plain": [
       "' hello world'"
      ]
     },
     "execution_count": 46,
     "metadata": {},
     "output_type": "execute_result"
    }
   ],
   "source": [
    "#1- ' hello world ' karakter dizisinin baş ve ssondaki karakterlerini silin\n",
    "website =\"http://www.sadikturan.com\"\n",
    "course = \"python kursu: baştan sona python programlama rehperiniz (40 saat)\"\n",
    "x = \" hello world \"\n",
    "x.strip()\n",
    "x.lstrip()\n",
    "x.rstrip()\n",
    "\n"
   ]
  },
  {
   "cell_type": "code",
   "execution_count": 47,
   "id": "5faade1a",
   "metadata": {},
   "outputs": [
    {
     "data": {
      "text/plain": [
       "'sadikturan.com'"
      ]
     },
     "execution_count": 47,
     "metadata": {},
     "output_type": "execute_result"
    }
   ],
   "source": [
    "#2- www.sadikturan.com ifades dışındakileri silin\n",
    "website.strip(\"whtp:/.\")"
   ]
  },
  {
   "cell_type": "code",
   "execution_count": 48,
   "id": "e390df1d",
   "metadata": {},
   "outputs": [
    {
     "data": {
      "text/plain": [
       "'python kursu: baştan sona python programlama rehperiniz (40 saat)'"
      ]
     },
     "execution_count": 48,
     "metadata": {},
     "output_type": "execute_result"
    }
   ],
   "source": [
    "#3- course dizisindeki her karakteri küçük harf yapın\n",
    "course.lower()"
   ]
  },
  {
   "cell_type": "code",
   "execution_count": 49,
   "id": "f5ac67be",
   "metadata": {},
   "outputs": [
    {
     "data": {
      "text/plain": [
       "0"
      ]
     },
     "execution_count": 49,
     "metadata": {},
     "output_type": "execute_result"
    }
   ],
   "source": [
    "#4- website içinde kaç tane a karakteri vardır\n",
    "website.count(\"a\") #kaç tane a karakteri var \n",
    "website.count(\"a\",0,10) #0 ile 10. index arası arıyor"
   ]
  },
  {
   "cell_type": "code",
   "execution_count": 50,
   "id": "743bbaee",
   "metadata": {},
   "outputs": [
    {
     "data": {
      "text/plain": [
       "True"
      ]
     },
     "execution_count": 50,
     "metadata": {},
     "output_type": "execute_result"
    }
   ],
   "source": [
    "#5- website www ile başlayıp .com ile bitiryor mu\n",
    "website =\"http://www.sadikturan.com\"\n",
    "website.startswith(\"www\")\n",
    "website.endswith(\".com\")"
   ]
  },
  {
   "cell_type": "code",
   "execution_count": 51,
   "id": "a0d63647",
   "metadata": {},
   "outputs": [
    {
     "data": {
      "text/plain": [
       "-1"
      ]
     },
     "execution_count": 51,
     "metadata": {},
     "output_type": "execute_result"
    }
   ],
   "source": [
    "#6- websitede .com var mı\n",
    "website.find(\"com\") # varsa index numarasını gönderir\n",
    "website.find(\".com\", 0, 10) # ilk on karakter içidne var mı "
   ]
  },
  {
   "cell_type": "code",
   "execution_count": 52,
   "id": "ed615daa",
   "metadata": {},
   "outputs": [
    {
     "data": {
      "text/plain": [
       "True"
      ]
     },
     "execution_count": 52,
     "metadata": {},
     "output_type": "execute_result"
    }
   ],
   "source": [
    "#7- course içindeki karakterlerin hepsi alabetik mi (isalpha, isdigit)\n",
    "course.isdigit() #hepsi sayısal mı diye sorduk\n",
    "course.isalpha() # harf mi mı diye sorduk\n",
    "\"hello\".isalpha()"
   ]
  },
  {
   "cell_type": "code",
   "execution_count": 53,
   "id": "4c8444c2",
   "metadata": {},
   "outputs": [
    {
     "data": {
      "text/plain": [
       "'******************************************contenst'"
      ]
     },
     "execution_count": 53,
     "metadata": {},
     "output_type": "execute_result"
    }
   ],
   "source": [
    "#8- contents ifadesini satırda 50 karakter içine yerleştirip sağ ve soluna * ekleyiniz\n",
    "\"contenst\".center(50,\"*\")\n",
    "\"contenst\".ljust(50,\"*\")\n",
    "\"contenst\".rjust(50,\"*\")"
   ]
  },
  {
   "cell_type": "code",
   "execution_count": 54,
   "id": "ac8b1bed",
   "metadata": {},
   "outputs": [
    {
     "data": {
      "text/plain": [
       "'python-kursu:-baştan-sona-python-programlama-rehperiniz-(40-saat)'"
      ]
     },
     "execution_count": 54,
     "metadata": {},
     "output_type": "execute_result"
    }
   ],
   "source": [
    "#9- course karakter dizisindeki tüm boşlukları - yapın\n",
    "course.replace(\" \",\"-\")"
   ]
  },
  {
   "cell_type": "code",
   "execution_count": 55,
   "id": "035e2d8c",
   "metadata": {},
   "outputs": [
    {
     "data": {
      "text/plain": [
       "'hello there'"
      ]
     },
     "execution_count": 55,
     "metadata": {},
     "output_type": "execute_result"
    }
   ],
   "source": [
    "#10- hello world ifadesinde world kısmını there ile değiştirin\n",
    "\"hello world\".replace(\"world\",\"there\")"
   ]
  },
  {
   "cell_type": "code",
   "execution_count": 56,
   "id": "24ef1cf6",
   "metadata": {},
   "outputs": [
    {
     "data": {
      "text/plain": [
       "['python',\n",
       " 'kursu:',\n",
       " 'baştan',\n",
       " 'sona',\n",
       " 'python',\n",
       " 'programlama',\n",
       " 'rehperiniz',\n",
       " '(40',\n",
       " 'saat)']"
      ]
     },
     "execution_count": 56,
     "metadata": {},
     "output_type": "execute_result"
    }
   ],
   "source": [
    "#11- course karakter dizisinin boşluk karakterlerinden ayırın\n",
    "course.replace(\" \",\"\")\n",
    "course.split(\" \")"
   ]
  },
  {
   "cell_type": "markdown",
   "id": "58d307e7",
   "metadata": {},
   "source": [
    "## 3.12 pythonda listeler"
   ]
  },
  {
   "cell_type": "code",
   "execution_count": 57,
   "id": "d742b1cd",
   "metadata": {},
   "outputs": [
    {
     "data": {
      "text/plain": [
       "[1, 2, 3, 4, 5, 6]"
      ]
     },
     "execution_count": 57,
     "metadata": {},
     "output_type": "execute_result"
    }
   ],
   "source": [
    "list1 = [1,2,3]\n",
    "list2 = [4,5,6]\n",
    "numbers = list1 + list2\n",
    "numbers"
   ]
  },
  {
   "cell_type": "code",
   "execution_count": 58,
   "id": "9b17d492",
   "metadata": {},
   "outputs": [
    {
     "data": {
      "text/plain": [
       "3"
      ]
     },
     "execution_count": 58,
     "metadata": {},
     "output_type": "execute_result"
    }
   ],
   "source": [
    "len(list1)"
   ]
  },
  {
   "cell_type": "code",
   "execution_count": 59,
   "id": "564090b7",
   "metadata": {},
   "outputs": [
    {
     "data": {
      "text/plain": [
       "36"
      ]
     },
     "execution_count": 59,
     "metadata": {},
     "output_type": "execute_result"
    }
   ],
   "source": [
    "usera = [\"sadık\", 36]\n",
    "userb = [\"çınar\", 2]\n",
    "users = [usera , userb]\n",
    "users[0][1]"
   ]
  },
  {
   "cell_type": "code",
   "execution_count": 60,
   "id": "f1b56528",
   "metadata": {},
   "outputs": [
    {
     "data": {
      "text/plain": [
       "'one'"
      ]
     },
     "execution_count": 60,
     "metadata": {},
     "output_type": "execute_result"
    }
   ],
   "source": [
    "list1 = [\"one\",\"two\",\"three\"]\n",
    "list2 = [\"elme\", \"armut\"]\n",
    "number = list1 + list2\n",
    "number\n",
    "number[0]"
   ]
  },
  {
   "cell_type": "code",
   "execution_count": 61,
   "id": "ffe8ab8f",
   "metadata": {},
   "outputs": [
    {
     "data": {
      "text/plain": [
       "[['sadık', 36], ['çınar', 2]]"
      ]
     },
     "execution_count": 61,
     "metadata": {},
     "output_type": "execute_result"
    }
   ],
   "source": [
    "usera = [\"sadık\", 36]\n",
    "userb = [\"çınar\",2]\n",
    "users = [usera , userb]\n",
    "users"
   ]
  },
  {
   "cell_type": "code",
   "execution_count": 62,
   "id": "0579e994",
   "metadata": {},
   "outputs": [
    {
     "data": {
      "text/plain": [
       "2"
      ]
     },
     "execution_count": 62,
     "metadata": {},
     "output_type": "execute_result"
    }
   ],
   "source": [
    "users[1][1]"
   ]
  },
  {
   "cell_type": "markdown",
   "id": "9fe9eea0",
   "metadata": {},
   "source": [
    "## 3.13 pythonda listeler uygulama"
   ]
  },
  {
   "cell_type": "code",
   "execution_count": 63,
   "id": "2ab275c3",
   "metadata": {},
   "outputs": [],
   "source": [
    "#1 \"bmw, mercedes, opel ,mazda\" elemanlarına sahip bir liste oluşturun\n",
    "liste1 = [\"bmw\", \"mercedes\", \"opel\", \"mazda\"]"
   ]
  },
  {
   "cell_type": "code",
   "execution_count": 64,
   "id": "b180a066",
   "metadata": {},
   "outputs": [
    {
     "data": {
      "text/plain": [
       "4"
      ]
     },
     "execution_count": 64,
     "metadata": {},
     "output_type": "execute_result"
    }
   ],
   "source": [
    "#2- listede kaç eleman var\n",
    "len(liste1)"
   ]
  },
  {
   "cell_type": "code",
   "execution_count": 65,
   "id": "2eaefdad",
   "metadata": {},
   "outputs": [
    {
     "name": "stdout",
     "output_type": "stream",
     "text": [
      "bmw mazda\n"
     ]
    }
   ],
   "source": [
    "#3- listenin ilk ve son elemanı nedir\n",
    "x = liste1[0]  \n",
    "y = liste1[-1]\n",
    "print(x,y)"
   ]
  },
  {
   "cell_type": "code",
   "execution_count": 66,
   "id": "439d5496",
   "metadata": {},
   "outputs": [
    {
     "data": {
      "text/plain": [
       "['bmw', 'mercedes', 'opel', 'toyota']"
      ]
     },
     "execution_count": 66,
     "metadata": {},
     "output_type": "execute_result"
    }
   ],
   "source": [
    "# 4- mazda değerini toyota ile değiştirin\n",
    "liste1[3] = \"toyota\"\n",
    "liste1"
   ]
  },
  {
   "cell_type": "code",
   "execution_count": 67,
   "id": "06a61bb9",
   "metadata": {},
   "outputs": [
    {
     "data": {
      "text/plain": [
       "True"
      ]
     },
     "execution_count": 67,
     "metadata": {},
     "output_type": "execute_result"
    }
   ],
   "source": [
    "#5- mreceds listenin bir elemanı mıdır\n",
    "liste1.count(\"mercedes\")\n",
    "\"mercedes\" in liste1"
   ]
  },
  {
   "cell_type": "code",
   "execution_count": 68,
   "id": "a0900c7d",
   "metadata": {},
   "outputs": [
    {
     "data": {
      "text/plain": [
       "'opel'"
      ]
     },
     "execution_count": 68,
     "metadata": {},
     "output_type": "execute_result"
    }
   ],
   "source": [
    "#6- listenin -2. değerdeki değeri nedir\n",
    "liste1[-2]"
   ]
  },
  {
   "cell_type": "code",
   "execution_count": 69,
   "id": "044fa2c6",
   "metadata": {},
   "outputs": [
    {
     "data": {
      "text/plain": [
       "['bmw', 'mercedes', 'opel']"
      ]
     },
     "execution_count": 69,
     "metadata": {},
     "output_type": "execute_result"
    }
   ],
   "source": [
    "#7- listenin ilk 3 elemanı nedir\n",
    "liste1[:3]"
   ]
  },
  {
   "cell_type": "code",
   "execution_count": 70,
   "id": "a4274eec",
   "metadata": {},
   "outputs": [
    {
     "data": {
      "text/plain": [
       "['bmw', 'mercedes', 'toyota', 'renault']"
      ]
     },
     "execution_count": 70,
     "metadata": {},
     "output_type": "execute_result"
    }
   ],
   "source": [
    "#8- listenin son iki elemanı yerine toyota ve renault değerlerini ekleyin\n",
    "liste1[-2:] = [\"toyota\",\"renault\"]\n",
    "liste1"
   ]
  },
  {
   "cell_type": "code",
   "execution_count": 71,
   "id": "de917bef",
   "metadata": {},
   "outputs": [
    {
     "data": {
      "text/plain": [
       "['bmw', 'mercedes', 'toyota', 'renault', 'nissan', 'audi']"
      ]
     },
     "execution_count": 71,
     "metadata": {},
     "output_type": "execute_result"
    }
   ],
   "source": [
    "#9- listenin üzerine audi ve nissan değerlerini ekleyin\n",
    "yeni = [\"nissan\",\"audi\"]\n",
    "liste1 = liste1 + yeni\n",
    "liste1"
   ]
  },
  {
   "cell_type": "code",
   "execution_count": 72,
   "id": "4c35de8c",
   "metadata": {},
   "outputs": [
    {
     "data": {
      "text/plain": [
       "['bmw', 'mercedes', 'toyota', 'renault', 'nissan']"
      ]
     },
     "execution_count": 72,
     "metadata": {},
     "output_type": "execute_result"
    }
   ],
   "source": [
    "#10- listenin son elemanıın silin\n",
    "del liste1[-1]\n",
    "liste1"
   ]
  },
  {
   "cell_type": "code",
   "execution_count": 73,
   "id": "f9fa9f4f",
   "metadata": {},
   "outputs": [
    {
     "data": {
      "text/plain": [
       "['nissan', 'renault', 'toyota', 'mercedes', 'bmw']"
      ]
     },
     "execution_count": 73,
     "metadata": {},
     "output_type": "execute_result"
    }
   ],
   "source": [
    "#11- liste elemanlarını tersten yazdırın\n",
    "liste1[::-1]"
   ]
  },
  {
   "cell_type": "code",
   "execution_count": 74,
   "id": "542e479f",
   "metadata": {},
   "outputs": [],
   "source": [
    "#12- aşağıdaki yenileri bir liste içinde saklayın\n",
    "\"\"\"\n",
    "    studenta: yiğit bilgi 2010, (70,60,70)\n",
    "    studentb: sena turan 1999, (80,80,70)\n",
    "    studencc: ahmet turan 1998, (80,70,90)\n",
    "    \"\"\"\n",
    "studenta = [\"yiğit\",\"bilgi\", 2010, [70,60,70]]\n",
    "studentb = [\"sena\",\"turan\", 1999, [80,80,70]]\n",
    "studentc = [\"ahmet\",\"turan\", 1998, [80,70,90]]"
   ]
  },
  {
   "cell_type": "code",
   "execution_count": 75,
   "id": "b0e73286",
   "metadata": {},
   "outputs": [],
   "source": [
    "#13- liste elemanlarını yazdırın\n",
    "students = studenta + studentb + studentc"
   ]
  },
  {
   "cell_type": "code",
   "execution_count": 76,
   "id": "d80d40cf",
   "metadata": {},
   "outputs": [
    {
     "data": {
      "text/plain": [
       "'turan'"
      ]
     },
     "execution_count": 76,
     "metadata": {},
     "output_type": "execute_result"
    }
   ],
   "source": [
    "students[5]"
   ]
  },
  {
   "cell_type": "markdown",
   "id": "71252a51",
   "metadata": {},
   "source": [
    "## pythonda liste metodları 3.14"
   ]
  },
  {
   "cell_type": "code",
   "execution_count": 77,
   "id": "d561a327",
   "metadata": {},
   "outputs": [],
   "source": [
    "numbers = [1,10,5,16,4,9,10]"
   ]
  },
  {
   "cell_type": "code",
   "execution_count": 78,
   "id": "95dfd5a6",
   "metadata": {},
   "outputs": [],
   "source": [
    "letters = [\"a\",\"g\",\"s\",\"b\",\"y\",\"a\",\"s\"]"
   ]
  },
  {
   "cell_type": "code",
   "execution_count": 84,
   "id": "aee4d8b8",
   "metadata": {},
   "outputs": [
    {
     "name": "stdout",
     "output_type": "stream",
     "text": [
      "[654646, 654646, 79, 79, 40, 78, 78, 78, 78, 40, 40, 40, 40, 40, 10, 10, 9]\n"
     ]
    },
    {
     "data": {
      "text/plain": [
       "[]"
      ]
     },
     "execution_count": 84,
     "metadata": {},
     "output_type": "execute_result"
    }
   ],
   "source": [
    "val = min(numbers)\n",
    "val = max(numbers)\n",
    "val = min(letters)\n",
    "val = numbers[3:6]\n",
    "val = numbers[:3]\n",
    "val = numbers[4:]\n",
    "numbers[4] = 40\n",
    "print(numbers)\n",
    "numbers.append(49)\n",
    "numbers.append(79)\n",
    "numbers.insert(3,78) #insert metodu bizden önce hangi indexten işlem yapmak istediğimizi soruyor ondan sonra\n",
    "# eklleme yapıyor burada 3. indexten itibaren diyorum ve 3. indexe ekler\n",
    "numbers.insert(-1,654646)# verdiğim index numarasından önce ekler\n",
    "#numbers.pop() # son rakamı siler\n",
    "# index belirtirsem indexi siler numbers.pop(0)\n",
    "numbers.pop(0)\n",
    "numbers.remove(49) # buna silmek istediğim elemanı yazıyorum\n",
    "numbers.sort() #liste küçükten büyüğe sıralar\n",
    "letters.sort()\n",
    "numbers.reverse()# bu da listeyi tersine çevirir\n",
    "#letters\n",
    "len(numbers)\n",
    "numbers.count(40) # burada bu elemandan kaç tane var diye soruyorum\n",
    "numbers.clear() #burada liste elemanlarını tamamen temizliyorum\n",
    "numbers"
   ]
  },
  {
   "cell_type": "code",
   "execution_count": null,
   "id": "ee572077",
   "metadata": {},
   "outputs": [],
   "source": [
    "# list methods in python diyerek googleda arayabilirim"
   ]
  }
 ],
 "metadata": {
  "kernelspec": {
   "display_name": "Python 3 (ipykernel)",
   "language": "python",
   "name": "python3"
  },
  "language_info": {
   "codemirror_mode": {
    "name": "ipython",
    "version": 3
   },
   "file_extension": ".py",
   "mimetype": "text/x-python",
   "name": "python",
   "nbconvert_exporter": "python",
   "pygments_lexer": "ipython3",
   "version": "3.10.9"
  }
 },
 "nbformat": 4,
 "nbformat_minor": 5
}
