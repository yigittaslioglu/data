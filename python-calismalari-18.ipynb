{
 "cells": [
  {
   "cell_type": "markdown",
   "id": "ef23f3b6",
   "metadata": {},
   "source": [
    "# Requests modülü 15.6"
   ]
  },
  {
   "cell_type": "code",
   "execution_count": 3,
   "id": "f01536d1",
   "metadata": {},
   "outputs": [],
   "source": [
    "import requests"
   ]
  },
  {
   "cell_type": "code",
   "execution_count": 2,
   "id": "54d14d1b",
   "metadata": {},
   "outputs": [
    {
     "name": "stdout",
     "output_type": "stream",
     "text": [
      "Defaulting to user installation because normal site-packages is not writeable\n",
      "Requirement already satisfied: requests in c:\\programdata\\anaconda3\\lib\\site-packages (2.28.1)\n",
      "Requirement already satisfied: charset-normalizer<3,>=2 in c:\\programdata\\anaconda3\\lib\\site-packages (from requests) (2.0.4)\n",
      "Requirement already satisfied: certifi>=2017.4.17 in c:\\programdata\\anaconda3\\lib\\site-packages (from requests) (2022.12.7)\n",
      "Requirement already satisfied: urllib3<1.27,>=1.21.1 in c:\\programdata\\anaconda3\\lib\\site-packages (from requests) (1.26.14)\n",
      "Requirement already satisfied: idna<4,>=2.5 in c:\\programdata\\anaconda3\\lib\\site-packages (from requests) (3.4)\n"
     ]
    }
   ],
   "source": [
    "!pip install requests"
   ]
  },
  {
   "cell_type": "code",
   "execution_count": 1,
   "id": "eaa83708",
   "metadata": {},
   "outputs": [],
   "source": [
    "# bir html herhangi bir web sitesi üzerinde kaynak kodlarını açıp üzerinde işlem yapabiliyorum\n",
    "# json string bilgi olarak verir\n",
    "# 19a kadar olanalrı geçtim çünkü işime pek yaramadı ihtiyacım olursa buradan dönüp\n",
    "# bakacağım. webscrapinge örn"
   ]
  },
  {
   "cell_type": "markdown",
   "id": "cdae3738",
   "metadata": {},
   "source": [
    "# 19.1 numpy nedir?"
   ]
  },
  {
   "cell_type": "code",
   "execution_count": 4,
   "id": "4a1a8d2b",
   "metadata": {},
   "outputs": [],
   "source": [
    "import numpy as np"
   ]
  },
  {
   "cell_type": "code",
   "execution_count": 3,
   "id": "61c840e2",
   "metadata": {},
   "outputs": [],
   "source": [
    "py_list = [1,2,3,4,5,6,7,8,9] #listelerin yapamadığı birçok işi numpy ile yapabilirim"
   ]
  },
  {
   "cell_type": "code",
   "execution_count": 7,
   "id": "b0575d8a",
   "metadata": {},
   "outputs": [
    {
     "name": "stdout",
     "output_type": "stream",
     "text": [
      "<class 'numpy.ndarray'>\n",
      "<class 'list'>\n"
     ]
    }
   ],
   "source": [
    "# numpy array oluşturuyorum yani dizi\n",
    "\n",
    "nparray = np.array([1,2,3,4,5,6,7,8,9]) #array içine köşeli parantezlerle yazıyorum, bir liste göndeeriyorum bunu bir numpy dizisine çevirecek\n",
    "print(type(nparray))\n",
    "print(type(py_list))"
   ]
  },
  {
   "cell_type": "code",
   "execution_count": 8,
   "id": "8dcb68b0",
   "metadata": {},
   "outputs": [
    {
     "name": "stdout",
     "output_type": "stream",
     "text": [
      "[[1, 2, 3], [4, 5, 6], [7, 8, 9]]\n",
      "[[1 2 3]\n",
      " [4 5 6]\n",
      " [7 8 9]]\n"
     ]
    }
   ],
   "source": [
    "# çok boyutlu liste oluşturmak istersem\n",
    "py_multi = [[1,2,3], [4,5,6], [7,8,9]]\n",
    "npmulti = nparray.reshape(3,3) #reshape ile yeniden şekillendirebiliyorum bunun için 3e 3lük bir matris oluştur diyorum\n",
    "\n",
    "print(py_multi)\n",
    "print(npmulti)"
   ]
  },
  {
   "cell_type": "code",
   "execution_count": 9,
   "id": "44226af2",
   "metadata": {},
   "outputs": [
    {
     "name": "stdout",
     "output_type": "stream",
     "text": [
      "1\n",
      "2\n"
     ]
    }
   ],
   "source": [
    "print(nparray.ndim) #ndim ile boyutuna bakıyorum bu bir boyutludur\n",
    "print(npmulti.ndim) #bu iki boyutlu bir dizidir"
   ]
  },
  {
   "cell_type": "code",
   "execution_count": 10,
   "id": "fcd2d513",
   "metadata": {},
   "outputs": [
    {
     "name": "stdout",
     "output_type": "stream",
     "text": [
      "(9,)\n",
      "(3, 3)\n"
     ]
    }
   ],
   "source": [
    "print(nparray.shape) #tek boyutlu olduğu için dokuz diyor diğeri 3e 3\n",
    "print(npmulti.shape)"
   ]
  },
  {
   "cell_type": "markdown",
   "id": "43059d83",
   "metadata": {},
   "source": [
    "# 19.2 numpy dizileri ile çalışma"
   ]
  },
  {
   "cell_type": "code",
   "execution_count": 11,
   "id": "2b7a0f28",
   "metadata": {},
   "outputs": [],
   "source": [
    "import numpy as np"
   ]
  },
  {
   "cell_type": "code",
   "execution_count": 12,
   "id": "e193a233",
   "metadata": {},
   "outputs": [
    {
     "name": "stdout",
     "output_type": "stream",
     "text": [
      "[1 2 3 7 9]\n"
     ]
    }
   ],
   "source": [
    "result = np.array([1,2,3,7,9]) #elemanlarını kendim elirttiğim bir dizi\n",
    "\n",
    "print(result)"
   ]
  },
  {
   "cell_type": "code",
   "execution_count": 13,
   "id": "59de9415",
   "metadata": {},
   "outputs": [
    {
     "data": {
      "text/plain": [
       "array([1, 2, 3, 4, 5, 6, 7, 8, 9])"
      ]
     },
     "execution_count": 13,
     "metadata": {},
     "output_type": "execute_result"
    }
   ],
   "source": [
    "np.arange(1,10) #kendim belirmek itemediğim bir eleman oluşturdum np arrayi"
   ]
  },
  {
   "cell_type": "code",
   "execution_count": 14,
   "id": "b5907c8f",
   "metadata": {},
   "outputs": [
    {
     "name": "stdout",
     "output_type": "stream",
     "text": [
      "[ 1  4  7 10 13 16 19 22 25 28 31 34 37 40 43 46 49 52 55 58 61 64 67 70\n",
      " 73 76 79 82 85 88 91 94 97]\n"
     ]
    }
   ],
   "source": [
    "result = np.arange(1,100,3) # 10 ile 100 arasında 3er rtan bir array\n",
    "print(result)"
   ]
  },
  {
   "cell_type": "code",
   "execution_count": 16,
   "id": "fd981f29",
   "metadata": {},
   "outputs": [
    {
     "data": {
      "text/plain": [
       "array([0., 0., 0., 0., 0., 0., 0., 0., 0., 0.])"
      ]
     },
     "execution_count": 16,
     "metadata": {},
     "output_type": "execute_result"
    }
   ],
   "source": [
    "result = np.zeros(10) #10 tane 0 olan bir array\n",
    "result"
   ]
  },
  {
   "cell_type": "code",
   "execution_count": 17,
   "id": "42d95848",
   "metadata": {},
   "outputs": [
    {
     "data": {
      "text/plain": [
       "array([1., 1., 1., 1., 1., 1., 1., 1., 1., 1.])"
      ]
     },
     "execution_count": 17,
     "metadata": {},
     "output_type": "execute_result"
    }
   ],
   "source": [
    "result = np.ones(10) # oluşturulan sayılar floattır\n",
    "result"
   ]
  },
  {
   "cell_type": "code",
   "execution_count": 19,
   "id": "0c15f002",
   "metadata": {},
   "outputs": [
    {
     "name": "stdout",
     "output_type": "stream",
     "text": [
      "[  0.  25.  50.  75. 100.]\n"
     ]
    }
   ],
   "source": [
    "result = np.linspace(0,100,5) #belirli bir sayı arasında 5 eş parçaay bölünen bir array oluşturmak istersem linspace metodunu kullanabilirim\n",
    "print(result)"
   ]
  },
  {
   "cell_type": "code",
   "execution_count": 20,
   "id": "a77c63ad",
   "metadata": {},
   "outputs": [
    {
     "name": "stdout",
     "output_type": "stream",
     "text": [
      "[0.   1.25 2.5  3.75 5.  ]\n"
     ]
    }
   ],
   "source": [
    "result = np.linspace(0,5,5)\n",
    "print(result)"
   ]
  },
  {
   "cell_type": "code",
   "execution_count": 23,
   "id": "cf9b9129",
   "metadata": {},
   "outputs": [
    {
     "name": "stdout",
     "output_type": "stream",
     "text": [
      "7\n"
     ]
    }
   ],
   "source": [
    "result = np.random.randint(0,10)\n",
    "print(result) #her çalıştırdığımda 0 ile 10 arasında bir int sayı söyler en fazla 9 söyleyebilir"
   ]
  },
  {
   "cell_type": "code",
   "execution_count": 25,
   "id": "36d8858e",
   "metadata": {},
   "outputs": [
    {
     "name": "stdout",
     "output_type": "stream",
     "text": [
      "[5 2 8]\n"
     ]
    }
   ],
   "source": [
    "result = np.random.randint(20) # 0 ile 20 arasında üretir\n",
    "\n",
    "result = np.random.randint(0,10,3)\n",
    "print(result) #her seferinde 0 ile 10 arasında 3 tane farklı sayı gelir"
   ]
  },
  {
   "cell_type": "code",
   "execution_count": 28,
   "id": "6b52c825",
   "metadata": {},
   "outputs": [
    {
     "data": {
      "text/plain": [
       "array([0.34001772, 0.69331822, 0.65051331, 0.05109022, 0.23508452])"
      ]
     },
     "execution_count": 28,
     "metadata": {},
     "output_type": "execute_result"
    }
   ],
   "source": [
    "resultt = np.random.rand(5) # 0 ile 1 arasında 5 sayı üretir\n",
    "resultt"
   ]
  },
  {
   "cell_type": "code",
   "execution_count": 31,
   "id": "ba9c0432",
   "metadata": {},
   "outputs": [
    {
     "data": {
      "text/plain": [
       "array([-1.49949647,  0.67969979, -0.97828522, -2.17925737,  0.88472459])"
      ]
     },
     "execution_count": 31,
     "metadata": {},
     "output_type": "execute_result"
    }
   ],
   "source": [
    "resultt = np.random.randn(5) #randn dediğimde içine eksi değerler de girmiş olur\n",
    "resultt"
   ]
  },
  {
   "cell_type": "code",
   "execution_count": 36,
   "id": "a036a5f6",
   "metadata": {},
   "outputs": [
    {
     "name": "stdout",
     "output_type": "stream",
     "text": [
      "[ 45 145 245 345 445]\n",
      "[100 105 110 115 120 125 130 135 140 145]\n"
     ]
    }
   ],
   "source": [
    "np_array = np.arange(50) # 0dan 50ye kadar bir dizi oluşturdum\n",
    "np_multi=  np_array.reshape(5,10) # oluşturduğum diziyi 10arlık 5 parçaya böldüm\n",
    "\n",
    "print(np_multi.sum(axis =1)) # satırların toplamını getirdi\n",
    "print(np_multi.sum(axis =0)) #sütunların toplamı"
   ]
  },
  {
   "cell_type": "code",
   "execution_count": 53,
   "id": "642fbd42",
   "metadata": {},
   "outputs": [
    {
     "name": "stdout",
     "output_type": "stream",
     "text": [
      "[66 60 45 15 10 97 63 71 78  6]\n"
     ]
    },
    {
     "data": {
      "text/plain": [
       "9"
      ]
     },
     "execution_count": 53,
     "metadata": {},
     "output_type": "execute_result"
    }
   ],
   "source": [
    "rnd_numbers = np.random.randint(1,100,10) # 1 ile 100 arası 10 sayı\n",
    "print(rnd_numbers)\n",
    "result = rnd_numbers.max()\n",
    "result = rnd_numbers.min()\n",
    "result = rnd_numbers.mean() # sayıların ortalaması\n",
    "result = rnd_numbers.argmax() #üretilen en büyük sayının index numarasını getirir\n",
    "result = rnd_numbers.argmin() #üretilen en küçük sayının indexi\n",
    "result"
   ]
  },
  {
   "cell_type": "markdown",
   "id": "4f7302ba",
   "metadata": {},
   "source": [
    "# 19.3 numpy dizilerinin indexlenmesi"
   ]
  },
  {
   "cell_type": "code",
   "execution_count": 54,
   "id": "189e8c6b",
   "metadata": {},
   "outputs": [],
   "source": [
    "import numpy as np"
   ]
  },
  {
   "cell_type": "code",
   "execution_count": 63,
   "id": "0c4b061b",
   "metadata": {},
   "outputs": [
    {
     "name": "stdout",
     "output_type": "stream",
     "text": [
      "[75 25 15  5]\n"
     ]
    }
   ],
   "source": [
    "numbers = np.array([0,5,10,15,20,25,50,75])\n",
    "\n",
    "result = numbers[5]\n",
    "result = numbers[-1] #pythonda nasıl listeelemanlarını ulaşabiliyorsam aynı şekilde ulaşabilirm\n",
    "result = numbers[0:3] #0 5 10 değerleri gelir\n",
    "result = numbers[:3]\n",
    "result = numbers[3:] # sona kadar gider\n",
    "result = numbers[::] #tüm listeyi yazdırır\n",
    "result = numbers[::-1] #terse çevirdim\n",
    "result = numbers[::-2] #tersten 2şer\n",
    "\n",
    "\n",
    "\n",
    "print(result)"
   ]
  },
  {
   "cell_type": "code",
   "execution_count": 74,
   "id": "bceaee03",
   "metadata": {},
   "outputs": [
    {
     "name": "stdout",
     "output_type": "stream",
     "text": [
      "[[ 0  5]\n",
      " [15 20]]\n"
     ]
    }
   ],
   "source": [
    "numbers2 = np.array([[0,5,10],[15,20,25],[50,75,85]])\n",
    "result = numbers2[0]\n",
    "result = numbers2[0,2] #ekstradan kutucuk açmadan yine yazdırabilirim bu şekilde ilk 3lüden 2. index demek\n",
    "result = numbers2[:,2] # tüm satırları seçiyorum : ile ve 2. indexlerini alıyorum birden fazla değer aldım bu şekilde yani 10 25 ve 85 değerleri gelecek\n",
    "result = numbers2[:,0] #tüm satırlar ve 0. indexler\n",
    "result = numbers2[:,0:2] #tüm satılar seçildi ve 0 ile 2. index aralığındaki elemanlar geldi yani hepsinden ilk iki eleman geldi\n",
    "result = numbers2[-1,:] #son satır içindeki tüm sütunlar 1. kolon 2. kolon ve 3. kolon geldi son elemandaki\n",
    "result = numbers2[:2,:2] # ilk iki satır ve ilk iki kolon\n",
    "\n",
    "\n",
    "\n",
    "\n",
    "print(result)"
   ]
  },
  {
   "cell_type": "code",
   "execution_count": 77,
   "id": "eaf788a0",
   "metadata": {},
   "outputs": [
    {
     "name": "stdout",
     "output_type": "stream",
     "text": [
      "[0 1 2 3 4 5 6 7 8 9]\n",
      "[0 1 2 3 4 5 6 7 8 9]\n",
      "[20  1  2  3  4  5  6  7  8  9]\n",
      "[20  1  2  3  4  5  6  7  8  9]\n"
     ]
    }
   ],
   "source": [
    "arr1 = np.arange(0,10)\n",
    "arr2 = arr1 # referans kopyalaması yaptım\n",
    "\n",
    "print(arr1)\n",
    "print(arr2) #ikisi de aynı diziye karşılık geldi çünkü arr1 adresinin kopyasını arr2ye verdim\n",
    "\n",
    "arr2[0] = 20\n",
    "\n",
    "print(arr1)\n",
    "print(arr2) #değişiklik ikisinde de oldu çünkü bellek üzerinde aynı adres üzerinde tutulan aynı verilere yeni tanımlama yaptım\n",
    "\n",
    "#arr1 = arr1.copy() yaparsam arr1 kopyası olmuş olacak ve arr2ye copyi tanımlasam farklı alanlarda tutulan veriler olacağı için değişiklik sadece arr2de olacak"
   ]
  },
  {
   "cell_type": "markdown",
   "id": "f81f0028",
   "metadata": {},
   "source": [
    "# 19.4 numpy dizi operasyonları"
   ]
  },
  {
   "cell_type": "code",
   "execution_count": 78,
   "id": "d0394bc2",
   "metadata": {},
   "outputs": [],
   "source": [
    "import numpy as np"
   ]
  },
  {
   "cell_type": "code",
   "execution_count": 109,
   "id": "399278e0",
   "metadata": {},
   "outputs": [
    {
     "name": "stdout",
     "output_type": "stream",
     "text": [
      "[84 72 23 11 19 99] [28 96 41 62 21 43]\n",
      "[[84 72 23]\n",
      " [11 19 99]]\n",
      "[[28 96 41]\n",
      " [62 21 43]]\n",
      "[84 72]\n",
      "[ True  True False False False False]\n"
     ]
    }
   ],
   "source": [
    "numbers1 = np.random.randint(10,100,6)\n",
    "numbers2 = np.random.randint(10,100,6) #rastgele üretilen 2 tane dizi\n",
    "\n",
    "print(numbers1, numbers2)\n",
    "\n",
    "result = numbers1 + numbers2\n",
    "result = numbers1 + 10 #unmber1 deki elemanlara 10 ekledim\n",
    "result = numbers1 - numbers2 # çıkartrrım\n",
    "result = numbers1 - 10\n",
    "result = numbers1 * numbers2\n",
    "result = numbers1 * 10\n",
    "result = numbers1 / numbers2\n",
    "result = numbers1 / 10\n",
    "\n",
    "result = np.sin(numbers1) # numbers1 in sinüsünü aldım\n",
    "result = np.cos(numbers2) #numbers2 nin cosünüsünü aldım\n",
    "result = np.sqrt(numbers1) #her elemanın karekökünü alır\n",
    "result = np.log(numbers1) #her değerim logaritmasını alır\n",
    "\n",
    "multinumbers1 = numbers1.reshape(2,3)\n",
    "multinumbers2 = numbers2.reshape(2,3)\n",
    "\n",
    "print(multinumbers1) #2 satır 3 kolon\n",
    "print(multinumbers2) # elemanları 10 ile 100 arasında olan iki farklı matris geldi\n",
    "\n",
    "result = np.vstack((multinumbers1,multinumbers2)) #dikey olarak birleştirme işlemi yapıyor ve tek parametre şeklinde göndermem grektiği için bir parantez içine alıyorum\n",
    "result = np.hstack((multinumbers1,multinumbers2)) #yatay olarak birleştirir\n",
    "\n",
    "result = numbers1 >= 50 #elemanların hepsine bakar her elemanın 5ten büyük olup olmadığını kntrol eder ve bool değer gönderir\n",
    "\n",
    "result = numbers1 %2 == 0 #sayılar çift mi diye kontrol ettirdim\n",
    "print(numbers1[result]) #sorguladığım değerlerin True olanları bana liste iiçnde gelecek\n",
    "\n",
    "\n",
    "print(result) #ikisini matemateiksel olarak aynı indexteki elemanları toplar yeni dizi yazdırır\n"
   ]
  },
  {
   "cell_type": "markdown",
   "id": "c1b840ce",
   "metadata": {},
   "source": [
    "# 19.5 python numpy demo"
   ]
  },
  {
   "cell_type": "code",
   "execution_count": null,
   "id": "b167861d",
   "metadata": {},
   "outputs": [],
   "source": [
    "#1- (10,15,30,45,60) değerlerine sahip umpy dizisini oluşturun\n",
    "#2- (5-15) arasındaki sayılarla numpy dizisi oluşturun\n",
    "#3-(50-100) arasında 5'er 5'er artarak numpy dizisi oluşturun\n",
    "#4- 10 elemanlı 0lardan oluşan bir dizi oluşturun\n",
    "#5- 10 elemanlı 1lerden oluşan bir dizi oluşturun\n",
    "#6- (0-100) arasında eşit aralıklarla 5 sayı üretin\n",
    "#7- (10-30) arasında rastgele 5 tane tamsayı üretin\n",
    "#8- [-1 ile 1] arasında 10 adet sayı üretin\n",
    "#9- (3x5) boyutlarında (10-50) arasında rastgele bir matris oluşturun\n",
    "#10- üretilen matrisin satır ve sütun sayıları toplamlarını hesaplayınız\n",
    "#11- üretilen matrisin en büyük en küçük ve ortalamasını yazdırın\n",
    "#12- üretilen matrisin en büyük değerinin indexi kaçtır\n",
    "#13- (10-20) arasındaki sayıları içeren dizinin ilk 3 elemanını seçin\n",
    "#14- üretilen dizinin elemanların ıtersten yazdırın\n",
    "#15- üretilen matrisin ilk satırını yazdırın\n",
    "#16- üretilen matrisin 2.satır ve 3.sütundaki eleamnı hangisidir\n",
    "#17- üretilen matrisin tüm satırlardaki ilk elemanını seçiniz\n",
    "#18- üretilen matrisin her bir elemanın karesini alınız\n",
    "#19- üretilen matris elemanlarının hangisi pozitif çift sayıdır?\n",
    "#(aralığı -50,+50 arasında yapınız)"
   ]
  }
 ],
 "metadata": {
  "kernelspec": {
   "display_name": "Python 3 (ipykernel)",
   "language": "python",
   "name": "python3"
  },
  "language_info": {
   "codemirror_mode": {
    "name": "ipython",
    "version": 3
   },
   "file_extension": ".py",
   "mimetype": "text/x-python",
   "name": "python",
   "nbconvert_exporter": "python",
   "pygments_lexer": "ipython3",
   "version": "3.10.9"
  }
 },
 "nbformat": 4,
 "nbformat_minor": 5
}
