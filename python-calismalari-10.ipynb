{
 "cells": [
  {
   "cell_type": "markdown",
   "id": "c32208e7",
   "metadata": {},
   "source": [
    "## Nesne tabanlı programlama 8.1"
   ]
  },
  {
   "cell_type": "code",
   "execution_count": 1,
   "id": "c69f16f5",
   "metadata": {},
   "outputs": [],
   "source": [
    "# class  kavramlarını öğrenmek lazım\n",
    "\n",
    "\n",
    "# classtan kopya objeler üretilerek işlemler yapılabilir\n",
    "\n",
    "#instance(object)"
   ]
  },
  {
   "cell_type": "markdown",
   "id": "0c06ad0c",
   "metadata": {},
   "source": [
    "## nesne tabanlı programlama sınıflar 8.2"
   ]
  },
  {
   "cell_type": "code",
   "execution_count": 2,
   "id": "c416dba2",
   "metadata": {},
   "outputs": [],
   "source": [
    "# class\n",
    "\n",
    "# object, instance ( bu objenin diğer ismi)"
   ]
  },
  {
   "cell_type": "code",
   "execution_count": 13,
   "id": "e0daa628",
   "metadata": {},
   "outputs": [
    {
     "name": "stdout",
     "output_type": "stream",
     "text": [
      "init metodu çalıştı\n",
      "init metodu çalıştı\n",
      "<__main__.Person object at 0x00000228C17D1330>\n",
      "<__main__.Person object at 0x00000228C17D3C70>\n",
      "<class '__main__.Person'>\n",
      "p1 name: ahmet, year: 2000, adress: no information\n",
      "p2 name: ali, year: 1995\n"
     ]
    }
   ],
   "source": [
    "class Person:  # class larda büyük harfle başlanır yazmaya\n",
    "    # class attributes tanımlanacak\n",
    "    \n",
    "    adress = \"no information\"\n",
    "    \n",
    "    #constuoctor (yapıcı metod)(class attributes tanımlaması yapılırken kullanılır)\n",
    "    def __init__(self,name, year):# def initin parametreleri vardır ilk parametresi inittir. self türetilen herhangi bir objeyi temsil eder. obje üzerine bir deüer aktarmak istediğim zaman selfi kullanacağım. selfin üzerine hangi parametreleri eklemek istiyorsam selften sonra belirteceğim\n",
    "        #objcet attributelardan hangi özellikleri alacaksam\n",
    "        self.name = name #self için parametre göndermiyorum\n",
    "        self.year = year #buna yapıcı metod denmesinin sebebi init objesinin oluşturulmuş her obje için çalışabiliyor olmasıdır. yani year ve name fonksiyonu person için kullanılmış her obje için çalışacak\n",
    "        print(\"init metodu çalıştı\")\n",
    "    # objcet attributes \n",
    "    # ve methodlar\n",
    "    \n",
    "    pass\n",
    "p1 = Person(name = \"yiğit\",year = 2000) #bu şekilde p1 objesi tanımlamış oldum ve bu sayede classın içindeki bilgilere ulaşabiliyor olacağım\n",
    "p2 = Person(\"ali\",1995) #üstteki gib parametreleri böyle de verebilirim\n",
    "print(p1) #bana p1 objesinin bellek üzerindeki adresini verir ve tipinin person olduğunu söyler\n",
    "print(p2) #farklı adrslerde kayıtlanır ve tipi persondur\n",
    "print(type(p1)) #type person\n",
    "\n",
    "#updating\n",
    "p1.name = \"ahmet\" # p1 in isimini bu şekilde değiştirebilirim\n",
    "\n",
    "#accesing objet\n",
    "print(f\"p1 name: {p1.name}, year: {p1.year}, adress: {p1.adress}\")\n",
    "print(f\"p2 name: {p2.name}, year: {p2.year}\")\n",
    "\n",
    "# her zaman kullanılmasını istediğim yani obje ilk oluşturulduğu anda istenen\n",
    "# bilgileri constructor tanımlayıp her zaman kullanılmasını istemediğim bilgileri\n",
    "# class attribute olarak tanımlayabilirim"
   ]
  },
  {
   "cell_type": "code",
   "execution_count": null,
   "id": "2d2af973",
   "metadata": {},
   "outputs": [],
   "source": []
  }
 ],
 "metadata": {
  "kernelspec": {
   "display_name": "Python 3 (ipykernel)",
   "language": "python",
   "name": "python3"
  },
  "language_info": {
   "codemirror_mode": {
    "name": "ipython",
    "version": 3
   },
   "file_extension": ".py",
   "mimetype": "text/x-python",
   "name": "python",
   "nbconvert_exporter": "python",
   "pygments_lexer": "ipython3",
   "version": "3.10.9"
  }
 },
 "nbformat": 4,
 "nbformat_minor": 5
}
