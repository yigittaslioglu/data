{
 "cells": [
  {
   "cell_type": "markdown",
   "id": "cdf81e4f",
   "metadata": {},
   "source": [
    "## mantıksal operatörler 4.5"
   ]
  },
  {
   "cell_type": "code",
   "execution_count": 1,
   "id": "171a89a9",
   "metadata": {},
   "outputs": [
    {
     "data": {
      "text/plain": [
       "True"
      ]
     },
     "execution_count": 1,
     "metadata": {},
     "output_type": "execute_result"
    }
   ],
   "source": [
    "x = 5\n",
    "result = 5 <= x < 10 # x bu aralıkta mı\n",
    "result"
   ]
  },
  {
   "cell_type": "code",
   "execution_count": 2,
   "id": "8012bbb6",
   "metadata": {},
   "outputs": [],
   "source": [
    "# and or not operatörlerini kullanabilirim"
   ]
  },
  {
   "cell_type": "code",
   "execution_count": 3,
   "id": "d1fcae8d",
   "metadata": {},
   "outputs": [
    {
     "data": {
      "text/plain": [
       "False"
      ]
     },
     "execution_count": 3,
     "metadata": {},
     "output_type": "execute_result"
    }
   ],
   "source": [
    "result = x > 5 and x < 10 # eğer iki tarafı doğruysa true döner\n",
    "result"
   ]
  },
  {
   "cell_type": "code",
   "execution_count": 4,
   "id": "776e7627",
   "metadata": {},
   "outputs": [
    {
     "data": {
      "text/plain": [
       "True"
      ]
     },
     "execution_count": 4,
     "metadata": {},
     "output_type": "execute_result"
    }
   ],
   "source": [
    "result = x > 5 or x < 10 # iki tarafından biri doğruysa True döner\n",
    "result"
   ]
  },
  {
   "cell_type": "code",
   "execution_count": 5,
   "id": "87d736da",
   "metadata": {},
   "outputs": [
    {
     "data": {
      "text/plain": [
       "False"
      ]
     },
     "execution_count": 5,
     "metadata": {},
     "output_type": "execute_result"
    }
   ],
   "source": [
    "hak = 0\n",
    "devam = \"e\"\n",
    "result = (hak > 0) and (devam == \"e\")\n",
    "result\n",
    "# kullanıcının hakkı bitmişse false döndürecek"
   ]
  },
  {
   "cell_type": "code",
   "execution_count": 6,
   "id": "7702b585",
   "metadata": {},
   "outputs": [
    {
     "data": {
      "text/plain": [
       "True"
      ]
     },
     "execution_count": 6,
     "metadata": {},
     "output_type": "execute_result"
    }
   ],
   "source": [
    "result = (x > 0) or (x % 2 == 0)\n",
    "result"
   ]
  },
  {
   "cell_type": "code",
   "execution_count": 7,
   "id": "4a79bb67",
   "metadata": {},
   "outputs": [
    {
     "data": {
      "text/plain": [
       "False"
      ]
     },
     "execution_count": 7,
     "metadata": {},
     "output_type": "execute_result"
    }
   ],
   "source": [
    "result = not x > 0 # x pozitif değil mi diye sordum pozitif olduğu için false dedi\n",
    "# tureun tam tersini alır\n",
    "result"
   ]
  },
  {
   "cell_type": "code",
   "execution_count": 8,
   "id": "89dc53d6",
   "metadata": {},
   "outputs": [
    {
     "data": {
      "text/plain": [
       "False"
      ]
     },
     "execution_count": 8,
     "metadata": {},
     "output_type": "execute_result"
    }
   ],
   "source": [
    "# x , 5-10 arasında olan bir çift sayı mı?\n",
    "result = 5 < x < 10 and x %2 ==0\n",
    "result"
   ]
  },
  {
   "cell_type": "markdown",
   "id": "b6bf2816",
   "metadata": {},
   "source": [
    "## mantıksal operatörler Uygulama 4.6 (Uygulamayı Deneyiniz)"
   ]
  },
  {
   "cell_type": "code",
   "execution_count": 9,
   "id": "c7867700",
   "metadata": {},
   "outputs": [],
   "source": [
    "#1 giriln bir sayının 0-100 arasında olu olmadığını kontrol edin\n",
    "#2- girilen bir sayının pozitif çift sayı olup olmadığını kontrol edin\n",
    "#3- email ve parola giriş bilgileri kontrolü yapın\n",
    "#4- kullanıcıdan iki vize(%60) ve final(%40) notunu alıp ort hesapla\n",
    "#eğer 50 üstüyse geçti değilse kaldı yazdırsın\n",
    "#a- ort 50 olsa bile final notu en az 50 olmalı\n",
    "#b- finalden 70 alındığında ort önemi yok\n",
    "#5-girilen 3 sayıyı büyüklük olarak karşılaştırın\n",
    "#6- kişinin ad kilo ve boy bilgilerini alıp kitle boy indeksini hesaplayın\n",
    "#formül kilo / boy uzunluğu karesi\n",
    "#0-18.4 zayıf\n",
    "#18.5-24.9 normal\n",
    "#25-29.9 fazla kilolu\n",
    "#30-34.9 obez"
   ]
  },
  {
   "cell_type": "code",
   "execution_count": 10,
   "id": "e92a021c",
   "metadata": {},
   "outputs": [
    {
     "name": "stdout",
     "output_type": "stream",
     "text": [
      "0-100 arasında sayı giriniz: 56\n",
      " girdiğiniz sayı: 56, 0 ile 100 arasında: True\n"
     ]
    }
   ],
   "source": [
    "#1-\n",
    "sayi = int(input(\"0-100 arasında sayı giriniz: \"))\n",
    "kontrol = 0 <= sayi <= 100\n",
    "print(f\" girdiğiniz sayı: {sayi}, 0 ile 100 arasında: {kontrol}\")"
   ]
  },
  {
   "cell_type": "code",
   "execution_count": 11,
   "id": "7a92ffa1",
   "metadata": {},
   "outputs": [
    {
     "name": "stdout",
     "output_type": "stream",
     "text": [
      "pozitif çift sayı giriniz: 56\n",
      "girdiğiniz sayı pozitif çift sayı: True\n"
     ]
    }
   ],
   "source": [
    "#2-\n",
    "sayi = int(input(\"pozitif çift sayı giriniz: \"))\n",
    "kontrol = (sayi > 0) and (sayi %2 == 0)\n",
    "print(f\"girdiğiniz sayı pozitif çift sayı: {kontrol}\")"
   ]
  },
  {
   "cell_type": "code",
   "execution_count": 12,
   "id": "8eb2f4a6",
   "metadata": {},
   "outputs": [
    {
     "name": "stdout",
     "output_type": "stream",
     "text": [
      "email giriniz: dfg\n",
      "parola giriniz: dfg\n",
      "girilen email ve parola doğru mu : False\n"
     ]
    }
   ],
   "source": [
    "#3-\n",
    "gireposta = input(\"email giriniz: \")\n",
    "girparola = input(\"parola giriniz: \")\n",
    "email= \"yigit@gmail.com\"\n",
    "parola=\"123ert.\"\n",
    "kontrol = (gireposta == \"yigit@gmail.com\") and (girparola == \"123ert\")\n",
    "print(f\"girilen email ve parola doğru mu : {kontrol}\")"
   ]
  },
  {
   "cell_type": "code",
   "execution_count": 13,
   "id": "d6228874",
   "metadata": {},
   "outputs": [
    {
     "name": "stdout",
     "output_type": "stream",
     "text": [
      "sayı1 giriniz: 6\n",
      "sayı2 giriniz: 5\n",
      "sayı3 giriniz: 4\n",
      "True True True\n"
     ]
    }
   ],
   "source": [
    "#5-\n",
    "sayi1 = int(input(\"sayı1 giriniz: \"))\n",
    "sayi2 = int(input(\"sayı2 giriniz: \"))\n",
    "sayi3 = int(input(\"sayı3 giriniz: \"))\n",
    "result1 = (sayi1 > sayi2) or (sayi1 < sayi3) \n",
    "result2 = (sayi1 < sayi2) or (sayi1 >sayi3)\n",
    "result3 = (sayi2 > sayi3) or (sayi2 < sayi1)\n",
    "print(result1,result2,result3)"
   ]
  },
  {
   "cell_type": "code",
   "execution_count": 14,
   "id": "5fcc6c9e",
   "metadata": {},
   "outputs": [
    {
     "name": "stdout",
     "output_type": "stream",
     "text": [
      "1.vize notunu giriniz: 34\n",
      "2.vize notunu giriniz: 54\n",
      "final notunu giriniz:  34\n",
      "geçme notunuz 40.0, geçme durumu False\n"
     ]
    }
   ],
   "source": [
    "#4-\n",
    "vize1 = float(input(\"1.vize notunu giriniz: \"))\n",
    "vize2 = float(input(\"2.vize notunu giriniz: \"))\n",
    "final = float(input(\"final notunu giriniz:  \"))\n",
    "ortalama = (((vize1 + vize2)*0.60) /2) + (final * 0.40)\n",
    "kontrol = (ortalama >= 50) or (final ==70)\n",
    "print(f\"geçme notunuz {ortalama}, geçme durumu {kontrol}\")"
   ]
  },
  {
   "cell_type": "code",
   "execution_count": 15,
   "id": "8a671f45",
   "metadata": {},
   "outputs": [
    {
     "name": "stdout",
     "output_type": "stream",
     "text": [
      "adınızı giriniz: 345\n",
      "boyunuzu giriniz: 34\n",
      "kilonuzu giriniz: 54\n",
      "345 indeksiniz: 0.04671280276816609 indeksiniz göre durumunuz zayıf: True\n",
      "345 indeksiniz: 0.04671280276816609 indeksiniz göre durumunuz normal: False\n",
      "345 indeksiniz: 0.04671280276816609 indeksiniz göre durumunuz kilolu: False\n",
      "345 indeksiniz: 0.04671280276816609 indeksiniz göre durumunuz obez: False\n"
     ]
    }
   ],
   "source": [
    "#6-\n",
    "ad = input(\"adınızı giriniz: \")\n",
    "boy = float(input(\"boyunuzu giriniz: \"))\n",
    "kilo = float(input(\"kilonuzu giriniz: \"))\n",
    "indeks = (kilo) / (boy** 2)\n",
    "zayif = 0 < indeks < 18.4\n",
    "normal = 18.5 < indeks < 24.9\n",
    "kilolu = 25.0 < indeks < 29.9\n",
    "obez = 30.0 < indeks < 34.9\n",
    "print(f\"{ad} indeksiniz: {indeks} indeksiniz göre durumunuz zayıf: {zayif}\")\n",
    "print(f\"{ad} indeksiniz: {indeks} indeksiniz göre durumunuz normal: {normal}\")\n",
    "print(f\"{ad} indeksiniz: {indeks} indeksiniz göre durumunuz kilolu: {kilolu}\")\n",
    "print(f\"{ad} indeksiniz: {indeks} indeksiniz göre durumunuz obez: {obez}\")"
   ]
  },
  {
   "cell_type": "markdown",
   "id": "d7a84e95",
   "metadata": {},
   "source": [
    " #### identity membership diğer python operatörleri 4.7\n",
    " ### is ve in operatörlerinin kullanımı"
   ]
  },
  {
   "cell_type": "code",
   "execution_count": 16,
   "id": "fefc6701",
   "metadata": {},
   "outputs": [],
   "source": [
    "# identity operator : is "
   ]
  },
  {
   "cell_type": "code",
   "execution_count": 17,
   "id": "8379bf16",
   "metadata": {},
   "outputs": [
    {
     "name": "stdout",
     "output_type": "stream",
     "text": [
      "True\n",
      "True\n",
      "True\n",
      "False\n"
     ]
    }
   ],
   "source": [
    "x = y = [1,2,3]\n",
    "z = [1,2,3]\n",
    "\n",
    "print(x == y)\n",
    "print(x == z)\n",
    "print(x is y) # aynı referans değil de aynı adres karşılaştırması yaparız\n",
    "print(x is z) # farklı referans olduğu için adrsi farklı \n",
    "# ancak değerler aynı olmasına rağmen objeler farklı\n",
    "#değerleri aynı olabilir ancak ayı adreste değiller\n"
   ]
  },
  {
   "cell_type": "code",
   "execution_count": 18,
   "id": "22f6a8c2",
   "metadata": {},
   "outputs": [
    {
     "name": "stdout",
     "output_type": "stream",
     "text": [
      "False\n"
     ]
    }
   ],
   "source": [
    "x = [1,2,3]\n",
    "y = [2,4]\n",
    "print(x is y) # ikisi de aynı obje mi false döndü çünkü\n",
    "#ikisi de farklı adreslerde"
   ]
  },
  {
   "cell_type": "code",
   "execution_count": 19,
   "id": "98930714",
   "metadata": {},
   "outputs": [
    {
     "name": "stdout",
     "output_type": "stream",
     "text": [
      "False\n",
      "True\n",
      "False\n",
      "True\n"
     ]
    }
   ],
   "source": [
    "x = [1,2,3]\n",
    "y = [2,4]\n",
    "\n",
    "print(x is y) #false\n",
    "\n",
    "del x[2]\n",
    "y[1] = 1\n",
    "y.reverse()\n",
    "\n",
    "print(x == y) # true elemanları aynı olduğu için true\n",
    "print(x is y) # false eleman adresleri aynı anca adresleri farklı olduğu\n",
    "# için false\n",
    "print(x is not y)"
   ]
  },
  {
   "cell_type": "code",
   "execution_count": 20,
   "id": "d76daf6c",
   "metadata": {},
   "outputs": [],
   "source": [
    "# is operatörü tamamen refranslarının adreslerinin aynı adrslerde mi\n",
    "#değil mi diye kontrol etmek için kullanılır"
   ]
  },
  {
   "cell_type": "code",
   "execution_count": 21,
   "id": "e8c12a16",
   "metadata": {},
   "outputs": [],
   "source": [
    "#********************************************************************************"
   ]
  },
  {
   "cell_type": "code",
   "execution_count": 22,
   "id": "c30571d0",
   "metadata": {},
   "outputs": [],
   "source": [
    "# membership operator : in"
   ]
  },
  {
   "cell_type": "code",
   "execution_count": 23,
   "id": "5ce13ea4",
   "metadata": {},
   "outputs": [
    {
     "name": "stdout",
     "output_type": "stream",
     "text": [
      "True\n"
     ]
    }
   ],
   "source": [
    "x = [\"banana\",\"apple\"]\n",
    "print(\"banana\" in x) # listenin içinde var mı diye soruyorum"
   ]
  },
  {
   "cell_type": "code",
   "execution_count": 24,
   "id": "1e7993bf",
   "metadata": {},
   "outputs": [
    {
     "name": "stdout",
     "output_type": "stream",
     "text": [
      "True\n"
     ]
    }
   ],
   "source": [
    "name = \"çınar\"\n",
    "print(\"a\" in name) # a bilgisi namein iiçnde olduğu için true"
   ]
  },
  {
   "cell_type": "code",
   "execution_count": 25,
   "id": "a6bd68c2",
   "metadata": {},
   "outputs": [
    {
     "name": "stdout",
     "output_type": "stream",
     "text": [
      "False\n"
     ]
    }
   ],
   "source": [
    "name = \"yiğit\"\n",
    "print(\"y\" not in  name) # içinde olduğu için false döndü not inde başa yazılır"
   ]
  },
  {
   "cell_type": "markdown",
   "id": "4d31e35d",
   "metadata": {},
   "source": [
    "## koşullu durum blokları if else 5.1"
   ]
  },
  {
   "cell_type": "code",
   "execution_count": 26,
   "id": "916dd822",
   "metadata": {},
   "outputs": [
    {
     "name": "stdout",
     "output_type": "stream",
     "text": [
      "hoş geldiniz\n"
     ]
    }
   ],
   "source": [
    "if 3 > 2: # sorduğum sorunun direkt olarak ture ya da false değer ürtmesi gerekmektedir.\n",
    "    print(\"hoş geldiniz\") #iften sonra direkt olarak True da yazabilirim."
   ]
  },
  {
   "cell_type": "code",
   "execution_count": 4,
   "id": "a9e0662b",
   "metadata": {},
   "outputs": [
    {
     "name": "stdout",
     "output_type": "stream",
     "text": [
      "hoş geldiniz\n"
     ]
    }
   ],
   "source": [
    "username = \"yigittasli\"\n",
    "password =\"1234\"\n",
    "isonline = (username == \"yigittasli\") and (password == \"1234\")\n",
    "\n",
    "if isonline: \n",
    "    print(\"hoş geldiniz\")"
   ]
  },
  {
   "cell_type": "code",
   "execution_count": 2,
   "id": "4eeb5756",
   "metadata": {},
   "outputs": [
    {
     "name": "stdout",
     "output_type": "stream",
     "text": [
      "hoş geldiniz\n"
     ]
    }
   ],
   "source": [
    "username = \"yigittasli\"\n",
    "password =\"1234\"\n",
    "\n",
    "if (username == \"yigittasli\") and (password == \"1234\"): # direkt if içine de yazabilirim\n",
    "    print(\"hoş geldiniz\")\n",
    "else:\n",
    "    print(\"bilgileriniz yanlış\")"
   ]
  },
  {
   "cell_type": "code",
   "execution_count": 3,
   "id": "88a33b74",
   "metadata": {},
   "outputs": [
    {
     "name": "stdout",
     "output_type": "stream",
     "text": [
      "hoş geldiniz\n"
     ]
    }
   ],
   "source": [
    "username = \"yigittasli\"\n",
    "password =\"1234\"\n",
    "                                #true trueya eşit mi\n",
    "if (username == \"yigittasli\"): # direkt if içine de yazabilirim\n",
    "    if (password == \"1234\"):\n",
    "        print(\"hoş geldiniz\")\n",
    "    else:\n",
    "        print(\"parolanız yanlış\")\n",
    "else:\n",
    "    print(\"kullanıcı adınız yanlış\")"
   ]
  },
  {
   "cell_type": "markdown",
   "id": "6235d5fe",
   "metadata": {},
   "source": [
    "## if-elif-else blokları 5.2"
   ]
  },
  {
   "cell_type": "code",
   "execution_count": 30,
   "id": "8dfb3f91",
   "metadata": {},
   "outputs": [
    {
     "name": "stdout",
     "output_type": "stream",
     "text": [
      "x sayısını giriniz: 4\n",
      "y sayısını giriniz: 3\n",
      "x, y'den büyük\n"
     ]
    }
   ],
   "source": [
    "x = int(input(\"x sayısını giriniz: \"))\n",
    "y = int(input(\"y sayısını giriniz: \"))\n",
    "\n",
    "if x > y:\n",
    "    print(\"x, y'den büyük\")\n",
    "elif x == y:\n",
    "    print(\"x ile y eşittir\") #aşağı kadar istediğim kadar elif ekleyebilirim\n",
    "else:\n",
    "    print(\"y, x'ten büyük\")"
   ]
  },
  {
   "cell_type": "code",
   "execution_count": 39,
   "id": "1d6d28c7",
   "metadata": {},
   "outputs": [
    {
     "name": "stdout",
     "output_type": "stream",
     "text": [
      "sayı: 7\n",
      "sayı pozitif\n"
     ]
    }
   ],
   "source": [
    "num = int(input(\"sayı: \"))\n",
    "\n",
    "if num > 0 :\n",
    "    print(\"sayı pozitif\")\n",
    "elif num < 0:\n",
    "    print(\"sayı negatif\")\n",
    "else:\n",
    "    print(\"sayı 0'a eşittir\")"
   ]
  },
  {
   "cell_type": "markdown",
   "id": "8870401e",
   "metadata": {},
   "source": [
    "## uygulama  koşul ifadeleri5.3"
   ]
  },
  {
   "cell_type": "code",
   "execution_count": 32,
   "id": "1604d2fd",
   "metadata": {},
   "outputs": [],
   "source": [
    "#1- kullanıcıdan isim, yaş, eğitim bilgilerini isteyip\n",
    "#ehliyet alabilme durumunu kontrol ediniz. ehliyet alma koşulu en az 18 ve eğitim\n",
    "# durumu lise ya da üniversite olmalıdır.\n",
    "\n",
    "#2- bir öğrencinin 2 yazılı bir sözlü notunu alıp hesaplanan ortlamaya göre\n",
    "#not aralığına karşılık gelen not bilgisini yadırınız.\n",
    "# 0 - 24 = > 0\n",
    "# 25 - 44 = > 1\n",
    "# 45- 54 => 2\n",
    "# 55 - 69 = > 3\n",
    "# 70 - 85 => 4\n",
    "# 85 - 100 => 5\n",
    "\n",
    "#3- trafiğe çıkış tarihi alınan bir aracın servis zamanı aşağıdaki bilgilere\n",
    "#göre hesaplayınız\n",
    "#1. bakım > 1. yıl\n",
    "#2. bakım > 2.yıl\n",
    "#3. bakım > 3.yıl\n",
    "# süre hesabını alınan gün, ay, yıl bilgisine göre gün bazlı hesaplayınız\n",
    "# datetieme modülünü kulanmanız gerekiyor\n",
    "# (simdiki günden (2018/8/1) => güne göre sorgula)"
   ]
  },
  {
   "cell_type": "code",
   "execution_count": 42,
   "id": "4c98e2e0",
   "metadata": {},
   "outputs": [
    {
     "name": "stdout",
     "output_type": "stream",
     "text": [
      "isminizi giriniz: y\n",
      "yaşınızı giriniz: 18\n",
      "eğitim bilgisi (en az lise ya da üniversite olmalı): lise\n"
     ]
    }
   ],
   "source": [
    "#1-\n",
    "yas = 18\n",
    "egitim = (\"üniversite\" or \"lise\")\n",
    "isim = input(\"isminizi giriniz: \")\n",
    "yasgir = int(input(\"yaşınızı giriniz: \"))\n",
    "egitimgir = input(\"eğitim bilgisi (en az lise ya da üniversite olmalı): \")\n",
    "\n",
    "if yasgir >= yas:\n",
    "    if egitimgir == egitim :\n",
    "        print(\"ehliyet alabilirsiniz\")\n",
    "else:\n",
    "    print(\"ehliyet alamazsınız\")"
   ]
  },
  {
   "cell_type": "code",
   "execution_count": 46,
   "id": "3dd78695",
   "metadata": {},
   "outputs": [
    {
     "name": "stdout",
     "output_type": "stream",
     "text": [
      "1. yazılı notunuzu giriniz: 999\n",
      "2. yazılı notunuzu giriniz: 999\n",
      "sözlü notunuzu giriniz: 999\n",
      "yanlış bilgi girdiniz\n"
     ]
    }
   ],
   "source": [
    "#2-\n",
    "yazili1 = float(input(\"1. yazılı notunuzu giriniz: \"))\n",
    "yazili2 = float(input(\"2. yazılı notunuzu giriniz: \"))\n",
    "sozlu = float(input(\"sözlü notunuzu giriniz: \"))\n",
    "\n",
    "ort = (yazili1 + yazili2 + sozlu) / 3\n",
    "\n",
    "if 0 <= ort <= 24:\n",
    "    print(f\"ort: {ort}, notunuz: 0\")\n",
    "elif 25 <= ort <= 44:\n",
    "    print(f\"ort: {ort}, notunuz: 1\")\n",
    "elif 25 <= ort <= 44:\n",
    "    print(f\"ort: {ort}, notunuz: 2\")\n",
    "elif 45 <= ort <= 69:\n",
    "    print(f\"ort: {ort}, notunuz: 3\")\n",
    "elif 70 <= ort <= 84:\n",
    "    print(f\"ort: {ort}, notunuz: 4\")\n",
    "elif 85 <= ort <= 100:\n",
    "    print(f\"ort: {ort}, notunuz: 5\")\n",
    "else:\n",
    "    print(\"yanlış bilgi girdiniz\")\n"
   ]
  },
  {
   "cell_type": "code",
   "execution_count": 49,
   "id": "eddaa191",
   "metadata": {},
   "outputs": [
    {
     "name": "stdout",
     "output_type": "stream",
     "text": [
      "araç kaç gündür trafikte456984\n",
      "hatalı süre\n"
     ]
    }
   ],
   "source": [
    "#3- datetimesız\n",
    "days = int(input(\"araç kaç gündür trafikte\"))\n",
    "\n",
    "if days <= 365:\n",
    "    print(\"1. servis aralığı\")\n",
    "elif days > 365 and days <= 365*2:\n",
    "    print(\"2.servis aralığı\")\n",
    "elif days > 365*2 and days<= 365*3:\n",
    "    print(\"3.servis aralığı\")\n",
    "else:\n",
    "    print(\"hatalı süre\")"
   ]
  },
  {
   "cell_type": "code",
   "execution_count": 62,
   "id": "f125ab24",
   "metadata": {},
   "outputs": [
    {
     "name": "stdout",
     "output_type": "stream",
     "text": [
      "aracınız hangi aralıkta tarihe çıktı (format: 2019/8/8): 2021/7/7\n",
      "3.servis aralığı\n"
     ]
    }
   ],
   "source": [
    "import datetime\n",
    "\n",
    "tarih = input(\"aracınız hangi aralıkta tarihe çıktı (format: 2019/8/8): \")\n",
    "tarih = tarih.split(\"/\") # tarihiayırdım / 'dan\n",
    "#print(tarih[0]) # tarihin indexlerini belirledim\n",
    "#print(tarih[1])\n",
    "#print(tarih[2])\n",
    "\n",
    "trafigecikis = datetime.datetime(int(tarih[0]),int(tarih[1]),int(tarih[2])) # datetieme objesi yaratıyorum\n",
    "simdi = datetime.datetime.now() # simdinin tarihini bulmak için \n",
    "#print(simdi - tarih) # simdinin tarihinden trafiğe çıkış tarihini çıkardım\n",
    "fark = simdi - trafigecikis #simdinin tarihinden çıkardım\n",
    "days = fark.days # fark objesinden days bilgisini aldım\n",
    "if days <= 365:\n",
    "    print(\"1. servis aralığı\")\n",
    "elif days > 365 and days <= 365*2:\n",
    "    print(\"2.servis aralığı\")\n",
    "elif days > 365*2 and days<= 365*3:\n",
    "    print(\"3.servis aralığı\")\n",
    "else:\n",
    "    print(\"hatalı süre\")"
   ]
  },
  {
   "cell_type": "markdown",
   "id": "62f9c7b0",
   "metadata": {},
   "source": [
    "##  5.4 uygulama koşul ifadeleri"
   ]
  },
  {
   "cell_type": "code",
   "execution_count": 1,
   "id": "25224594",
   "metadata": {},
   "outputs": [],
   "source": [
    "#1- girilen bir sayının 0-100 arasında olup olmadığını kontrol ediniz."
   ]
  },
  {
   "cell_type": "code",
   "execution_count": 4,
   "id": "39db95e4",
   "metadata": {},
   "outputs": [
    {
     "name": "stdout",
     "output_type": "stream",
     "text": [
      "sayı giriniz: 567\n",
      "girdiğiniz sayı 0 ile 100 arasında değildir\n"
     ]
    }
   ],
   "source": [
    "sayi = float(input(\"sayı giriniz: \"))\n",
    "\n",
    "if 0 <= sayi <= 100:\n",
    "    print(f\"sayi: ,{sayi} 0 ile 100 arasındadır \")\n",
    "else:\n",
    "    print(\"girdiğiniz sayı 0 ile 100 arasında değildir\")"
   ]
  },
  {
   "cell_type": "code",
   "execution_count": 5,
   "id": "136e031c",
   "metadata": {},
   "outputs": [],
   "source": [
    "#2- girilen sayının pozitif çift sayı olup olmadığını kontrol edin"
   ]
  },
  {
   "cell_type": "code",
   "execution_count": 8,
   "id": "e356f06d",
   "metadata": {},
   "outputs": [
    {
     "name": "stdout",
     "output_type": "stream",
     "text": [
      "sayi: 64\n",
      "sayi: 64, sayi koşulları sağlıyor\n"
     ]
    }
   ],
   "source": [
    "sayi = int(input(\"sayi: \"))\n",
    "if sayi %2 == 0 and sayi>0:\n",
    "    print(f\"sayi: {sayi}, sayi koşulları sağlıyor\")\n",
    "else:\n",
    "    print(\"sayı koşulları sağlamıyor\")"
   ]
  },
  {
   "cell_type": "code",
   "execution_count": 10,
   "id": "0276922c",
   "metadata": {},
   "outputs": [
    {
     "name": "stdout",
     "output_type": "stream",
     "text": [
      "email: fh\n",
      "parola: hgj\n",
      "bilgileriniz hatalı\n"
     ]
    }
   ],
   "source": [
    "emailgir = input(\"email: \")\n",
    "parolagir = input(\"parola: \")\n",
    "\n",
    "email = \"yigit@gmail.com\"\n",
    "parola = \"123abc\"\n",
    "\n",
    "if emailgir == email and parolagir == parola:\n",
    "    print(\"hoş geldiniz\")\n",
    "else:\n",
    "    print(\"bilgileriniz hatalı\")"
   ]
  },
  {
   "cell_type": "code",
   "execution_count": null,
   "id": "aed7ff24",
   "metadata": {},
   "outputs": [],
   "source": []
  }
 ],
 "metadata": {
  "kernelspec": {
   "display_name": "Python 3 (ipykernel)",
   "language": "python",
   "name": "python3"
  },
  "language_info": {
   "codemirror_mode": {
    "name": "ipython",
    "version": 3
   },
   "file_extension": ".py",
   "mimetype": "text/x-python",
   "name": "python",
   "nbconvert_exporter": "python",
   "pygments_lexer": "ipython3",
   "version": "3.11.5"
  }
 },
 "nbformat": 4,
 "nbformat_minor": 5
}
