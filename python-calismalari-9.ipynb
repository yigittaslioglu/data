{
 "cells": [
  {
   "cell_type": "markdown",
   "id": "636290aa",
   "metadata": {},
   "source": [
    "## lambda, map, filter 7.5"
   ]
  },
  {
   "cell_type": "code",
   "execution_count": 1,
   "id": "4704bb7d",
   "metadata": {},
   "outputs": [
    {
     "name": "stdout",
     "output_type": "stream",
     "text": [
      "1\n",
      "9\n",
      "25\n",
      "81\n"
     ]
    }
   ],
   "source": [
    "def square(num): return num **2 #bu şekilde de kullanılabilir\n",
    "\n",
    "number = [1,3,5,9]\n",
    "\n",
    "#result =list( map(square,number)) #kullancak olduğum fonksiyonu ve diziyi verince map metodu çalışır ve toplar. listeye çevirmem lazım çalışması için ya da for döngüsü lazım\n",
    "for item in map(square,number):\n",
    "    print(item)\n",
    "#print(result)\n",
    "\n",
    "#eğer fonksyion içinde kullanmadan tek seferlik bir fonksyin kullanmak istersem\n",
    "#buna lambda expression denir ve şu şekilde kullanabilirim. return kullanmadan\n",
    "# result = list(map(lambda num: num **2, number)) şeklinde kullanabilirim"
   ]
  },
  {
   "cell_type": "code",
   "execution_count": 2,
   "id": "6cc40d63",
   "metadata": {},
   "outputs": [
    {
     "data": {
      "text/plain": [
       "1296"
      ]
     },
     "execution_count": 2,
     "metadata": {},
     "output_type": "execute_result"
    }
   ],
   "source": [
    "# veya bunu direkt de kullanabilirim şu şekilde \n",
    "\n",
    "square = lambda num: num **4 # direkt fonksiyon içinde kullanılabiilr ya da lambda ile hazırladığım ifadeyi istediğim yerde kullanabilirim ve normal fonk gibi kullanabilirim\n",
    "numbers = [1,3,4,5,6,7]\n",
    "\n",
    "square(6)\n",
    "# şeklinde"
   ]
  },
  {
   "cell_type": "code",
   "execution_count": 4,
   "id": "643e4c9d",
   "metadata": {},
   "outputs": [],
   "source": [
    "#def check_even(num): return num%2==0\n",
    "\n",
    "#result = list(filter(check_even, numbers))# filtre fonksiyonu ile örneğin sadece çift syıları alabilirim\n",
    "\n",
    "#result = list(filter(lambda num: num%2==0, numbers)) # lambda ile yazılış şekli\n",
    "\n",
    "check_even = lambda num: num%2==0 # fonksuz\n",
    "\n",
    "#print(result)"
   ]
  },
  {
   "cell_type": "markdown",
   "id": "a3faa209",
   "metadata": {},
   "source": [
    "## fonksiyon kapsamı local ve global değişkenler 7.6"
   ]
  },
  {
   "cell_type": "code",
   "execution_count": 5,
   "id": "d73559b3",
   "metadata": {},
   "outputs": [
    {
     "name": "stdout",
     "output_type": "stream",
     "text": [
      "local x\n",
      "global x\n"
     ]
    }
   ],
   "source": [
    "#global scope\n",
    "x = \"global x\"\n",
    "# içeride tanımlama yapmadığım sürece dışarıda olan tanımlama çalışır fonksiyon içinde de\n",
    "def function():\n",
    "    #local scope\n",
    "    x = \"local x\"\n",
    "    print(x)\n",
    "function()\n",
    "print(x)"
   ]
  },
  {
   "cell_type": "code",
   "execution_count": 6,
   "id": "95352350",
   "metadata": {},
   "outputs": [
    {
     "name": "stdout",
     "output_type": "stream",
     "text": [
      "ada\n",
      "çınar\n"
     ]
    }
   ],
   "source": [
    "name = \"çınar\"\n",
    "#global\n",
    "def channame(newname):\n",
    "    #local\n",
    "    name = newname\n",
    "    print(name) #burada tanımlama yaptığım için local isim yazılacak\n",
    "    #eğer tanımlama yapmasayım ve yazdır dmeseydim globaldeki isim yacaktı sadece\n",
    "    \n",
    "channame(\"ada\") #bunu dediğimde ada yazacak ancak globalde bir çağım yaptığımda fonku çağırmadığım için yine çınar yazacak\n",
    "print(name)"
   ]
  },
  {
   "cell_type": "code",
   "execution_count": 7,
   "id": "99a949e0",
   "metadata": {},
   "outputs": [
    {
     "name": "stdout",
     "output_type": "stream",
     "text": [
      "hello ada\n"
     ]
    }
   ],
   "source": [
    "name =\"global string\"\n",
    "\n",
    "def greeting():\n",
    "    name = \"çınar\"\n",
    "    \n",
    "    def hello():\n",
    "        name = \"ada\"\n",
    "        print(\"hello \"+ name) # burada kullandığım name bir üst fonksiyondaki namedir\n",
    "        \n",
    "    hello()\n",
    "    \n",
    "greeting()"
   ]
  },
  {
   "cell_type": "code",
   "execution_count": 8,
   "id": "891baf36",
   "metadata": {},
   "outputs": [
    {
     "name": "stdout",
     "output_type": "stream",
     "text": [
      "x  50\n",
      "changed x to 100\n",
      "50\n"
     ]
    }
   ],
   "source": [
    "x = 50\n",
    "\n",
    "def test(x):\n",
    "    print(f\"x  {x}\")\n",
    "    \n",
    "    x = 100\n",
    "    print(f\"changed x to {x}\") #fonksiyon içinde x'i güncelledim ve bunu yazdıracak\n",
    "    \n",
    "test(x)\n",
    "\n",
    "print(x) #dışarıda çağırdığım zaman gloal x gelecek"
   ]
  },
  {
   "cell_type": "code",
   "execution_count": 9,
   "id": "63d4ef24",
   "metadata": {},
   "outputs": [
    {
     "name": "stdout",
     "output_type": "stream",
     "text": [
      "x  50\n",
      "changed x to 100\n",
      "100\n"
     ]
    }
   ],
   "source": [
    "x = 50\n",
    "\n",
    "def test(): #eğer xi globalde güncellemek istiyorsam paraametreyi buradan siler alta global x yazarım\n",
    "    global x #dışrıdaki x i fonksiyon içine aldım ve burada yaptığım tüm değişiklikler globalde yapılacak\n",
    "    print(f\"x  {x}\") #ilk\n",
    "    \n",
    "    x = 100\n",
    "    print(f\"changed x to {x}\") #2.\n",
    "    \n",
    "test()\n",
    "\n",
    "print(x) #3. globl olmasına rağmen 100 yazdı"
   ]
  },
  {
   "cell_type": "markdown",
   "id": "9df63535",
   "metadata": {},
   "source": [
    "## bankamatik uygulaması 7.7"
   ]
  },
  {
   "cell_type": "code",
   "execution_count": 17,
   "id": "7cd797f7",
   "metadata": {},
   "outputs": [
    {
     "name": "stdout",
     "output_type": "stream",
     "text": [
      "merhaba sadık turan\n",
      "paranızı alabilirsiniz\n",
      "1234567 nolu hesabınızda 0 TL bulunmaktadır. Ek hesap limitiniz ise 2000 TL bulunmaktadır\n",
      "**********************\n",
      "merhaba sadık turan\n",
      "ek hesap kullanılsın mı? (e/h)e\n",
      "paranızı alabilirsiniz\n",
      "1234567 nolu hesabınızda 0 TL bulunmaktadır. Ek hesap limitiniz ise 0 TL bulunmaktadır\n"
     ]
    }
   ],
   "source": [
    "Sadikhesap = {\n",
    "    \"ad\": \"sadık turan\",\n",
    "    \"hesapno\": \"1234567\",\n",
    "    \"bakiye\": 3000,\n",
    "    \"ekhesap\": 2000\n",
    "}\n",
    "\n",
    "Alihesap = { #eğer ben bu parametreleri dışarıda bir değişken olarak tanımlasaydım (şu an bir obje) burada olduğu gibi orijinalinde değişmezdi çünkü değişkenlerde çalışırken değişken kopyalanır.şu an kullandığım referans türde bir ypı olduğu iiçn ve direkt olarak adresini gönderdiğim için orijinalinde de değişiklik olur\n",
    "    \"ad\": \"ali turan\",\n",
    "    \"hesapno\": \"7654321\",\n",
    "    \"bakiye\": 3000,\n",
    "    \"ekhesap\": 1000\n",
    "}\n",
    "\n",
    "def paracek(hesap, miktar):\n",
    "    print(f\"merhaba {hesap['ad']}\")\n",
    "    \n",
    "    if (hesap[\"bakiye\"] >= miktar):\n",
    "        hesap[\"bakiye\"] -= miktar\n",
    "        print(\"paranızı alabilirsiniz\")\n",
    "        bakiyesorgula(hesap)\n",
    "    else:\n",
    "        toplam = hesap[\"bakiye\"] +hesap[\"ekhesap\"]\n",
    "        \n",
    "        if (toplam >= miktar):\n",
    "            ekhesapkullanimi = input(\"ek hesap kullanılsın mı? (e/h)\")\n",
    "            if ekhesapkullanimi == \"e\":\n",
    "                ekhesapkullanilacakmiktar = miktar - hesap[\"bakiye\"]\n",
    "                hesap[\"bakiye\"] = 0\n",
    "                hesap[\"ekhesap\"] -= ekhesapkullanilacakmiktar\n",
    "                print(\"paranızı alabilirsiniz\")\n",
    "                bakiyesorgula(hesap)\n",
    "            else:\n",
    "                print(f\"{hesap['hesapno']} nolu hesabınızda {hesap['bakiye']} bulunmaktadır\")\n",
    "        else:\n",
    "            print(\"bakiye yetersiz\")\n",
    "            bakiyesorgula(hesap)\n",
    "            \n",
    "def bakiyesorgula(hesap):\n",
    "    print(f\"{hesap['hesapno']} nolu hesabınızda {hesap['bakiye']} TL bulunmaktadır. Ek hesap limitiniz ise {hesap['ekhesap']} TL bulunmaktadır\")\n",
    "            \n",
    "paracek(Sadikhesap, 3000)\n",
    "#bakiyesorgula(Sadikhesap) fonksiyonun içine yazdım\n",
    "\n",
    "print(\"**********************\")\n",
    "\n",
    "paracek(Sadikhesap, 2000)\n",
    "#bakiyesorgula(Sadikhesap)\n"
   ]
  },
  {
   "cell_type": "code",
   "execution_count": null,
   "id": "0d768fe4",
   "metadata": {},
   "outputs": [],
   "source": [
    "# bunun üstüne para yatırma işlemi ekle"
   ]
  }
 ],
 "metadata": {
  "kernelspec": {
   "display_name": "Python 3 (ipykernel)",
   "language": "python",
   "name": "python3"
  },
  "language_info": {
   "codemirror_mode": {
    "name": "ipython",
    "version": 3
   },
   "file_extension": ".py",
   "mimetype": "text/x-python",
   "name": "python",
   "nbconvert_exporter": "python",
   "pygments_lexer": "ipython3",
   "version": "3.10.9"
  }
 },
 "nbformat": 4,
 "nbformat_minor": 5
}
