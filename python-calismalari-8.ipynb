{
 "cells": [
  {
   "cell_type": "markdown",
   "id": "eb8194e0",
   "metadata": {},
   "source": [
    "## pythonda metodlar 7.1"
   ]
  },
  {
   "cell_type": "code",
   "execution_count": 1,
   "id": "70c49e7f",
   "metadata": {},
   "outputs": [],
   "source": [
    "# methodlar"
   ]
  },
  {
   "cell_type": "code",
   "execution_count": 2,
   "id": "b59950b2",
   "metadata": {},
   "outputs": [],
   "source": [
    "list = [1,2,3]"
   ]
  },
  {
   "cell_type": "code",
   "execution_count": 3,
   "id": "abcf6c77",
   "metadata": {},
   "outputs": [],
   "source": [
    "list.append(4)"
   ]
  },
  {
   "cell_type": "code",
   "execution_count": 4,
   "id": "eb7f030f",
   "metadata": {},
   "outputs": [
    {
     "data": {
      "text/plain": [
       "[1, 2, 3, 4]"
      ]
     },
     "execution_count": 4,
     "metadata": {},
     "output_type": "execute_result"
    }
   ],
   "source": [
    "list # class bünyesinde birden fazla method barındırır"
   ]
  },
  {
   "cell_type": "code",
   "execution_count": 5,
   "id": "a3de9a41",
   "metadata": {},
   "outputs": [
    {
     "data": {
      "text/plain": [
       "4"
      ]
     },
     "execution_count": 5,
     "metadata": {},
     "output_type": "execute_result"
    }
   ],
   "source": [
    "list.pop()"
   ]
  },
  {
   "cell_type": "code",
   "execution_count": 6,
   "id": "f84a61ec",
   "metadata": {},
   "outputs": [
    {
     "data": {
      "text/plain": [
       "[1, 2, 3]"
      ]
     },
     "execution_count": 6,
     "metadata": {},
     "output_type": "execute_result"
    }
   ],
   "source": [
    "list"
   ]
  },
  {
   "cell_type": "code",
   "execution_count": 7,
   "id": "e1f5c0af",
   "metadata": {
    "scrolled": true
   },
   "outputs": [
    {
     "name": "stdout",
     "output_type": "stream",
     "text": [
      "<class 'list'>\n"
     ]
    }
   ],
   "source": [
    "print(type(list))"
   ]
  },
  {
   "cell_type": "markdown",
   "id": "4ac82c52",
   "metadata": {},
   "source": [
    "## pythonda fonksiyon kullanımı 7.2"
   ]
  },
  {
   "cell_type": "code",
   "execution_count": 8,
   "id": "dcb1f793",
   "metadata": {},
   "outputs": [
    {
     "name": "stdout",
     "output_type": "stream",
     "text": [
      "hello yiğit\n",
      "hello melis\n",
      "hello kral\n"
     ]
    }
   ],
   "source": [
    "def sayhello(name = \" kral\"):#def dememiz lazım önce sonra fonksiyona isim veriyorum\n",
    "    print(\"hello\" + name) # fonksiyona dışarıdan parametre de ekleyebilirim\n",
    "                   # dışarıdan kullanıcıya adını soracağım bunun için\n",
    "                   # parantez içine ne alacaksam onu yazıyorum\n",
    "                   # aşağıda fonksiyonuz çağırırkan içine verdiğim parametreyi yazmam lazım\n",
    "sayhello(\" yiğit\")\n",
    "sayhello(\" melis\")\n",
    "sayhello()         # eğer fonksiyona parametre göndermezsem varsayılan olarak\n",
    "                   # çalışmasını istediğim şeyi yazabilirim örn hazır bir isim gibi"
   ]
  },
  {
   "cell_type": "code",
   "execution_count": 9,
   "id": "97445407",
   "metadata": {},
   "outputs": [
    {
     "name": "stdout",
     "output_type": "stream",
     "text": [
      "hello ada\n"
     ]
    }
   ],
   "source": [
    "def sayhelloo(name = \"denemeismi\"):\n",
    "    return \"hello\" + name \n",
    "\n",
    "msg = sayhelloo(\"çınar\")\n",
    "msg = sayhelloo(\" ada\")\n",
    "\n",
    "# return işlemi biten fonksiyonun çağrıldığı yere götürülmesini sağlar\n",
    "\n",
    "print(msg)"
   ]
  },
  {
   "cell_type": "code",
   "execution_count": 10,
   "id": "2e4802c0",
   "metadata": {},
   "outputs": [
    {
     "name": "stdout",
     "output_type": "stream",
     "text": [
      "35\n"
     ]
    }
   ],
   "source": [
    "def total(num1,num2):\n",
    "    return num1 + num2\n",
    "\n",
    "result = total(10,20)\n",
    "result = total(15,20)\n",
    "print(result)"
   ]
  },
  {
   "cell_type": "code",
   "execution_count": 11,
   "id": "c4cdb37e",
   "metadata": {},
   "outputs": [
    {
     "name": "stdout",
     "output_type": "stream",
     "text": [
      "6 34\n"
     ]
    }
   ],
   "source": [
    "def yashesapla(dogumyili):\n",
    "    return 2023 - dogumyili\n",
    "\n",
    "agecinar = yashesapla(2017)\n",
    "agesadik = yashesapla(1989)\n",
    "print(agecinar, agesadik)"
   ]
  },
  {
   "cell_type": "code",
   "execution_count": 12,
   "id": "3db70b1c",
   "metadata": {},
   "outputs": [
    {
     "name": "stdout",
     "output_type": "stream",
     "text": [
      "emekliliğinize 17 yıl kaldı\n",
      "Help on function emeklilikyili in module __main__:\n",
      "\n",
      "emeklilikyili(dogumyili, isim)\n",
      "    doğum yılınıza göre emekliilğinize kaç yıl kaldı\n",
      "    input = doğum yılı\n",
      "    output = hesaplanan yıl\n",
      "\n",
      "None\n"
     ]
    }
   ],
   "source": [
    "def emeklilikyili(dogumyili, isim): \n",
    "    \"\"\"\n",
    "    doğum yılınıza göre emekliilğinize kaç yıl kaldı\n",
    "    input = doğum yılı\n",
    "    output = hesaplanan yıl\n",
    "    \"\"\"\n",
    "    yas = yashesapla(dogumyili)\n",
    "    emeklilik = 65 - yas\n",
    "    \n",
    "    if emeklilik > 0:\n",
    "        print(f\"emekliliğinize {emeklilik} yıl kaldı\")\n",
    "    else:\n",
    "        print(\"zaten emeklisiniz\")\n",
    "        \n",
    "emeklilikyili(1975, \"ali\")\n",
    "\n",
    "print(help(emeklilikyili))\n",
    "# fonksiyonuma iki parametre alacağımı söyledim ve aşağıda bir önceki\n",
    "# yazdığım fonksyionu çağırdım yani fonksyon içinde fonksyionu çağırıp\n",
    "# işlem yapabilirim. "
   ]
  },
  {
   "cell_type": "markdown",
   "id": "03549f22",
   "metadata": {},
   "source": [
    "## fonksiyon parametreleri 7.3"
   ]
  },
  {
   "cell_type": "code",
   "execution_count": 13,
   "id": "6d68e2da",
   "metadata": {},
   "outputs": [
    {
     "name": "stdout",
     "output_type": "stream",
     "text": [
      "yiğit\n"
     ]
    }
   ],
   "source": [
    "def changeName(n):\n",
    "    n = \"ada\"\n",
    "    \n",
    "name = \"yiğit\"\n",
    "\n",
    "changeName(name)\n",
    "\n",
    "print(name)"
   ]
  },
  {
   "cell_type": "code",
   "execution_count": 14,
   "id": "487ab8a6",
   "metadata": {},
   "outputs": [],
   "source": [
    "def change(n): # yukarıda adres bilgisi vermediğim için değiştiremedi\n",
    "    n[0] = \"istanbul\" # burada index bilgisi verdiğim için değiştirebildi\n",
    "    \n",
    "sehirler = [\"ankara\", \"izmir\"]\n",
    "change(sehirler[:])"
   ]
  },
  {
   "cell_type": "code",
   "execution_count": 15,
   "id": "cc31adfe",
   "metadata": {},
   "outputs": [
    {
     "name": "stdout",
     "output_type": "stream",
     "text": [
      "['ankara', 'izmir']\n"
     ]
    }
   ],
   "source": [
    "print(sehirler)"
   ]
  },
  {
   "cell_type": "code",
   "execution_count": 16,
   "id": "431b1900",
   "metadata": {},
   "outputs": [
    {
     "name": "stdout",
     "output_type": "stream",
     "text": [
      "30\n",
      "60\n"
     ]
    }
   ],
   "source": [
    "def add(a,b, c = 0, d = 0, e = 0): # en fazla 5 aprametre verebilirim\n",
    "    return sum((a,b,c))\n",
    "\n",
    "print(add(10,20)) #fonksiyon içinde sadece a,b varsa 3 parametre veremem \n",
    "# eğer c = 0 varsa hem 2 parametreli hali hem 3 parametreli hali çalışır\n",
    "print(add(10,20,30))"
   ]
  },
  {
   "cell_type": "code",
   "execution_count": 17,
   "id": "551166e5",
   "metadata": {},
   "outputs": [
    {
     "name": "stdout",
     "output_type": "stream",
     "text": [
      "(10, 20)\n",
      "30\n",
      "(10, 20, 30)\n",
      "60\n",
      "(10, 20, 30, 50, 60, 10, 20)\n",
      "200\n"
     ]
    }
   ],
   "source": [
    "def add(*params):\n",
    "    print(params) # printle yazarsam tuple listesi yapar\n",
    "    # 5 ten fazla parametre vermek için * koydum ve\n",
    "    return sum((params)) #temsil etmesi için params dedim\n",
    "# artık istediğim kadar parametre verebilirim sum fonksiyonu toplayacaktır\n",
    "print(add(10,20))\n",
    "print(add(10,20,30))\n",
    "print(add(10,20,30,50,60,10,20))"
   ]
  },
  {
   "cell_type": "code",
   "execution_count": 18,
   "id": "e64a57be",
   "metadata": {},
   "outputs": [
    {
     "name": "stdout",
     "output_type": "stream",
     "text": [
      "30\n",
      "60\n",
      "200\n"
     ]
    }
   ],
   "source": [
    "def add(*params): #bir tuple listesi göndermek istiyorask tek yldız kullanacağım\n",
    "    sum = 0\n",
    "    for n in params:\n",
    "        sum = sum + n\n",
    "    return sum\n",
    "\n",
    "print(add(10,20))\n",
    "print(add(10,20,30))\n",
    "print(add(10,20,30,50,60,10,20))"
   ]
  },
  {
   "cell_type": "code",
   "execution_count": 19,
   "id": "ebaa97d5",
   "metadata": {},
   "outputs": [
    {
     "name": "stdout",
     "output_type": "stream",
     "text": [
      "<class 'dict'>\n",
      "nameisçınar\n",
      "ageis2\n",
      "cityisistanbul\n",
      "<class 'dict'>\n",
      "nameisada\n",
      "ageis12\n",
      "cityiskocaeli\n",
      "phoneis12345\n",
      "<class 'dict'>\n",
      "nameisyiğit\n",
      "ageis14\n",
      "cityisankara\n",
      "phoneis123456\n",
      "emailisyigit@gmail.com\n"
     ]
    }
   ],
   "source": [
    "def displayuser(**args): # iki yıldız koyarsam dictionary listesi demek\n",
    "    print(type(args))\n",
    "    for key,value in args.items():\n",
    "        print(\"{}is{}\".format(key,value))\n",
    "displayuser(name = \"çınar\", age= 2, city = \"istanbul\")\n",
    "displayuser(name = \"ada\",age=12,city = \"kocaeli\", phone = 12345)\n",
    "displayuser(name = \"yiğit\", age = 14, city = \"ankara\", phone = \"123456\", email = \"yigit@gmail.com\")\n"
   ]
  },
  {
   "cell_type": "code",
   "execution_count": 20,
   "id": "92b0f187",
   "metadata": {},
   "outputs": [
    {
     "name": "stdout",
     "output_type": "stream",
     "text": [
      "10\n",
      "20\n",
      "30\n",
      "(40, 50, 60, 70)\n",
      "{'key1': 'value 1', 'key2': 'value 2'}\n"
     ]
    }
   ],
   "source": [
    "def myfunc(a,b,c, *args, **kwargs):\n",
    "    print(a) # 10\n",
    "    print(b) # 20\n",
    "    print(c)    \n",
    "    print(args) # (30,40,50) tuple\n",
    "    print(kwargs) # dictionary\n",
    "    \n",
    "myfunc(10,20,30,40,50,60,70, key1= \"value 1\", key2= \"value 2\")\n",
    "# fonksiyon içine hem dic hem tuple veri gönderdim\n",
    "# bunları yazdırdım\n"
   ]
  },
  {
   "cell_type": "markdown",
   "id": "7cbc660f",
   "metadata": {},
   "source": [
    "## fonksiyonlar uygulama 7.4"
   ]
  },
  {
   "cell_type": "code",
   "execution_count": 21,
   "id": "8c5211cb",
   "metadata": {},
   "outputs": [],
   "source": [
    "#1- gönderilen kelimeyi belirtilen kez ekrana gösteren fonksiyonu yazın.\n",
    "#2- kendine gönderilen sınırsız sayıdaki parametreyi bir listeye çeviren fonksyion\n",
    "#3- gönderilen iki kelime arasındaki tüm asal sayıları bulun\n",
    "#4- kendisine gönderilen bir sayının tam bölenlerini bir liste şeklinde döndürün"
   ]
  },
  {
   "cell_type": "code",
   "execution_count": 22,
   "id": "bbcb3ee9",
   "metadata": {},
   "outputs": [
    {
     "name": "stdout",
     "output_type": "stream",
     "text": [
      "kaç kez yazdırılsın: 4\n",
      "yazdırmak istediğiniz kelimeyi girin: ds\n"
     ]
    },
    {
     "data": {
      "text/plain": [
       "'dsdsdsds'"
      ]
     },
     "execution_count": 22,
     "metadata": {},
     "output_type": "execute_result"
    }
   ],
   "source": [
    "#1-\n",
    "\n",
    "def kelime(kelime, adet):\n",
    "    adet = int(input(\"kaç kez yazdırılsın: \"))\n",
    "    kelime = input(\"yazdırmak istediğiniz kelimeyi girin: \")\n",
    "    x = kelime * adet\n",
    "    return x\n",
    "\n",
    "kelime(5,\"ben\")"
   ]
  },
  {
   "cell_type": "code",
   "execution_count": 23,
   "id": "4ac72d16",
   "metadata": {},
   "outputs": [
    {
     "data": {
      "text/plain": [
       "'\\nhocanın yaptığı:\\n\\ndef yazdir(kelime, adet):\\n   print(kelime * adet)\\n   \\nyazdir(\"merhaba\\n\", 10)\\n'"
      ]
     },
     "execution_count": 23,
     "metadata": {},
     "output_type": "execute_result"
    }
   ],
   "source": [
    "\"\"\"\n",
    "hocanın yaptığı:\n",
    "\n",
    "def yazdir(kelime, adet):\n",
    "   print(kelime * adet)\n",
    "   \n",
    "yazdir(\"merhaba\\n\", 10)\n",
    "\"\"\""
   ]
  },
  {
   "cell_type": "code",
   "execution_count": 24,
   "id": "7076589a",
   "metadata": {},
   "outputs": [
    {
     "name": "stdout",
     "output_type": "stream",
     "text": [
      "[10, 20, 30, 40, 50, 'merhaba', 67, 98, 'selam']\n"
     ]
    }
   ],
   "source": [
    "#2\n",
    "def liste(*params):\n",
    "    liste = []\n",
    "    \n",
    "    for param in params: #for ile parametreleri dolaşı hepsini listeye ekledim\n",
    "        liste.append(param) #append ile\n",
    "        \n",
    "    return liste\n",
    "\n",
    "result = liste(10,20,30,40,50,\"merhaba\",67,98,\"selam\")\n",
    "print(result)"
   ]
  },
  {
   "cell_type": "code",
   "execution_count": 4,
   "id": "942aa559",
   "metadata": {},
   "outputs": [
    {
     "name": "stdout",
     "output_type": "stream",
     "text": [
      "1. sayıyı girin: 10\n",
      "2. sayıyı girin: 30\n",
      "11\n",
      "13\n",
      "17\n",
      "19\n",
      "23\n",
      "29\n"
     ]
    }
   ],
   "source": [
    "#3\n",
    "def asalmi(sayi1,sayi2):\n",
    "    for sayi in range(sayi1,sayi2 + 1): # sayılar arasında dolaşmak iiçn for döngüsü kurdum ve aralık belirtmek için range metodunu kullandım. sayi2yi işin iiçne almak içinse +1 ekledim\n",
    "        if sayi > 1:\n",
    "            for i in range(2, sayi):\n",
    "                if (sayi %i == 0):\n",
    "                    break\n",
    "            else:\n",
    "                print(sayi)\n",
    "\n",
    "sayi1 = int(input(\"1. sayıyı girin: \"))\n",
    "sayi2 = int(input(\"2. sayıyı girin: \"))\n",
    "\n",
    "asalmi(sayi1,sayi2)\n",
    " \n",
    "# problemi çözemedim aşağıda gpt çözümü var. elseyi bir tane içeri aldım düzeldi."
   ]
  },
  {
   "cell_type": "code",
   "execution_count": 28,
   "id": "3e3d4f5d",
   "metadata": {},
   "outputs": [
    {
     "name": "stdout",
     "output_type": "stream",
     "text": [
      "1. sayıyı girin: 10\n",
      "2. sayıyı girin: 30\n",
      "11\n",
      "13\n",
      "17\n",
      "19\n",
      "23\n",
      "29\n"
     ]
    }
   ],
   "source": [
    "def asalmi(sayi):\n",
    "    if sayi <= 1:\n",
    "        return False\n",
    "    for i in range(2, sayi):\n",
    "        if sayi % i == 0:\n",
    "            return False\n",
    "    return True\n",
    "\n",
    "sayi1 = int(input(\"1. sayıyı girin: \"))\n",
    "sayi2 = int(input(\"2. sayıyı girin: \"))\n",
    "\n",
    "for sayi in range(sayi1, sayi2 + 1):\n",
    "    if asalmi(sayi):\n",
    "        print(sayi)\n"
   ]
  },
  {
   "cell_type": "code",
   "execution_count": 30,
   "id": "09f8bfdb",
   "metadata": {},
   "outputs": [
    {
     "name": "stdout",
     "output_type": "stream",
     "text": [
      "[2, 4, 5, 10]\n"
     ]
    }
   ],
   "source": [
    "#4-\n",
    "\n",
    "def tambolenbul(sayi):\n",
    "    tambolenler = []\n",
    "    \n",
    "    for i in range(2, sayi):\n",
    "        if (sayi %i == 0):\n",
    "            tambolenler.append(i)\n",
    "    return tambolenler\n",
    "\n",
    "print(tambolenbul(20))"
   ]
  },
  {
   "cell_type": "code",
   "execution_count": null,
   "id": "5d609825",
   "metadata": {},
   "outputs": [],
   "source": []
  }
 ],
 "metadata": {
  "kernelspec": {
   "display_name": "Python 3 (ipykernel)",
   "language": "python",
   "name": "python3"
  },
  "language_info": {
   "codemirror_mode": {
    "name": "ipython",
    "version": 3
   },
   "file_extension": ".py",
   "mimetype": "text/x-python",
   "name": "python",
   "nbconvert_exporter": "python",
   "pygments_lexer": "ipython3",
   "version": "3.10.9"
  }
 },
 "nbformat": 4,
 "nbformat_minor": 5
}
