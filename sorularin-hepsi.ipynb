{
 "cells": [
  {
   "cell_type": "markdown",
   "id": "d9b74950",
   "metadata": {},
   "source": [
    "## soruların hepsi burad mevcut denemelere alıp kullanacağım\n",
    "### bölüm bölüm ayıracağım yine bulmak kolay olacak"
   ]
  },
  {
   "cell_type": "markdown",
   "id": "54ae2bca",
   "metadata": {},
   "source": [
    "# Python Çalışmaları 1"
   ]
  },
  {
   "cell_type": "code",
   "execution_count": 1,
   "id": "3b893493",
   "metadata": {},
   "outputs": [
    {
     "data": {
      "text/plain": [
       "' 1- bir müşterinin aşağıaki bilgileri için değişken oluşturun\\n\\nmüşteri adı\\nmüşteri soyadı\\nmüşteri ad + soyadı\\nmüşteri cinsiyet\\nmüşteri tc kimilk\\nmüşteri doğum yılı\\nmüşteri adres bilgisi \\nmüşteri yaşı'"
      ]
     },
     "execution_count": 1,
     "metadata": {},
     "output_type": "execute_result"
    }
   ],
   "source": [
    "\n",
    "\"\"\" 1- bir müşterinin aşağıaki bilgileri için değişken oluşturun\n",
    "\n",
    "müşteri adı\n",
    "müşteri soyadı\n",
    "müşteri ad + soyadı\n",
    "müşteri cinsiyet\n",
    "müşteri tc kimilk\n",
    "müşteri doğum yılı\n",
    "müşteri adres bilgisi \n",
    "müşteri yaşı\"\"\""
   ]
  },
  {
   "cell_type": "code",
   "execution_count": 2,
   "id": "899974e3",
   "metadata": {},
   "outputs": [
    {
     "data": {
      "text/plain": [
       "'daire alanı = pi*r2\\ndaire çevresi = 2*pi*r\\n\\nyarı çapı verilen bir dairenin alanını ve çevresini hesaplayınız\\n(r : 3.14 )'"
      ]
     },
     "execution_count": 2,
     "metadata": {},
     "output_type": "execute_result"
    }
   ],
   "source": [
    "\n",
    "\"\"\"daire alanı = pi*r2\n",
    "daire çevresi = 2*pi*r\n",
    "\n",
    "yarı çapı verilen bir dairenin alanını ve çevresini hesaplayınız\n",
    "(r : 3.14 )\"\"\""
   ]
  },
  {
   "cell_type": "code",
   "execution_count": 3,
   "id": "fd1668b9",
   "metadata": {},
   "outputs": [],
   "source": [
    "website =\"http://www.sadikturan.com\"\n",
    "course = \"python kursu: baştan sona python programlama rehperiniz (40 saat)\"\n",
    "\n",
    "#1- coursee karakter dizisinde kaç karakter bulunmaktadır ? "
   ]
  },
  {
   "cell_type": "code",
   "execution_count": 4,
   "id": "0d95d4bf",
   "metadata": {},
   "outputs": [],
   "source": [
    "#2- 'website ' içinden www karakterlerini alın ?"
   ]
  },
  {
   "cell_type": "code",
   "execution_count": 5,
   "id": "62fbd489",
   "metadata": {},
   "outputs": [],
   "source": [
    "#3- website içinden com karakterlerini alın"
   ]
  },
  {
   "cell_type": "code",
   "execution_count": 6,
   "id": "d6addba4",
   "metadata": {},
   "outputs": [],
   "source": [
    "#4- course karakteri içinde ilk 15 ve son 15 karakteri alın\n"
   ]
  },
  {
   "cell_type": "code",
   "execution_count": 7,
   "id": "4beea73c",
   "metadata": {},
   "outputs": [],
   "source": [
    " #5- course ifadesindeki krakterler itersten yazdırın\n"
   ]
  },
  {
   "cell_type": "code",
   "execution_count": 8,
   "id": "982c197c",
   "metadata": {},
   "outputs": [],
   "source": [
    "#7- \"Hello world ifadesindeki w yi W ile değiştririn\"\n"
   ]
  },
  {
   "cell_type": "code",
   "execution_count": 15,
   "id": "0babc5ec",
   "metadata": {},
   "outputs": [],
   "source": [
    "#8- abc ifadesini yan yana 3 kere yazdırın\n"
   ]
  },
  {
   "cell_type": "code",
   "execution_count": 16,
   "id": "0506fc53",
   "metadata": {},
   "outputs": [],
   "source": [
    "#1- ' hello world ' karakter dizisinin baş ve ssondaki karakterlerini silin\n",
    "website =\"http://www.sadikturan.com\"\n",
    "course = \"python kursu: baştan sona python programlama rehperiniz (40 saat)\"\n",
    "x = \" hello world \""
   ]
  },
  {
   "cell_type": "code",
   "execution_count": 17,
   "id": "b89e31cf",
   "metadata": {},
   "outputs": [],
   "source": [
    "#2- www.sadikturan.com ifades dışındakileri silin\n"
   ]
  },
  {
   "cell_type": "code",
   "execution_count": 18,
   "id": "df391054",
   "metadata": {},
   "outputs": [],
   "source": [
    "#3- course dizisindeki her karakteri küçük harf yapın\n"
   ]
  },
  {
   "cell_type": "code",
   "execution_count": 19,
   "id": "38968a62",
   "metadata": {},
   "outputs": [],
   "source": [
    "#4- website içinde kaç tane a karakteri vardır\n"
   ]
  },
  {
   "cell_type": "code",
   "execution_count": 20,
   "id": "9526b578",
   "metadata": {},
   "outputs": [],
   "source": [
    "#5- website www ile başlayıp .com ile bitiryor mu\n"
   ]
  },
  {
   "cell_type": "code",
   "execution_count": 21,
   "id": "462af4f1",
   "metadata": {},
   "outputs": [],
   "source": [
    "#6- websitede .com var mı\n"
   ]
  },
  {
   "cell_type": "code",
   "execution_count": 22,
   "id": "796df1ec",
   "metadata": {},
   "outputs": [],
   "source": [
    "#7- course içindeki karakterlerin hepsi alabetik mi (isalpha, isdigit)\n"
   ]
  },
  {
   "cell_type": "code",
   "execution_count": 23,
   "id": "0595553a",
   "metadata": {},
   "outputs": [],
   "source": [
    "#8- contents ifadesini satırda 50 karakter içine yerleştirip sağ ve soluna * ekleyiniz\n"
   ]
  },
  {
   "cell_type": "code",
   "execution_count": 24,
   "id": "6c79803a",
   "metadata": {},
   "outputs": [],
   "source": [
    "#9- course karakter dizisindeki tüm boşlukları - yapın\n"
   ]
  },
  {
   "cell_type": "code",
   "execution_count": 25,
   "id": "f313fe45",
   "metadata": {},
   "outputs": [],
   "source": [
    "#10- hello world ifadesinde world kısmını there ile değiştirin\n"
   ]
  },
  {
   "cell_type": "code",
   "execution_count": 26,
   "id": "953eaeda",
   "metadata": {},
   "outputs": [],
   "source": [
    "#11- course karakter dizisinin boşluk karakterlerinden ayırın\n"
   ]
  },
  {
   "cell_type": "code",
   "execution_count": 27,
   "id": "d0d08839",
   "metadata": {},
   "outputs": [],
   "source": [
    "#1 \"bmw, mercedes, opel ,mazda\" elemanlarına sahip bir liste oluşturun\n"
   ]
  },
  {
   "cell_type": "code",
   "execution_count": 28,
   "id": "fce2e797",
   "metadata": {},
   "outputs": [],
   "source": [
    "#2- listede kaç eleman var\n"
   ]
  },
  {
   "cell_type": "code",
   "execution_count": 29,
   "id": "a8347089",
   "metadata": {},
   "outputs": [],
   "source": [
    "#3- listenin ilk ve son elemanı nedir\n"
   ]
  },
  {
   "cell_type": "code",
   "execution_count": 30,
   "id": "cd5b1da9",
   "metadata": {},
   "outputs": [],
   "source": [
    "# 4- mazda değerini toyota ile değiştirin\n"
   ]
  },
  {
   "cell_type": "code",
   "execution_count": 31,
   "id": "180c05d3",
   "metadata": {},
   "outputs": [],
   "source": [
    "#5- mreceds listenin bir elemanı mıdır\n"
   ]
  },
  {
   "cell_type": "code",
   "execution_count": 32,
   "id": "fcfa6548",
   "metadata": {},
   "outputs": [],
   "source": [
    "#6- listenin -2. değerdeki değeri nedir\n"
   ]
  },
  {
   "cell_type": "code",
   "execution_count": 33,
   "id": "181e7a1d",
   "metadata": {},
   "outputs": [],
   "source": [
    "#7- listenin ilk 3 elemanı nedir\n"
   ]
  },
  {
   "cell_type": "code",
   "execution_count": 34,
   "id": "3bfb9258",
   "metadata": {},
   "outputs": [],
   "source": [
    "#8- listenin son iki elemanı yerine toyota ve renault değerlerini ekleyin\n"
   ]
  },
  {
   "cell_type": "code",
   "execution_count": 35,
   "id": "d64ae490",
   "metadata": {},
   "outputs": [],
   "source": [
    "#9- listenin üzerine audi ve nissan değerlerini ekleyin\n"
   ]
  },
  {
   "cell_type": "code",
   "execution_count": 36,
   "id": "6bc96e94",
   "metadata": {},
   "outputs": [],
   "source": [
    "#10- listenin son elemanıın silin\n"
   ]
  },
  {
   "cell_type": "code",
   "execution_count": 37,
   "id": "9df24802",
   "metadata": {},
   "outputs": [],
   "source": [
    "#11- liste elemanlarını tersten yazdırın\n"
   ]
  },
  {
   "cell_type": "code",
   "execution_count": 38,
   "id": "afedde18",
   "metadata": {},
   "outputs": [],
   "source": [
    "#12- aşağıdaki yenileri bir liste içinde saklayın\n",
    "\"\"\"\n",
    "    studenta: yiğit bilgi 2010, (70,60,70)\n",
    "    studentb: sena turan 1999, (80,80,70)\n",
    "    studencc: ahmet turan 1998, (80,70,90)\n",
    "    \"\"\"\n",
    "studenta = [\"yiğit\",\"bilgi\", 2010, [70,60,70]]\n",
    "studentb = [\"sena\",\"turan\", 1999, [80,80,70]]\n",
    "studentc = [\"ahmet\",\"turan\", 1998, [80,70,90]]"
   ]
  },
  {
   "cell_type": "code",
   "execution_count": 39,
   "id": "c8e871ef",
   "metadata": {},
   "outputs": [],
   "source": [
    "#13- liste elemanlarını yazdırın\n"
   ]
  },
  {
   "cell_type": "code",
   "execution_count": 41,
   "id": "06e7b079",
   "metadata": {},
   "outputs": [
    {
     "name": "stdout",
     "output_type": "stream",
     "text": [
      "[1, 10, 5, 16, 40, 9, 10]\n",
      "hello there. my name is sadık turan\n"
     ]
    },
    {
     "data": {
      "text/plain": [
       "'********************************hello*there.*my*name*is*sadık*turan*********************************'"
      ]
     },
     "execution_count": 41,
     "metadata": {},
     "output_type": "execute_result"
    }
   ],
   "source": [
    "numbers = [1,10,5,16,4,9,10]\n",
    "letters = [\"a\",\"g\",\"s\",\"b\",\"y\",\"a\",\"s\"]\n",
    "\n",
    "\n",
    "val = min(numbers)\n",
    "val = max(numbers)\n",
    "val = min(letters)\n",
    "val = numbers[3:6]\n",
    "val = numbers[:3]\n",
    "val = numbers[4:]\n",
    "numbers[4] = 40\n",
    "print(numbers)\n",
    "numbers.append(49)\n",
    "numbers.append(79)\n",
    "numbers.insert(3,78) #insert metodu bizden önce hangi indexten işlem yapmak istediğimizi soruyor ondan sonra\n",
    "# eklleme yapıyor burada 3. indexten itibaren diyorum ve 3. indexe ekler\n",
    "numbers.insert(-1,654646)# verdiğim index numarasından önce ekler\n",
    "#numbers.pop() # son rakamı siler\n",
    "# index belirtirsem indexi siler numbers.pop(0)\n",
    "numbers.pop(0)\n",
    "numbers.remove(49) # buna silmek istediğim elemanı yazıyorum\n",
    "numbers.sort() #liste küçükten büyüğe sıralar\n",
    "letters.sort()\n",
    "numbers.reverse()# bu da listeyi tersine çevirir\n",
    "#letters\n",
    "len(numbers)\n",
    "numbers.count(40) # burada bu elemandan kaç tane var diye soruyorum\n",
    "numbers.clear() #burada liste elemanlarını tamamen temizliyorum\n",
    "numbers\n",
    "\n",
    "\n",
    "#************************************\n",
    "\n",
    "message = \"hello there. my name is sadık turan\"\n",
    "print(message)\n",
    "\n",
    "message.upper()\n",
    "\n",
    "message.lower()\n",
    "\n",
    "message.title()\n",
    "\n",
    "message.capitalize()\n",
    "\n",
    "message.strip() #boşlukları kladırır\n",
    "\n",
    "message.split() #böler\n",
    "\n",
    "message.split()[2]\n",
    "\n",
    "message.split(\".\")# noktadan ayır dedim\n",
    "\n",
    "message = message.split()\n",
    "message = \"*\".join(message) #mesajı split ile ayırdım ve boşluklara * ekledim\n",
    "message\n",
    "\n",
    "message.find(\"sadık\") #kelimeyi arar ilk harfinde olan index numarasını getirir\n",
    "\n",
    "message.startswith(\"h\") # mesah h ile mi başlıyor diye sordum \n",
    "\n",
    "message.endswith(\"l\")\n",
    "\n",
    "message.replace(\"sadık\",\"yiğit\")# yeniden adlandırdım\n",
    "\n",
    "message.replace(\"sadık\",\"yiğit\").replace(\"ç\",\"c\").replace(\"l\",\"k\")\n",
    "\n",
    "message.center(100,'*') #yüz karakterlik bir konteyner oluşturur ve ilgili mesajı ortalar\n",
    "\n"
   ]
  },
  {
   "cell_type": "markdown",
   "id": "65dc4aa1",
   "metadata": {},
   "source": [
    "# Python Çalışmaları 2"
   ]
  },
  {
   "cell_type": "code",
   "execution_count": 42,
   "id": "682dff1d",
   "metadata": {},
   "outputs": [],
   "source": [
    "names = [\"ali\",\"yağmur\",\"hakan\",\"deniz\"]\n",
    "years = [1998,2000,1998,1987]"
   ]
  },
  {
   "cell_type": "code",
   "execution_count": 43,
   "id": "5cb569fb",
   "metadata": {},
   "outputs": [],
   "source": [
    "#1- \"cenk\" ismini listenin sonuna ekleyin\n"
   ]
  },
  {
   "cell_type": "code",
   "execution_count": 44,
   "id": "576d8b27",
   "metadata": {},
   "outputs": [],
   "source": [
    "#2-sena ismini listenin başına ekleyin\n"
   ]
  },
  {
   "cell_type": "code",
   "execution_count": 45,
   "id": "c9f1405b",
   "metadata": {},
   "outputs": [],
   "source": [
    "#3- deniz ismini listeden siliniz\n",
    "#names.remove(\"deniz\")\n",
    "#pop metoduyla listenin sonundaki eleman silinir index vermediğim zaman"
   ]
  },
  {
   "cell_type": "code",
   "execution_count": 46,
   "id": "a2a03659",
   "metadata": {},
   "outputs": [],
   "source": [
    "#4- deniz isminin indexini bulun\n"
   ]
  },
  {
   "cell_type": "code",
   "execution_count": 47,
   "id": "2a365d6a",
   "metadata": {},
   "outputs": [],
   "source": [
    "#5- ali listenin bir elemanı mıdır\n"
   ]
  },
  {
   "cell_type": "code",
   "execution_count": 48,
   "id": "3c056bf3",
   "metadata": {},
   "outputs": [],
   "source": [
    "#6- liste elemanlarını ters çevirin\n"
   ]
  },
  {
   "cell_type": "code",
   "execution_count": 49,
   "id": "979d1738",
   "metadata": {},
   "outputs": [],
   "source": [
    "#7- liste elemanlarını alfabetik olarak sıralayınız\n"
   ]
  },
  {
   "cell_type": "code",
   "execution_count": 50,
   "id": "a086cb54",
   "metadata": {},
   "outputs": [],
   "source": [
    "#8- years listesini rakamsal büyüklüğe göre sıralayınız\n"
   ]
  },
  {
   "cell_type": "code",
   "execution_count": 51,
   "id": "b3844326",
   "metadata": {},
   "outputs": [],
   "source": [
    "#9- str = \"chevrolet, dacia\" karakter dizisini listeye çevirinz\n"
   ]
  },
  {
   "cell_type": "code",
   "execution_count": 52,
   "id": "7abff228",
   "metadata": {},
   "outputs": [],
   "source": [
    "#10- years dizisinin en büyük ve küçük elemanı nedir\n"
   ]
  },
  {
   "cell_type": "code",
   "execution_count": 53,
   "id": "487d3078",
   "metadata": {},
   "outputs": [],
   "source": [
    "#11- years dizisinin içinde kaç tane 1998 deperi vardır\n"
   ]
  },
  {
   "cell_type": "code",
   "execution_count": 54,
   "id": "e62ff4e0",
   "metadata": {},
   "outputs": [],
   "source": [
    "#12- years dizisnini tüm elemanlarını siliniz\n"
   ]
  },
  {
   "cell_type": "code",
   "execution_count": 55,
   "id": "22f601d4",
   "metadata": {},
   "outputs": [],
   "source": [
    "#13- kullanıcıdan aldığınız 3 marka bilgisini bir listede saklayınız\n"
   ]
  },
  {
   "cell_type": "code",
   "execution_count": 56,
   "id": "8174d9b1",
   "metadata": {},
   "outputs": [
    {
     "data": {
      "text/plain": [
       "'ogrenciler = {\\n    \"120\": {\\n        \"ad\": \"ali\",\\n        \"soyad\": \"yılmaz\",\\n        \"telefon\": \"0532 000 00 01\"\\n    },\\n    \"125\": {\\n        \"ad\": \"can\",\\n        \"soyad\": \"korkmaz\",\\n        \"telefon\": \"532 000 00 02\"\\n    },\\n    \"128\": {\\n        \"ad\": \"volkan\",\\n        \"soyad\": \"yükselen\",\\n        \"telefon\": \"532 000 00 03\"\\n    }\\n}'"
      ]
     },
     "execution_count": 56,
     "metadata": {},
     "output_type": "execute_result"
    }
   ],
   "source": [
    "\"\"\"ogrenciler = {\n",
    "    \"120\": {\n",
    "        \"ad\": \"ali\",\n",
    "        \"soyad\": \"yılmaz\",\n",
    "        \"telefon\": \"0532 000 00 01\"\n",
    "    },\n",
    "    \"125\": {\n",
    "        \"ad\": \"can\",\n",
    "        \"soyad\": \"korkmaz\",\n",
    "        \"telefon\": \"532 000 00 02\"\n",
    "    },\n",
    "    \"128\": {\n",
    "        \"ad\": \"volkan\",\n",
    "        \"soyad\": \"yükselen\",\n",
    "        \"telefon\": \"532 000 00 03\"\n",
    "    }\n",
    "}\"\"\""
   ]
  },
  {
   "cell_type": "code",
   "execution_count": 57,
   "id": "f029a1f6",
   "metadata": {},
   "outputs": [
    {
     "data": {
      "text/plain": [
       "'\\n1- bilgileri verilen öğrencileri kullanıcıdan aldığınız bilgilerle \\ndictionary içinde saklayınız.\\n\\n2- öğrenci numarasını kullanıcıdan alıp ilgili öğrenci bilgisini gösteriniz'"
      ]
     },
     "execution_count": 57,
     "metadata": {},
     "output_type": "execute_result"
    }
   ],
   "source": [
    "\"\"\"\n",
    "1- bilgileri verilen öğrencileri kullanıcıdan aldığınız bilgilerle \n",
    "dictionary içinde saklayınız.\n",
    "\n",
    "2- öğrenci numarasını kullanıcıdan alıp ilgili öğrenci bilgisini gösteriniz\"\"\""
   ]
  },
  {
   "cell_type": "markdown",
   "id": "926efd3f",
   "metadata": {},
   "source": [
    "# Python Çalışmaları 3"
   ]
  },
  {
   "cell_type": "code",
   "execution_count": 58,
   "id": "63cc8baa",
   "metadata": {},
   "outputs": [],
   "source": [
    "x,y,z = 2,5,107\n",
    "\n",
    "numbers = 1,5,7,10,6\n",
    "\n",
    "#1- kullanıcıdan aldığınız 2 sayının çarpımı ile x,y,z toplamının farkı nedir\n",
    "#2- y'nin x'e kalansız bölümünü hesaplayınız\n",
    "#3- (x,y,z) toplamının mod 3 ü nedir\n",
    "#4- y'nin x. kuvvetini hesaplayınız\n",
    "#5- x, *y, z = numbers işlemine göre z'nin küpü kaçtır\n",
    "#6- x,*y, z = numbers işlemine göre y'nin değerleri topamı kaçtır"
   ]
  },
  {
   "cell_type": "code",
   "execution_count": 59,
   "id": "c6d1a703",
   "metadata": {},
   "outputs": [],
   "source": [
    "#1- girilen iki sayıdan habgisi dah abüyüktür ? \n",
    "#2- kullanıcıdan 2 vize (%60) ve final (%40) notuu alıp ortalam hesaplayınız\n",
    "#eğer ortalam 50 üstüyse geçti değilse kaldı yazdırın\n",
    "#3-girilen bir sayıın tek mi çift mi olduğunu yazdırın\n",
    "#4- girilen bir sayının negtif mi pozitif mi olduğunu yazdırın\n",
    "#5- parola ve email bilgisini isteyip doğruluğunu kontrol edin.\n",
    "#(email: email.@sadikturan.com parola: abc123)"
   ]
  },
  {
   "cell_type": "code",
   "execution_count": 60,
   "id": "2e466abd",
   "metadata": {},
   "outputs": [],
   "source": [
    "# parolanın sonundaki boşlkları silmek için strip() metodunu kullnabilirim \n",
    "# parolanın büyük küük harfini önemsememek için .lower metodunu kullanabiirim\n",
    "# kontrol kısmında \"\"lardan sonra . koyarak yazabilirim ikisini "
   ]
  },
  {
   "cell_type": "markdown",
   "id": "07e984d4",
   "metadata": {},
   "source": [
    "# Python Çalışmaları 4"
   ]
  },
  {
   "cell_type": "code",
   "execution_count": 61,
   "id": "674feb09",
   "metadata": {},
   "outputs": [],
   "source": [
    "#1 giriln bir sayının 0-100 arasında olu olmadığını kontrol edin\n",
    "#2- girilen bir sayının pozitif çift sayı olup olmadığını kontrol edin\n",
    "#3- email ve parola giriş bilgileri kontrolü yapın\n",
    "#4- kullanıcıdan iki vize(%60) ve final(%40) notunu alıp ort hesapla\n",
    "#eğer 50 üstüyse geçti değilse kaldı yazdırsın\n",
    "#a- ort 50 olsa bile final notu en az 50 olmalı\n",
    "#b- finalden 70 alındığında ort önemi yok\n",
    "#5-girilen 3 sayıyı büyüklük olarak karşılaştırın\n",
    "#6- kişinin ad kilo ve boy bilgilerini alıp kitle boy indeksini hesaplayın\n",
    "#formül kilo / boy uzunluğu karesi\n",
    "#0-18.4 zayıf\n",
    "#18.5-24.9 normal\n",
    "#25-29.9 fazla kilolu\n",
    "#30-34.9 obez"
   ]
  },
  {
   "cell_type": "code",
   "execution_count": 62,
   "id": "a9101601",
   "metadata": {},
   "outputs": [],
   "source": [
    "#1- kullanıcıdan isim, yaş, eğitim bilgilerini isteyip\n",
    "#ehliyet alabilme durumunu kontrol ediniz. ehliyet alma koşulu en az 18 ve eğitim\n",
    "# durumu lise ya da üniversite olmalıdır.\n",
    "\n",
    "#2- bir öğrencinin 2 yazılı bir sözlü notunu alıp hesaplanan ortlamaya göre\n",
    "#not aralığına karşılık gelen not bilgisini yadırınız.\n",
    "# 0 - 24 = > 0\n",
    "# 25 - 44 = > 1\n",
    "# 45- 54 => 2\n",
    "# 55 - 69 = > 3\n",
    "# 70 - 85 => 4\n",
    "# 85 - 100 => 5\n",
    "\n",
    "#3- trafiğe çıkış tarihi alınan bir aracın servis zamanı aşağıdaki bilgilere\n",
    "#göre hesaplayınız\n",
    "#1. bakım > 1. yıl\n",
    "#2. bakım > 2.yıl\n",
    "#3. bakım > 3.yıl\n",
    "# süre hesabını alınan gün, ay, yıl bilgisine göre gün bazlı hesaplayınız\n",
    "# datetieme modülünü kulanmanız gerekiyor\n",
    "# (simdiki günden (2018/8/1) => güne göre sorgula)"
   ]
  },
  {
   "cell_type": "code",
   "execution_count": 63,
   "id": "4c23b3b5",
   "metadata": {},
   "outputs": [],
   "source": [
    "#1- girilen bir sayının 0-100 arasında olup olmadığını kontrol ediniz.\n",
    "#2- girilen sayının pozitif çift sayı olup olmadığını kontrol edin\n",
    "#3- email ve parola kontrolü yapın"
   ]
  },
  {
   "cell_type": "markdown",
   "id": "df73f886",
   "metadata": {},
   "source": [
    "# Python Çalışmaları 5"
   ]
  },
  {
   "cell_type": "code",
   "execution_count": 64,
   "id": "6b3d6ea7",
   "metadata": {},
   "outputs": [],
   "source": [
    "sayilar = [ 1,3,5,7,9,12,19,21]\n",
    "\n",
    "#1- sayilar listesindeki hangi sayılar 3'ün katıdır?\n",
    "#2- sayilar listesindeki sayıların toplamı kaçtır?\n",
    "#3- sayilar listesimdeki tek sayıların karesini alınız?"
   ]
  },
  {
   "cell_type": "code",
   "execution_count": 65,
   "id": "5c2526c2",
   "metadata": {},
   "outputs": [],
   "source": [
    "#4- şehirlerinden hangileri en fazla 5 karakterlidir?\n",
    "\n",
    "sehirler = [\"kocaeli\", \"istanbul\", \"ankara\", \"izmir\", \" rize\"]"
   ]
  },
  {
   "cell_type": "code",
   "execution_count": 66,
   "id": "a2b6d057",
   "metadata": {},
   "outputs": [],
   "source": [
    "#5- ürünlerin fiyatlarının toplamı nedir?\n",
    "urunler = [\n",
    "    {\"name\": \"samsungs6\", \"price\": \"3000\"},\n",
    "    {\"name\": \"samsungs7\", \"price\": \"4000\"},\n",
    "    {\"name\": \"samsungs8\", \"price\": \"5000\"},\n",
    "    {\"name\": \"samsungs9\", \"price\": \"6000\"},\n",
    "    {\"name\": \"samsungs10\", \"price\": \"7000\"},\n",
    "    \n",
    "]"
   ]
  },
  {
   "cell_type": "code",
   "execution_count": 68,
   "id": "55c1d400",
   "metadata": {},
   "outputs": [],
   "source": [
    "#6- ürünlerin fiyatı en fazla 5000 olan ürünleri gösteriniz?\n"
   ]
  },
  {
   "cell_type": "code",
   "execution_count": 69,
   "id": "0a623c68",
   "metadata": {},
   "outputs": [],
   "source": [
    "sayilar = [1,3,5,7,9,12,19,21]\n",
    "#1-sayılar listesini ekrana yazdırın.\n",
    "#2-başlangıç ve bitiş değerlerini kullanıcıdan alıp aradaki tüm\n",
    "#  tek sayıları ekrana yazdırın\n",
    "#3- 1-100 arasındaki sayıları azalan şekilde yazdırın(tersten)\n",
    "#4- kullanıcıdan alacağınız 5 sayıyı ekrana sıralı şekilde yazdırın\n",
    "#5- kullanıcıdan alacağınız sınırsız ürün bilgisini urunler listesi \n",
    "#  içindeki sak\n",
    "#   * ürün sayını kullanıcıya sorun\n",
    "#   * dictionary listesi yapısı (name, price) şeklinde olsun\n",
    "#   * ürün ekleme işlemi bittiğinde ürünler ekrana while ile listelensin"
   ]
  },
  {
   "cell_type": "markdown",
   "id": "f43a984b",
   "metadata": {},
   "source": [
    "# Python Çalışmaları 6"
   ]
  },
  {
   "cell_type": "code",
   "execution_count": 70,
   "id": "82d3003e",
   "metadata": {},
   "outputs": [],
   "source": [
    "#list comperation var yani yan yana yazma onu dosyadan çalış"
   ]
  },
  {
   "cell_type": "markdown",
   "id": "3a752aba",
   "metadata": {},
   "source": [
    "# Python Çalışmaları 7"
   ]
  },
  {
   "cell_type": "code",
   "execution_count": 71,
   "id": "f773957b",
   "metadata": {},
   "outputs": [
    {
     "data": {
      "text/plain": [
       "'\\n1-100 arasında rastgele üretilecek bir sayıyı aşağı yukarı iadeleri ile\\nbuldurmaya çalışın\\n** random modülü için python random şeklide arama yapın.\\n** 100 üzerinde puanlama yapın her soru 20 pan toplam soru 100 puan\\n** hak bilgisini kullanıcıdan alın ve her soru belirtilen can sayısı \\nüzerinden hesaplansın'"
      ]
     },
     "execution_count": 71,
     "metadata": {},
     "output_type": "execute_result"
    }
   ],
   "source": [
    "#sayı tahmin uygulaması\n",
    "\"\"\"\n",
    "1-100 arasında rastgele üretilecek bir sayıyı aşağı yukarı iadeleri ile\n",
    "buldurmaya çalışın\n",
    "** random modülü için python random şeklide arama yapın.\n",
    "** 100 üzerinde puanlama yapın her soru 20 pan toplam soru 100 puan\n",
    "** hak bilgisini kullanıcıdan alın ve her soru belirtilen can sayısı \n",
    "üzerinden hesaplansın\"\"\""
   ]
  },
  {
   "cell_type": "code",
   "execution_count": 72,
   "id": "faffcece",
   "metadata": {},
   "outputs": [
    {
     "data": {
      "text/plain": [
       "'\\ngirilen bir sayının asal sayı olup olmadığını bulun\\n** asal sayı 1 e ve kendisine tam böleni olmayan sayıdır'"
      ]
     },
     "execution_count": 72,
     "metadata": {},
     "output_type": "execute_result"
    }
   ],
   "source": [
    "#asal sayı uygulaması\n",
    "\"\"\"\n",
    "girilen bir sayının asal sayı olup olmadığını bulun\n",
    "** asal sayı 1 e ve kendisine tam böleni olmayan sayıdır\"\"\""
   ]
  },
  {
   "cell_type": "markdown",
   "id": "9261691c",
   "metadata": {},
   "source": [
    "# Python Çalışmaları 8"
   ]
  },
  {
   "cell_type": "code",
   "execution_count": 73,
   "id": "e8ad4b7c",
   "metadata": {},
   "outputs": [],
   "source": [
    "#1- gönderilen kelimeyi belirtilen kez ekrana gösteren fonksiyonu yazın.\n",
    "#2- kendine gönderilen sınırsız sayıdaki parametreyi bir listeye çeviren fonksyion\n",
    "#3- gönderilen iki kelime arasındaki tüm asal sayıları bulun\n",
    "#4- kendisine gönderilen bir sayının tam bölenlerini bir liste şeklinde döndürün"
   ]
  },
  {
   "cell_type": "markdown",
   "id": "d1ab527a",
   "metadata": {},
   "source": [
    "# Python Çalışmaları 9"
   ]
  },
  {
   "cell_type": "code",
   "execution_count": 74,
   "id": "8797abd2",
   "metadata": {},
   "outputs": [],
   "source": [
    "#bankamatik uygulaması"
   ]
  },
  {
   "cell_type": "markdown",
   "id": "bfeae906",
   "metadata": {},
   "source": [
    "# Python Çalışmaları 10"
   ]
  },
  {
   "cell_type": "code",
   "execution_count": 1,
   "id": "6d5743b8",
   "metadata": {},
   "outputs": [
    {
     "name": "stdout",
     "output_type": "stream",
     "text": [
      "init metodu çalıştı\n",
      "init metodu çalıştı\n",
      "<__main__.Person object at 0x0000029BFB26D270>\n",
      "<__main__.Person object at 0x0000029BFB26FD60>\n",
      "<class '__main__.Person'>\n",
      "p1 name: ahmet, year: 2000, adress: no information\n",
      "p2 name: ali, year: 1995\n"
     ]
    }
   ],
   "source": [
    "# class\n",
    "\n",
    "# object, instance ( bu objenin diğer ismi)\n",
    "\n",
    "class Person:  # class larda büyük harfle başlanır yazmaya\n",
    "    # class attributes tanımlanacak\n",
    "    \n",
    "    adress = \"no information\"\n",
    "    \n",
    "    #constuoctor (yapıcı metod)(class attributes tanımlaması yapılırken kullanılır)\n",
    "    def __init__(self,name, year):# def initin parametreleri vardır ilk parametresi inittir. self türetilen herhangi bir objeyi temsil eder. obje üzerine bir deüer aktarmak istediğim zaman selfi kullanacağım. selfin üzerine hangi parametreleri eklemek istiyorsam selften sonra belirteceğim\n",
    "        #objcet attributelardan hangi özellikleri alacaksam\n",
    "        self.name = name #self için parametre göndermiyorum\n",
    "        self.year = year #buna yapıcı metod denmesinin sebebi init objesinin oluşturulmuş her obje için çalışabiliyor olmasıdır. yani year ve name fonksiyonu person için kullanılmış her obje için çalışacak\n",
    "        print(\"init metodu çalıştı\")\n",
    "    # objcet attributes \n",
    "    # ve methodlar\n",
    "    \n",
    "    pass\n",
    "p1 = Person(name = \"yiğit\",year = 2000) #bu şekilde p1 objesi tanımlamış oldum ve bu sayede classın içindeki bilgilere ulaşabiliyor olacağım\n",
    "p2 = Person(\"ali\",1995) #üstteki gib parametreleri böyle de verebilirim\n",
    "print(p1) #bana p1 objesinin bellek üzerindeki adresini verir ve tipinin person olduğunu söyler\n",
    "print(p2) #farklı adrslerde kayıtlanır ve tipi persondur\n",
    "print(type(p1)) #type person\n",
    "\n",
    "#updating\n",
    "p1.name = \"ahmet\" # p1 in isimini bu şekilde değiştirebilirim\n",
    "\n",
    "#accesing objet\n",
    "print(f\"p1 name: {p1.name}, year: {p1.year}, adress: {p1.adress}\")\n",
    "print(f\"p2 name: {p2.name}, year: {p2.year}\")\n",
    "\n",
    "# her zaman kullanılmasını istediğim yani obje ilk oluşturulduğu anda istenen\n",
    "# bilgileri constructor tanımlayıp her zaman kullanılmasını istemediğim bilgileri\n",
    "# class attribute olarak tanımlayabilirim"
   ]
  },
  {
   "cell_type": "markdown",
   "id": "d03a9b5f",
   "metadata": {},
   "source": [
    "# Python Çalışmaları 11"
   ]
  },
  {
   "cell_type": "code",
   "execution_count": 2,
   "id": "d49c20a7",
   "metadata": {},
   "outputs": [
    {
     "name": "stdout",
     "output_type": "stream",
     "text": [
      "init metodu çalıştı\n",
      "init metodu çalıştı\n",
      "hello there. I am ali\n",
      "hello there. I am yiğit\n",
      "adım: ali, yaşım: 28\n",
      "adım: yiğit, yaşım: 25\n",
      "c1 : alan = 3.14, çevre = 6.28\n",
      "c2 : alan = 78.5, çevre = 31.400000000000002\n"
     ]
    }
   ],
   "source": [
    "# Python nesne tabanlı programlama 8.3\n",
    "\n",
    "class Person:\n",
    "    \n",
    "    #class attributes\n",
    "    address = \"no information\"\n",
    "    \n",
    "    #constructor ( yapıcı metod)\n",
    "    def __init__(self, name, year):\n",
    "        \n",
    "        #object attributes\n",
    "        self.name = name\n",
    "        self.year = year\n",
    "        print(\"init metodu çalıştı\")\n",
    "        \n",
    "     #insstance methods\n",
    "    def intro(self): #instance methods olduğu için yani objelere hizmet edeceği için self parametresini vermem lazım\n",
    "        print(\"hello there. I am \" + self.name)\n",
    "        \n",
    "    def calculate(self):\n",
    "        return 2023 - self.year\n",
    "        \n",
    "#object (instance)        \n",
    "p1 = Person(name = \"ali\", year = 1995)\n",
    "p2 = Person(name = \"yiğit\", year = 1998)\n",
    "\n",
    "p1.intro() #print(\"hello there. I am \" + self.name) yazdırır\n",
    "p2.intro() # artık ismi değişti ve yiğit oldu\n",
    "\n",
    "print(f\"adım: {p1.name}, yaşım: {p1.calculate()}\")\n",
    "# yine yadığım fonksyionu prametre gibi de çağırabilirim\n",
    "# ve f string şeklinde de yazabilirim\n",
    "print(f\"adım: {p2.name}, yaşım: {p2.calculate()}\")\n",
    "\n",
    "\n",
    "# yarıçap hesaplama\n",
    "\n",
    "class Circle:\n",
    "    # class object attribute\n",
    "    pi = 3.14\n",
    "    \n",
    "    def __init__(self, yaricap=1):\n",
    "        self.yaricap = yaricap\n",
    "        \n",
    "    #methods\n",
    "    \n",
    "    def cevrehesapla(self):\n",
    "        return 2 * self.pi * self.yaricap\n",
    "    \n",
    "    def alanhesapla(self):\n",
    "        return self.pi * (self.yaricap ** 2)\n",
    "    \n",
    "    \n",
    "c1 = Circle() # yaricap1 = 1\n",
    "c2 = Circle(5)\n",
    "\n",
    "print(f\"c1 : alan = {c1.alanhesapla()}, çevre = {c1.cevrehesapla()}\")\n",
    "print(f\"c2 : alan = {c2.alanhesapla()}, çevre = {c2.cevrehesapla()}\")"
   ]
  },
  {
   "cell_type": "code",
   "execution_count": 3,
   "id": "4a541ae0",
   "metadata": {},
   "outputs": [
    {
     "name": "stdout",
     "output_type": "stream",
     "text": [
      "person created\n",
      "person created\n",
      "student created\n",
      "ali yılmaz\n",
      "yeşim kiraz 1234\n",
      "ı am a person\n",
      "ı am e student\n",
      "ı am eating\n",
      "ı am eating\n",
      "hello ı am a student bro\n",
      "person created\n",
      "ı am a math teacher\n"
     ]
    }
   ],
   "source": [
    "# Nesne tabanlı inheritence 8.4\n",
    "\n",
    "# inheritance miras almakla ilgilidir\n",
    "\n",
    "#person => name, lastname, age, aet(),run(), drink()\n",
    "\n",
    "#student()person, teacher(person) burada student ve teacher için tanımlayacağım tüm bilgileri yukarıda yazarak\n",
    "# birdaha aynı bilgileri student ve teacher için ayrı ayrı tanımlamıyorum\n",
    "\n",
    "#burada person temel sınıf teacher ve studenta miras verece\n",
    "\n",
    "class Person():\n",
    "    def __init__(self, fname, lname):\n",
    "        self.firstname = fname\n",
    "        self.lastname = lname \n",
    "        print(\"person created\")\n",
    "        \n",
    "    def who(self):\n",
    "        print(\"ı am a person\")\n",
    "        \n",
    "    def eat(self):\n",
    "        print(\"ı am eating\")\n",
    "        \n",
    "class Student(Person): # personun sahip olmuş olduğu tüm özelliklere student da sahip olmuş oluyor\n",
    "    def __init__(self, fname, lname, number):\n",
    "        Person.__init__(self, fname, lname) #bunu Studentın init metodu personun init metodunu ezeceği için yazdım bu sayede ezmede n çalışabilecek\n",
    "        self.studentnumber = number\n",
    "        print(\"student created\")#artık ikisi de ezilmeden çalışır\n",
    "        \n",
    "    def who(self): #aynı isimdeki metod temel sınıftaki metodu ezer buna override denir\n",
    "        print(\"ı am e student\") #person metodunu ezdiğim bir fonksiyon\n",
    "        \n",
    "    def hello(self):\n",
    "        print(\"hello ı am a student bro\")\n",
    "        \n",
    "class Teacher(Person):\n",
    "    def __init__(self,fname, lname, branch): #temel sınıftaki parametreleri eklemeliyim\n",
    "        #person nokta init yazmak yerine ezmesin diye super metodu var kullanılan\n",
    "        super().__init__(fname,lname) #bu sayede self yazmama gerek kalmıyor sadece init çağıırıp normal parametreleri veriyorum\n",
    "        self.branch = branch\n",
    "        \n",
    "    def who(self):\n",
    "        print(f\"ı am a {self.branch} teacher\")\n",
    "        \n",
    "p1 = Person(\"ali\", \"yılmaz\")\n",
    "s1 = Student(\"yeşim\", \"kiraz\", 1234) #bunu çağırmam personun init metodunu tekrar çağırmasına nede noldu\n",
    "\n",
    "print(p1.firstname + \" \" + p1.lastname)\n",
    "print(s1.firstname + \" \" +s1.lastname + \" \" +str(s1.studentnumber))\n",
    "\n",
    "p1.who()\n",
    "s1.who()\n",
    "\n",
    "p1.eat()\n",
    "s1.eat()\n",
    "\n",
    "s1.hello()\n",
    "\n",
    "t1 = Teacher(\"serkan\", \"yılmaz\", \"math\")\n",
    "t1.who()"
   ]
  },
  {
   "cell_type": "code",
   "execution_count": 4,
   "id": "5453f330",
   "metadata": {},
   "outputs": [
    {
     "name": "stdout",
     "output_type": "stream",
     "text": [
      "3\n",
      "9\n",
      "movie objesi çalıştı\n",
      "film adı by yönetmen adı\n"
     ]
    }
   ],
   "source": [
    "# 8.5 nesne tabanlı programlama metodlar\n",
    "\n",
    "mylist = [1,2,3]\n",
    "mystr = \"my string\" # len metodu her obje için farklı çalışıyor yani\n",
    "\n",
    "print(len(mylist))\n",
    "print(len(mystr))\n",
    "\n",
    "class Movie():\n",
    "    def __init__(self, title, director, duration):\n",
    "        self.title = title\n",
    "        self.director = director\n",
    "        self.duration = duration\n",
    "        print(\"movie objesi çalıştı\")\n",
    "        \n",
    "    def __str__(self): # str parantezine aldığımda aslında bu fonksiyon çalışır ve bunu kendim de yazabilirim\n",
    "        return f\"{self.title} by {self.director}\"\n",
    "    \n",
    "    def __len__(self): # len metodu normalde çalışmıyordu ancak kendim yazdığımda çalıştı\n",
    "        return self.duration\n",
    "    def __del__(self):\n",
    "        print(\"movie silindi\")\n",
    "\n",
    "     \n",
    "m = Movie(\"film adı\", \"yönetmen adı\", 120)\n",
    "\n",
    "#print(len(m))\n",
    "#print(type(m)) #movie için len metodu çalışmaz yani class için \n",
    "\n",
    "#print(len(mylist))\n",
    "#print(len(m))\n",
    "print(str(m))\n",
    "#del m\n",
    "#print(m)\n",
    "\n",
    "# diğer pythonda özel metodları bulmak için python special methods yazabilirim informit.coma bakabilirim"
   ]
  },
  {
   "cell_type": "markdown",
   "id": "577881ec",
   "metadata": {},
   "source": [
    "# Python Çalışmaları 12"
   ]
  },
  {
   "cell_type": "code",
   "execution_count": 5,
   "id": "c9b3b8a3",
   "metadata": {},
   "outputs": [
    {
     "name": "stdout",
     "output_type": "stream",
     "text": [
      "******************************************question 1 of 5*******************************************\n",
      "soru 1: en iyi programlama dili hangisidir?\n",
      "-#c\n",
      "-python\n",
      "-java\n",
      "-r\n",
      "cevap: sdf\n",
      "******************************************question 2 of 5*******************************************\n",
      "soru 2: en popüler programlama dili hangisidir?\n",
      "-python\n",
      "-java\n",
      "-r\n",
      "-#c\n",
      "cevap: sdf\n",
      "******************************************question 3 of 5*******************************************\n",
      "soru 3: en çok kazandıran programlama dili hangisidir?\n",
      "-#c\n",
      "-python\n",
      "-java\n",
      "-ruby\n",
      "cevap: sdf\n",
      "******************************************question 4 of 5*******************************************\n",
      "soru 4: en çok sevilen programlama dili hangisidir?\n",
      "-#c\n",
      "-python\n",
      "-java\n",
      "-ruby\n",
      "cevap: sdf\n",
      "******************************************question 5 of 5*******************************************\n",
      "soru 5: en kolay programlama dili hangisidir?\n",
      "-#c\n",
      "-python\n",
      "-java\n",
      "-ruby\n",
      "cevap: sdf\n",
      "score:  0\n"
     ]
    }
   ],
   "source": [
    "# quiz uygulaması\n",
    "\n",
    "# question classı oluşacak\n",
    "\n",
    "class Question:\n",
    "    def __init__(self, text,choices, answer):\n",
    "        self.text = text\n",
    "        self.choices = choices\n",
    "        self.answer = answer\n",
    "        \n",
    "    def checkanswer(self,answer):\n",
    "        return self.answer == answer\n",
    "    \n",
    "# kullanıcı burada önce texti gördü sonra chocesi yani ikinci virgül q1deki sonra answer yani python \n",
    "# kaç soru istiyorsam q1 objelerini artırıyorum\n",
    "#q1 = Question(\"en iyi programlama dili hangisidir?\", [\"#c\", \"python\", \"java\",\"r\"], \"python\")\n",
    "#q2 = Question(\"en popüler programlama dili hangisidir?\", [\"python\", \"java\",\"r\", \"#c\"], \"python\")\n",
    "#q3 = Question(\"en çok kazandıran programlama dili hangisidir?\", [\"#c\", \"python\", \"java\",\"ruby\"], \"python\")\n",
    "\n",
    "#list = [q1,q2,q3]\n",
    "\n",
    "#print(q1.checkanswer(\"python\")) # cevabım python ve true değer dönecek\n",
    "#print(q1.checkanswer(\"#c\")) # false değer dönecek\n",
    "\n",
    "\"\"\"her şeyi aşağı aldım\"\"\" \n",
    "\n",
    "# kod yazarken if else az yazmam gerek burada görüldüğü gibi nesne tabanlı mantığına uygun şekilde true kontrolu yaptım\n",
    "\n",
    "# quiz classı oluşacak\n",
    "\n",
    "class Quiz:\n",
    "    def __init__(self,questions):\n",
    "        self.questions = questions # alcağım soruları buna eşitledim\n",
    "        self.score = 0 # doğru veya yanlış yaptığımda puanlayacak\n",
    "        self.questionindex = 0 # göndermiş olduğum liste içinden hangi soruyu almak istiyrosam onun almak için kullanılacak 0 olması demke listedeki ilk eleman geleck demek\n",
    "        \n",
    "    def getquestion(self): \n",
    "        return self.questions[self.questionindex]\n",
    "    \n",
    "    def display(self): #görevi o anki aktif indexte hag isoru varsa o soruyu göstermesi\n",
    "        question = self.getquestion() # ilgili questionu bu kodla aldım\n",
    "        print(f\"soru {self.questionindex + 1}: {question.text}\")\n",
    "        \n",
    "        for q in question.choices:\n",
    "            print(\"-\" + q) # seçeneklerin yanına - koydum\n",
    "            \n",
    "        answer = input(\"cevap: \") #kullanıcıdan cevap alıyorum\n",
    "        self.guess(answer)\n",
    "        self.loadquestion() #tahmin yapıldıktan sonra sürekli çağırmam grektiği için buraya da dım\n",
    "        \n",
    "    def guess(self, answer):\n",
    "        question = self.getquestion() # soruları aldım\n",
    "        # guess tahmin demek\n",
    "        if question.checkanswer(answer): # soruların cevaplarını kontrol ettim\n",
    "            self.score += 1 #scoreu artırarak bildiği soru adedini toplamış oluyorum\n",
    "        self.questionindex += 1 #indexi artırarak bir sonraki soruya geçtim\n",
    "        \n",
    "        \n",
    "        \n",
    "    def loadquestion(self): # index ve soru sayısı bitince program hat averdiği için bunu kontrol etmek için fonksiyon yaıyorum\n",
    "        if len(self.questions) == self.questionindex:\n",
    "            self.showScore() # eğer index bilgisini aştıysam ban score bilgisini gönderecek\n",
    "        else:\n",
    "            self.displayProgress()\n",
    "            self.display() #eğer aşmadıysam yeniden display çalışacak ve bu şekilde bir döngü içine girmişim gibi olacak\n",
    "           # bunun sayesinde soruar bitince hata almayacağım eve scorum gösterilecek\n",
    "            \n",
    "            \n",
    "    def showScore(self):\n",
    "        print(\"score: \", self.score)\n",
    "        \n",
    "    def displayProgress(self):\n",
    "        totalquestion = len(self.questions) #kaçıncı soruda olduğumuzu gösterecek\n",
    "        questionnumber = self.questionindex + 1\n",
    "        \n",
    "        if questionnumber > totalquestion:\n",
    "            print(\"quiz bitti\")\n",
    "        else:\n",
    "            print(f\"question {questionnumber} of {totalquestion}\".center(100,\"*\"))\n",
    "        \n",
    "    \n",
    "    \n",
    "#kullanıcı burada önce texti gördü sonra chocesi yani ikinci virgül q1deki sonra answer yani python \n",
    "# kaç soru istiyorsam q1 objelerini artırıyorum\n",
    "q1 = Question(\"en iyi programlama dili hangisidir?\", [\"#c\", \"python\", \"java\",\"r\"], \"python\")\n",
    "q2 = Question(\"en popüler programlama dili hangisidir?\", [\"python\", \"java\",\"r\", \"#c\"], \"python\")\n",
    "q3 = Question(\"en çok kazandıran programlama dili hangisidir?\", [\"#c\", \"python\", \"java\",\"ruby\"], \"python\")\n",
    "q4= Question(\"en çok sevilen programlama dili hangisidir?\", [\"#c\", \"python\", \"java\",\"ruby\"], \"python\")\n",
    "q5= Question(\"en kolay programlama dili hangisidir?\", [\"#c\", \"python\", \"java\",\"ruby\"], \"python\")\n",
    "\n",
    "\n",
    "\n",
    "questions = [q1,q2,q3,q4,q5]\n",
    "\n",
    "quiz = Quiz(questions) # artık quiz classı questionsla çalışıyor ve artık score ve index bilgisi çalışacak\n",
    "#question = quiz.questions[quiz.questionindex] # quizin içinden questionsları alıp indexlerini aldım  yukarı taşıdım getquestiona ve self. question ile yazdım çünkü tekrar tekrar aynı işlemi yapacağım\n",
    "#question = quiz.getquestion() # artık sadece getquestionla sorularımı getirebilirim ama bunun yerine de display diye fonksiyon yazdım \n",
    "#print(question.text)\n",
    "\n",
    "quiz.loadquestion()"
   ]
  }
 ],
 "metadata": {
  "kernelspec": {
   "display_name": "Python 3 (ipykernel)",
   "language": "python",
   "name": "python3"
  },
  "language_info": {
   "codemirror_mode": {
    "name": "ipython",
    "version": 3
   },
   "file_extension": ".py",
   "mimetype": "text/x-python",
   "name": "python",
   "nbconvert_exporter": "python",
   "pygments_lexer": "ipython3",
   "version": "3.10.9"
  }
 },
 "nbformat": 4,
 "nbformat_minor": 5
}
