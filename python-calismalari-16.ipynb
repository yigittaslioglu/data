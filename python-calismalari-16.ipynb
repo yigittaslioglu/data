{
 "cells": [
  {
   "cell_type": "markdown",
   "id": "22ae3d83",
   "metadata": {},
   "source": [
    "# 13.1 pythonda iterators"
   ]
  },
  {
   "cell_type": "code",
   "execution_count": 1,
   "id": "7bb1fa06",
   "metadata": {},
   "outputs": [
    {
     "name": "stdout",
     "output_type": "stream",
     "text": [
      "1\n",
      "2\n",
      "3\n",
      "4\n",
      "5\n",
      "['__add__', '__class__', '__class_getitem__', '__contains__', '__delattr__', '__delitem__', '__dir__', '__doc__', '__eq__', '__format__', '__ge__', '__getattribute__', '__getitem__', '__gt__', '__hash__', '__iadd__', '__imul__', '__init__', '__init_subclass__', '__iter__', '__le__', '__len__', '__lt__', '__mul__', '__ne__', '__new__', '__reduce__', '__reduce_ex__', '__repr__', '__reversed__', '__rmul__', '__setattr__', '__setitem__', '__sizeof__', '__str__', '__subclasshook__', 'append', 'clear', 'copy', 'count', 'extend', 'index', 'insert', 'pop', 'remove', 'reverse', 'sort']\n"
     ]
    }
   ],
   "source": [
    "liste = [1,2,3,4,5]\n",
    "\n",
    "for i in liste: #for döngüsündeki liste elemanı aslında bir iterebıl obje\n",
    "    print(i) #bu obje olmasından sebep elemanlarını gelip tek tek dolaşabiliyorum\n",
    "    \n",
    "print(dir(liste)) #iter metoduna sahip bir obje iterabıl objedir\n",
    "    \n",
    "    # iterebıl objede tek tek eleman dolaşmak için iterator obje oluşturmamız gerek\n",
    "    # for döngüsü bunu bizim adımıza kendi yapar"
   ]
  },
  {
   "cell_type": "code",
   "execution_count": 2,
   "id": "6781139a",
   "metadata": {},
   "outputs": [
    {
     "name": "stdout",
     "output_type": "stream",
     "text": [
      "<list_iterator object at 0x0000021DB0D52A10>\n",
      "1\n",
      "2\n",
      "3\n",
      "4\n",
      "5\n"
     ]
    }
   ],
   "source": [
    "iterator = iter(liste)\n",
    "\n",
    "print(iterator)\n",
    "\n",
    "print(next(iterator)) #ben bir iter objesi oluşturup next ile bunları dolaşırsam listenin elemanları benim karşıma gelir\n",
    "print(next(iterator)) #yani iteratoru next ile çağırırsam elemanlar karşıma gelir\n",
    "print(next(iterator))\n",
    "print(next(iterator))\n",
    "print(next(iterator))"
   ]
  },
  {
   "cell_type": "code",
   "execution_count": 3,
   "id": "de53df1a",
   "metadata": {},
   "outputs": [
    {
     "name": "stdout",
     "output_type": "stream",
     "text": [
      "1\n",
      "2\n",
      "3\n",
      "4\n",
      "5\n"
     ]
    }
   ],
   "source": [
    "for i in liste:\n",
    "    print(i)"
   ]
  },
  {
   "cell_type": "code",
   "execution_count": 4,
   "id": "a45da904",
   "metadata": {},
   "outputs": [
    {
     "name": "stdout",
     "output_type": "stream",
     "text": [
      "1\n",
      "2\n",
      "3\n",
      "4\n",
      "5\n"
     ]
    }
   ],
   "source": [
    "iterator = iter(liste)\n",
    "#for döngüsü arkasında dönen iş\n",
    "while True:\n",
    "    try:\n",
    "        element = next(iterator)\n",
    "        print(element)\n",
    "    except StopIteration:\n",
    "        break\n",
    "        \n",
    "# while ile ture döngü başlatıyorum ve try ile hatayı ele alıyorum \n",
    "# direkt hata vermemsi için elemente de next iterator tanımlıyorum ve \n",
    "# yazdırıyorum. except ile de hatayı alınca break diyip döngüden çıkıyorum\n"
   ]
  },
  {
   "cell_type": "code",
   "execution_count": 5,
   "id": "cced54f2",
   "metadata": {},
   "outputs": [
    {
     "name": "stdout",
     "output_type": "stream",
     "text": [
      "20\n",
      "21\n",
      "22\n",
      "23\n",
      "24\n",
      "25\n",
      "26\n",
      "27\n",
      "28\n",
      "29\n",
      "30\n",
      "31\n",
      "32\n",
      "33\n",
      "34\n",
      "35\n",
      "36\n",
      "37\n",
      "38\n",
      "39\n",
      "40\n",
      "41\n",
      "42\n",
      "43\n",
      "44\n",
      "45\n",
      "46\n",
      "47\n",
      "48\n",
      "49\n",
      "50\n"
     ]
    }
   ],
   "source": [
    "class Mynumbers:\n",
    "    \n",
    "    def __init__(self,start,stop):\n",
    "        \n",
    "        self.start = start\n",
    "        self.stop = stop\n",
    "        \n",
    "        \n",
    "    def __iter__(self):\n",
    "        return self\n",
    "    \n",
    "    def __next__(self):\n",
    "        if self.start <= self.stop:\n",
    "            x = self.start\n",
    "            self.start += 1\n",
    "            return x # eğer start stoptan eşitse küçük eşit olduğu sürece devam et\n",
    "        else:\n",
    "            raise StopIteration #olduğu anda hata gönder\n",
    "            \n",
    "list = Mynumbers(20,50)\n",
    "    \n",
    "#for x in list: #yazdrır çünkü x objem bir iterator obje\n",
    " #   print(x)\n",
    "    \n",
    "myiter = iter(list)\n",
    "print(next(myiter)) #50ye kadar yazdırabilirim\n",
    "print(next(myiter))\n",
    "print(next(myiter))\n",
    "print(next(myiter))\n",
    "print(next(myiter))\n",
    "\n",
    "while True:\n",
    "    try:\n",
    "        element = next(myiter)\n",
    "        print(element)\n",
    "    except StopIteration:\n",
    "        break"
   ]
  },
  {
   "cell_type": "markdown",
   "id": "5f77505f",
   "metadata": {},
   "source": [
    "# pythonda ileri seviye modüller 15.1"
   ]
  },
  {
   "cell_type": "code",
   "execution_count": 6,
   "id": "8a099031",
   "metadata": {},
   "outputs": [],
   "source": [
    "#tarih ve zaman için dateetime modülü kullanılır"
   ]
  },
  {
   "cell_type": "code",
   "execution_count": 7,
   "id": "85bda558",
   "metadata": {},
   "outputs": [],
   "source": [
    "from datetime import datetime\n",
    "from datetime import timedelta\n",
    "#from datetime import date\n",
    "#from datetime import time\n",
    "\n",
    "#import datetime #hepsi olur"
   ]
  },
  {
   "cell_type": "code",
   "execution_count": 8,
   "id": "5f4dcccb",
   "metadata": {},
   "outputs": [
    {
     "data": {
      "text/plain": [
       "datetime.datetime(2023, 10, 3, 15, 38, 2, 821546)"
      ]
     },
     "execution_count": 8,
     "metadata": {},
     "output_type": "execute_result"
    }
   ],
   "source": [
    "result = datetime.now() #saat bilgisi\n",
    "result #tarihle işlem yapacağım zaman date kısmına zamanla işlem yapacaksam time klasına ihtiyaç var\n",
    "#tarih ve zamanal birleşik işlem yapacaksam datetime kullanıırm"
   ]
  },
  {
   "cell_type": "code",
   "execution_count": 9,
   "id": "72c2f438",
   "metadata": {},
   "outputs": [
    {
     "data": {
      "text/plain": [
       "'2023 October Tuesday'"
      ]
     },
     "execution_count": 9,
     "metadata": {},
     "output_type": "execute_result"
    }
   ],
   "source": [
    "simdi = datetime.now()\n",
    "result = datetime.today() #now ve today aynı\n",
    "result = simdi.year\n",
    "result = simdi.month\n",
    "result = simdi.day\n",
    "result = simdi.hour\n",
    "result = simdi.minute\n",
    "result = simdi.second\n",
    "result = datetime.ctime(simdi) # dersem daah açıklayıcı şekilde bana şu anı açıklar benden içine bir datetime objesi bekler\n",
    "result = datetime.strftime(simdi, '%Y') #benden ilk olarak datetime objesi ister iknci parametre ise format değişkeni bekler\n",
    "result = datetime.strftime(simdi, '%X') #bana sadece saat verecek\n",
    "result = datetime.strftime(simdi, '%x') #bana sadece tarih verecek\n",
    "result = datetime.strftime(simdi, '%d') #sadece gün verdi\n",
    "result = datetime.strftime(simdi, '%A') # gün ismi verdi\n",
    "result = datetime.strftime(simdi, '%B') # #ay ismi verdi\n",
    "result = datetime.strftime(simdi, '%Y %B %A') #istediğim şekilde tarih bilgisini düzenleyebiliriyorum\n",
    "result"
   ]
  },
  {
   "cell_type": "code",
   "execution_count": 10,
   "id": "f03c7942",
   "metadata": {},
   "outputs": [
    {
     "name": "stdout",
     "output_type": "stream",
     "text": [
      "21\n",
      "nisan\n",
      "2019\n"
     ]
    }
   ],
   "source": [
    "t = \"21 nisan 2019\"\n",
    "\n",
    "gun,ay,yil = t.split()# split ile ayırıp teker teker alabildim\n",
    "print(gun)\n",
    "print(ay)\n",
    "print(yil)"
   ]
  },
  {
   "cell_type": "code",
   "execution_count": 11,
   "id": "0f857bfe",
   "metadata": {},
   "outputs": [
    {
     "data": {
      "text/plain": [
       "datetime.datetime(2023, 9, 23, 15, 38, 2, 849775)"
      ]
     },
     "execution_count": 11,
     "metadata": {},
     "output_type": "execute_result"
    }
   ],
   "source": [
    "t = \"15 April 2019 hour 10:12:30\"\n",
    "dt = datetime.strptime(t, \"%d %B %Y hour %H:%M:%S\") #ilk olarak str objemiverdim sonra yukarıda belirttiğim şekilde ayırıyorum\n",
    "dt = dt.year\n",
    "birthday = datetime(1999,12,11,12,10,10)\n",
    "\n",
    "result = datetime.timestamp(birthday) #ilgili tarih objesi saniye cnsinden getirilir\n",
    "result = datetime.fromtimestamp(result) #sniye bilgisi tekrardan tarih bilgisi oldu\n",
    "result = datetime.fromtimestamp(0) #pcler için milat bilgisi bu buradan tibaren sayar\n",
    "result = simdi - birthday #2 tarih arasındaki fark timedelta objesi\n",
    "result = result.days #toplam gün bilgisi geri getirilir\n",
    "result = simdi + timedelta(days=730, minutes = 10) # 730 gün ekledim şimdiye ve 10 saniye ekledim\n",
    "result = simdi - timedelta(days = 10) # 10 gün çıkardım\n",
    "result"
   ]
  },
  {
   "cell_type": "markdown",
   "id": "d340d902",
   "metadata": {},
   "source": [
    "# pythonda os modülü 15.2"
   ]
  },
  {
   "cell_type": "code",
   "execution_count": 12,
   "id": "5927220e",
   "metadata": {},
   "outputs": [],
   "source": [
    "import os"
   ]
  },
  {
   "cell_type": "code",
   "execution_count": 13,
   "id": "4ea16f56",
   "metadata": {},
   "outputs": [
    {
     "data": {
      "text/plain": [
       "['DirEntry',\n",
       " 'F_OK',\n",
       " 'GenericAlias',\n",
       " 'Mapping',\n",
       " 'MutableMapping',\n",
       " 'O_APPEND',\n",
       " 'O_BINARY',\n",
       " 'O_CREAT',\n",
       " 'O_EXCL',\n",
       " 'O_NOINHERIT',\n",
       " 'O_RANDOM',\n",
       " 'O_RDONLY',\n",
       " 'O_RDWR',\n",
       " 'O_SEQUENTIAL',\n",
       " 'O_SHORT_LIVED',\n",
       " 'O_TEMPORARY',\n",
       " 'O_TEXT',\n",
       " 'O_TRUNC',\n",
       " 'O_WRONLY',\n",
       " 'P_DETACH',\n",
       " 'P_NOWAIT',\n",
       " 'P_NOWAITO',\n",
       " 'P_OVERLAY',\n",
       " 'P_WAIT',\n",
       " 'PathLike',\n",
       " 'R_OK',\n",
       " 'SEEK_CUR',\n",
       " 'SEEK_END',\n",
       " 'SEEK_SET',\n",
       " 'TMP_MAX',\n",
       " 'W_OK',\n",
       " 'X_OK',\n",
       " '_AddedDllDirectory',\n",
       " '_Environ',\n",
       " '__all__',\n",
       " '__builtins__',\n",
       " '__cached__',\n",
       " '__doc__',\n",
       " '__file__',\n",
       " '__loader__',\n",
       " '__name__',\n",
       " '__package__',\n",
       " '__spec__',\n",
       " '_check_methods',\n",
       " '_execvpe',\n",
       " '_exists',\n",
       " '_exit',\n",
       " '_fspath',\n",
       " '_get_exports_list',\n",
       " '_walk',\n",
       " '_wrap_close',\n",
       " 'abc',\n",
       " 'abort',\n",
       " 'access',\n",
       " 'add_dll_directory',\n",
       " 'altsep',\n",
       " 'chdir',\n",
       " 'chmod',\n",
       " 'close',\n",
       " 'closerange',\n",
       " 'cpu_count',\n",
       " 'curdir',\n",
       " 'defpath',\n",
       " 'device_encoding',\n",
       " 'devnull',\n",
       " 'dup',\n",
       " 'dup2',\n",
       " 'environ',\n",
       " 'error',\n",
       " 'execl',\n",
       " 'execle',\n",
       " 'execlp',\n",
       " 'execlpe',\n",
       " 'execv',\n",
       " 'execve',\n",
       " 'execvp',\n",
       " 'execvpe',\n",
       " 'extsep',\n",
       " 'fdopen',\n",
       " 'fsdecode',\n",
       " 'fsencode',\n",
       " 'fspath',\n",
       " 'fstat',\n",
       " 'fsync',\n",
       " 'ftruncate',\n",
       " 'get_exec_path',\n",
       " 'get_handle_inheritable',\n",
       " 'get_inheritable',\n",
       " 'get_terminal_size',\n",
       " 'getcwd',\n",
       " 'getcwdb',\n",
       " 'getenv',\n",
       " 'getlogin',\n",
       " 'getpid',\n",
       " 'getppid',\n",
       " 'isatty',\n",
       " 'kill',\n",
       " 'linesep',\n",
       " 'link',\n",
       " 'listdir',\n",
       " 'lseek',\n",
       " 'lstat',\n",
       " 'makedirs',\n",
       " 'mkdir',\n",
       " 'name',\n",
       " 'open',\n",
       " 'pardir',\n",
       " 'path',\n",
       " 'pathsep',\n",
       " 'pipe',\n",
       " 'popen',\n",
       " 'putenv',\n",
       " 'read',\n",
       " 'readlink',\n",
       " 'remove',\n",
       " 'removedirs',\n",
       " 'rename',\n",
       " 'renames',\n",
       " 'replace',\n",
       " 'rmdir',\n",
       " 'scandir',\n",
       " 'sep',\n",
       " 'set_handle_inheritable',\n",
       " 'set_inheritable',\n",
       " 'spawnl',\n",
       " 'spawnle',\n",
       " 'spawnv',\n",
       " 'spawnve',\n",
       " 'st',\n",
       " 'startfile',\n",
       " 'stat',\n",
       " 'stat_result',\n",
       " 'statvfs_result',\n",
       " 'strerror',\n",
       " 'supports_bytes_environ',\n",
       " 'supports_dir_fd',\n",
       " 'supports_effective_ids',\n",
       " 'supports_fd',\n",
       " 'supports_follow_symlinks',\n",
       " 'symlink',\n",
       " 'sys',\n",
       " 'system',\n",
       " 'terminal_size',\n",
       " 'times',\n",
       " 'times_result',\n",
       " 'truncate',\n",
       " 'umask',\n",
       " 'uname_result',\n",
       " 'unlink',\n",
       " 'unsetenv',\n",
       " 'urandom',\n",
       " 'utime',\n",
       " 'waitpid',\n",
       " 'waitstatus_to_exitcode',\n",
       " 'walk',\n",
       " 'write']"
      ]
     },
     "execution_count": 13,
     "metadata": {},
     "output_type": "execute_result"
    }
   ],
   "source": [
    "result = dir(os)\n",
    "result #genel olara kişletim sistemi üzernde bilgi sunar"
   ]
  },
  {
   "cell_type": "code",
   "execution_count": 14,
   "id": "e88b3d3f",
   "metadata": {},
   "outputs": [
    {
     "data": {
      "text/plain": [
       "'nt'"
      ]
     },
     "execution_count": 14,
     "metadata": {},
     "output_type": "execute_result"
    }
   ],
   "source": [
    "result = os.name\n",
    "\n",
    "result #nt gelmesi windows işletim sistemini kullandığım anlamına geliyor"
   ]
  },
  {
   "cell_type": "code",
   "execution_count": 15,
   "id": "73982817",
   "metadata": {},
   "outputs": [
    {
     "ename": "FileExistsError",
     "evalue": "[WinError 183] Halen varolan bir dosya oluşturulamaz: 'newdirectory'",
     "output_type": "error",
     "traceback": [
      "\u001b[1;31m---------------------------------------------------------------------------\u001b[0m",
      "\u001b[1;31mFileExistsError\u001b[0m                           Traceback (most recent call last)",
      "Cell \u001b[1;32mIn[15], line 2\u001b[0m\n\u001b[0;32m      1\u001b[0m resut \u001b[38;5;241m=\u001b[39m os\u001b[38;5;241m.\u001b[39mgetcwd() \u001b[38;5;66;03m#dosyanını olduğu konum olmalıydı\u001b[39;00m\n\u001b[1;32m----> 2\u001b[0m \u001b[43mos\u001b[49m\u001b[38;5;241;43m.\u001b[39;49m\u001b[43mmkdir\u001b[49m\u001b[43m(\u001b[49m\u001b[38;5;124;43m\"\u001b[39;49m\u001b[38;5;124;43mnewdirectory\u001b[39;49m\u001b[38;5;124;43m\"\u001b[39;49m\u001b[43m)\u001b[49m\n",
      "\u001b[1;31mFileExistsError\u001b[0m: [WinError 183] Halen varolan bir dosya oluşturulamaz: 'newdirectory'"
     ]
    }
   ],
   "source": [
    "resut = os.getcwd() #dosyanını olduğu konum olmalıydı\n",
    "os.mkdir(\"newdirectory\") #yeni bir dosya oluşturur\n"
   ]
  },
  {
   "cell_type": "code",
   "execution_count": 16,
   "id": "54d14401",
   "metadata": {},
   "outputs": [
    {
     "data": {
      "text/plain": [
       "'\\nos modulü windows işletim sistemiyle ilgilidir\\neğer bir problem olursa gelip buradan bakabilirim.\\n'"
      ]
     },
     "execution_count": 16,
     "metadata": {},
     "output_type": "execute_result"
    }
   ],
   "source": [
    "\"\"\"\n",
    "os modulü windows işletim sistemiyle ilgilidir\n",
    "eğer bir problem olursa gelip buradan bakabilirim.\n",
    "\"\"\""
   ]
  },
  {
   "cell_type": "markdown",
   "id": "f1c1197c",
   "metadata": {},
   "source": [
    "# 15.3 Regular  expression modülü(re)"
   ]
  },
  {
   "cell_type": "code",
   "execution_count": 17,
   "id": "8e6abb29",
   "metadata": {},
   "outputs": [],
   "source": [
    "import re #bu öodül genel olarak bir arama sonucunda bir sonuç döndürür\n",
    "# arama kriterlerini re ile geliştirebiliyorum"
   ]
  },
  {
   "cell_type": "code",
   "execution_count": 18,
   "id": "42ef3f1b",
   "metadata": {},
   "outputs": [
    {
     "data": {
      "text/plain": [
       "['A',\n",
       " 'ASCII',\n",
       " 'DEBUG',\n",
       " 'DOTALL',\n",
       " 'I',\n",
       " 'IGNORECASE',\n",
       " 'L',\n",
       " 'LOCALE',\n",
       " 'M',\n",
       " 'MULTILINE',\n",
       " 'Match',\n",
       " 'Pattern',\n",
       " 'RegexFlag',\n",
       " 'S',\n",
       " 'Scanner',\n",
       " 'T',\n",
       " 'TEMPLATE',\n",
       " 'U',\n",
       " 'UNICODE',\n",
       " 'VERBOSE',\n",
       " 'X',\n",
       " '_MAXCACHE',\n",
       " '__all__',\n",
       " '__builtins__',\n",
       " '__cached__',\n",
       " '__doc__',\n",
       " '__file__',\n",
       " '__loader__',\n",
       " '__name__',\n",
       " '__package__',\n",
       " '__spec__',\n",
       " '__version__',\n",
       " '_cache',\n",
       " '_compile',\n",
       " '_compile_repl',\n",
       " '_expand',\n",
       " '_locale',\n",
       " '_pickle',\n",
       " '_special_chars_map',\n",
       " '_subx',\n",
       " 'compile',\n",
       " 'copyreg',\n",
       " 'enum',\n",
       " 'error',\n",
       " 'escape',\n",
       " 'findall',\n",
       " 'finditer',\n",
       " 'fullmatch',\n",
       " 'functools',\n",
       " 'match',\n",
       " 'purge',\n",
       " 'search',\n",
       " 'split',\n",
       " 'sre_compile',\n",
       " 'sre_parse',\n",
       " 'sub',\n",
       " 'subn',\n",
       " 'template']"
      ]
     },
     "execution_count": 18,
     "metadata": {},
     "output_type": "execute_result"
    }
   ],
   "source": [
    "result = dir(re)\n",
    "result"
   ]
  },
  {
   "cell_type": "code",
   "execution_count": 19,
   "id": "d0dc3002",
   "metadata": {},
   "outputs": [],
   "source": [
    "# bir re ifadesi ile bir kontrol belirtiyor ve örn \n",
    "# bir mail adresi uyması gereken formata uyuyor mu diye kontrol ediyorum\n",
    "# belli özel karakterlerle kontrol ediyorum eğer mail adresi gerekli kriterlere\n",
    "# uyuyorsa kaydediyorum uymazsa bu mail adresi değildir diye uyarıyor"
   ]
  },
  {
   "cell_type": "code",
   "execution_count": 20,
   "id": "b0f8c0c8",
   "metadata": {},
   "outputs": [],
   "source": [
    "# re ifadeleri nasıl yazılıyor re modulu nasıl kullanılır"
   ]
  },
  {
   "cell_type": "code",
   "execution_count": 24,
   "id": "0ea5405b",
   "metadata": {},
   "outputs": [
    {
     "data": {
      "text/plain": [
       "(0, 6)"
      ]
     },
     "execution_count": 24,
     "metadata": {},
     "output_type": "execute_result"
    }
   ],
   "source": [
    "# re module\n",
    "\n",
    "\n",
    "str = \"python kursu : python programlama rehperiniz | 40 saat\"\n",
    "\n",
    "#re.findall()\n",
    "\n",
    "result = re.findall(\"python\", str) #pattern ifadesi bir str bilgi bekler y ada re ile oluşturulmuş ifade bekler\n",
    "result #aradığım ifadeyi bulur ve bana bunu bir liste şeklinde geri gönderir\n",
    "\n",
    "result = len(result)\n",
    "result\n",
    "\n",
    "#re.split()\n",
    "\n",
    "result = re.split(\" \", str) #ne arayacağımı yazıyorum önce, sonra nerede arayacağımı\n",
    "result #he rboşluk karakterinden str ifadeyi böler liste şeklinde döndürür\n",
    "\n",
    "#re.sub() bir değiştirme işlemi yapacak örn bütün boşluk karakterlerini - ile değiştir diyebilirim\n",
    "\n",
    "result = re.sub(\" \", \"-\", str) # boşluk yerine \\s yazarabilirim boşluk demek\n",
    "\n",
    "#re.search()\n",
    "\n",
    "result = re.search(\"python\", str) #span özelliği vardır bana burada kaçıncı karakterden başlayıp kaçıncı karakterde bittiğinde nbahseder\n",
    "# ve artık bu bir match objesidir ve bunun ifade ettiği bir şey vardır\n",
    "result = result.span() #bu sefer sadece burada konumunu alabilriim\n",
    "\n",
    "result"
   ]
  },
  {
   "cell_type": "code",
   "execution_count": 31,
   "id": "f1c94e51",
   "metadata": {},
   "outputs": [
    {
     "ename": "AttributeError",
     "evalue": "'list' object has no attribute 'findall'",
     "output_type": "error",
     "traceback": [
      "\u001b[1;31m---------------------------------------------------------------------------\u001b[0m",
      "\u001b[1;31mAttributeError\u001b[0m                            Traceback (most recent call last)",
      "Cell \u001b[1;32mIn[31], line 3\u001b[0m\n\u001b[0;32m      1\u001b[0m result \u001b[38;5;241m=\u001b[39m re\u001b[38;5;241m.\u001b[39mfindall(\u001b[38;5;124m\"\u001b[39m\u001b[38;5;124m[abc]\u001b[39m\u001b[38;5;124m\"\u001b[39m, \u001b[38;5;28mstr\u001b[39m) \u001b[38;5;66;03m#burada bulduğu bütün abc karakterlerini getirir\u001b[39;00m\n\u001b[0;32m      2\u001b[0m result \u001b[38;5;241m=\u001b[39m re\u001b[38;5;241m.\u001b[39mfindall(\u001b[38;5;124m\"\u001b[39m\u001b[38;5;124m[sat]\u001b[39m\u001b[38;5;124m\"\u001b[39m, \u001b[38;5;28mstr\u001b[39m) \u001b[38;5;66;03m# aradığım şeyi parantezler arasına giirp arayacağım yeri yazıyorum\u001b[39;00m\n\u001b[1;32m----> 3\u001b[0m result \u001b[38;5;241m=\u001b[39m \u001b[43mresult\u001b[49m\u001b[38;5;241;43m.\u001b[39;49m\u001b[43mfindall\u001b[49m(\u001b[38;5;124m\"\u001b[39m\u001b[38;5;124m[a-e]\u001b[39m\u001b[38;5;124m\"\u001b[39m, \u001b[38;5;28mstr\u001b[39m) \u001b[38;5;66;03m#- koyup aratırsam örn a ile e arasında arar\u001b[39;00m\n\u001b[0;32m      4\u001b[0m result \u001b[38;5;241m=\u001b[39m result\u001b[38;5;241m.\u001b[39mfindall(\u001b[38;5;124m\"\u001b[39m\u001b[38;5;124m[1-5]\u001b[39m\u001b[38;5;124m\"\u001b[39m, \u001b[38;5;28mstr\u001b[39m)\n\u001b[0;32m      7\u001b[0m result\n",
      "\u001b[1;31mAttributeError\u001b[0m: 'list' object has no attribute 'findall'"
     ]
    }
   ],
   "source": [
    "result = re.findall(\"[abc]\", str) #burada bulduğu bütün abc karakterlerini getirir\n",
    "result = re.findall(\"[sat]\", str) # aradığım şeyi parantezler arasına giirp arayacağım yeri yazıyorum\n",
    "#result = result.findall(\"[a-e]\", str) #- koyup aratırsam örn a ile e arasında arar\n",
    "#result = result.findall(\"[1-5]\", str)\n",
    "\n",
    "\n",
    "\n",
    "\n",
    "result #köşeli parantezlerle yazdıklarımı arar"
   ]
  },
  {
   "cell_type": "code",
   "execution_count": 32,
   "id": "ccb53bf0",
   "metadata": {},
   "outputs": [],
   "source": [
    "# re dökümanları bize we3schoolda verilmiş regx oradan bul gerektiğinde kullan"
   ]
  },
  {
   "cell_type": "code",
   "execution_count": null,
   "id": "7e36fc83",
   "metadata": {},
   "outputs": [],
   "source": []
  }
 ],
 "metadata": {
  "kernelspec": {
   "display_name": "Python 3 (ipykernel)",
   "language": "python",
   "name": "python3"
  },
  "language_info": {
   "codemirror_mode": {
    "name": "ipython",
    "version": 3
   },
   "file_extension": ".py",
   "mimetype": "text/x-python",
   "name": "python",
   "nbconvert_exporter": "python",
   "pygments_lexer": "ipython3",
   "version": "3.10.9"
  }
 },
 "nbformat": 4,
 "nbformat_minor": 5
}
